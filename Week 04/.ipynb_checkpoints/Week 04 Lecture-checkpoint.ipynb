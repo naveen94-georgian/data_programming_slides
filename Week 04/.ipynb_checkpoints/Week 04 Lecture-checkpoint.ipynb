{
 "cells": [
  {
   "cell_type": "markdown",
   "metadata": {
    "slideshow": {
     "slide_type": "slide"
    }
   },
   "source": [
    "<center><img src=\"Georgian College Logo.svg\"></center\n",
    "\n",
    "<h1><font color='#004b87'><center>BDAT 1004 Week 4</center></font></h1>\n",
    "<h3><center>Control Structures, Containers and Randomness </center></h3>"
   ]
  },
  {
   "cell_type": "markdown",
   "metadata": {
    "slideshow": {
     "slide_type": "slide"
    }
   },
   "source": [
    "<h1><font color='#004b87'>Annoucments</font></h1>\n",
    "<p></p>\n",
    "<li>Continuing with Python</li>\n",
    "<li>First Problem Set is Due This Week, please review problem set submission document and recorded office hours</li>\n",
    "<li>Course contracts must be signed and uploaded to blackboard or else your assignments won't be marked</li>\n",
    "<li>Review the course contract you signed for email and late policies</li>\n",
    "<li>Don't forget todays quiz</li>\n",
    "<li>Standardised learning</li>"
   ]
  },
  {
   "cell_type": "markdown",
   "metadata": {
    "slideshow": {
     "slide_type": "fragment"
    }
   },
   "source": [
    "<h3><font color='#004b87'>Online Learning Resources</font></h3>\n",
    "<p></p>\n",
    "\n",
    "<li>Watch the lectures and take notes, pause as necessary</li>\n",
    "<li>Pause and attempt the practice exercises </li>\n",
    "<li>Complete quiz, they are based on statements I made in the lecture</li>\n",
    "<li>Rent the textbook, it comes with a student companion site</li>\n",
    "<li>Post questions on the discussion boards, your peers can help</li>\n",
    "<li>Form a study group</li>\n",
    "<li>Attend office hours and watch the recordings</li>\n",
    "<li>Georgian College Tutors</li>"
   ]
  },
  {
   "cell_type": "markdown",
   "metadata": {
    "slideshow": {
     "slide_type": "slide"
    }
   },
   "source": [
    "<h3><font color='#004b87'>Execution Control Structures</font></h3>\n",
    "<p></p>\n",
    "<li>Conditional Structures</li>\n",
    "<li>Iteration Patterns, Part I</li>\n",
    "<li>Two-Dimensional Lists</li>\n",
    "<li>while Loop</li>\n",
    "<li>Iteration Patterns, Part II</li>"
   ]
  },
  {
   "cell_type": "markdown",
   "metadata": {
    "slideshow": {
     "slide_type": "slide"
    }
   },
   "source": [
    "<h3><font color='#004b87'>Recall the 1-way and 2-way if statement</font></h3>\n",
    "<center><img src=\"Picture1.png\"></center"
   ]
  },
  {
   "cell_type": "markdown",
   "metadata": {
    "slideshow": {
     "slide_type": "fragment"
    }
   },
   "source": [
    "<center><img src=\"Picture2.png\"></center"
   ]
  },
  {
   "cell_type": "markdown",
   "metadata": {
    "slideshow": {
     "slide_type": "slide"
    }
   },
   "source": [
    "<h3><font color='#004b87'>Multi-way if statement</font></h3>\n",
    "<center><img src=\"Picture3.png\"></center"
   ]
  },
  {
   "cell_type": "markdown",
   "metadata": {
    "slideshow": {
     "slide_type": "slide"
    }
   },
   "source": [
    "<h3><font color='#004b87'>Ordering of conditions</font></h3>\n",
    "<p></p>\n",
    "What is the wrong with this re-implementation of temperature()?\n"
   ]
  },
  {
   "cell_type": "code",
   "execution_count": 1,
   "metadata": {
    "slideshow": {
     "slide_type": "fragment"
    }
   },
   "outputs": [],
   "source": [
    "def temperature(t):\n",
    "    if t > 32:\n",
    "        print('It is cool')\n",
    "    elif t > 86:\n",
    "        print('It is hot')\n",
    "    else: # t <= 32\n",
    "        print('It is freezing')\n",
    "    print('Goodbye')\n"
   ]
  },
  {
   "cell_type": "code",
   "execution_count": 2,
   "metadata": {
    "slideshow": {
     "slide_type": "fragment"
    }
   },
   "outputs": [],
   "source": [
    "def temperature(t):\n",
    "    if 86 >= t > 32:\n",
    "        print('It is cool')\n",
    "    elif t > 86:\n",
    "        print('It is hot')\n",
    "    else: # t <= 32\n",
    "        print('It is freezing')\n",
    "    print('Goodbye')\n"
   ]
  },
  {
   "cell_type": "code",
   "execution_count": 3,
   "metadata": {
    "slideshow": {
     "slide_type": "fragment"
    }
   },
   "outputs": [],
   "source": [
    "def temperature(t):\n",
    "    if t > 86:\n",
    "        print('It is hot')\n",
    "    elif t > 32: # 86 >= t > 32\n",
    "        print('It is cool')\n",
    "    else: # t <= 32\n",
    "        print('It is freezing')\n",
    "    print('Goodbye')\n",
    "  "
   ]
  },
  {
   "cell_type": "markdown",
   "metadata": {
    "slideshow": {
     "slide_type": "fragment"
    }
   },
   "source": [
    "The conditions must be mutually exclusive,either explicitly or implicitly\n"
   ]
  },
  {
   "cell_type": "markdown",
   "metadata": {
    "slideshow": {
     "slide_type": "slide"
    }
   },
   "source": [
    "<h3><font color='#004b87'>Exercise</font></h3>\n",
    "<p></p>\n",
    "Write function BMI() that:\n",
    "<li>takes as input a person’s height (in inches) and weight (in pounds)</li>\n",
    "<li>computes the person’s BMI and prints an assessment, as shown below</li>\n",
    "The function does not return anything.\n",
    "<p></p>\n",
    "The Body Mass Index is the value (weight * 703)/height2 . Indexes below 18.5 or above 25.0 are assessed as underweight and overweight, respectively; indexes in between are considered normal. "
   ]
  },
  {
   "cell_type": "code",
   "execution_count": 58,
   "metadata": {
    "slideshow": {
     "slide_type": "skip"
    }
   },
   "outputs": [
    {
     "name": "stdout",
     "output_type": "stream",
     "text": [
      "Normal Weight\n"
     ]
    }
   ],
   "source": [
    "#Try the exercise here\n",
    "\n",
    "def BMI(weight, height):\n",
    "    BMI = (weight * 703)/(height**2)\n",
    "    if BMI >= 25.0:\n",
    "        print('Overweight')\n",
    "    elif BMI <= 18.5:\n",
    "        print('Underweight')\n",
    "    else:\n",
    "        print('Normal Weight')\n",
    "        \n",
    "BMI(145,64)"
   ]
  },
  {
   "cell_type": "markdown",
   "metadata": {
    "slideshow": {
     "slide_type": "slide"
    }
   },
   "source": [
    "<h3><font color='#004b87'>Iteration</font></h3>\n",
    "<p></p>\n",
    "\n",
    "<li>The general format of a for loop statement is</li>\n",
    "\n",
    "\n"
   ]
  },
  {
   "cell_type": "code",
   "execution_count": null,
   "metadata": {
    "slideshow": {
     "slide_type": "fragment"
    }
   },
   "outputs": [],
   "source": [
    "for <variable> in <sequence>:\n",
    "    <indented code block>\n",
    "<non-indented code block>\n"
   ]
  },
  {
   "cell_type": "markdown",
   "metadata": {
    "slideshow": {
     "slide_type": "fragment"
    }
   },
   "source": [
    "&#60;indented code block&#62; is executed once for every item in &#60;sequence&#62;\n",
    "<p></p>\n",
    "<li> If &#60;sequence&#62; is a string then the items are its characters\n",
    "(each of which is a one-character string)</li>\n",
    "<li>If &#60;sequence&#62; is a list then the items are the objects in the list</li>\n",
    "<p></p>\n",
    "&#60;non-indented code block&#62; is executed after every item in &#60;sequence&#62;\n",
    "has been processed\n",
    "<p></p>\n",
    "There are different for loop usage patterns \n"
   ]
  },
  {
   "cell_type": "markdown",
   "metadata": {
    "slideshow": {
     "slide_type": "slide"
    }
   },
   "source": [
    "<h3><font color='#004b87'>Iteration loop pattern</font></h3>\n",
    "<p></p>\n",
    "Iterating over every item of an explicit sequence\n",
    "<p></p>\n",
    "<center><img src=\"Picture4.png\"></center"
   ]
  },
  {
   "cell_type": "code",
   "execution_count": 5,
   "metadata": {
    "slideshow": {
     "slide_type": "fragment"
    }
   },
   "outputs": [
    {
     "name": "stdout",
     "output_type": "stream",
     "text": [
      "A\n",
      "p\n",
      "p\n",
      "l\n",
      "e\n"
     ]
    }
   ],
   "source": [
    "name = 'Apple'\n",
    "for char in name:\n",
    "    print(char)\n"
   ]
  },
  {
   "cell_type": "markdown",
   "metadata": {
    "slideshow": {
     "slide_type": "slide"
    }
   },
   "source": [
    "<h3><font color='#004b87'>Iteration loop pattern</font></h3>\n",
    "<p></p>\n",
    "Iterating over every item of an explicit sequence\n",
    "<p></p>\n",
    "<center><img src=\"Picture5.png\"></center\n"
   ]
  },
  {
   "cell_type": "code",
   "execution_count": 6,
   "metadata": {
    "slideshow": {
     "slide_type": "fragment"
    }
   },
   "outputs": [
    {
     "name": "stdout",
     "output_type": "stream",
     "text": [
      "stop\n",
      "desktop\n",
      "top\n"
     ]
    }
   ],
   "source": [
    "for word in ['stop', 'desktop', 'post', 'top']:\n",
    "    if 'top' in word:\n",
    "        print(word)\n"
   ]
  },
  {
   "cell_type": "markdown",
   "metadata": {
    "slideshow": {
     "slide_type": "slide"
    }
   },
   "source": [
    "<h3><font color='#004b87'>Iteration loop pattern</font></h3>\n",
    "<p></p>\n",
    "Iterating over every item of an explicit sequence\n",
    "<p></p>\n",
    "<li>iterating over the characters of a text file</li>\n"
   ]
  },
  {
   "cell_type": "code",
   "execution_count": 8,
   "metadata": {
    "slideshow": {
     "slide_type": "fragment"
    }
   },
   "outputs": [
    {
     "name": "stdout",
     "output_type": "stream",
     "text": [
      "This is the first line. Still the first line...\n"
     ]
    }
   ],
   "source": [
    "infile = open('test.txt')\n",
    "content = infile.read()\n",
    "for char in content:\n",
    "    print(char, end='')\n"
   ]
  },
  {
   "cell_type": "markdown",
   "metadata": {
    "slideshow": {
     "slide_type": "fragment"
    }
   },
   "source": [
    "<li>iterating over the lines of a text file</li>"
   ]
  },
  {
   "cell_type": "code",
   "execution_count": 7,
   "metadata": {
    "slideshow": {
     "slide_type": "fragment"
    }
   },
   "outputs": [
    {
     "name": "stdout",
     "output_type": "stream",
     "text": [
      "This is the first line. Still the first line...\n"
     ]
    }
   ],
   "source": [
    "infile = open('test.txt')\n",
    "content = infile.readlines()\n",
    "for char in content:\n",
    "    print(char, end='')"
   ]
  },
  {
   "cell_type": "markdown",
   "metadata": {},
   "source": [
    "NOTE: readlines (plural) reads all of the lines in the file."
   ]
  },
  {
   "cell_type": "markdown",
   "metadata": {
    "slideshow": {
     "slide_type": "slide"
    }
   },
   "source": [
    "<h3><font color='#004b87'>Counter loop pattern</font></h3>\n",
    "<p></p>\n",
    "Iterating over an implicit sequence of numbers\n",
    "<p></p>\n"
   ]
  },
  {
   "cell_type": "code",
   "execution_count": 9,
   "metadata": {
    "slideshow": {
     "slide_type": "fragment"
    }
   },
   "outputs": [
    {
     "name": "stdout",
     "output_type": "stream",
     "text": [
      "0 1 2 3 4 5 6 7 8 9 "
     ]
    }
   ],
   "source": [
    "n = 10\n",
    "for i in range(n):\n",
    "    print(i, end=' ')\n"
   ]
  },
  {
   "cell_type": "code",
   "execution_count": 10,
   "metadata": {
    "slideshow": {
     "slide_type": "fragment"
    }
   },
   "outputs": [
    {
     "name": "stdout",
     "output_type": "stream",
     "text": [
      "7 24 41 58 75 92 "
     ]
    }
   ],
   "source": [
    "for i in range(7, 100, 17):\n",
    "    print(i, end=' ')\n"
   ]
  },
  {
   "cell_type": "code",
   "execution_count": 11,
   "metadata": {
    "slideshow": {
     "slide_type": "fragment"
    }
   },
   "outputs": [
    {
     "name": "stdout",
     "output_type": "stream",
     "text": [
      "0 1 2 3 4 "
     ]
    }
   ],
   "source": [
    "for i in range(len('world')):\n",
    "    print(i, end=' ')\n"
   ]
  },
  {
   "cell_type": "markdown",
   "metadata": {
    "slideshow": {
     "slide_type": "fragment"
    }
   },
   "source": [
    "<li>This example illustrates the most important application of the counter loop pattern</li>\n",
    "\n"
   ]
  },
  {
   "cell_type": "markdown",
   "metadata": {
    "slideshow": {
     "slide_type": "slide"
    }
   },
   "source": [
    "<h3><font color='#004b87'>Counter loop pattern</font></h3>\n",
    "<p></p>\n",
    "Iterating over an implicit sequence of numbers\n",
    "<p></p>   "
   ]
  },
  {
   "cell_type": "code",
   "execution_count": 13,
   "metadata": {
    "slideshow": {
     "slide_type": "fragment"
    }
   },
   "outputs": [
    {
     "name": "stdout",
     "output_type": "stream",
     "text": [
      "cat dog fish bird cat dog fish bird "
     ]
    }
   ],
   "source": [
    "pets = ['cat', 'dog', 'fish', 'bird']\n",
    "for animal in pets:\n",
    "    print(animal, end=' ')\n",
    "\n",
    "for i in range(len(pets)):\n",
    "        print(pets[i], end=' ')"
   ]
  },
  {
   "cell_type": "markdown",
   "metadata": {
    "slideshow": {
     "slide_type": "fragment"
    }
   },
   "source": [
    "<center><img src=\"Picture6.png\"></center"
   ]
  },
  {
   "cell_type": "markdown",
   "metadata": {},
   "source": [
    "NOTE: image on left (above) is explicitly defined                NOTE: image on right is implicity defined\n",
    "\n",
    "\n",
    "for animals in pets:"
   ]
  },
  {
   "cell_type": "markdown",
   "metadata": {
    "slideshow": {
     "slide_type": "slide"
    }
   },
   "source": [
    "<h3><font color='#004b87'>Counter loop pattern</font></h3>\n",
    "<p></p>\n",
    "Iterating over an implicit sequence of numbers...But Why complicate things?\n",
    "<p></p> \n",
    "Let’s develop function checkSorted() that:\n",
    "<li>takes a list of comparable items as input</li>\n",
    "<li>returns True if the sequence is increasing, False otherwise</li>\n"
   ]
  },
  {
   "cell_type": "code",
   "execution_count": null,
   "metadata": {
    "slideshow": {
     "slide_type": "fragment"
    }
   },
   "outputs": [],
   "source": [
    "def checkSorted(lst):\n",
    "    'return True if sequence lst is increasing, False otherwise'\n",
    "    for num in lst:\n",
    "     # compare lst[i] with lst[i+1]"
   ]
  },
  {
   "cell_type": "code",
   "execution_count": null,
   "metadata": {
    "slideshow": {
     "slide_type": "fragment"
    }
   },
   "outputs": [],
   "source": [
    "def checkSorted(lst):\n",
    "    'return True if sequence lst is increasing, False otherwise'\n",
    "    for i in range(len(lst)):\n",
    "        # compare lst[i] with lst[i+1]\n"
   ]
  },
  {
   "cell_type": "code",
   "execution_count": null,
   "metadata": {
    "slideshow": {
     "slide_type": "fragment"
    }
   },
   "outputs": [],
   "source": [
    "def checkSorted(lst):\n",
    "    'return True if sequence lst is increasing, False otherwise'\n",
    "    for i in range(len(lst)-1):\n",
    "        # i = 0, 1, 2, ..., len(lst)-2\n",
    "        # compare lst[i] with lst[i+1]"
   ]
  },
  {
   "cell_type": "code",
   "execution_count": null,
   "metadata": {
    "slideshow": {
     "slide_type": "slide"
    }
   },
   "outputs": [],
   "source": [
    "def checkSorted(lst):\n",
    "    'return True if sequence lst is increasing, False otherwise'\n",
    "    for i in range(len(lst)-1):\n",
    "        # i = 0, 1, 2, ..., len(lst)-2\n",
    "        if lst[i] <= lst[i+1]:\n",
    "            # correctly ordered, continue on\n",
    "        else:\n",
    "            # incorrectly ordered, return false \n"
   ]
  },
  {
   "cell_type": "code",
   "execution_count": null,
   "metadata": {
    "slideshow": {
     "slide_type": "fragment"
    }
   },
   "outputs": [],
   "source": [
    "def checkSorted(lst):\n",
    "    'return True if sequence lst is increasing, False otherwise'\n",
    "    for i in range(len(lst)-1):\n",
    "        # i = 0, 1, 2, ..., len(lst)-2\n",
    "        if lst[i] > lst[i+1]:\n",
    "            return False\n",
    "    # all adjacent pairs are correctly ordered, return true\n"
   ]
  },
  {
   "cell_type": "code",
   "execution_count": null,
   "metadata": {
    "slideshow": {
     "slide_type": "fragment"
    }
   },
   "outputs": [],
   "source": [
    "def checkSorted(lst):\n",
    "    'return True if sequence lst is increasing, False otherwise'\n",
    "    for i in range(0, len(lst)-1):\n",
    "        # i = 0, 1, 2, ..., len(lst)-2\n",
    "        if lst[i] > lst[i+1]:\n",
    "            return False\n",
    "    return True\n"
   ]
  },
  {
   "cell_type": "markdown",
   "metadata": {
    "slideshow": {
     "slide_type": "slide"
    }
   },
   "source": [
    "<h3><font color='#004b87'>Exercise</font></h3>\n",
    "<p></p>\n",
    "Write function arithmetic() that:\n",
    "<li>takes as input a list of numbers</li>\n",
    "<li>returns True if the numbers in the list form an arithmetic sequence, False otherwise</li>\n"
   ]
  },
  {
   "cell_type": "code",
   "execution_count": 60,
   "metadata": {
    "slideshow": {
     "slide_type": "fragment"
    }
   },
   "outputs": [
    {
     "data": {
      "text/plain": [
       "True"
      ]
     },
     "execution_count": 60,
     "metadata": {},
     "output_type": "execute_result"
    }
   ],
   "source": [
    "lst = [1,5,9]\n",
    "\n",
    "def arithmetic(lst):\n",
    "    '''return True if list lst contains an arithmetic sequence,\n",
    "       False otherwise'''\n",
    "   # check that the difference between successive numbers is\n",
    "   # equal to the difference between the first two numbers \n",
    "\n",
    "    if len(lst) < 2: #a list of two integers is an arimetric sequence\n",
    "        return True\n",
    "    \n",
    "    #need to determine the difference between the first two integers in the list\n",
    "    diff = lst[1] - lst[0]\n",
    "    for i in range(1, len(lst)-1):\n",
    "        if lst[i+1] - lst[i] != diff:\n",
    "            return False\n",
    "    return True\n",
    "\n",
    "arithmetic(lst)"
   ]
  },
  {
   "cell_type": "markdown",
   "metadata": {
    "slideshow": {
     "slide_type": "slide"
    }
   },
   "source": [
    "<h3><font color='#004b87'>Accumulator loop pattern</font></h3>\n",
    "<p></p>\n",
    "Accumulating something in every loop iteration\n",
    "<p></p>\n",
    "For example:the sum of numbers in a list"
   ]
  },
  {
   "cell_type": "code",
   "execution_count": 19,
   "metadata": {
    "slideshow": {
     "slide_type": "fragment"
    }
   },
   "outputs": [
    {
     "data": {
      "text/plain": [
       "22"
      ]
     },
     "execution_count": 19,
     "metadata": {},
     "output_type": "execute_result"
    }
   ],
   "source": [
    "lst = [3, 2, 7, 1, 9]\n",
    "res = 0    #create an initiator ==> that is \"res = 0\"\n",
    "for num in lst:\n",
    "    res += num\n",
    "res"
   ]
  },
  {
   "cell_type": "markdown",
   "metadata": {
    "slideshow": {
     "slide_type": "fragment"
    }
   },
   "source": [
    "<center><img src=\"Picture7.png\"></center"
   ]
  },
  {
   "cell_type": "markdown",
   "metadata": {
    "slideshow": {
     "slide_type": "slide"
    }
   },
   "source": [
    "What if we wanted to obtain the product instead? What should res (result) be initialized to?\n"
   ]
  },
  {
   "cell_type": "code",
   "execution_count": 18,
   "metadata": {
    "slideshow": {
     "slide_type": "fragment"
    }
   },
   "outputs": [
    {
     "data": {
      "text/plain": [
       "378"
      ]
     },
     "execution_count": 18,
     "metadata": {},
     "output_type": "execute_result"
    }
   ],
   "source": [
    "lst = [3, 2, 7, 1, 9]\n",
    "res = 1\n",
    "for num in lst:\n",
    "    res *= num\n",
    "\n",
    "res"
   ]
  },
  {
   "cell_type": "markdown",
   "metadata": {
    "slideshow": {
     "slide_type": "slide"
    }
   },
   "source": [
    "<h3><font color='#004b87'>Exercise</font></h3>\n",
    "<p></p>\n",
    "Write function factorial() that:\n",
    "<li>takes a non-negative integer n as input</li>\n",
    "<li>returns n!</li>\n",
    "<p></p>\n",
    "<center><img src=\"Picture8.png\"></center"
   ]
  },
  {
   "cell_type": "code",
   "execution_count": 1,
   "metadata": {
    "scrolled": true,
    "slideshow": {
     "slide_type": "skip"
    }
   },
   "outputs": [
    {
     "data": {
      "text/plain": [
       "120"
      ]
     },
     "execution_count": 1,
     "metadata": {},
     "output_type": "execute_result"
    }
   ],
   "source": [
    "#Try exercise here\n",
    "\n",
    "#n = eval(input('Enter an non-negative integer: '))\n",
    "\n",
    "def factorial(n):\n",
    "    'returns n!'\n",
    "    res = 1\n",
    "    for i in range(2, n):\n",
    "        res *= i\n",
    "    return res\n",
    "factorial(6)   "
   ]
  },
  {
   "cell_type": "markdown",
   "metadata": {
    "slideshow": {
     "slide_type": "fragment"
    }
   },
   "source": [
    "<h3><font color='#004b87'>Exercise</font></h3>\n",
    "<p></p>\n",
    "Write function acronym() that:\n",
    "<li>takes a phrase (i.e., a string) as input</li>\n",
    "<li>returns the acronym for the phrase</li>\n"
   ]
  },
  {
   "cell_type": "code",
   "execution_count": 61,
   "metadata": {
    "slideshow": {
     "slide_type": "skip"
    }
   },
   "outputs": [
    {
     "data": {
      "text/plain": [
       "'CEJK'"
      ]
     },
     "execution_count": 61,
     "metadata": {},
     "output_type": "execute_result"
    }
   ],
   "source": [
    "#Try Exercise here\n",
    "\n",
    "#phrase = input('Enter a phrase: ')\n",
    "\n",
    "def acronym(phrase):\n",
    "    'return the acronym of the input string phrase'\n",
    "    # split phrase into a list of words\n",
    "    wordList = phrase.split()\n",
    "   \n",
    "    # accumulate first character, as an uppercase, of every word\n",
    "    res = ''\n",
    "    for i in wordList:\n",
    "        res += i[0].upper()\n",
    "    return res\n",
    "       \n",
    "acronym(\"Carolyn Elizabeth Janelle Knight\")"
   ]
  },
  {
   "cell_type": "markdown",
   "metadata": {
    "slideshow": {
     "slide_type": "fragment"
    }
   },
   "source": [
    "<h3><font color='#004b87'>Exercise</font></h3>\n",
    "<p></p>\n",
    "Write function divisors() that:\n",
    "<li>takes a positive integer n as input</li>\n",
    "<li>returns the list of positive divisors of n</li>"
   ]
  },
  {
   "cell_type": "code",
   "execution_count": 62,
   "metadata": {
    "slideshow": {
     "slide_type": "skip"
    }
   },
   "outputs": [
    {
     "data": {
      "text/plain": [
       "[1, 2, 3, 4, 5, 6, 10, 12, 15, 20, 30, 60]"
      ]
     },
     "execution_count": 62,
     "metadata": {},
     "output_type": "execute_result"
    }
   ],
   "source": [
    "#Try Exercise here\n",
    "\n",
    "def divisors(n):\n",
    "    'Returns list of positive divisors of n'\n",
    "    res = []\n",
    "    #for each number between 1 and n+1\n",
    "    for i in range(1, n+1):\n",
    "        \n",
    "        #if n % i == 0, then it is a divisor of n; then add i to res\n",
    "        if n % i == 0:\n",
    "            res.append(i)\n",
    "    return res\n",
    "\n",
    "divisors(60)\n",
    "               "
   ]
  },
  {
   "cell_type": "markdown",
   "metadata": {
    "slideshow": {
     "slide_type": "slide"
    }
   },
   "source": [
    "<h3><font color='#004b87'>Nested loop pattern</font></h3>\n",
    "<p></p>\n",
    "Nesting a loop inside another\n",
    "<p></p>\n",
    "n = 5\n",
    "<br></br>\n",
    "nested(n)\n",
    "<br></br>\n",
    "0 1 2 3 4\n",
    "<br></br>\n",
    "0 1 2 3 4\n",
    "<br></br>\n",
    "0 1 2 3 4\n",
    "<br></br>\n",
    "0 1 2 3 4\n",
    "<br></br>\n",
    "0 1 2 3 4\n"
   ]
  },
  {
   "cell_type": "code",
   "execution_count": 2,
   "metadata": {
    "slideshow": {
     "slide_type": "fragment"
    }
   },
   "outputs": [],
   "source": [
    "def nested(n):\n",
    "    for i in range(n):\n",
    "        print(i, end=' ')"
   ]
  },
  {
   "cell_type": "code",
   "execution_count": 65,
   "metadata": {
    "slideshow": {
     "slide_type": "fragment"
    }
   },
   "outputs": [
    {
     "name": "stdout",
     "output_type": "stream",
     "text": [
      "0 1 2 3 4 \n",
      "0 1 2 3 4 \n",
      "0 1 2 3 4 \n",
      "0 1 2 3 4 \n",
      "0 1 2 3 4 \n"
     ]
    }
   ],
   "source": [
    "def nested(n):\n",
    "    for j in range(n):           #outer loop iterates 5 times\n",
    "        for i in range(n):           #inner loop prints 0 1 2 3 4\n",
    "            print(i, end=' ')\n",
    "        print()\n",
    "nested(5)"
   ]
  },
  {
   "cell_type": "markdown",
   "metadata": {},
   "source": [
    "NOTE: 'for i in range(n):' prints '0 1 2 3 4'.\n",
    "'for j in range(n):' prints the above lines n times"
   ]
  },
  {
   "cell_type": "markdown",
   "metadata": {
    "slideshow": {
     "slide_type": "slide"
    }
   },
   "source": [
    "<h3><font color='#004b87'>Nested loop pattern</font></h3>\n",
    "n = 5\n",
    "<br></br>\n",
    "nested2(n)\n",
    "<br></br>\n",
    "0\n",
    "<br></br>\n",
    "0 1\n",
    "<br></br>\n",
    "0 1 2\n",
    "<br></br>\n",
    "0 1 2 3\n",
    "<br></br>\n",
    "0 1 2 3 4\n"
   ]
  },
  {
   "cell_type": "markdown",
   "metadata": {
    "slideshow": {
     "slide_type": "fragment"
    }
   },
   "source": [
    "<li>When j = 0 inner for loop should print 0</li>\n",
    "<li>When j = 1 inner for loop should print 0 1</li>\n",
    "<li>When j = 2 inner for loop should print 0 1 2</li>\n",
    "<li>When j = 3 inner for loop should print 0 1 2 3</li>\n",
    "<li>When j = 4 inner for loop should print 0 1 2 3 4</li>"
   ]
  },
  {
   "cell_type": "code",
   "execution_count": 68,
   "metadata": {
    "slideshow": {
     "slide_type": "slide"
    }
   },
   "outputs": [
    {
     "name": "stdout",
     "output_type": "stream",
     "text": [
      "0 1 2 3 4 \n",
      "0 1 2 3 4 \n",
      "0 1 2 3 4 \n",
      "0 1 2 3 4 \n",
      "0 1 2 3 4 \n"
     ]
    }
   ],
   "source": [
    "def nested2(n):\n",
    "    for j in range(n):\n",
    "        for i in range(n):\n",
    "            print(i, end=' ' )\n",
    "        print()\n",
    "nested2(5)"
   ]
  },
  {
   "cell_type": "code",
   "execution_count": 4,
   "metadata": {
    "slideshow": {
     "slide_type": "fragment"
    }
   },
   "outputs": [
    {
     "name": "stdout",
     "output_type": "stream",
     "text": [
      "0 \n",
      "0 1 \n",
      "0 1 2 \n",
      "0 1 2 3 \n",
      "0 1 2 3 4 \n"
     ]
    }
   ],
   "source": [
    "def nested2(n):\n",
    "    for j in range(n):            # j = 0, 1, ..., n-1\n",
    "        for i in range(j+1):        # print 0 1 2 ... j\n",
    "            print(i, end=' ')\n",
    "        print()                     # move to next line\n",
    "nested2(5)"
   ]
  },
  {
   "cell_type": "markdown",
   "metadata": {
    "slideshow": {
     "slide_type": "slide"
    }
   },
   "source": [
    "<h3><font color='#004b87'>Exercise</font></h3>\n",
    "<p></p>\n",
    "Write function inBoth() that takes:\n",
    "<li>2 lists as input</li>\n",
    "<li>returns True if there is an item that is common to both lists and False otherwise</li>\n",
    "\n",
    "inBoth([3, 2, 5, 4, 7], [9, 0, 1, 3])\n",
    "<br></br>\n",
    "True\n",
    "<p></p>\n",
    "inBoth([2, 5, 4, 7], [9, 0, 1, 3])\n",
    "<br></br>\n",
    "False\n"
   ]
  },
  {
   "cell_type": "code",
   "execution_count": 82,
   "metadata": {},
   "outputs": [
    {
     "data": {
      "text/plain": [
       "True"
      ]
     },
     "execution_count": 82,
     "metadata": {},
     "output_type": "execute_result"
    }
   ],
   "source": [
    "lst1 = [1, 2, 3]\n",
    "lst2 = [1, 4, 6]\n",
    "\n",
    "def inBoth(lst1, lst2):\n",
    "    for j in lst1:             # for each j in list 1\n",
    "        for i in lst2:            # for each i in list 2\n",
    "            if j==i:                   # if i = j, then there is a common element in both lists ==> return True\n",
    "                result = True\n",
    "            else:\n",
    "                result = False         # else return False\n",
    "            return result\n",
    "inBoth(lst1, lst2)            "
   ]
  },
  {
   "cell_type": "markdown",
   "metadata": {
    "slideshow": {
     "slide_type": "slide"
    }
   },
   "source": [
    "<h3><font color='#004b87'>Exercise</font></h3>\n",
    "<p></p>\n",
    "Write function pairSum() that takes as input:\n",
    "<li>a list of numbers</li>\n",
    "<li>a target value</li>\n",
    "<li>and prints the indexes of all pairs of values in the list that add up to the target value </li>\n",
    "<p></p>\n",
    "pairSum([7, 8, 5, 3, 4, 6], 11) \n",
    "<br></br>\n",
    "0 4\n",
    "<br></br>\n",
    "1 3\n",
    "<br></br>\n",
    "2 5\n",
    "\n"
   ]
  },
  {
   "cell_type": "code",
   "execution_count": 125,
   "metadata": {},
   "outputs": [
    {
     "name": "stdout",
     "output_type": "stream",
     "text": [
      "1 3\n",
      "0 4\n",
      "2 5\n"
     ]
    }
   ],
   "source": [
    "lst=[7,8,5,3,4,6]\n",
    "n=11\n",
    "\n",
    "def pairSum(lst,n):\n",
    "    'takes a list of number and a target value; then prints...' \n",
    "    '...indexes of all pairs of values in list that add up to the target value'\n",
    "    \n",
    "    for i in range(len(lst)):\n",
    "        for j in range(i):\n",
    "            if lst[i] + lst[j] == n:\n",
    "                print (j,i)\n",
    " \n",
    "pairSum(lst,n)"
   ]
  },
  {
   "cell_type": "markdown",
   "metadata": {
    "slideshow": {
     "slide_type": "slide"
    }
   },
   "source": [
    "<h3><font color='#004b87'>Two-dimensional lists</font></h3>\n",
    "<p></p>\n",
    "The list [3, 5, 7, 9] can be viewed as a 1-D table \n",
    "[3, 5, 7, 9] = \n",
    "\n",
    "| 0  | 1  | 2  | 3|\n",
    "| :- |:-: |:-: |-:|\n",
    "| 3 | 5  | 7  | 9|\n",
    "\n",
    "\n",
    "\n",
    "<p></p>\n",
    "[ [3, 5, 7, 9] \n",
    "<br></br>\n",
    "  [0, 2, 1, 6]   \n",
    "  <br></br>\n",
    "  [3, 8, 3, 1] ] \n",
    "\n",
    "|   | 0  | 1  | 2  | 3|\n",
    "| :-| :-:|:-: |:-: |-:|\n",
    "| **0** | 3  | 5  | 7|   9|\n",
    "| **1** | 0  | 2  | 1|   6|\n",
    "| **2** | 3  | 8  | 3|   1|\n",
    "\n",
    "<p></p>\n",
    "A 2-D table is just a list of rows (i.e., 1-D tables)\n",
    "<p></p>\n",
    "There are indicators for both columns and rows."
   ]
  },
  {
   "cell_type": "code",
   "execution_count": 39,
   "metadata": {
    "slideshow": {
     "slide_type": "fragment"
    }
   },
   "outputs": [
    {
     "name": "stdout",
     "output_type": "stream",
     "text": [
      "[[3, 5, 7, 9], [0, 2, 1, 6], [3, 8, 3, 1]]\n",
      "[3, 5, 7, 9]\n",
      "3\n"
     ]
    }
   ],
   "source": [
    "lst = [[3,5,7,9],\n",
    "       [0,2,1,6],\n",
    "       [3,8,3,1]]\n",
    "\n",
    "print(lst)\n",
    "print(lst[0])\n",
    "print(lst[0][0])\n"
   ]
  },
  {
   "cell_type": "markdown",
   "metadata": {
    "slideshow": {
     "slide_type": "slide"
    }
   },
   "source": [
    "<h3><font color='#004b87'>Nested loop pattern and 2-D lists</font></h3>\n",
    "<p></p>\n",
    "A nested loop is often needed to access all objects in a 2-D list"
   ]
  },
  {
   "cell_type": "code",
   "execution_count": 41,
   "metadata": {
    "slideshow": {
     "slide_type": "fragment"
    }
   },
   "outputs": [
    {
     "name": "stdout",
     "output_type": "stream",
     "text": [
      "3 5 7 9 \n",
      "0 2 1 6 \n",
      "3 8 3 1 \n"
     ]
    }
   ],
   "source": [
    "#(Using the iteration loop pattern)\n",
    "def print2D(t):\n",
    "    'prints values in 2D list t as a 2D table'\n",
    "    for row in t:\n",
    "        for item in row:\n",
    "            print(item, end=' ')\n",
    "        print()\n",
    "t = [[3,5,7,9],\n",
    "       [0,2,1,6],\n",
    "       [3,8,3,1]]\n",
    "print2D(t)\n"
   ]
  },
  {
   "cell_type": "code",
   "execution_count": 14,
   "metadata": {
    "slideshow": {
     "slide_type": "fragment"
    }
   },
   "outputs": [
    {
     "name": "stdout",
     "output_type": "stream",
     "text": [
      "[[4, 6, 8, 10], [1, 3, 2, 7], [4, 9, 4, 2]]\n"
     ]
    }
   ],
   "source": [
    "#(Using the counter loop pattern)\n",
    "def incr2D(t):\n",
    "    'increments each number in 2D list t'\n",
    "    # nrows = number of rows in t\n",
    "    # ncols = number of columns in t\n",
    "    nrows = len(t)\n",
    "    ncols = len(t[0])\n",
    "    \n",
    "    for i in range(nrows):\n",
    "        for j in range(ncols):\n",
    "            t[i][j] += 1\n",
    "t = [[3,5,7,9],\n",
    "       [0,2,1,6],\n",
    "       [3,8,3,1]]\n",
    "incr2D(t)\n",
    "print(t)"
   ]
  },
  {
   "cell_type": "markdown",
   "metadata": {
    "slideshow": {
     "slide_type": "slide"
    }
   },
   "source": [
    "<h3><font color='#004b87'>Exercise</font></h3>\n",
    "<p></p>\n",
    "Implement function pixels() that takes as input:\n",
    "<p></p>\n",
    "<li>a two-dimensional list of nonnegative integer entries (representing the values of pixels of an image) </li>\n",
    "<li>and returns the number of entries that are positive (i.e., the number of pixels that are not dark). Your function should work on two-dimensional lists of any size.</li>\n",
    "\n"
   ]
  },
  {
   "cell_type": "code",
   "execution_count": 1,
   "metadata": {},
   "outputs": [
    {
     "name": "stdout",
     "output_type": "stream",
     "text": [
      "5\n"
     ]
    }
   ],
   "source": [
    "def pixels(t):\n",
    "    'Takes a 2D list on non-negative integers and returns number of entries that are positive'\n",
    "    \n",
    "    dark = 0            # initialize the number of positive and negative pixels\n",
    "    light = 0    \n",
    "    \n",
    "    for row in t:             # for each row in the table\n",
    "        for item in row:          # for each item in the row\n",
    "            \n",
    "            # if the integer is <= 0, count as dark, otherwise light\n",
    "            if item <= 0:\n",
    "                dark += 1\n",
    "            else:\n",
    "                light += 1\n",
    "    print(light)\n",
    "    \n",
    "    \n",
    "t = [[0, 56, 255], [34, -10, 0], [0, 123, -15, 0], [3, 0, 0]]\n",
    "pixels(t)    "
   ]
  },
  {
   "cell_type": "markdown",
   "metadata": {
    "slideshow": {
     "slide_type": "slide"
    }
   },
   "source": [
    "<h2><font color='#004b87'>Imperative Programming</font></h2>\n",
    "<p></p>"
   ]
  },
  {
   "cell_type": "markdown",
   "metadata": {
    "slideshow": {
     "slide_type": "fragment"
    }
   },
   "source": [
    "<h3><font color='#004b87'>The while loop</font></h3>\n",
    "<p></p>\n",
    "<b>Syntax</b>"
   ]
  },
  {
   "cell_type": "code",
   "execution_count": null,
   "metadata": {},
   "outputs": [],
   "source": [
    "#Recall the If statement\n",
    "if <condition>:\n",
    "    <indented code block>\n",
    "<non-indented statement>\n",
    "\n",
    "#The while loop\n",
    "while <condition>:\n",
    "    <indented code block>\n",
    "<non-indented statement> "
   ]
  },
  {
   "cell_type": "markdown",
   "metadata": {},
   "source": [
    "NOTE: while loop keeps looping through statement until the statement is no longer true"
   ]
  },
  {
   "cell_type": "markdown",
   "metadata": {
    "slideshow": {
     "slide_type": "fragment"
    }
   },
   "source": [
    "<center><img src=\"Picture9.png\"></center"
   ]
  },
  {
   "cell_type": "markdown",
   "metadata": {
    "slideshow": {
     "slide_type": "slide"
    }
   },
   "source": [
    "<h3><font color='#004b87'>The while loop</font></h3>\n",
    "<p></p>\n",
    "Example: compute the smallest multiple of 7 greater than 37.\n",
    "<p></p>\n",
    "Idea: generate multiples of 7 until we get a number greater than 37\n",
    "<center><img src=\"Picture10.png\"></center"
   ]
  },
  {
   "cell_type": "code",
   "execution_count": 85,
   "metadata": {
    "slideshow": {
     "slide_type": "fragment"
    }
   },
   "outputs": [
    {
     "data": {
      "text/plain": [
       "42"
      ]
     },
     "execution_count": 85,
     "metadata": {},
     "output_type": "execute_result"
    }
   ],
   "source": [
    "i = 7\n",
    "while i <= 37:\n",
    "    i += 7\n",
    "    \n",
    "i"
   ]
  },
  {
   "cell_type": "markdown",
   "metadata": {
    "slideshow": {
     "slide_type": "slide"
    }
   },
   "source": [
    "<h3><font color='#004b87'>Exercise</font></h3>\n",
    "<p></p>\n",
    "Write function negative() that:\n",
    "<p></p>\n",
    "<li>takes a list of numbers as input</li>\n",
    "<li>returns the index of the first negative number in the list or -1 if there is no negative number in the list</li>\n"
   ]
  },
  {
   "cell_type": "code",
   "execution_count": 12,
   "metadata": {},
   "outputs": [
    {
     "data": {
      "text/plain": [
       "4"
      ]
     },
     "execution_count": 12,
     "metadata": {},
     "output_type": "execute_result"
    }
   ],
   "source": [
    "def negative(lst):\n",
    "    'takes a list of numbers and returns the index of the first negative number'\n",
    "    count = 0                      # initialize to 0\n",
    "    while count < len(lst):         # while count is less than the length of the list (which will only happen once)\n",
    "        if lst[count] < 0:              # if the lst[i] < 0, return its position\n",
    "            return count\n",
    "        count += 1                      # otherwise, move onto next item in the list until first -ve found\n",
    "    return None\n",
    "\n",
    "lst = [1, 2, 3, 4, -5]\n",
    "negative(lst)"
   ]
  },
  {
   "cell_type": "markdown",
   "metadata": {
    "slideshow": {
     "slide_type": "slide"
    }
   },
   "source": [
    "<h3><font color='#004b87'>Sequence loop pattern</font></h3>\n",
    "<p></p>\n",
    "Generating a sequence that reaches the desired solution\n",
    "<p></p>\n",
    "Fibonacci sequence"
   ]
  },
  {
   "cell_type": "markdown",
   "metadata": {
    "slideshow": {
     "slide_type": "fragment"
    }
   },
   "source": [
    "![Image](https://cdn.sportsbettingdime.com/app/uploads/media/graphic-1-3-1.png)"
   ]
  },
  {
   "cell_type": "markdown",
   "metadata": {
    "slideshow": {
     "slide_type": "fragment"
    }
   },
   "source": [
    "<p></p>\n",
    "Goal: the first Fibonnaci number greater than some bound "
   ]
  },
  {
   "cell_type": "code",
   "execution_count": 50,
   "metadata": {
    "slideshow": {
     "slide_type": "slide"
    }
   },
   "outputs": [],
   "source": [
    "def fibonacci(bound):\n",
    "    'returns the smallest Fibonacci number greater than bound'"
   ]
  },
  {
   "cell_type": "code",
   "execution_count": null,
   "metadata": {
    "slideshow": {
     "slide_type": "fragment"
    }
   },
   "outputs": [],
   "source": [
    "def fibonacci(bound):\n",
    "    'returns the smallest Fibonacci number greater than bound'\n",
    "    previous = 1    # previous Fibonacci number\n",
    "    current = 1     # current Fibonacci number\n"
   ]
  },
  {
   "cell_type": "markdown",
   "metadata": {},
   "source": [
    "NOTE: at the beginning, the previous and current numbers both equal 1"
   ]
  },
  {
   "cell_type": "code",
   "execution_count": null,
   "metadata": {
    "slideshow": {
     "slide_type": "fragment"
    }
   },
   "outputs": [],
   "source": [
    "def fibonacci(bound):\n",
    "    'returns the smallest Fibonacci number greater than bound'\n",
    "    previous = 1        # previous Fibonacci number\n",
    "    current = 1         # current Fibonacci number\n",
    "    while current <= bound:       \n",
    "        # not done yet, make current be next Fibonacci number\n",
    "        # current becomes previous, and new current is computed\n"
   ]
  },
  {
   "cell_type": "code",
   "execution_count": null,
   "metadata": {
    "slideshow": {
     "slide_type": "slide"
    }
   },
   "outputs": [],
   "source": [
    "def fibonacci(bound):\n",
    "    'returns the smallest Fibonacci number greater than bound'\n",
    "    previous = 1        # previous Fibonacci number\n",
    "    current = 1         # current Fibonacci number\n",
    "    while current <= bound:\n",
    "        # current becomes previous, and new current is computed\n",
    "        previous, current = current, previous+current\n"
   ]
  },
  {
   "cell_type": "markdown",
   "metadata": {},
   "source": [
    "NOTE: previous becomes the current. Current becomes previous+current"
   ]
  },
  {
   "cell_type": "code",
   "execution_count": 53,
   "metadata": {
    "slideshow": {
     "slide_type": "fragment"
    }
   },
   "outputs": [
    {
     "data": {
      "text/plain": [
       "8"
      ]
     },
     "execution_count": 53,
     "metadata": {},
     "output_type": "execute_result"
    }
   ],
   "source": [
    "def fibonacci(bound):\n",
    "    'returns the smallest Fibonacci number greater than bound'\n",
    "    previous = 1        # previous Fibonacci number\n",
    "    current = 1         # current Fibonacci number\n",
    "    while current <= bound:\n",
    "        # current becomes previous, and new current is computed\n",
    "        previous, current = current, previous+current\n",
    "    return current\n",
    "\n",
    "fibonacci(5)"
   ]
  },
  {
   "cell_type": "markdown",
   "metadata": {
    "slideshow": {
     "slide_type": "slide"
    }
   },
   "source": [
    "<h3><font color='#004b87'>Exercise</font></h3>\n",
    "<p></p>\n",
    "Write function approxE() that approximates the Euler constant as follows:\n",
    "<p></p>\n",
    "   <li>takes a number error as input</li>   \n",
    "   <li>returns the approximation e<sub>i</sub> such that e<sub>i</sub>-e<sub>i-1</sub> &#60; error</li>\n",
    "   <center><img src=\"Picture12.png\"></center"
   ]
  },
  {
   "cell_type": "code",
   "execution_count": 18,
   "metadata": {
    "slideshow": {
     "slide_type": "fragment"
    }
   },
   "outputs": [
    {
     "data": {
      "text/plain": [
       "2.7182818011463845"
      ]
     },
     "execution_count": 18,
     "metadata": {},
     "output_type": "execute_result"
    }
   ],
   "source": [
    "#Try Exercise Here, some hints to get you started\n",
    "import math\n",
    "def approxE(error):\n",
    "    prev = 1       # approximation 0\n",
    "    current = 2    # approximation 1\n",
    "    i = 2             # starting at next approximation (i = 0, i = 1)\n",
    "    \n",
    "    while current - prev > error:\n",
    "        # compute new prev and current\n",
    "        prev = current\n",
    "        current = prev + 1/(math.factorial(i))\n",
    "        \n",
    "        i += 1\n",
    "        \n",
    "        \n",
    "    return current\n",
    "approxE(0.000001)"
   ]
  },
  {
   "cell_type": "markdown",
   "metadata": {
    "slideshow": {
     "slide_type": "slide"
    }
   },
   "source": [
    "<h3><font color='#004b87'>Infinite loop pattern</font></h3>\n",
    "<p></p>\n",
    "An infinite loop provides a continuous service\n",
    "<p></p>\n",
    "For Example\n",
    "<p></p>\n",
    "   <li>A greeting service</li>   \n",
    "   <li>The server could instead be a time server, or a web server, or a mail server, or…</li>\n",
    "<p></p> \n",
    "\n",
    "hello2()\n",
    "<br></br>\n",
    "What is your name? Sam\n",
    "<br></br>\n",
    "Hello Sam\n",
    "<br></br>\n",
    "What is your name? Tim\n",
    "<br></br>\n",
    "Hello Tim\n",
    "<br></br>\n",
    "What is your name? Alex\n",
    "<br></br>\n",
    "Hello Alex\n",
    "<br></br>\n",
    "What is your name?\n"
   ]
  },
  {
   "cell_type": "code",
   "execution_count": 20,
   "metadata": {
    "slideshow": {
     "slide_type": "fragment"
    }
   },
   "outputs": [],
   "source": [
    "def hello2():\n",
    "    '''a greeting service; it repeatedly requests the name\n",
    "       of the user and then greets the user'''\n",
    "\n",
    "    while True:\n",
    "        name = input('What is your name? ')\n",
    "        print('Hello {}'.format(name))\n",
    "\n",
    "#hello2()"
   ]
  },
  {
   "cell_type": "markdown",
   "metadata": {
    "slideshow": {
     "slide_type": "slide"
    }
   },
   "source": [
    "<h3><font color='#004b87'>Loop-and-a-half pattern</font></h3>\n",
    "<p></p>\n",
    "Cutting the last loop iteration \"in half\"\n",
    "<p></p>\n",
    "For Example\n",
    "<p></p>\n",
    "   <li>a function that creates a list of cities entered by the user and returns it</li>   \n",
    "   <li>The empty string is a \"flag\" that indicates the end of the input</li>\n",
    "<p></p> \n",
    "\n",
    "cities()\n",
    "<br></br>\n",
    "Enter city: Lisbon\n",
    "<br></br>\n",
    "Enter city: San Francisco\n",
    "<br></br>\n",
    "Enter city:\n",
    "<br></br>\n",
    "['Lisbon', 'San Francisco', 'Hong Kong']\n"
   ]
  },
  {
   "cell_type": "code",
   "execution_count": 56,
   "metadata": {
    "slideshow": {
     "slide_type": "slide"
    }
   },
   "outputs": [
    {
     "name": "stdout",
     "output_type": "stream",
     "text": [
      "Enter city: Toronto\n",
      "Enter city: London\n",
      "Enter city: \n"
     ]
    },
    {
     "data": {
      "text/plain": [
       "['Toronto', 'London']"
      ]
     },
     "execution_count": 56,
     "metadata": {},
     "output_type": "execute_result"
    }
   ],
   "source": [
    "def cities():\n",
    "    lst = [] #accumlator pattern, it works but not intuitive\n",
    "    \n",
    "    city = input('Enter city: ')\n",
    "\n",
    "    while city != '':\n",
    "        lst.append(city)\n",
    "        city = input('Enter city: ')    # loop breaks when \" \" is input\n",
    " \n",
    "    return lst\n",
    "\n",
    "cities()"
   ]
  },
  {
   "cell_type": "code",
   "execution_count": null,
   "metadata": {
    "slideshow": {
     "slide_type": "fragment"
    }
   },
   "outputs": [],
   "source": [
    "def cities2():\n",
    "    lst = []\n",
    "\n",
    "    # repeat:\n",
    "        # ask user to enter city\n",
    "\n",
    "        # if user entered flag\n",
    "            # then return lst\n",
    "\n",
    "        # append city to lst"
   ]
  },
  {
   "cell_type": "code",
   "execution_count": 57,
   "metadata": {
    "slideshow": {
     "slide_type": "fragment"
    }
   },
   "outputs": [
    {
     "name": "stdout",
     "output_type": "stream",
     "text": [
      "Enter city: Toronto\n",
      "Enter city: London\n",
      "Enter city: \n"
     ]
    },
    {
     "data": {
      "text/plain": [
       "['Toronto', 'London']"
      ]
     },
     "execution_count": 57,
     "metadata": {},
     "output_type": "execute_result"
    }
   ],
   "source": [
    "def cities2():\n",
    "    lst = []\n",
    "\n",
    "    while True:       # forever repeat:\n",
    "        city = input('Enter city: ')\n",
    "\n",
    "        if city == '':        # if city is the flag value\n",
    "            return lst #last loop iteration stop here\n",
    "\n",
    "        lst.append(city)\n",
    "\n",
    "cities2()"
   ]
  },
  {
   "cell_type": "markdown",
   "metadata": {
    "slideshow": {
     "slide_type": "slide"
    }
   },
   "source": [
    "<h3><font color='#004b87'>The break statement</font></h3>\n",
    "<p></p>\n",
    "The break statement:\n",
    "<p></p>\n",
    "   <li>is used inside the body of a loop</li>   \n",
    "   <li>when executed, it interrupts the current iteration of the loop</li>\n",
    "   <li>execution continues with the statement that follows the loop body.</li>\n",
    "<p></p>"
   ]
  },
  {
   "cell_type": "code",
   "execution_count": 59,
   "metadata": {
    "slideshow": {
     "slide_type": "fragment"
    }
   },
   "outputs": [
    {
     "name": "stdout",
     "output_type": "stream",
     "text": [
      "Enter city: London\n",
      "Enter city: Toronto \n",
      "Enter city: Barrie\n",
      "Enter city: \n"
     ]
    },
    {
     "data": {
      "text/plain": [
       "['London', 'Toronto ', 'Barrie']"
      ]
     },
     "execution_count": 59,
     "metadata": {},
     "output_type": "execute_result"
    }
   ],
   "source": [
    "def cities2():\n",
    "    lst = []\n",
    "\n",
    "    while True:\n",
    "        city = input('Enter city: ')\n",
    "\n",
    "        if city == '':\n",
    "            break\n",
    "\n",
    "        lst.append(city)\n",
    "\n",
    "    return lst\n",
    "\n",
    "cities2()"
   ]
  },
  {
   "cell_type": "code",
   "execution_count": 25,
   "metadata": {},
   "outputs": [
    {
     "name": "stdout",
     "output_type": "stream",
     "text": [
      "2 3 \n",
      "\n",
      "4 5 6 \n"
     ]
    }
   ],
   "source": [
    "def before0(table):\n",
    "    \"prints values in 2D list of numbers t as a 2D table; only values in row up to first 0 are printed\"\n",
    "    for row in table:\n",
    "        \n",
    "        for num in row:      # inner for loop\n",
    "            if num == 0:             # if num is 0\n",
    "                break              # terminate inner loop\n",
    "            print(num, end=' ')    # otherwise print num\n",
    "        \n",
    "        print()     # move cursor to next line\n",
    "table = [[2, 3, 0, 6], [0, 3, 4, 5], [4, 5, 6, 0]]\n",
    "before0(table)"
   ]
  },
  {
   "cell_type": "markdown",
   "metadata": {
    "slideshow": {
     "slide_type": "slide"
    }
   },
   "source": [
    "<h3><font color='#004b87'>The continue statement</font></h3>\n",
    "<p></p>\n",
    "The continue statement:\n",
    "<p></p>\n",
    "   <li>is used inside the body of a loop</li>   \n",
    "   <li>when executed, it interrupts the current iteration of the loop</li>\n",
    "   <li>execution continues with next iteration of the loop.</li>\n",
    "<p></p>\n",
    "In both cases (break and continue), only the innermost loop is affected\n"
   ]
  },
  {
   "cell_type": "code",
   "execution_count": 62,
   "metadata": {
    "slideshow": {
     "slide_type": "fragment"
    }
   },
   "outputs": [
    {
     "name": "stdout",
     "output_type": "stream",
     "text": [
      "2 3 6 \n",
      "3 4 5 \n",
      "4 5 6 \n"
     ]
    }
   ],
   "source": [
    "def ignore0(table):\n",
    "    for row in table:\n",
    "        for num in row:\n",
    "            if num == 0:\n",
    "                continue\n",
    "            print(num, end=' ')\n",
    "        print() \n",
    "\n",
    "table = [[2, 3, 0, 6],\n",
    "[0, 3, 4, 5],\n",
    "[4, 5, 6, 0]]\n",
    "ignore0(table)"
   ]
  },
  {
   "cell_type": "markdown",
   "metadata": {
    "slideshow": {
     "slide_type": "slide"
    }
   },
   "source": [
    "<h3><font color='#004b87'>Exercise</font></h3>\n",
    "<p></p>\n",
    "Write function bubbleSort() that:\n",
    "<p></p>\n",
    "   <li>takes a list of numbers as input and sorts the list using BubbleSort</li>   \n",
    "   <li>The function returns nothing</li>"
   ]
  },
  {
   "cell_type": "markdown",
   "metadata": {
    "slideshow": {
     "slide_type": "fragment"
    }
   },
   "source": [
    "![Image](https://www.productplan.com/uploads/bubble-sort-1024x683-2.png)"
   ]
  },
  {
   "cell_type": "code",
   "execution_count": 33,
   "metadata": {
    "slideshow": {
     "slide_type": "skip"
    }
   },
   "outputs": [
    {
     "data": {
      "text/plain": [
       "[0, 2, 4, 6, 10]"
      ]
     },
     "execution_count": 33,
     "metadata": {},
     "output_type": "execute_result"
    }
   ],
   "source": [
    "# Try exercises here\n",
    "def bubblesort(lst):\n",
    "\n",
    "    for i in range(len(lst)-1, 0, -1):       # range(start, end, step)\n",
    "        \n",
    "        # i = len(lst)-1, len(lst)-2, …, 1\n",
    "        for j in range(i):\n",
    "            \n",
    "            if lst[j] > lst[j+1]:\n",
    "                lst[j], lst[j+1] = lst[j+1], lst[j]\n",
    "        return lst\n",
    "\n",
    "lst = [2, 0, 6, 4, 10]\n",
    "bubblesort(lst)"
   ]
  },
  {
   "cell_type": "markdown",
   "metadata": {
    "slideshow": {
     "slide_type": "slide"
    }
   },
   "source": [
    "<h3><font color='#004b87'>More Built-in Container Classes</font></h3>\n",
    "<p></p>\n",
    "   <li>Container Class dict</li>   \n",
    "   <li>Encoding of String Characters</li>\n",
    "   <li>The one-way and two-way if statements are, more specifically,  conditional structures</li>\n",
    "   <liRandomness and Random Sampling</li>"
   ]
  },
  {
   "cell_type": "markdown",
   "metadata": {
    "slideshow": {
     "slide_type": "slide"
    }
   },
   "source": [
    "<h3><font color='#004b87'>User-defined indexes and dictionaries</font></h3>\n",
    "<p></p>\n",
    "Goal: a container of employee records indexed by employee SS#\n",
    "<p></p>\n",
    "Problems:\n",
    "<p></p>\n",
    "   <li>the range of SS#s is huge</li> \n",
    "   <li>SS#s are not really integers</li> \n",
    "<p></p>\n",
    "Solution: The dictionary class dict"
   ]
  },
  {
   "cell_type": "markdown",
   "metadata": {
    "slideshow": {
     "slide_type": "fragment"
    }
   },
   "source": [
    "| Key           | Value         |\n",
    "| :------------ | -------------:|\n",
    "| '864-20-9753' | ['Anna', 'Karenina']|\n",
    "| '987-65-4321' | ['Yu', 'Tsun']|\n",
    "| '100-01-0010' | ['Hans', 'Castorp']|\n",
    "\n",
    "A dictionary contains (key, value) pairs. It uses curly braces {}.\n",
    "\n",
    "A key can be used as an index to access the corresponding value\n"
   ]
  },
  {
   "cell_type": "code",
   "execution_count": 63,
   "metadata": {
    "slideshow": {
     "slide_type": "fragment"
    }
   },
   "outputs": [
    {
     "data": {
      "text/plain": [
       "['Yu', 'Tsun']"
      ]
     },
     "execution_count": 63,
     "metadata": {},
     "output_type": "execute_result"
    }
   ],
   "source": [
    "employee = {\n",
    "'864-20-9753': ['Anna', 'Karenina'],\n",
    "'987-65-4321': ['Yu', 'Tsun'],\n",
    "'100-01-0010': ['Hans', 'Castorp']}\n",
    "\n",
    "employee['987-65-4321']"
   ]
  },
  {
   "cell_type": "markdown",
   "metadata": {
    "slideshow": {
     "slide_type": "slide"
    }
   },
   "source": [
    "<h3><font color='#004b87'>Properties of Dictionaries</font></h3>\n",
    "<p></p>\n",
    "Dictionaries are not ordered\n",
    "<p></p>\n",
    "Dictionaries are mutable\n",
    "<p></p>\n",
    "   <li>new (key,value) pairs can be added</li>   \n",
    "   <li>the value corresponding to a key can be modified</li>\n",
    "   <li>The empty dictionary is  {}</li>\n",
    "   <li>Dictionary keys must be immutable</li>\n",
    "   "
   ]
  },
  {
   "cell_type": "markdown",
   "metadata": {
    "slideshow": {
     "slide_type": "fragment"
    }
   },
   "source": [
    "<h3><font color='#004b87'>Dictionary Operators</font></h3>\n",
    "<p></p>\n",
    "Class dict supports some of the same operators as class list\n",
    "<p></p>\n",
    "Class dict does not support all the operators that class list supports\n",
    "<p></p>\n",
    "<li>+ and * for example do not work in dictionaries </li>\n"
   ]
  },
  {
   "cell_type": "code",
   "execution_count": 64,
   "metadata": {
    "slideshow": {
     "slide_type": "fragment"
    }
   },
   "outputs": [
    {
     "name": "stdout",
     "output_type": "stream",
     "text": [
      "1\n",
      "{'Mo': 1, 'Tu': 2, 'W': 3, 'Th': 5}\n",
      "False\n",
      "4\n"
     ]
    }
   ],
   "source": [
    "days = {'Mo':1, 'Tu':2, 'W':3}\n",
    "print(days['Mo'])\n",
    "days['Th'] = 5\n",
    "print(days)\n",
    "print('Fr' in days)\n",
    "print(len(days))"
   ]
  },
  {
   "cell_type": "markdown",
   "metadata": {
    "slideshow": {
     "slide_type": "slide"
    }
   },
   "source": [
    "<h3><font color='#004b87'>Dictionary Operators</font></h3>\n",
    "<p></p>\n",
    " \n",
    "\n",
    "| Operation     | Explanation     |\n",
    "| :------------ | -------------:|\n",
    "| d.items()     |Returns a view of the (key, value) pairs in d|\n",
    "| d.keys()      | Returns a view of the keys of d|\n",
    "| d.pop(key)    | Removes the (key, value) pair with key key from d and returns the value| \n",
    "| d.update(d2)  | Adds the (key, value) pairs of dictionary d2 to d| \n",
    "| d.values()    | Returns a view of the values of d| \n",
    "\n",
    "\n",
    "The containers returned by d.items(), d.keys(), and d.values() (called views) can be iterated over\n"
   ]
  },
  {
   "cell_type": "code",
   "execution_count": 65,
   "metadata": {
    "slideshow": {
     "slide_type": "fragment"
    }
   },
   "outputs": [
    {
     "name": "stdout",
     "output_type": "stream",
     "text": [
      "{'Mo': 1, 'W': 3, 'Th': 5}\n",
      "{'Mo': 1, 'W': 3, 'Th': 5, 'Tu': 2, 'Fr': 5}\n",
      "dict_items([('Mo', 1), ('W', 3), ('Th', 5), ('Tu', 2), ('Fr', 5)])\n",
      "dict_keys(['Mo', 'W', 'Th', 'Tu', 'Fr'])\n",
      "dict_values([1, 3, 5, 2, 5])\n"
     ]
    }
   ],
   "source": [
    "days.pop('Tu')\n",
    "print(days)\n",
    "days2 = {'Tu':2, 'Fr':5}\n",
    "days.update(days2)\n",
    "print(days)\n",
    "print(days.items())\n",
    "print(days.keys())\n",
    "vals = days.values()\n",
    "print(vals)"
   ]
  },
  {
   "cell_type": "markdown",
   "metadata": {},
   "source": [
    "NOTE: ordered dictionaries are beyond the scope of this course."
   ]
  },
  {
   "cell_type": "markdown",
   "metadata": {
    "slideshow": {
     "slide_type": "slide"
    }
   },
   "source": [
    "<h3><font color='#004b87'>Dictionary vs. multi-way if statement</font></h3>\n",
    "<p></p>\n",
    "Uses of a dictionary:\n",
    "<p></p>\n",
    "   <li>container with custom indexes</li>\n",
    "   <li>alternative to the multi-way if statement</li>"
   ]
  },
  {
   "cell_type": "code",
   "execution_count": 68,
   "metadata": {
    "slideshow": {
     "slide_type": "fragment"
    }
   },
   "outputs": [],
   "source": [
    "def complete(abbreviation):\n",
    "    'returns day of the week corresponding to abbreviation' \n",
    "\n",
    "    if abbreviation == 'Mo':\n",
    "        return 'Monday' \n",
    "    elif abbreviation == 'Tu':\n",
    "        return 'Tuesday' \n",
    "    \n",
    "        #....\n",
    "    else: # abbreviation must be Su\n",
    "        return 'Sunday'\n"
   ]
  },
  {
   "cell_type": "code",
   "execution_count": null,
   "metadata": {
    "slideshow": {
     "slide_type": "fragment"
    }
   },
   "outputs": [],
   "source": [
    "def complete(abbreviation):\n",
    "    'returns day of the week corresponding to abbreviation'\n",
    "\n",
    "    days = {'Mo': 'Monday', 'Tu':'Tuesday', 'We': 'Wednesday',\n",
    "            'Th': 'Thursday', 'Fr': 'Friday', 'Sa': 'Saturday',\n",
    "            'Su':'Sunday'}\n",
    "\n",
    "    return days[abbreviation]\n",
    "\n"
   ]
  },
  {
   "cell_type": "markdown",
   "metadata": {
    "slideshow": {
     "slide_type": "slide"
    }
   },
   "source": [
    "<h3><font color='#004b87'>Dictionary as a container of counters</font></h3>\n",
    "<p></p>\n",
    "Uses of a dictionary:\n",
    "<p></p>\n",
    "   <li>container with custom indexes</li>\n",
    "   <li>alternative to the multi-way if statement</li>\n",
    "   <li>container of counters</li>\n",
    "<p></p>\n",
    "Problem: computing the number of occurrences of items in a list"
   ]
  },
  {
   "cell_type": "code",
   "execution_count": null,
   "metadata": {
    "slideshow": {
     "slide_type": "fragment"
    }
   },
   "outputs": [],
   "source": [
    "grades = [95, 96, 100, 85, 95, 90, 95, 100, 100]\n",
    "frequency(grades)\n",
    "{96: 1, 90: 1, 100: 3, 85: 1, 95: 3}\n",
    "\n"
   ]
  },
  {
   "cell_type": "markdown",
   "metadata": {
    "slideshow": {
     "slide_type": "slide"
    }
   },
   "source": [
    "Solution:  Iterate through the list and, for each grade, increment the counter corresponding to the grade. \n",
    "<p></p>\n",
    "Problems (if not using a dictionary):\n",
    "<p></p>\n",
    "   <li>impossible to create counters before seeing what’s in the list</li>\n",
    "   <li>how to store grade counters so a counter is accessible using the corresponding grade</li>\n",
    "   <li>Solution: a dictionary mapping a grade (the key) to its counter (the value) </li>"
   ]
  },
  {
   "cell_type": "code",
   "execution_count": 51,
   "metadata": {
    "slideshow": {
     "slide_type": "fragment"
    }
   },
   "outputs": [],
   "source": [
    "def frequency(itemList):\n",
    "    'returns frequency of items in itemList'\n",
    "\n",
    "    counters = {}\n",
    "\n"
   ]
  },
  {
   "cell_type": "code",
   "execution_count": 69,
   "metadata": {
    "slideshow": {
     "slide_type": "fragment"
    }
   },
   "outputs": [],
   "source": [
    "def frequency(itemList):\n",
    "    'returns frequency of items in itemList'\n",
    "\n",
    "    counters = {}\n",
    "    for item in itemList:\n",
    "        if item in counters: # increment item counter\n",
    "            counters[item] += 1\n",
    "        else: # create item counter\n",
    "            counters[item] = 1\n",
    "    return counters\n"
   ]
  },
  {
   "cell_type": "markdown",
   "metadata": {
    "slideshow": {
     "slide_type": "slide"
    }
   },
   "source": [
    "<h3><font color='#004b87'>Exercise</font></h3>\n",
    "<p></p>\n",
    "Implement function wordcount() that takes as input a text—as a string— and prints the frequency of each word in the text; assume there is no punctuation in the text.\n"
   ]
  },
  {
   "cell_type": "code",
   "execution_count": null,
   "metadata": {
    "slideshow": {
     "slide_type": "fragment"
    }
   },
   "outputs": [],
   "source": [
    "#Result should look like this\n",
    "text = 'all animals are equal but some animals are more equal than other'\n",
    "wordCount(text)\n",
    "all      appears 1 time.\n",
    "animals  appears 2 times.\n",
    "some     appears 1 time.\n",
    "equal    appears 2 times.\n",
    "but      appears 1 time.\n",
    "other    appears 1 time.\n",
    "are      appears 2 times.\n",
    "than     appears 1 time.\n",
    "more     appears 1 time.\n"
   ]
  },
  {
   "cell_type": "code",
   "execution_count": 49,
   "metadata": {},
   "outputs": [
    {
     "name": "stdout",
     "output_type": "stream",
     "text": [
      "all      appears 1 time.\n",
      "animals  appears 2 times.\n",
      "are      appears 2 times.\n",
      "equal    appears 2 times.\n",
      "but      appears 1 time.\n",
      "some     appears 1 time.\n",
      "more     appears 1 time.\n",
      "than     appears 1 time.\n",
      "other    appears 1 time.\n"
     ]
    }
   ],
   "source": [
    "text = 'all animals are equal but some animals are more equal than other'\n",
    "def wordCount(text):\n",
    "    \n",
    "    wordList = text.split()     # split string into list of words\n",
    "    counters = {}\n",
    "    \n",
    "    for word in wordList:\n",
    "        if word in counters:\n",
    "            counters[word] += 1 # counter for word if it's in the list\n",
    "        else:\n",
    "            counters[word] = 1 \n",
    "    \n",
    "    for word in counters:\n",
    "        if counters[word] == 1:\n",
    "            print('{:8} appears {} time.'.format(word, counters[word]))\n",
    "        \n",
    "        else:\n",
    "            print('{:8} appears {} times.'.format(word, counters[word]))      \n",
    "            \n",
    "wordCount(text)  "
   ]
  },
  {
   "cell_type": "markdown",
   "metadata": {
    "slideshow": {
     "slide_type": "slide"
    }
   },
   "source": [
    "<h3><font color='#004b87'>Exercise</font></h3>\n",
    "<p></p>\n",
    "Implement function lookup() that implements a phone book lookup application. Your function takes, as input, a dictionary representing a phone book, mappingtuples (containing the first and last name) to strings(containing phone numbers) "
   ]
  },
  {
   "cell_type": "code",
   "execution_count": null,
   "metadata": {
    "slideshow": {
     "slide_type": "fragment"
    }
   },
   "outputs": [],
   "source": [
    "#Result should look like this\n",
    "phonebook = {\n",
    "    ('Anna','Karenina'):'(123)456-78-90',\n",
    "    ('Yu', 'Tsun'):'(901)234-56-78',\n",
    "    ('Hans', 'Castorp'):'(321)908-76-54'}\n",
    "lookup(phonebook)\n",
    "Enter the first name: Anna\n",
    "Enter the last name: Karenina\n",
    "(123)456-78-90\n",
    "Enter the first name: \n",
    "\n"
   ]
  },
  {
   "cell_type": "code",
   "execution_count": 54,
   "metadata": {
    "slideshow": {
     "slide_type": "skip"
    }
   },
   "outputs": [
    {
     "name": "stdout",
     "output_type": "stream",
     "text": [
      "Enter the first name: Anna\n",
      "Enter the last name: Karenina\n",
      "(123)456-78-90\n"
     ]
    }
   ],
   "source": [
    "def lookup(phonebook):\n",
    "    '''implements interactive phone book service using the input\n",
    "       phonebook dictionary'''\n",
    "    while True:\n",
    "            \n",
    "        first = input('Enter the first name: ')\n",
    "        last = input('Enter the last name: ')    \n",
    "        \n",
    "        person = (first, last)     # construct the key (tuple b/c in round brackets)\n",
    "        \n",
    "        if person in phonebook:\n",
    "            print(phonebook[person])\n",
    "        else:\n",
    "            print('This name is not listed.')\n",
    "        break\n",
    "           \n",
    "phonebook = phonebook = {\n",
    "    ('Anna','Karenina'):'(123)456-78-90',\n",
    "    ('Yu', 'Tsun'):'(901)234-56-78',\n",
    "    ('Hans', 'Castorp'):'(321)908-76-54'}\n",
    "lookup(phonebook)     \n",
    "             \n",
    "\n"
   ]
  },
  {
   "cell_type": "markdown",
   "metadata": {
    "slideshow": {
     "slide_type": "slide"
    }
   },
   "source": [
    "<h3><font color='#004b87'>Character encodings</font></h3>\n",
    "<p></p>\n",
    "A string (str) object contains an ordered sequence of characters which can be any of the following:\n",
    "<li>lowercase and uppercase letters in the English alphabet:         a b c … z and A B C … Z</li>\n",
    "<li>decimal digits: 0 1 2 3 4 5 6 7 8 9</li>\n",
    "<li>punctuation: , . : ; ‘ “ ! ? etc.</li>\n",
    "<li>Mathematical operators and common symbols: = &#60; &#62; + - / * $ # &#37; @ & etc.</li>\n",
    "\n",
    "<p></p>\n",
    "<li>Each character is mapped to a specific bit encoding,\n",
    "and this encoding maps back to the character.</li>\n",
    "<li>For many years, the standard encoding for characters in the English language was the American Standard Code for Information Interchange (ASCII)</li>\n"
   ]
  },
  {
   "cell_type": "markdown",
   "metadata": {
    "slideshow": {
     "slide_type": "slide"
    }
   },
   "source": [
    "<h3><font color='#004b87'>ASCII</font></h3>\n",
    "<p></p>\n",
    "<li>The code for a is 97, which is 01100001 in binary or 0x61 in hexadecimal notation</li>\n",
    "<li>The encoding for each ASCII character fits in 1 byte (8 bits)</li>"
   ]
  },
  {
   "cell_type": "markdown",
   "metadata": {
    "slideshow": {
     "slide_type": "fragment"
    }
   },
   "source": [
    "![Image](https://upload.wikimedia.org/wikipedia/commons/thumb/d/dd/ASCII-Table.svg/739px-ASCII-Table.svg.png)"
   ]
  },
  {
   "cell_type": "markdown",
   "metadata": {
    "slideshow": {
     "slide_type": "slide"
    }
   },
   "source": [
    "<h3><font color='#004b87'>Built-in functions ord() and char()</font></h3>\n",
    "<p></p>\n",
    "   <li>Function ord() takes a character (i.e., a string of length 1) as input and returns its ASCII code</li>   \n",
    "   <li>Function chr() takes an ASCII encoding (i.e., a non-negative integer) and returns the corresponding character</li>\n"
   ]
  },
  {
   "cell_type": "code",
   "execution_count": 72,
   "metadata": {
    "slideshow": {
     "slide_type": "fragment"
    }
   },
   "outputs": [
    {
     "name": "stdout",
     "output_type": "stream",
     "text": [
      "97\n",
      "63\n",
      "10\n",
      "\n",
      "\n",
      "?\n",
      "a\n"
     ]
    }
   ],
   "source": [
    "print(ord('a'))\n",
    "print(ord('?'))\n",
    "print(ord('\\n'))\n",
    "print(chr(10))\n",
    "print(chr(63))\n",
    "print(chr(97))"
   ]
  },
  {
   "cell_type": "markdown",
   "metadata": {
    "slideshow": {
     "slide_type": "slide"
    }
   },
   "source": [
    "<h3><font color='#004b87'>Beyond ASCII</font></h3>\n",
    "<p></p>\n",
    "A string (str) object contains an ordered sequence of characters which can be any of the following:\n",
    "<li>lowercase and uppercase letters in the English alphabet:         a b c … z and A B C … Z</li>\n",
    "<li>decimal digits: 0 1 2 3 4 5 6 7 8 9</li>\n",
    "<li>punctuation: , . : ; ‘ “ ! ? etc.</li>\n",
    "<li>Mathematical operators and common symbols: = &#60; &#62; + - / * $ # &#37; @ & etc.</li>\n",
    "<li>Characters from languages other than English</li>\n",
    "<li>Technical symbols from math, science, engineering, etc.</li>\n",
    "\n",
    "<p></p>\n",
    "There are only 128 characters in the ASCII encoding\n",
    "<li>Unicode has been developed to be the universal character encoding scheme</li>\n"
   ]
  },
  {
   "cell_type": "markdown",
   "metadata": {
    "slideshow": {
     "slide_type": "slide"
    }
   },
   "source": [
    "<h3><font color='#004b87'>Unicode</font></h3>\n",
    "<p></p>\n",
    "<li>In Unicode, every character is represented by an integer code point.</li>\n",
    "<li>The code point is not necessarily the actual byte representation of the character; it is just the identifier for the particular character</li>\n",
    "<li>The code point for letter a is the integer with hexadecimal value 0x0061</li>\n",
    "<li>Unicode conveniently uses a code point for ASCII characters that is equal to their ASCII code</li>\n",
    "<li>With Unicode, we can write strings in</li>\n",
    "<ul>\n",
    "    <li>English</li>\n",
    "    <li>Cyrillic</li>\n",
    "    <li>Mandarin</li>\n",
    "</ul>"
   ]
  },
  {
   "cell_type": "code",
   "execution_count": 77,
   "metadata": {
    "slideshow": {
     "slide_type": "fragment"
    }
   },
   "outputs": [
    {
     "name": "stdout",
     "output_type": "stream",
     "text": [
      "a\n",
      "dad\n",
      "Љубомир\n",
      "世界您好!\n"
     ]
    }
   ],
   "source": [
    "print('\\u0061')\n",
    "print('\\u0064\\u0061d')\n",
    "print('\\u0409\\u0443\\u0431\\u043e\\u043c\\u0438\\u0440')\n",
    "print('\\u4e16\\u754c\\u60a8\\u597d!')"
   ]
  },
  {
   "cell_type": "markdown",
   "metadata": {
    "slideshow": {
     "slide_type": "slide"
    }
   },
   "source": [
    "<h3><font color='#004b87'>String comparison, revisited</font></h3>\n",
    "<p></p>\n",
    "Unicode code points, being integers, give a natural ordering to all the characters representable in Unicode\n",
    "<p></p>\n",
    "Unicode was designed so that, for any pair of characters from the same alphabet, the one that is earlier in the alphabet will have a smaller Unicode code point."
   ]
  },
  {
   "cell_type": "code",
   "execution_count": 78,
   "metadata": {
    "slideshow": {
     "slide_type": "fragment"
    }
   },
   "outputs": [
    {
     "name": "stdout",
     "output_type": "stream",
     "text": [
      "!\n",
      "Љ\n",
      "True\n"
     ]
    }
   ],
   "source": [
    "s1 = '\\u0021'\n",
    "print(s1)\n",
    "s2 = '\\u0409'\n",
    "print(s2)\n",
    "print(s1 < s2)"
   ]
  },
  {
   "cell_type": "markdown",
   "metadata": {
    "slideshow": {
     "slide_type": "slide"
    }
   },
   "source": [
    "<h3><font color='#004b87'>Unicode Transformation Format (UTF)</font></h3>\n",
    "<p></p>\n",
    "A Unicode string is a sequence of code points that are numbers from 0 to 0x10FFFF. \n",
    "<p></p>\n",
    "Unlike ASCII codes, Unicode code points are not what is stored in memory; the rule for translating a Unicode character or code point into a sequence of bytes is called an encoding.\n",
    "<p></p>\n",
    "There are several Unicode encodings: UTF-8, UTF-16, and UTF-32. UTF stands for Unicode Transformation Format.\n",
    "<p></p>\n",
    "<li>UTF-8 has become the preferred encoding for e-mail and web pages</li>\n",
    "<li>The default encoding when you write Python 3 programs is UTF-8.</li>\n",
    "<li>In UTF-8, every ASCII character has an encoding that is exactly the 8-bit ASCII encoding.</li>"
   ]
  },
  {
   "cell_type": "markdown",
   "metadata": {
    "slideshow": {
     "slide_type": "slide"
    }
   },
   "source": [
    "<h3><font color='#004b87'>Assigning an encoding to \"raw bytes\"</font></h3>\n",
    "<p></p>\n",
    "When a file is downloaded from the web, it does not have an encoding\n",
    "<p></p>\n",
    "<li>the file could be a picture or an executable program, i.e. not a text file</li>\n",
    "<li>the downloaded file content is a sequence of bytes, i.e. of type bytes</li>\n",
    "<p></p>\n",
    "The bytes method decode() takes an encoding description as input and returns a string that is obtained by applying the encoding to the sequence of bytes\n",
    "<li>The default is UTF-*</li>\n",
    "\n"
   ]
  },
  {
   "cell_type": "code",
   "execution_count": 81,
   "metadata": {
    "slideshow": {
     "slide_type": "fragment"
    }
   },
   "outputs": [
    {
     "name": "stdout",
     "output_type": "stream",
     "text": [
      "<class 'bytes'>\n",
      "<class 'str'>\n",
      "This is a text document\n",
      "posted on the\n",
      "WWW.\n",
      "\n",
      "This is a text document\n",
      "posted on the\n",
      "WWW.\n",
      "\n"
     ]
    }
   ],
   "source": [
    "content = b'This is a text document\\nposted on the\\nWWW.\\n'\n",
    "print(type(content))\n",
    "s = content.decode('utf-8')\n",
    "print(type(s))\n",
    "print(s)\n",
    "s = content.decode()\n",
    "print(s)"
   ]
  },
  {
   "cell_type": "markdown",
   "metadata": {
    "slideshow": {
     "slide_type": "slide"
    }
   },
   "source": [
    "<h3><font color='#004b87'>Randomness</font></h3>\n",
    "<p></p>\n",
    "Some apps need numbers generated “at random” (i.e., from some probability distribution):\n",
    "<p></p>\n",
    "<li>scientific computing</li>\n",
    "<li>financial simulations</li>\n",
    "<li>cryptography</li>\n",
    "<li>computer games</li>\n",
    "<p></p>\n",
    "Truly random numbers are hard to generate\n",
    "<p></p>\n",
    "Most often, a pseudorandom number generator is used\n",
    "<li>numbers only appear to be random</li>\n",
    "<li>they are really generated using a deterministic process</li>\n",
    "<p></p>\n",
    "The Python standard library module random provides a pseudo random number generator as well useful sampling functions"
   ]
  },
  {
   "cell_type": "markdown",
   "metadata": {
    "slideshow": {
     "slide_type": "slide"
    }
   },
   "source": [
    "<li>Function randrange() returns a “random” integer number from a given range </li>\n",
    "<li>Example usage: simulate the throws of a die</li>\n",
    "<li>Function uniform() returns a “random” float number from a given range </li>\n"
   ]
  },
  {
   "cell_type": "code",
   "execution_count": 83,
   "metadata": {
    "slideshow": {
     "slide_type": "fragment"
    }
   },
   "outputs": [
    {
     "name": "stdout",
     "output_type": "stream",
     "text": [
      "2\n",
      "4\n",
      "3\n",
      "4\n",
      "0.17263058640698126\n",
      "0.40148923174221984\n",
      "0.10348651561345468\n"
     ]
    }
   ],
   "source": [
    "import random\n",
    "print(random.randrange(1, 7))\n",
    "print(random.randrange(1, 7))\n",
    "print(random.randrange(1, 7))\n",
    "print(random.randrange(1, 7))\n",
    "print(random.uniform(0, 1))\n",
    "print(random.uniform(0, 1))\n",
    "print(random.uniform(0, 1))\n"
   ]
  },
  {
   "cell_type": "markdown",
   "metadata": {
    "slideshow": {
     "slide_type": "slide"
    }
   },
   "source": [
    "<h3><font color='#004b87'>Standard Library module random</font></h3>\n",
    "<p></p>\n",
    "Defined in module random are functions shuffle(), choice(), sample(), …"
   ]
  },
  {
   "cell_type": "code",
   "execution_count": 84,
   "metadata": {
    "slideshow": {
     "slide_type": "fragment"
    }
   },
   "outputs": [
    {
     "name": "stdout",
     "output_type": "stream",
     "text": [
      "None\n",
      "['Flo', 'Eve', 'Ann', 'Cal', 'Dee', 'Hal', 'Ike', 'Bob']\n",
      "Cal\n",
      "Ann\n",
      "Ann\n",
      "Eve\n",
      "['Bob', 'Ike', 'Cal']\n",
      "['Cal', 'Ann', 'Dee']\n",
      "['Dee', 'Bob', 'Hal']\n"
     ]
    }
   ],
   "source": [
    "import random\n",
    "names = ['Ann', 'Bob', 'Cal', 'Dee', 'Eve', 'Flo', 'Hal', 'Ike']\n",
    "print(random.shuffle(names))\n",
    "print(names)\n",
    "print(random.choice(names))\n",
    "print(random.choice(names))\n",
    "print(random.choice(names))\n",
    "print(random.choice(names))\n",
    "print(random.sample(names, 3))\n",
    "print(random.sample(names, 3))\n",
    "print(random.sample(names, 3))\n"
   ]
  },
  {
   "cell_type": "markdown",
   "metadata": {
    "slideshow": {
     "slide_type": "slide"
    }
   },
   "source": [
    "<h3><font color='#004b87'>Exercise</font></h3>\n",
    "<p></p>\n",
    "Develop function game() that:\n",
    "<li>takes integers r and c as input</li>\n",
    "<li>generates a field of r rows and c columns with a bomb at a randomly chosen row and column,</li>\n",
    "<li>and then asks users to find the bomb</li>"
   ]
  },
  {
   "cell_type": "code",
   "execution_count": null,
   "metadata": {
    "slideshow": {
     "slide_type": "fragment"
    }
   },
   "outputs": [],
   "source": [
    "#Output should look like\n",
    "game(2, 3)\n",
    "Enter next position (format: x y): 0 2\n",
    "No bomb at position 0 2 \n",
    "Enter next position (format: x y): 1 1\n",
    "No bomb at position 1 1 \n",
    "Enter next position (format: x y): 0 1\n",
    "You found the bomb!\n"
   ]
  },
  {
   "cell_type": "code",
   "execution_count": 4,
   "metadata": {},
   "outputs": [
    {
     "name": "stdout",
     "output_type": "stream",
     "text": [
      "Enter next position: 2 2\n",
      "No bomb at position 2 2\n",
      "Enter next position: 2 1\n",
      "No bomb at position 2 1\n",
      "Enter next position: 1 2\n",
      "No bomb at position 1 2\n",
      "Enter next position: 1 1\n",
      "No bomb at position 1 1\n",
      "Enter next position: 0 0\n",
      "You found the bomb!\n"
     ]
    }
   ],
   "source": [
    "import random\n",
    "def game(r, c):\n",
    "    x = random.randrange(0, r)\n",
    "    y = random.randrange(0, c)\n",
    "    \n",
    "    while True:     \n",
    "        rx, cy = input('Enter next position: ').split() \n",
    "    \n",
    "        if int(rx) != x and int(cy) != y:\n",
    "            print('No bomb at position {} {}'.format(rx, cy))\n",
    "        else:          \n",
    "            print('You found the bomb!')\n",
    "            break\n",
    "    \n",
    "game(2, 2)"
   ]
  }
 ],
 "metadata": {
  "celltoolbar": "Slideshow",
  "kernelspec": {
   "display_name": "Python 3",
   "language": "python",
   "name": "python3"
  },
  "language_info": {
   "codemirror_mode": {
    "name": "ipython",
    "version": 3
   },
   "file_extension": ".py",
   "mimetype": "text/x-python",
   "name": "python",
   "nbconvert_exporter": "python",
   "pygments_lexer": "ipython3",
   "version": "3.8.5"
  }
 },
 "nbformat": 4,
 "nbformat_minor": 4
}
