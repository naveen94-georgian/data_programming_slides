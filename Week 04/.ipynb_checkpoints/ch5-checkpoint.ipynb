{
 "cells": [
  {
   "cell_type": "markdown",
   "metadata": {},
   "source": [
    "# Practice Problem 5.2"
   ]
  },
  {
   "cell_type": "code",
   "execution_count": 3,
   "metadata": {},
   "outputs": [
    {
     "name": "stdout",
     "output_type": "stream",
     "text": [
      "2 4 8 16 32 64 128 256 512 1024 "
     ]
    }
   ],
   "source": [
    "n = 10\n",
    "def powers(n):\n",
    "    'Takes a positive integer, n, and prints all the powers of 2 fron 2**1 to 2**n'\n",
    "    for i in range(1, n+1):\n",
    "        print(2**i, end = ' ')\n",
    "\n",
    "powers(n)"
   ]
  },
  {
   "cell_type": "code",
   "execution_count": 6,
   "metadata": {},
   "outputs": [
    {
     "name": "stdout",
     "output_type": "stream",
     "text": [
      "0 1 2 3 4 "
     ]
    }
   ],
   "source": [
    "n=5\n",
    "def nested(n):\n",
    "    for i in range(n):\n",
    "        print(i, end=' ')\n",
    "nested(5)"
   ]
  },
  {
   "cell_type": "markdown",
   "metadata": {},
   "source": [
    "# Practice Problem 6.1"
   ]
  },
  {
   "cell_type": "code",
   "execution_count": 13,
   "metadata": {},
   "outputs": [],
   "source": [
    "def birthState(president):\n",
    "    \n",
    "    states = {'Barack Hussein Obama II':'Hawaii', \n",
    "              'George Walker Bush':'Connecticut',\n",
    "              'William Jefferson Clinton':'Arkansas',\n",
    "              'George Herbert Walker Bush':'Massachussetts', \n",
    "              'Ronald Wilson Reagan':'Illinois', \n",
    "              'James Earl Carter, Jr':'Georgia'}\n",
    "    return states[president]\n",
    "       "
   ]
  },
  {
   "cell_type": "code",
   "execution_count": 15,
   "metadata": {},
   "outputs": [
    {
     "data": {
      "text/plain": [
       "'Hawaii'"
      ]
     },
     "execution_count": 15,
     "metadata": {},
     "output_type": "execute_result"
    }
   ],
   "source": [
    "birthState('Barack Hussein Obama II')"
   ]
  },
  {
   "cell_type": "code",
   "execution_count": 17,
   "metadata": {},
   "outputs": [
    {
     "data": {
      "text/plain": [
       "True"
      ]
     },
     "execution_count": 17,
     "metadata": {},
     "output_type": "execute_result"
    }
   ],
   "source": [
    "'James Earl Carter, Jr' in states"
   ]
  },
  {
   "cell_type": "code",
   "execution_count": 18,
   "metadata": {},
   "outputs": [
    {
     "data": {
      "text/plain": [
       "6"
      ]
     },
     "execution_count": 18,
     "metadata": {},
     "output_type": "execute_result"
    }
   ],
   "source": [
    "len(states)"
   ]
  },
  {
   "cell_type": "code",
   "execution_count": 19,
   "metadata": {},
   "outputs": [],
   "source": [
    "states['Joseph Robinette Biden, Jr.'] = 'Pennsylvania'"
   ]
  },
  {
   "cell_type": "code",
   "execution_count": 20,
   "metadata": {},
   "outputs": [
    {
     "data": {
      "text/plain": [
       "{'Barack Hussein Obama II': 'Hawaii',\n",
       " 'George Walker Bush': 'Connecticut',\n",
       " 'William Jefferson Clinton': 'Arkansas',\n",
       " 'George Herbert Walker Bush': 'Massachussetts',\n",
       " 'Ronald Wilson Reagan': 'Illinois',\n",
       " 'James Earl Carter, Jr': 'Georgia',\n",
       " 'Joseph Robinette Biden, Jr.': 'Pennsylvania'}"
      ]
     },
     "execution_count": 20,
     "metadata": {},
     "output_type": "execute_result"
    }
   ],
   "source": [
    "states"
   ]
  },
  {
   "cell_type": "markdown",
   "metadata": {},
   "source": [
    "# Practice Problem 6.7"
   ]
  },
  {
   "cell_type": "code",
   "execution_count": 30,
   "metadata": {},
   "outputs": [
    {
     "name": "stdout",
     "output_type": "stream",
     "text": [
      "Char    Decimal    Hex    Binary\n",
      "C         67       43     1000011\n",
      "a         97       61     1100001\n",
      "r        114       72     1110010\n",
      "o        111       6f     1101111\n",
      "l        108       6c     1101100\n",
      "y        121       79     1111001\n",
      "n        110       6e     1101110\n"
     ]
    }
   ],
   "source": [
    "def encoding(text):\n",
    "    'prints ASCII codes of characters'\n",
    "    print('Char    Decimal    Hex    Binary')\n",
    "    \n",
    "    for char in text:\n",
    "        code = ord(char)\n",
    "        print('{}    {:7}     {:4x}     {:7b}'.format(char,code,code,code))\n",
    "encoding('Carolyn')   "
   ]
  }
 ],
 "metadata": {
  "kernelspec": {
   "display_name": "Python 3",
   "language": "python",
   "name": "python3"
  },
  "language_info": {
   "codemirror_mode": {
    "name": "ipython",
    "version": 3
   },
   "file_extension": ".py",
   "mimetype": "text/x-python",
   "name": "python",
   "nbconvert_exporter": "python",
   "pygments_lexer": "ipython3",
   "version": "3.8.5"
  }
 },
 "nbformat": 4,
 "nbformat_minor": 4
}
