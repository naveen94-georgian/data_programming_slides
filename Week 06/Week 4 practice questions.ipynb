{
 "cells": [
  {
   "cell_type": "markdown",
   "metadata": {},
   "source": [
    "# Virus Scan Test"
   ]
  },
  {
   "cell_type": "code",
   "execution_count": 17,
   "metadata": {},
   "outputs": [],
   "source": [
    "import os\n",
    "def scan(pathname, signatures):\n",
    "\n",
    "    if os.path.isfile(pathname): # base case, scan pathname\n",
    "        infile = open(pathname)\n",
    "        content = infile.read()\n",
    "        infile.close()\n",
    "        for virus in signatures:\n",
    "            # check whether virus signature appears in content\n",
    "            if content.find(signatures[virus]) >= 0:\n",
    "                print('{}, found virus {}'.format(pathname, virus))\n",
    "            \n",
    "        return\n",
    "    \n",
    "    # pathname is a folder so recursively scan every item in it\n",
    "    for item in os.listdir(pathname):\n",
    "        # create pathname for item relative to current working directory\n",
    "        # fullpath = pathname + '/' + item\t     # Mac only\n",
    "        #fullpath = pathname + '\\' + item\n",
    "        fullpath = os.path.join(pathname, item) # any OS\n",
    "        \n",
    "        scan('1004\\Week 06\\Week 06', {'Creeper':'ye8009g2h1azzx33', \n",
    "'Code Red':'99dh1cz963bsscs3',\n",
    "'Blaster':'fdp1102k1ks6hgbc'})"
   ]
  },
  {
   "cell_type": "markdown",
   "metadata": {},
   "source": [
    "# Practice Problem 10.8"
   ]
  },
  {
   "cell_type": "code",
   "execution_count": 58,
   "metadata": {},
   "outputs": [
    {
     "data": {
      "text/plain": [
       "256"
      ]
     },
     "execution_count": 58,
     "metadata": {},
     "output_type": "execute_result"
    }
   ],
   "source": [
    "def power(a, n):\n",
    "    'returns the a to the nth power'\n",
    "    res=1\n",
    "    for i in range(n):\n",
    "        res *= a\n",
    "    return res\n",
    "power(2,8)"
   ]
  },
  {
   "cell_type": "code",
   "execution_count": 59,
   "metadata": {},
   "outputs": [
    {
     "data": {
      "text/plain": [
       "256"
      ]
     },
     "execution_count": 59,
     "metadata": {},
     "output_type": "execute_result"
    }
   ],
   "source": [
    "def rpower(a, n):\n",
    "    'returns the a to the nth power'\n",
    "    if n==0:           # base case when n=0\n",
    "        return 1\n",
    "    \n",
    "    tmp = rpower(a, n//2)\n",
    "    \n",
    "    if n%2 == 0:\n",
    "        return tmp*tmp     # a**n = a**(n//2) * a**(n//2)\n",
    "    \n",
    "    else:       # n%2 == 1   \n",
    "        return a*tmp*tmp     # a**n = a**(n//2) * a**(n//2) * a\n",
    "    \n",
    "rpower(2,8)"
   ]
  },
  {
   "cell_type": "code",
   "execution_count": 66,
   "metadata": {},
   "outputs": [],
   "source": [
    "def timingAnalysis(func, start, stop, inc, runs):\n",
    "\n",
    "    for n in range(start, stop, inc): # for every input size n \n",
    "        acc = 0.0    # initialize accumulator\n",
    "\n",
    "        for i in range(runs):      # repeat runs times: \n",
    "            acc += timing(func, n)      # run func on input of size n\n",
    "                                       # and accumulates run times \n",
    "                # print average run times for input size n\n",
    "    formatStr = 'Run time of {}({}) is {:.7f} seconds.' \n",
    "    print(formatStr.format(func.__name__, n, acc/runs))\n"
   ]
  },
  {
   "cell_type": "code",
   "execution_count": 67,
   "metadata": {},
   "outputs": [
    {
     "ename": "TypeError",
     "evalue": "'int' object is not callable",
     "output_type": "error",
     "traceback": [
      "\u001b[1;31m---------------------------------------------------------------------------\u001b[0m",
      "\u001b[1;31mTypeError\u001b[0m                                 Traceback (most recent call last)",
      "\u001b[1;32m<ipython-input-67-7784f81909f0>\u001b[0m in \u001b[0;36m<module>\u001b[1;34m\u001b[0m\n\u001b[1;32m----> 1\u001b[1;33m \u001b[0mtimingAnalysis\u001b[0m\u001b[1;33m(\u001b[0m\u001b[0mpower\u001b[0m\u001b[1;33m,\u001b[0m \u001b[1;36m20000\u001b[0m\u001b[1;33m,\u001b[0m \u001b[1;36m81000\u001b[0m\u001b[1;33m,\u001b[0m \u001b[1;36m20000\u001b[0m\u001b[1;33m,\u001b[0m \u001b[1;36m10\u001b[0m\u001b[1;33m)\u001b[0m\u001b[1;33m\u001b[0m\u001b[1;33m\u001b[0m\u001b[0m\n\u001b[0m",
      "\u001b[1;32m<ipython-input-66-10402a314062>\u001b[0m in \u001b[0;36mtimingAnalysis\u001b[1;34m(func, start, stop, inc, runs)\u001b[0m\n\u001b[0;32m      5\u001b[0m \u001b[1;33m\u001b[0m\u001b[0m\n\u001b[0;32m      6\u001b[0m         \u001b[1;32mfor\u001b[0m \u001b[0mi\u001b[0m \u001b[1;32min\u001b[0m \u001b[0mrange\u001b[0m\u001b[1;33m(\u001b[0m\u001b[0mruns\u001b[0m\u001b[1;33m)\u001b[0m\u001b[1;33m:\u001b[0m      \u001b[1;31m# repeat runs times:\u001b[0m\u001b[1;33m\u001b[0m\u001b[1;33m\u001b[0m\u001b[0m\n\u001b[1;32m----> 7\u001b[1;33m             \u001b[0macc\u001b[0m \u001b[1;33m+=\u001b[0m \u001b[0mtiming\u001b[0m\u001b[1;33m(\u001b[0m\u001b[0mfunc\u001b[0m\u001b[1;33m,\u001b[0m \u001b[0mn\u001b[0m\u001b[1;33m)\u001b[0m      \u001b[1;31m# run func on input of size n\u001b[0m\u001b[1;33m\u001b[0m\u001b[1;33m\u001b[0m\u001b[0m\n\u001b[0m\u001b[0;32m      8\u001b[0m                                        \u001b[1;31m# and accumulates run times\u001b[0m\u001b[1;33m\u001b[0m\u001b[1;33m\u001b[0m\u001b[1;33m\u001b[0m\u001b[0m\n\u001b[0;32m      9\u001b[0m                 \u001b[1;31m# print average run times for input size n\u001b[0m\u001b[1;33m\u001b[0m\u001b[1;33m\u001b[0m\u001b[1;33m\u001b[0m\u001b[0m\n",
      "\u001b[1;32m<ipython-input-62-9517976620ae>\u001b[0m in \u001b[0;36mtiming\u001b[1;34m(func, n)\u001b[0m\n\u001b[0;32m      7\u001b[0m     \u001b[0mfuncInput\u001b[0m \u001b[1;33m=\u001b[0m \u001b[0mbuildInput\u001b[0m\u001b[1;33m(\u001b[0m\u001b[0mn\u001b[0m\u001b[1;33m)\u001b[0m\u001b[1;33m\u001b[0m\u001b[1;33m\u001b[0m\u001b[0m\n\u001b[0;32m      8\u001b[0m     \u001b[0mstart\u001b[0m \u001b[1;33m=\u001b[0m \u001b[0mtime\u001b[0m\u001b[1;33m.\u001b[0m\u001b[0mtime\u001b[0m\u001b[1;33m(\u001b[0m\u001b[1;33m)\u001b[0m\u001b[1;33m\u001b[0m\u001b[1;33m\u001b[0m\u001b[0m\n\u001b[1;32m----> 9\u001b[1;33m     \u001b[0mfunc\u001b[0m\u001b[1;33m(\u001b[0m\u001b[0mfuncInput\u001b[0m\u001b[1;33m(\u001b[0m\u001b[0mn\u001b[0m\u001b[1;33m)\u001b[0m\u001b[1;33m)\u001b[0m\u001b[1;33m\u001b[0m\u001b[1;33m\u001b[0m\u001b[0m\n\u001b[0m\u001b[0;32m     10\u001b[0m     \u001b[0mend\u001b[0m \u001b[1;33m=\u001b[0m \u001b[0mtime\u001b[0m\u001b[1;33m.\u001b[0m\u001b[0mtime\u001b[0m\u001b[1;33m(\u001b[0m\u001b[1;33m)\u001b[0m\u001b[1;33m\u001b[0m\u001b[1;33m\u001b[0m\u001b[0m\n\u001b[0;32m     11\u001b[0m     \u001b[1;32mreturn\u001b[0m \u001b[0mend\u001b[0m \u001b[1;33m-\u001b[0m \u001b[0mstart\u001b[0m\u001b[1;33m\u001b[0m\u001b[1;33m\u001b[0m\u001b[0m\n",
      "\u001b[1;31mTypeError\u001b[0m: 'int' object is not callable"
     ]
    }
   ],
   "source": [
    "timingAnalysis(power, 20000, 81000, 20000, 10)"
   ]
  },
  {
   "cell_type": "code",
   "execution_count": null,
   "metadata": {},
   "outputs": [],
   "source": []
  }
 ],
 "metadata": {
  "kernelspec": {
   "display_name": "Python 3",
   "language": "python",
   "name": "python3"
  },
  "language_info": {
   "codemirror_mode": {
    "name": "ipython",
    "version": 3
   },
   "file_extension": ".py",
   "mimetype": "text/x-python",
   "name": "python",
   "nbconvert_exporter": "python",
   "pygments_lexer": "ipython3",
   "version": "3.8.5"
  }
 },
 "nbformat": 4,
 "nbformat_minor": 4
}
