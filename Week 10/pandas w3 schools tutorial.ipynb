{
 "cells": [
  {
   "cell_type": "code",
   "execution_count": 4,
   "metadata": {},
   "outputs": [
    {
     "data": {
      "text/html": [
       "<div>\n",
       "<style scoped>\n",
       "    .dataframe tbody tr th:only-of-type {\n",
       "        vertical-align: middle;\n",
       "    }\n",
       "\n",
       "    .dataframe tbody tr th {\n",
       "        vertical-align: top;\n",
       "    }\n",
       "\n",
       "    .dataframe thead th {\n",
       "        text-align: right;\n",
       "    }\n",
       "</style>\n",
       "<table border=\"1\" class=\"dataframe\">\n",
       "  <thead>\n",
       "    <tr style=\"text-align: right;\">\n",
       "      <th></th>\n",
       "      <th>cars</th>\n",
       "      <th>passings</th>\n",
       "    </tr>\n",
       "  </thead>\n",
       "  <tbody>\n",
       "    <tr>\n",
       "      <th>0</th>\n",
       "      <td>BMW</td>\n",
       "      <td>3</td>\n",
       "    </tr>\n",
       "    <tr>\n",
       "      <th>1</th>\n",
       "      <td>Volvo</td>\n",
       "      <td>7</td>\n",
       "    </tr>\n",
       "    <tr>\n",
       "      <th>2</th>\n",
       "      <td>Ford</td>\n",
       "      <td>2</td>\n",
       "    </tr>\n",
       "  </tbody>\n",
       "</table>\n",
       "</div>"
      ],
      "text/plain": [
       "    cars  passings\n",
       "0    BMW         3\n",
       "1  Volvo         7\n",
       "2   Ford         2"
      ]
     },
     "execution_count": 4,
     "metadata": {},
     "output_type": "execute_result"
    }
   ],
   "source": [
    "import pandas\n",
    "\n",
    "mydataset = {\n",
    "    'cars': [\"BMW\", \"Volvo\", \"Ford\"],\n",
    "    'passings': [3, 7, 2]\n",
    "}\n",
    "\n",
    "myvar = pandas.DataFrame(mydataset)\n",
    "myvar"
   ]
  },
  {
   "cell_type": "code",
   "execution_count": 3,
   "metadata": {},
   "outputs": [
    {
     "name": "stdout",
     "output_type": "stream",
     "text": [
      "    cars  passings\n",
      "0    BMW         3\n",
      "1  Volvo         7\n",
      "2   Ford         2\n"
     ]
    }
   ],
   "source": [
    "print(myvar)"
   ]
  },
  {
   "cell_type": "code",
   "execution_count": 5,
   "metadata": {},
   "outputs": [
    {
     "name": "stdout",
     "output_type": "stream",
     "text": [
      "1.1.3\n"
     ]
    }
   ],
   "source": [
    "import pandas as pd\n",
    "print(pd.__version__)"
   ]
  },
  {
   "cell_type": "code",
   "execution_count": 6,
   "metadata": {},
   "outputs": [
    {
     "data": {
      "text/plain": [
       "0    1\n",
       "1    7\n",
       "2    2\n",
       "dtype: int64"
      ]
     },
     "execution_count": 6,
     "metadata": {},
     "output_type": "execute_result"
    }
   ],
   "source": [
    "a = [1, 7, 2]\n",
    "myvar = pd.Series(a)\n",
    "myvar"
   ]
  },
  {
   "cell_type": "code",
   "execution_count": 8,
   "metadata": {},
   "outputs": [
    {
     "data": {
      "text/plain": [
       "1"
      ]
     },
     "execution_count": 8,
     "metadata": {},
     "output_type": "execute_result"
    }
   ],
   "source": [
    "a[0]"
   ]
  },
  {
   "cell_type": "code",
   "execution_count": 10,
   "metadata": {},
   "outputs": [
    {
     "name": "stdout",
     "output_type": "stream",
     "text": [
      "1\n"
     ]
    }
   ],
   "source": [
    "print(myvar[0])"
   ]
  },
  {
   "cell_type": "code",
   "execution_count": 12,
   "metadata": {},
   "outputs": [
    {
     "data": {
      "text/plain": [
       "x    1\n",
       "y    2\n",
       "z    3\n",
       "dtype: int64"
      ]
     },
     "execution_count": 12,
     "metadata": {},
     "output_type": "execute_result"
    }
   ],
   "source": [
    "a = [1, 2, 3]\n",
    "myvar = pd.Series(a, index = [\"x\", \"y\", \"z\"])\n",
    "myvar"
   ]
  },
  {
   "cell_type": "code",
   "execution_count": 13,
   "metadata": {},
   "outputs": [
    {
     "data": {
      "text/plain": [
       "2"
      ]
     },
     "execution_count": 13,
     "metadata": {},
     "output_type": "execute_result"
    }
   ],
   "source": [
    "myvar[\"y\"]"
   ]
  },
  {
   "cell_type": "code",
   "execution_count": 16,
   "metadata": {},
   "outputs": [
    {
     "name": "stdout",
     "output_type": "stream",
     "text": [
      "Monday       1800\n",
      "Tuesday      1796\n",
      "Wednesday    2233\n",
      "dtype: int64\n"
     ]
    }
   ],
   "source": [
    "calories = {\"Monday\": 1800, \"Tuesday\": 1796, \"Wednesday\": 2233}\n",
    "myvar = pd.Series(calories)\n",
    "print(myvar)"
   ]
  },
  {
   "cell_type": "code",
   "execution_count": 19,
   "metadata": {},
   "outputs": [
    {
     "data": {
      "text/plain": [
       "Monday     1800\n",
       "Tuesday    1796\n",
       "dtype: int64"
      ]
     },
     "execution_count": 19,
     "metadata": {},
     "output_type": "execute_result"
    }
   ],
   "source": [
    "calories = {\"Monday\": 1800, \"Tuesday\": 1796, \"Wednesday\": 2233}\n",
    "myvar = pd.Series(calories, index = [\"Monday\", \"Tuesday\"])\n",
    "(myvar)"
   ]
  },
  {
   "cell_type": "code",
   "execution_count": 21,
   "metadata": {},
   "outputs": [
    {
     "data": {
      "text/html": [
       "<div>\n",
       "<style scoped>\n",
       "    .dataframe tbody tr th:only-of-type {\n",
       "        vertical-align: middle;\n",
       "    }\n",
       "\n",
       "    .dataframe tbody tr th {\n",
       "        vertical-align: top;\n",
       "    }\n",
       "\n",
       "    .dataframe thead th {\n",
       "        text-align: right;\n",
       "    }\n",
       "</style>\n",
       "<table border=\"1\" class=\"dataframe\">\n",
       "  <thead>\n",
       "    <tr style=\"text-align: right;\">\n",
       "      <th></th>\n",
       "      <th>Calories</th>\n",
       "      <th>Duration</th>\n",
       "    </tr>\n",
       "  </thead>\n",
       "  <tbody>\n",
       "    <tr>\n",
       "      <th>0</th>\n",
       "      <td>420</td>\n",
       "      <td>50</td>\n",
       "    </tr>\n",
       "    <tr>\n",
       "      <th>1</th>\n",
       "      <td>380</td>\n",
       "      <td>40</td>\n",
       "    </tr>\n",
       "    <tr>\n",
       "      <th>2</th>\n",
       "      <td>390</td>\n",
       "      <td>45</td>\n",
       "    </tr>\n",
       "  </tbody>\n",
       "</table>\n",
       "</div>"
      ],
      "text/plain": [
       "   Calories  Duration\n",
       "0       420        50\n",
       "1       380        40\n",
       "2       390        45"
      ]
     },
     "execution_count": 21,
     "metadata": {},
     "output_type": "execute_result"
    }
   ],
   "source": [
    "data = {\n",
    "    \"Calories\": [420, 380, 390],\n",
    "    \"Duration\": [50, 40, 45]\n",
    "}\n",
    "\n",
    "df = pd.DataFrame(data)\n",
    "df"
   ]
  },
  {
   "cell_type": "code",
   "execution_count": 22,
   "metadata": {},
   "outputs": [
    {
     "name": "stdout",
     "output_type": "stream",
     "text": [
      "Calories    420\n",
      "Duration     50\n",
      "Name: 0, dtype: int64\n"
     ]
    }
   ],
   "source": [
    "print(df.loc[0])"
   ]
  },
  {
   "cell_type": "code",
   "execution_count": 23,
   "metadata": {},
   "outputs": [
    {
     "data": {
      "text/plain": [
       "Calories    420\n",
       "Duration     50\n",
       "Name: 0, dtype: int64"
      ]
     },
     "execution_count": 23,
     "metadata": {},
     "output_type": "execute_result"
    }
   ],
   "source": [
    "df.loc[0]    # THis returns a Pandas Series"
   ]
  },
  {
   "cell_type": "code",
   "execution_count": 25,
   "metadata": {},
   "outputs": [
    {
     "data": {
      "text/html": [
       "<div>\n",
       "<style scoped>\n",
       "    .dataframe tbody tr th:only-of-type {\n",
       "        vertical-align: middle;\n",
       "    }\n",
       "\n",
       "    .dataframe tbody tr th {\n",
       "        vertical-align: top;\n",
       "    }\n",
       "\n",
       "    .dataframe thead th {\n",
       "        text-align: right;\n",
       "    }\n",
       "</style>\n",
       "<table border=\"1\" class=\"dataframe\">\n",
       "  <thead>\n",
       "    <tr style=\"text-align: right;\">\n",
       "      <th></th>\n",
       "      <th>Calories</th>\n",
       "      <th>Duration</th>\n",
       "    </tr>\n",
       "  </thead>\n",
       "  <tbody>\n",
       "    <tr>\n",
       "      <th>0</th>\n",
       "      <td>420</td>\n",
       "      <td>50</td>\n",
       "    </tr>\n",
       "    <tr>\n",
       "      <th>1</th>\n",
       "      <td>380</td>\n",
       "      <td>40</td>\n",
       "    </tr>\n",
       "  </tbody>\n",
       "</table>\n",
       "</div>"
      ],
      "text/plain": [
       "   Calories  Duration\n",
       "0       420        50\n",
       "1       380        40"
      ]
     },
     "execution_count": 25,
     "metadata": {},
     "output_type": "execute_result"
    }
   ],
   "source": [
    "df.loc[[0,1]]"
   ]
  },
  {
   "cell_type": "code",
   "execution_count": 26,
   "metadata": {},
   "outputs": [
    {
     "data": {
      "text/html": [
       "<div>\n",
       "<style scoped>\n",
       "    .dataframe tbody tr th:only-of-type {\n",
       "        vertical-align: middle;\n",
       "    }\n",
       "\n",
       "    .dataframe tbody tr th {\n",
       "        vertical-align: top;\n",
       "    }\n",
       "\n",
       "    .dataframe thead th {\n",
       "        text-align: right;\n",
       "    }\n",
       "</style>\n",
       "<table border=\"1\" class=\"dataframe\">\n",
       "  <thead>\n",
       "    <tr style=\"text-align: right;\">\n",
       "      <th></th>\n",
       "      <th>Calories</th>\n",
       "      <th>Duration</th>\n",
       "    </tr>\n",
       "  </thead>\n",
       "  <tbody>\n",
       "    <tr>\n",
       "      <th>Day 1</th>\n",
       "      <td>420</td>\n",
       "      <td>50</td>\n",
       "    </tr>\n",
       "    <tr>\n",
       "      <th>Day 2</th>\n",
       "      <td>380</td>\n",
       "      <td>40</td>\n",
       "    </tr>\n",
       "    <tr>\n",
       "      <th>Day 3</th>\n",
       "      <td>390</td>\n",
       "      <td>45</td>\n",
       "    </tr>\n",
       "  </tbody>\n",
       "</table>\n",
       "</div>"
      ],
      "text/plain": [
       "       Calories  Duration\n",
       "Day 1       420        50\n",
       "Day 2       380        40\n",
       "Day 3       390        45"
      ]
     },
     "execution_count": 26,
     "metadata": {},
     "output_type": "execute_result"
    }
   ],
   "source": [
    "data = {\n",
    "    \"Calories\": [420, 380, 390],\n",
    "    \"Duration\": [50, 40, 45]\n",
    "}\n",
    "\n",
    "df = pd.DataFrame(data, index = [\"Day 1\", \"Day 2\", \"Day 3\"])\n",
    "\n",
    "df"
   ]
  },
  {
   "cell_type": "code",
   "execution_count": 27,
   "metadata": {},
   "outputs": [
    {
     "data": {
      "text/plain": [
       "Calories    380\n",
       "Duration     40\n",
       "Name: Day 2, dtype: int64"
      ]
     },
     "execution_count": 27,
     "metadata": {},
     "output_type": "execute_result"
    }
   ],
   "source": [
    "df.loc[\"Day 2\"]"
   ]
  },
  {
   "cell_type": "code",
   "execution_count": 28,
   "metadata": {},
   "outputs": [
    {
     "name": "stdout",
     "output_type": "stream",
     "text": [
      "     total_bill   tip     sex smoker   day    time  size\n",
      "0         16.99  1.01  Female     No   Sun  Dinner     2\n",
      "1         10.34  1.66    Male     No   Sun  Dinner     3\n",
      "2         21.01  3.50    Male     No   Sun  Dinner     3\n",
      "3         23.68  3.31    Male     No   Sun  Dinner     2\n",
      "4         24.59  3.61  Female     No   Sun  Dinner     4\n",
      "..          ...   ...     ...    ...   ...     ...   ...\n",
      "239       29.03  5.92    Male     No   Sat  Dinner     3\n",
      "240       27.18  2.00  Female    Yes   Sat  Dinner     2\n",
      "241       22.67  2.00    Male    Yes   Sat  Dinner     2\n",
      "242       17.82  1.75    Male     No   Sat  Dinner     2\n",
      "243       18.78  3.00  Female     No  Thur  Dinner     2\n",
      "\n",
      "[244 rows x 7 columns]\n"
     ]
    }
   ],
   "source": [
    "df = pd.read_csv('tips.csv')\n",
    "print(df)\n",
    "# only prints first 5 and last 5 rows of DataFrame"
   ]
  },
  {
   "cell_type": "code",
   "execution_count": 30,
   "metadata": {},
   "outputs": [
    {
     "name": "stdout",
     "output_type": "stream",
     "text": [
      "     total_bill    tip     sex smoker   day    time  size\n",
      "0         16.99   1.01  Female     No   Sun  Dinner     2\n",
      "1         10.34   1.66    Male     No   Sun  Dinner     3\n",
      "2         21.01   3.50    Male     No   Sun  Dinner     3\n",
      "3         23.68   3.31    Male     No   Sun  Dinner     2\n",
      "4         24.59   3.61  Female     No   Sun  Dinner     4\n",
      "5         25.29   4.71    Male     No   Sun  Dinner     4\n",
      "6          8.77   2.00    Male     No   Sun  Dinner     2\n",
      "7         26.88   3.12    Male     No   Sun  Dinner     4\n",
      "8         15.04   1.96    Male     No   Sun  Dinner     2\n",
      "9         14.78   3.23    Male     No   Sun  Dinner     2\n",
      "10        10.27   1.71    Male     No   Sun  Dinner     2\n",
      "11        35.26   5.00  Female     No   Sun  Dinner     4\n",
      "12        15.42   1.57    Male     No   Sun  Dinner     2\n",
      "13        18.43   3.00    Male     No   Sun  Dinner     4\n",
      "14        14.83   3.02  Female     No   Sun  Dinner     2\n",
      "15        21.58   3.92    Male     No   Sun  Dinner     2\n",
      "16        10.33   1.67  Female     No   Sun  Dinner     3\n",
      "17        16.29   3.71    Male     No   Sun  Dinner     3\n",
      "18        16.97   3.50  Female     No   Sun  Dinner     3\n",
      "19        20.65   3.35    Male     No   Sat  Dinner     3\n",
      "20        17.92   4.08    Male     No   Sat  Dinner     2\n",
      "21        20.29   2.75  Female     No   Sat  Dinner     2\n",
      "22        15.77   2.23  Female     No   Sat  Dinner     2\n",
      "23        39.42   7.58    Male     No   Sat  Dinner     4\n",
      "24        19.82   3.18    Male     No   Sat  Dinner     2\n",
      "25        17.81   2.34    Male     No   Sat  Dinner     4\n",
      "26        13.37   2.00    Male     No   Sat  Dinner     2\n",
      "27        12.69   2.00    Male     No   Sat  Dinner     2\n",
      "28        21.70   4.30    Male     No   Sat  Dinner     2\n",
      "29        19.65   3.00  Female     No   Sat  Dinner     2\n",
      "30         9.55   1.45    Male     No   Sat  Dinner     2\n",
      "31        18.35   2.50    Male     No   Sat  Dinner     4\n",
      "32        15.06   3.00  Female     No   Sat  Dinner     2\n",
      "33        20.69   2.45  Female     No   Sat  Dinner     4\n",
      "34        17.78   3.27    Male     No   Sat  Dinner     2\n",
      "35        24.06   3.60    Male     No   Sat  Dinner     3\n",
      "36        16.31   2.00    Male     No   Sat  Dinner     3\n",
      "37        16.93   3.07  Female     No   Sat  Dinner     3\n",
      "38        18.69   2.31    Male     No   Sat  Dinner     3\n",
      "39        31.27   5.00    Male     No   Sat  Dinner     3\n",
      "40        16.04   2.24    Male     No   Sat  Dinner     3\n",
      "41        17.46   2.54    Male     No   Sun  Dinner     2\n",
      "42        13.94   3.06    Male     No   Sun  Dinner     2\n",
      "43         9.68   1.32    Male     No   Sun  Dinner     2\n",
      "44        30.40   5.60    Male     No   Sun  Dinner     4\n",
      "45        18.29   3.00    Male     No   Sun  Dinner     2\n",
      "46        22.23   5.00    Male     No   Sun  Dinner     2\n",
      "47        32.40   6.00    Male     No   Sun  Dinner     4\n",
      "48        28.55   2.05    Male     No   Sun  Dinner     3\n",
      "49        18.04   3.00    Male     No   Sun  Dinner     2\n",
      "50        12.54   2.50    Male     No   Sun  Dinner     2\n",
      "51        10.29   2.60  Female     No   Sun  Dinner     2\n",
      "52        34.81   5.20  Female     No   Sun  Dinner     4\n",
      "53         9.94   1.56    Male     No   Sun  Dinner     2\n",
      "54        25.56   4.34    Male     No   Sun  Dinner     4\n",
      "55        19.49   3.51    Male     No   Sun  Dinner     2\n",
      "56        38.01   3.00    Male    Yes   Sat  Dinner     4\n",
      "57        26.41   1.50  Female     No   Sat  Dinner     2\n",
      "58        11.24   1.76    Male    Yes   Sat  Dinner     2\n",
      "59        48.27   6.73    Male     No   Sat  Dinner     4\n",
      "60        20.29   3.21    Male    Yes   Sat  Dinner     2\n",
      "61        13.81   2.00    Male    Yes   Sat  Dinner     2\n",
      "62        11.02   1.98    Male    Yes   Sat  Dinner     2\n",
      "63        18.29   3.76    Male    Yes   Sat  Dinner     4\n",
      "64        17.59   2.64    Male     No   Sat  Dinner     3\n",
      "65        20.08   3.15    Male     No   Sat  Dinner     3\n",
      "66        16.45   2.47  Female     No   Sat  Dinner     2\n",
      "67         3.07   1.00  Female    Yes   Sat  Dinner     1\n",
      "68        20.23   2.01    Male     No   Sat  Dinner     2\n",
      "69        15.01   2.09    Male    Yes   Sat  Dinner     2\n",
      "70        12.02   1.97    Male     No   Sat  Dinner     2\n",
      "71        17.07   3.00  Female     No   Sat  Dinner     3\n",
      "72        26.86   3.14  Female    Yes   Sat  Dinner     2\n",
      "73        25.28   5.00  Female    Yes   Sat  Dinner     2\n",
      "74        14.73   2.20  Female     No   Sat  Dinner     2\n",
      "75        10.51   1.25    Male     No   Sat  Dinner     2\n",
      "76        17.92   3.08    Male    Yes   Sat  Dinner     2\n",
      "77        27.20   4.00    Male     No  Thur   Lunch     4\n",
      "78        22.76   3.00    Male     No  Thur   Lunch     2\n",
      "79        17.29   2.71    Male     No  Thur   Lunch     2\n",
      "80        19.44   3.00    Male    Yes  Thur   Lunch     2\n",
      "81        16.66   3.40    Male     No  Thur   Lunch     2\n",
      "82        10.07   1.83  Female     No  Thur   Lunch     1\n",
      "83        32.68   5.00    Male    Yes  Thur   Lunch     2\n",
      "84        15.98   2.03    Male     No  Thur   Lunch     2\n",
      "85        34.83   5.17  Female     No  Thur   Lunch     4\n",
      "86        13.03   2.00    Male     No  Thur   Lunch     2\n",
      "87        18.28   4.00    Male     No  Thur   Lunch     2\n",
      "88        24.71   5.85    Male     No  Thur   Lunch     2\n",
      "89        21.16   3.00    Male     No  Thur   Lunch     2\n",
      "90        28.97   3.00    Male    Yes   Fri  Dinner     2\n",
      "91        22.49   3.50    Male     No   Fri  Dinner     2\n",
      "92         5.75   1.00  Female    Yes   Fri  Dinner     2\n",
      "93        16.32   4.30  Female    Yes   Fri  Dinner     2\n",
      "94        22.75   3.25  Female     No   Fri  Dinner     2\n",
      "95        40.17   4.73    Male    Yes   Fri  Dinner     4\n",
      "96        27.28   4.00    Male    Yes   Fri  Dinner     2\n",
      "97        12.03   1.50    Male    Yes   Fri  Dinner     2\n",
      "98        21.01   3.00    Male    Yes   Fri  Dinner     2\n",
      "99        12.46   1.50    Male     No   Fri  Dinner     2\n",
      "100       11.35   2.50  Female    Yes   Fri  Dinner     2\n",
      "101       15.38   3.00  Female    Yes   Fri  Dinner     2\n",
      "102       44.30   2.50  Female    Yes   Sat  Dinner     3\n",
      "103       22.42   3.48  Female    Yes   Sat  Dinner     2\n",
      "104       20.92   4.08  Female     No   Sat  Dinner     2\n",
      "105       15.36   1.64    Male    Yes   Sat  Dinner     2\n",
      "106       20.49   4.06    Male    Yes   Sat  Dinner     2\n",
      "107       25.21   4.29    Male    Yes   Sat  Dinner     2\n",
      "108       18.24   3.76    Male     No   Sat  Dinner     2\n",
      "109       14.31   4.00  Female    Yes   Sat  Dinner     2\n",
      "110       14.00   3.00    Male     No   Sat  Dinner     2\n",
      "111        7.25   1.00  Female     No   Sat  Dinner     1\n",
      "112       38.07   4.00    Male     No   Sun  Dinner     3\n",
      "113       23.95   2.55    Male     No   Sun  Dinner     2\n",
      "114       25.71   4.00  Female     No   Sun  Dinner     3\n",
      "115       17.31   3.50  Female     No   Sun  Dinner     2\n",
      "116       29.93   5.07    Male     No   Sun  Dinner     4\n",
      "117       10.65   1.50  Female     No  Thur   Lunch     2\n",
      "118       12.43   1.80  Female     No  Thur   Lunch     2\n",
      "119       24.08   2.92  Female     No  Thur   Lunch     4\n",
      "120       11.69   2.31    Male     No  Thur   Lunch     2\n",
      "121       13.42   1.68  Female     No  Thur   Lunch     2\n",
      "122       14.26   2.50    Male     No  Thur   Lunch     2\n",
      "123       15.95   2.00    Male     No  Thur   Lunch     2\n",
      "124       12.48   2.52  Female     No  Thur   Lunch     2\n",
      "125       29.80   4.20  Female     No  Thur   Lunch     6\n",
      "126        8.52   1.48    Male     No  Thur   Lunch     2\n",
      "127       14.52   2.00  Female     No  Thur   Lunch     2\n",
      "128       11.38   2.00  Female     No  Thur   Lunch     2\n",
      "129       22.82   2.18    Male     No  Thur   Lunch     3\n",
      "130       19.08   1.50    Male     No  Thur   Lunch     2\n",
      "131       20.27   2.83  Female     No  Thur   Lunch     2\n",
      "132       11.17   1.50  Female     No  Thur   Lunch     2\n",
      "133       12.26   2.00  Female     No  Thur   Lunch     2\n",
      "134       18.26   3.25  Female     No  Thur   Lunch     2\n",
      "135        8.51   1.25  Female     No  Thur   Lunch     2\n",
      "136       10.33   2.00  Female     No  Thur   Lunch     2\n",
      "137       14.15   2.00  Female     No  Thur   Lunch     2\n",
      "138       16.00   2.00    Male    Yes  Thur   Lunch     2\n",
      "139       13.16   2.75  Female     No  Thur   Lunch     2\n",
      "140       17.47   3.50  Female     No  Thur   Lunch     2\n",
      "141       34.30   6.70    Male     No  Thur   Lunch     6\n",
      "142       41.19   5.00    Male     No  Thur   Lunch     5\n",
      "143       27.05   5.00  Female     No  Thur   Lunch     6\n",
      "144       16.43   2.30  Female     No  Thur   Lunch     2\n",
      "145        8.35   1.50  Female     No  Thur   Lunch     2\n",
      "146       18.64   1.36  Female     No  Thur   Lunch     3\n",
      "147       11.87   1.63  Female     No  Thur   Lunch     2\n",
      "148        9.78   1.73    Male     No  Thur   Lunch     2\n",
      "149        7.51   2.00    Male     No  Thur   Lunch     2\n",
      "150       14.07   2.50    Male     No   Sun  Dinner     2\n",
      "151       13.13   2.00    Male     No   Sun  Dinner     2\n",
      "152       17.26   2.74    Male     No   Sun  Dinner     3\n",
      "153       24.55   2.00    Male     No   Sun  Dinner     4\n",
      "154       19.77   2.00    Male     No   Sun  Dinner     4\n",
      "155       29.85   5.14  Female     No   Sun  Dinner     5\n",
      "156       48.17   5.00    Male     No   Sun  Dinner     6\n",
      "157       25.00   3.75  Female     No   Sun  Dinner     4\n",
      "158       13.39   2.61  Female     No   Sun  Dinner     2\n",
      "159       16.49   2.00    Male     No   Sun  Dinner     4\n",
      "160       21.50   3.50    Male     No   Sun  Dinner     4\n",
      "161       12.66   2.50    Male     No   Sun  Dinner     2\n",
      "162       16.21   2.00  Female     No   Sun  Dinner     3\n",
      "163       13.81   2.00    Male     No   Sun  Dinner     2\n",
      "164       17.51   3.00  Female    Yes   Sun  Dinner     2\n",
      "165       24.52   3.48    Male     No   Sun  Dinner     3\n",
      "166       20.76   2.24    Male     No   Sun  Dinner     2\n",
      "167       31.71   4.50    Male     No   Sun  Dinner     4\n",
      "168       10.59   1.61  Female    Yes   Sat  Dinner     2\n",
      "169       10.63   2.00  Female    Yes   Sat  Dinner     2\n",
      "170       50.81  10.00    Male    Yes   Sat  Dinner     3\n",
      "171       15.81   3.16    Male    Yes   Sat  Dinner     2\n",
      "172        7.25   5.15    Male    Yes   Sun  Dinner     2\n",
      "173       31.85   3.18    Male    Yes   Sun  Dinner     2\n",
      "174       16.82   4.00    Male    Yes   Sun  Dinner     2\n",
      "175       32.90   3.11    Male    Yes   Sun  Dinner     2\n",
      "176       17.89   2.00    Male    Yes   Sun  Dinner     2\n",
      "177       14.48   2.00    Male    Yes   Sun  Dinner     2\n",
      "178        9.60   4.00  Female    Yes   Sun  Dinner     2\n",
      "179       34.63   3.55    Male    Yes   Sun  Dinner     2\n",
      "180       34.65   3.68    Male    Yes   Sun  Dinner     4\n",
      "181       23.33   5.65    Male    Yes   Sun  Dinner     2\n",
      "182       45.35   3.50    Male    Yes   Sun  Dinner     3\n",
      "183       23.17   6.50    Male    Yes   Sun  Dinner     4\n",
      "184       40.55   3.00    Male    Yes   Sun  Dinner     2\n",
      "185       20.69   5.00    Male     No   Sun  Dinner     5\n",
      "186       20.90   3.50  Female    Yes   Sun  Dinner     3\n",
      "187       30.46   2.00    Male    Yes   Sun  Dinner     5\n",
      "188       18.15   3.50  Female    Yes   Sun  Dinner     3\n",
      "189       23.10   4.00    Male    Yes   Sun  Dinner     3\n",
      "190       15.69   1.50    Male    Yes   Sun  Dinner     2\n",
      "191       19.81   4.19  Female    Yes  Thur   Lunch     2\n",
      "192       28.44   2.56    Male    Yes  Thur   Lunch     2\n",
      "193       15.48   2.02    Male    Yes  Thur   Lunch     2\n",
      "194       16.58   4.00    Male    Yes  Thur   Lunch     2\n",
      "195        7.56   1.44    Male     No  Thur   Lunch     2\n",
      "196       10.34   2.00    Male    Yes  Thur   Lunch     2\n",
      "197       43.11   5.00  Female    Yes  Thur   Lunch     4\n",
      "198       13.00   2.00  Female    Yes  Thur   Lunch     2\n",
      "199       13.51   2.00    Male    Yes  Thur   Lunch     2\n",
      "200       18.71   4.00    Male    Yes  Thur   Lunch     3\n",
      "201       12.74   2.01  Female    Yes  Thur   Lunch     2\n",
      "202       13.00   2.00  Female    Yes  Thur   Lunch     2\n",
      "203       16.40   2.50  Female    Yes  Thur   Lunch     2\n",
      "204       20.53   4.00    Male    Yes  Thur   Lunch     4\n",
      "205       16.47   3.23  Female    Yes  Thur   Lunch     3\n",
      "206       26.59   3.41    Male    Yes   Sat  Dinner     3\n",
      "207       38.73   3.00    Male    Yes   Sat  Dinner     4\n",
      "208       24.27   2.03    Male    Yes   Sat  Dinner     2\n",
      "209       12.76   2.23  Female    Yes   Sat  Dinner     2\n",
      "210       30.06   2.00    Male    Yes   Sat  Dinner     3\n",
      "211       25.89   5.16    Male    Yes   Sat  Dinner     4\n",
      "212       48.33   9.00    Male     No   Sat  Dinner     4\n",
      "213       13.27   2.50  Female    Yes   Sat  Dinner     2\n",
      "214       28.17   6.50  Female    Yes   Sat  Dinner     3\n",
      "215       12.90   1.10  Female    Yes   Sat  Dinner     2\n",
      "216       28.15   3.00    Male    Yes   Sat  Dinner     5\n",
      "217       11.59   1.50    Male    Yes   Sat  Dinner     2\n",
      "218        7.74   1.44    Male    Yes   Sat  Dinner     2\n",
      "219       30.14   3.09  Female    Yes   Sat  Dinner     4\n",
      "220       12.16   2.20    Male    Yes   Fri   Lunch     2\n",
      "221       13.42   3.48  Female    Yes   Fri   Lunch     2\n",
      "222        8.58   1.92    Male    Yes   Fri   Lunch     1\n",
      "223       15.98   3.00  Female     No   Fri   Lunch     3\n",
      "224       13.42   1.58    Male    Yes   Fri   Lunch     2\n",
      "225       16.27   2.50  Female    Yes   Fri   Lunch     2\n",
      "226       10.09   2.00  Female    Yes   Fri   Lunch     2\n",
      "227       20.45   3.00    Male     No   Sat  Dinner     4\n",
      "228       13.28   2.72    Male     No   Sat  Dinner     2\n",
      "229       22.12   2.88  Female    Yes   Sat  Dinner     2\n",
      "230       24.01   2.00    Male    Yes   Sat  Dinner     4\n",
      "231       15.69   3.00    Male    Yes   Sat  Dinner     3\n",
      "232       11.61   3.39    Male     No   Sat  Dinner     2\n",
      "233       10.77   1.47    Male     No   Sat  Dinner     2\n",
      "234       15.53   3.00    Male    Yes   Sat  Dinner     2\n",
      "235       10.07   1.25    Male     No   Sat  Dinner     2\n",
      "236       12.60   1.00    Male    Yes   Sat  Dinner     2\n",
      "237       32.83   1.17    Male    Yes   Sat  Dinner     2\n",
      "238       35.83   4.67  Female     No   Sat  Dinner     3\n",
      "239       29.03   5.92    Male     No   Sat  Dinner     3\n",
      "240       27.18   2.00  Female    Yes   Sat  Dinner     2\n",
      "241       22.67   2.00    Male    Yes   Sat  Dinner     2\n",
      "242       17.82   1.75    Male     No   Sat  Dinner     2\n",
      "243       18.78   3.00  Female     No  Thur  Dinner     2\n"
     ]
    }
   ],
   "source": [
    "print(df.to_string()) # prints entire DataFrame"
   ]
  },
  {
   "cell_type": "code",
   "execution_count": 32,
   "metadata": {},
   "outputs": [
    {
     "name": "stdout",
     "output_type": "stream",
     "text": [
      "   total_bill   tip     sex smoker  day    time  size\n",
      "0       16.99  1.01  Female     No  Sun  Dinner     2\n",
      "1       10.34  1.66    Male     No  Sun  Dinner     3\n",
      "2       21.01  3.50    Male     No  Sun  Dinner     3\n",
      "3       23.68  3.31    Male     No  Sun  Dinner     2\n",
      "4       24.59  3.61  Female     No  Sun  Dinner     4\n",
      "5       25.29  4.71    Male     No  Sun  Dinner     4\n",
      "6        8.77  2.00    Male     No  Sun  Dinner     2\n",
      "7       26.88  3.12    Male     No  Sun  Dinner     4\n",
      "8       15.04  1.96    Male     No  Sun  Dinner     2\n",
      "9       14.78  3.23    Male     No  Sun  Dinner     2\n"
     ]
    }
   ],
   "source": [
    "print(df.head(10))"
   ]
  },
  {
   "cell_type": "code",
   "execution_count": 33,
   "metadata": {},
   "outputs": [
    {
     "name": "stdout",
     "output_type": "stream",
     "text": [
      "     total_bill   tip     sex smoker   day    time  size\n",
      "234       15.53  3.00    Male    Yes   Sat  Dinner     2\n",
      "235       10.07  1.25    Male     No   Sat  Dinner     2\n",
      "236       12.60  1.00    Male    Yes   Sat  Dinner     2\n",
      "237       32.83  1.17    Male    Yes   Sat  Dinner     2\n",
      "238       35.83  4.67  Female     No   Sat  Dinner     3\n",
      "239       29.03  5.92    Male     No   Sat  Dinner     3\n",
      "240       27.18  2.00  Female    Yes   Sat  Dinner     2\n",
      "241       22.67  2.00    Male    Yes   Sat  Dinner     2\n",
      "242       17.82  1.75    Male     No   Sat  Dinner     2\n",
      "243       18.78  3.00  Female     No  Thur  Dinner     2\n"
     ]
    }
   ],
   "source": [
    "print(df.tail(10))"
   ]
  },
  {
   "cell_type": "code",
   "execution_count": 34,
   "metadata": {},
   "outputs": [
    {
     "name": "stdout",
     "output_type": "stream",
     "text": [
      "<class 'pandas.core.frame.DataFrame'>\n",
      "RangeIndex: 244 entries, 0 to 243\n",
      "Data columns (total 7 columns):\n",
      " #   Column      Non-Null Count  Dtype  \n",
      "---  ------      --------------  -----  \n",
      " 0   total_bill  244 non-null    float64\n",
      " 1   tip         244 non-null    float64\n",
      " 2   sex         244 non-null    object \n",
      " 3   smoker      244 non-null    object \n",
      " 4   day         244 non-null    object \n",
      " 5   time        244 non-null    object \n",
      " 6   size        244 non-null    int64  \n",
      "dtypes: float64(2), int64(1), object(4)\n",
      "memory usage: 13.5+ KB\n",
      "None\n"
     ]
    }
   ],
   "source": [
    "print(df.info())"
   ]
  },
  {
   "cell_type": "code",
   "execution_count": 36,
   "metadata": {},
   "outputs": [
    {
     "name": "stdout",
     "output_type": "stream",
     "text": [
      "     Duration  Pulse  Maxpulse  Calories\n",
      "0          60    110       130     409.1\n",
      "1          60    117       145     479.0\n",
      "2          60    103       135     340.0\n",
      "3          45    109       175     282.4\n",
      "4          45    117       148     406.0\n",
      "..        ...    ...       ...       ...\n",
      "164        60    105       140     290.8\n",
      "165        60    110       145     300.0\n",
      "166        60    115       145     310.2\n",
      "167        75    120       150     320.4\n",
      "168        75    125       150     330.4\n",
      "\n",
      "[169 rows x 4 columns]\n"
     ]
    }
   ],
   "source": [
    "df = pd.read_csv('data.csv')\n",
    "print(df)"
   ]
  },
  {
   "cell_type": "code",
   "execution_count": 38,
   "metadata": {},
   "outputs": [
    {
     "name": "stdout",
     "output_type": "stream",
     "text": [
      "<class 'pandas.core.frame.DataFrame'>\n",
      "RangeIndex: 169 entries, 0 to 168\n",
      "Data columns (total 4 columns):\n",
      " #   Column    Non-Null Count  Dtype  \n",
      "---  ------    --------------  -----  \n",
      " 0   Duration  169 non-null    int64  \n",
      " 1   Pulse     169 non-null    int64  \n",
      " 2   Maxpulse  169 non-null    int64  \n",
      " 3   Calories  164 non-null    float64\n",
      "dtypes: float64(1), int64(3)\n",
      "memory usage: 5.4 KB\n",
      "None\n"
     ]
    }
   ],
   "source": [
    "print(df.info())"
   ]
  },
  {
   "cell_type": "code",
   "execution_count": 39,
   "metadata": {},
   "outputs": [
    {
     "name": "stdout",
     "output_type": "stream",
     "text": [
      "     Duration  Pulse  Maxpulse  Calories\n",
      "0          60    110       130     409.1\n",
      "1          60    117       145     479.0\n",
      "2          60    103       135     340.0\n",
      "3          45    109       175     282.4\n",
      "4          45    117       148     406.0\n",
      "5          60    102       127     300.0\n",
      "6          60    110       136     374.0\n",
      "7          45    104       134     253.3\n",
      "8          30    109       133     195.1\n",
      "9          60     98       124     269.0\n",
      "10         60    103       147     329.3\n",
      "11         60    100       120     250.7\n",
      "12         60    106       128     345.3\n",
      "13         60    104       132     379.3\n",
      "14         60     98       123     275.0\n",
      "15         60     98       120     215.2\n",
      "16         60    100       120     300.0\n",
      "18         60    103       123     323.0\n",
      "19         45     97       125     243.0\n",
      "20         60    108       131     364.2\n",
      "21         45    100       119     282.0\n",
      "22         60    130       101     300.0\n",
      "23         45    105       132     246.0\n",
      "24         60    102       126     334.5\n",
      "25         60    100       120     250.0\n",
      "26         60     92       118     241.0\n",
      "28         60    100       132     280.0\n",
      "29         60    102       129     380.3\n",
      "30         60     92       115     243.0\n",
      "31         45     90       112     180.1\n",
      "32         60    101       124     299.0\n",
      "33         60     93       113     223.0\n",
      "34         60    107       136     361.0\n",
      "35         60    114       140     415.0\n",
      "36         60    102       127     300.0\n",
      "37         60    100       120     300.0\n",
      "38         60    100       120     300.0\n",
      "39         45    104       129     266.0\n",
      "40         45     90       112     180.1\n",
      "41         60     98       126     286.0\n",
      "42         60    100       122     329.4\n",
      "43         60    111       138     400.0\n",
      "44         60    111       131     397.0\n",
      "45         60     99       119     273.0\n",
      "46         60    109       153     387.6\n",
      "47         45    111       136     300.0\n",
      "48         45    108       129     298.0\n",
      "49         60    111       139     397.6\n",
      "50         60    107       136     380.2\n",
      "51         80    123       146     643.1\n",
      "52         60    106       130     263.0\n",
      "53         60    118       151     486.0\n",
      "54         30    136       175     238.0\n",
      "55         60    121       146     450.7\n",
      "56         60    118       121     413.0\n",
      "57         45    115       144     305.0\n",
      "58         20    153       172     226.4\n",
      "59         45    123       152     321.0\n",
      "60        210    108       160    1376.0\n",
      "61        160    110       137    1034.4\n",
      "62        160    109       135     853.0\n",
      "63         45    118       141     341.0\n",
      "64         20    110       130     131.4\n",
      "65        180     90       130     800.4\n",
      "66        150    105       135     873.4\n",
      "67        150    107       130     816.0\n",
      "68         20    106       136     110.4\n",
      "69        300    108       143    1500.2\n",
      "70        150     97       129    1115.0\n",
      "71         60    109       153     387.6\n",
      "72         90    100       127     700.0\n",
      "73        150     97       127     953.2\n",
      "74         45    114       146     304.0\n",
      "75         90     98       125     563.2\n",
      "76         45    105       134     251.0\n",
      "77         45    110       141     300.0\n",
      "78        120    100       130     500.4\n",
      "79        270    100       131    1729.0\n",
      "80         30    159       182     319.2\n",
      "81         45    149       169     344.0\n",
      "82         30    103       139     151.1\n",
      "83        120    100       130     500.0\n",
      "84         45    100       120     225.3\n",
      "85         30    151       170     300.0\n",
      "86         45    102       136     234.0\n",
      "87        120    100       157    1000.1\n",
      "88         45    129       103     242.0\n",
      "89         20     83       107      50.3\n",
      "90        180    101       127     600.1\n",
      "92         30     90       107     105.3\n",
      "93         15     80       100      50.5\n",
      "94         20    150       171     127.4\n",
      "95         20    151       168     229.4\n",
      "96         30     95       128     128.2\n",
      "97         25    152       168     244.2\n",
      "98         30    109       131     188.2\n",
      "99         90     93       124     604.1\n",
      "100        20     95       112      77.7\n",
      "101        90     90       110     500.0\n",
      "102        90     90       100     500.0\n",
      "103        90     90       100     500.4\n",
      "104        30     92       108      92.7\n",
      "105        30     93       128     124.0\n",
      "106       180     90       120     800.3\n",
      "107        30     90       120      86.2\n",
      "108        90     90       120     500.3\n",
      "109       210    137       184    1860.4\n",
      "110        60    102       124     325.2\n",
      "111        45    107       124     275.0\n",
      "112        15    124       139     124.2\n",
      "113        45    100       120     225.3\n",
      "114        60    108       131     367.6\n",
      "115        60    108       151     351.7\n",
      "116        60    116       141     443.0\n",
      "117        60     97       122     277.4\n",
      "119        60    103       124     332.7\n",
      "120        30    112       137     193.9\n",
      "121        45    100       120     100.7\n",
      "122        60    119       169     336.7\n",
      "123        60    107       127     344.9\n",
      "124        60    111       151     368.5\n",
      "125        60     98       122     271.0\n",
      "126        60     97       124     275.3\n",
      "127        60    109       127     382.0\n",
      "128        90     99       125     466.4\n",
      "129        60    114       151     384.0\n",
      "130        60    104       134     342.5\n",
      "131        60    107       138     357.5\n",
      "132        60    103       133     335.0\n",
      "133        60    106       132     327.5\n",
      "134        60    103       136     339.0\n",
      "135        20    136       156     189.0\n",
      "136        45    117       143     317.7\n",
      "137        45    115       137     318.0\n",
      "138        45    113       138     308.0\n",
      "139        20    141       162     222.4\n",
      "140        60    108       135     390.0\n",
      "142        45    100       120     250.4\n",
      "143        45    122       149     335.4\n",
      "144        60    136       170     470.2\n",
      "145        45    106       126     270.8\n",
      "146        60    107       136     400.0\n",
      "147        60    112       146     361.9\n",
      "148        30    103       127     185.0\n",
      "149        60    110       150     409.4\n",
      "150        60    106       134     343.0\n",
      "151        60    109       129     353.2\n",
      "152        60    109       138     374.0\n",
      "153        30    150       167     275.8\n",
      "154        60    105       128     328.0\n",
      "155        60    111       151     368.5\n",
      "156        60     97       131     270.4\n",
      "157        60    100       120     270.4\n",
      "158        60    114       150     382.8\n",
      "159        30     80       120     240.9\n",
      "160        30     85       120     250.4\n",
      "161        45     90       130     260.4\n",
      "162        45     95       130     270.0\n",
      "163        45    100       140     280.9\n",
      "164        60    105       140     290.8\n",
      "165        60    110       145     300.0\n",
      "166        60    115       145     310.2\n",
      "167        75    120       150     320.4\n",
      "168        75    125       150     330.4\n"
     ]
    }
   ],
   "source": [
    "# Cleaning Empty Cells\n",
    "\n",
    "df = pd.read_csv('data.csv')\n",
    "new_df = df.dropna()\n",
    "\n",
    "print(new_df.to_string())"
   ]
  },
  {
   "cell_type": "code",
   "execution_count": 41,
   "metadata": {},
   "outputs": [
    {
     "name": "stdout",
     "output_type": "stream",
     "text": [
      "    Duration          Date  Pulse  Maxpulse  Calories\n",
      "0         60  '2020/12/01'    110       130     409.1\n",
      "1         60  '2020/12/02'    117       145     479.0\n",
      "2         60  '2020/12/03'    103       135     340.0\n",
      "3         45  '2020/12/04'    109       175     282.4\n",
      "4         45  '2020/12/05'    117       148     406.0\n",
      "5         60  '2020/12/06'    102       127     300.0\n",
      "6         60  '2020/12/07'    110       136     374.0\n",
      "7        450  '2020/12/08'    104       134     253.3\n",
      "8         30  '2020/12/09'    109       133     195.1\n",
      "9         60  '2020/12/10'     98       124     269.0\n",
      "10        60  '2020/12/11'    103       147     329.3\n",
      "11        60  '2020/12/12'    100       120     250.7\n",
      "12        60  '2020/12/12'    100       120     250.7\n",
      "13        60  '2020/12/13'    106       128     345.3\n",
      "14        60  '2020/12/14'    104       132     379.3\n",
      "15        60  '2020/12/15'     98       123     275.0\n",
      "16        60  '2020/12/16'     98       120     215.2\n",
      "17        60  '2020/12/17'    100       120     300.0\n",
      "18        45  '2020/12/18'     90       112       NaN\n",
      "19        60  '2020/12/19'    103       123     323.0\n",
      "20        45  '2020/12/20'     97       125     243.0\n",
      "21        60  '2020/12/21'    108       131     364.2\n",
      "22        45           NaN    100       119     282.0\n",
      "23        60  '2020/12/23'    130       101     300.0\n",
      "24        45  '2020/12/24'    105       132     246.0\n",
      "25        60  '2020/12/25'    102       126     334.5\n",
      "26        60      20201226    100       120     250.0\n",
      "27        60  '2020/12/27'     92       118     241.0\n",
      "28        60  '2020/12/28'    103       132       NaN\n",
      "29        60  '2020/12/29'    100       132     280.0\n",
      "30        60  '2020/12/30'    102       129     380.3\n",
      "31        60  '2020/12/31'     92       115     243.0\n"
     ]
    }
   ],
   "source": [
    "df = pd.read_csv('dirtydata.csv')\n",
    "print(df.to_string())"
   ]
  },
  {
   "cell_type": "code",
   "execution_count": 42,
   "metadata": {},
   "outputs": [
    {
     "name": "stdout",
     "output_type": "stream",
     "text": [
      "    Duration          Date  Pulse  Maxpulse  Calories\n",
      "0         60  '2020/12/01'    110       130     409.1\n",
      "1         60  '2020/12/02'    117       145     479.0\n",
      "2         60  '2020/12/03'    103       135     340.0\n",
      "3         45  '2020/12/04'    109       175     282.4\n",
      "4         45  '2020/12/05'    117       148     406.0\n",
      "5         60  '2020/12/06'    102       127     300.0\n",
      "6         60  '2020/12/07'    110       136     374.0\n",
      "7        450  '2020/12/08'    104       134     253.3\n",
      "8         30  '2020/12/09'    109       133     195.1\n",
      "9         60  '2020/12/10'     98       124     269.0\n",
      "10        60  '2020/12/11'    103       147     329.3\n",
      "11        60  '2020/12/12'    100       120     250.7\n",
      "12        60  '2020/12/12'    100       120     250.7\n",
      "13        60  '2020/12/13'    106       128     345.3\n",
      "14        60  '2020/12/14'    104       132     379.3\n",
      "15        60  '2020/12/15'     98       123     275.0\n",
      "16        60  '2020/12/16'     98       120     215.2\n",
      "17        60  '2020/12/17'    100       120     300.0\n",
      "19        60  '2020/12/19'    103       123     323.0\n",
      "20        45  '2020/12/20'     97       125     243.0\n",
      "21        60  '2020/12/21'    108       131     364.2\n",
      "23        60  '2020/12/23'    130       101     300.0\n",
      "24        45  '2020/12/24'    105       132     246.0\n",
      "25        60  '2020/12/25'    102       126     334.5\n",
      "26        60      20201226    100       120     250.0\n",
      "27        60  '2020/12/27'     92       118     241.0\n",
      "29        60  '2020/12/29'    100       132     280.0\n",
      "30        60  '2020/12/30'    102       129     380.3\n",
      "31        60  '2020/12/31'     92       115     243.0\n"
     ]
    }
   ],
   "source": [
    "df = pd.read_csv('dirtydata.csv')\n",
    "df.dropna(inplace = True)\n",
    "print(df.to_string())"
   ]
  },
  {
   "cell_type": "code",
   "execution_count": 46,
   "metadata": {},
   "outputs": [
    {
     "name": "stdout",
     "output_type": "stream",
     "text": [
      "    Duration       Date  Pulse  Maxpulse  Calories\n",
      "0         60 2020-12-01    110       130     409.1\n",
      "1         60 2020-12-02    117       145     479.0\n",
      "2         60 2020-12-03    103       135     340.0\n",
      "3         45 2020-12-04    109       175     282.4\n",
      "4         45 2020-12-05    117       148     406.0\n",
      "5         60 2020-12-06    102       127     300.0\n",
      "6         60 2020-12-07    110       136     374.0\n",
      "7        450 2020-12-08    104       134     253.3\n",
      "8         30 2020-12-09    109       133     195.1\n",
      "9         60 2020-12-10     98       124     269.0\n",
      "10        60 2020-12-11    103       147     329.3\n",
      "11        60 2020-12-12    100       120     250.7\n",
      "12        60 2020-12-12    100       120     250.7\n",
      "13        60 2020-12-13    106       128     345.3\n",
      "14        60 2020-12-14    104       132     379.3\n",
      "15        60 2020-12-15     98       123     275.0\n",
      "16        60 2020-12-16     98       120     215.2\n",
      "17        60 2020-12-17    100       120     300.0\n",
      "18        45 2020-12-18     90       112       NaN\n",
      "19        60 2020-12-19    103       123     323.0\n",
      "20        45 2020-12-20     97       125     243.0\n",
      "21        60 2020-12-21    108       131     364.2\n",
      "22        45        NaT    100       119     282.0\n",
      "23        60 2020-12-23    130       101     300.0\n",
      "24        45 2020-12-24    105       132     246.0\n",
      "25        60 2020-12-25    102       126     334.5\n",
      "26        60 2020-12-26    100       120     250.0\n",
      "27        60 2020-12-27     92       118     241.0\n",
      "28        60 2020-12-28    103       132       NaN\n",
      "29        60 2020-12-29    100       132     280.0\n",
      "30        60 2020-12-30    102       129     380.3\n",
      "31        60 2020-12-31     92       115     243.0\n"
     ]
    }
   ],
   "source": [
    "df = pd.read_csv('dirtydata.csv')\n",
    "df['Date'] = pd.to_datetime(df['Date'])\n",
    "print(df.to_string())"
   ]
  },
  {
   "cell_type": "code",
   "execution_count": 48,
   "metadata": {},
   "outputs": [
    {
     "name": "stdout",
     "output_type": "stream",
     "text": [
      "    Duration       Date  Pulse  Maxpulse  Calories\n",
      "0         60 2020-12-01    110       130     409.1\n",
      "1         60 2020-12-02    117       145     479.0\n",
      "2         60 2020-12-03    103       135     340.0\n",
      "3         45 2020-12-04    109       175     282.4\n",
      "4         45 2020-12-05    117       148     406.0\n",
      "5         60 2020-12-06    102       127     300.0\n",
      "6         60 2020-12-07    110       136     374.0\n",
      "7        450 2020-12-08    104       134     253.3\n",
      "8         30 2020-12-09    109       133     195.1\n",
      "9         60 2020-12-10     98       124     269.0\n",
      "10        60 2020-12-11    103       147     329.3\n",
      "11        60 2020-12-12    100       120     250.7\n",
      "12        60 2020-12-12    100       120     250.7\n",
      "13        60 2020-12-13    106       128     345.3\n",
      "14        60 2020-12-14    104       132     379.3\n",
      "15        60 2020-12-15     98       123     275.0\n",
      "16        60 2020-12-16     98       120     215.2\n",
      "17        60 2020-12-17    100       120     300.0\n",
      "18        45 2020-12-18     90       112       NaN\n",
      "19        60 2020-12-19    103       123     323.0\n",
      "20        45 2020-12-20     97       125     243.0\n",
      "21        60 2020-12-21    108       131     364.2\n",
      "23        60 2020-12-23    130       101     300.0\n",
      "24        45 2020-12-24    105       132     246.0\n",
      "25        60 2020-12-25    102       126     334.5\n",
      "26        60 2020-12-26    100       120     250.0\n",
      "27        60 2020-12-27     92       118     241.0\n",
      "28        60 2020-12-28    103       132       NaN\n",
      "29        60 2020-12-29    100       132     280.0\n",
      "30        60 2020-12-30    102       129     380.3\n",
      "31        60 2020-12-31     92       115     243.0\n"
     ]
    }
   ],
   "source": [
    "df.dropna(subset=['Date'], inplace = True)\n",
    "print(df.to_string())"
   ]
  },
  {
   "cell_type": "code",
   "execution_count": 50,
   "metadata": {},
   "outputs": [
    {
     "name": "stdout",
     "output_type": "stream",
     "text": [
      "    Duration       Date  Pulse  Maxpulse  Calories\n",
      "0         60 2020-12-01    110       130     409.1\n",
      "1         60 2020-12-02    117       145     479.0\n",
      "2         60 2020-12-03    103       135     340.0\n",
      "3         45 2020-12-04    109       175     282.4\n",
      "4         45 2020-12-05    117       148     406.0\n",
      "5         60 2020-12-06    102       127     300.0\n",
      "6         60 2020-12-07    110       136     374.0\n",
      "7         45 2020-12-08    104       134     253.3\n",
      "8         30 2020-12-09    109       133     195.1\n",
      "9         60 2020-12-10     98       124     269.0\n",
      "10        60 2020-12-11    103       147     329.3\n",
      "11        60 2020-12-12    100       120     250.7\n",
      "12        60 2020-12-12    100       120     250.7\n",
      "13        60 2020-12-13    106       128     345.3\n",
      "14        60 2020-12-14    104       132     379.3\n",
      "15        60 2020-12-15     98       123     275.0\n",
      "16        60 2020-12-16     98       120     215.2\n",
      "17        60 2020-12-17    100       120     300.0\n",
      "18        45 2020-12-18     90       112       NaN\n",
      "19        60 2020-12-19    103       123     323.0\n",
      "20        45 2020-12-20     97       125     243.0\n",
      "21        60 2020-12-21    108       131     364.2\n",
      "23        60 2020-12-23    130       101     300.0\n",
      "24        45 2020-12-24    105       132     246.0\n",
      "25        60 2020-12-25    102       126     334.5\n",
      "26        60 2020-12-26    100       120     250.0\n",
      "27        60 2020-12-27     92       118     241.0\n",
      "28        60 2020-12-28    103       132       NaN\n",
      "29        60 2020-12-29    100       132     280.0\n",
      "30        60 2020-12-30    102       129     380.3\n",
      "31        60 2020-12-31     92       115     243.0\n"
     ]
    }
   ],
   "source": [
    "df.loc[7, 'Duration'] = 45\n",
    "print(df.to_string())"
   ]
  },
  {
   "cell_type": "code",
   "execution_count": 51,
   "metadata": {},
   "outputs": [
    {
     "name": "stdout",
     "output_type": "stream",
     "text": [
      "0     False\n",
      "1     False\n",
      "2     False\n",
      "3     False\n",
      "4     False\n",
      "5     False\n",
      "6     False\n",
      "7     False\n",
      "8     False\n",
      "9     False\n",
      "10    False\n",
      "11    False\n",
      "12     True\n",
      "13    False\n",
      "14    False\n",
      "15    False\n",
      "16    False\n",
      "17    False\n",
      "18    False\n",
      "19    False\n",
      "20    False\n",
      "21    False\n",
      "23    False\n",
      "24    False\n",
      "25    False\n",
      "26    False\n",
      "27    False\n",
      "28    False\n",
      "29    False\n",
      "30    False\n",
      "31    False\n",
      "dtype: bool\n"
     ]
    }
   ],
   "source": [
    "print(df.duplicated())"
   ]
  },
  {
   "cell_type": "code",
   "execution_count": 53,
   "metadata": {},
   "outputs": [
    {
     "name": "stdout",
     "output_type": "stream",
     "text": [
      "    Duration       Date  Pulse  Maxpulse  Calories\n",
      "0         60 2020-12-01    110       130     409.1\n",
      "1         60 2020-12-02    117       145     479.0\n",
      "2         60 2020-12-03    103       135     340.0\n",
      "3         45 2020-12-04    109       175     282.4\n",
      "4         45 2020-12-05    117       148     406.0\n",
      "5         60 2020-12-06    102       127     300.0\n",
      "6         60 2020-12-07    110       136     374.0\n",
      "7         45 2020-12-08    104       134     253.3\n",
      "8         30 2020-12-09    109       133     195.1\n",
      "9         60 2020-12-10     98       124     269.0\n",
      "10        60 2020-12-11    103       147     329.3\n",
      "11        60 2020-12-12    100       120     250.7\n",
      "13        60 2020-12-13    106       128     345.3\n",
      "14        60 2020-12-14    104       132     379.3\n",
      "15        60 2020-12-15     98       123     275.0\n",
      "16        60 2020-12-16     98       120     215.2\n",
      "17        60 2020-12-17    100       120     300.0\n",
      "18        45 2020-12-18     90       112       NaN\n",
      "19        60 2020-12-19    103       123     323.0\n",
      "20        45 2020-12-20     97       125     243.0\n",
      "21        60 2020-12-21    108       131     364.2\n",
      "23        60 2020-12-23    130       101     300.0\n",
      "24        45 2020-12-24    105       132     246.0\n",
      "25        60 2020-12-25    102       126     334.5\n",
      "26        60 2020-12-26    100       120     250.0\n",
      "27        60 2020-12-27     92       118     241.0\n",
      "28        60 2020-12-28    103       132       NaN\n",
      "29        60 2020-12-29    100       132     280.0\n",
      "30        60 2020-12-30    102       129     380.3\n",
      "31        60 2020-12-31     92       115     243.0\n"
     ]
    }
   ],
   "source": [
    "df.drop_duplicates(inplace = True)\n",
    "print(df.to_string())"
   ]
  },
  {
   "cell_type": "code",
   "execution_count": 54,
   "metadata": {},
   "outputs": [],
   "source": [
    "df.to_csv('cleaned_data.csv', index = True, encoding = 'utf-8')"
   ]
  },
  {
   "cell_type": "code",
   "execution_count": null,
   "metadata": {},
   "outputs": [],
   "source": []
  }
 ],
 "metadata": {
  "kernelspec": {
   "display_name": "Python 3",
   "language": "python",
   "name": "python3"
  },
  "language_info": {
   "codemirror_mode": {
    "name": "ipython",
    "version": 3
   },
   "file_extension": ".py",
   "mimetype": "text/x-python",
   "name": "python",
   "nbconvert_exporter": "python",
   "pygments_lexer": "ipython3",
   "version": "3.8.5"
  }
 },
 "nbformat": 4,
 "nbformat_minor": 4
}
