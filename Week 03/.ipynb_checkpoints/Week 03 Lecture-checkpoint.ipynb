{
 "cells": [
  {
   "cell_type": "markdown",
   "metadata": {
    "slideshow": {
     "slide_type": "slide"
    }
   },
   "source": [
    "<center><img title=\"a title\" alt=\"Alt text\" src=\"Georgian College Logo.svg\"></center\n",
    "\n",
    "<h1><font color='#004b87'><center>BDAT 1004 Week 3</center></font></h1>\n",
    "<h3><center>Introduction to Python</center></h3>"
   ]
  },
  {
   "cell_type": "markdown",
   "metadata": {
    "slideshow": {
     "slide_type": "slide"
    }
   },
   "source": [
    "<h1><font color='#004b87'>Annoucments</font></h1>\n",
    "<p></p>\n",
    "<li>First Week of Python</li>\n",
    "<li>First Problem Set is Due Next Week Feb 8 Monday Section Feb 11th Thursday section</li>\n",
    "<li>Course contracts must be signed and uploaded to blackboard or else your assignments won't be marked</li>\n",
    "<li>Link to python text book under course links</li>\n",
    "<li>Don't forget todays quiz</li>"
   ]
  },
  {
   "cell_type": "markdown",
   "metadata": {
    "slideshow": {
     "slide_type": "slide"
    }
   },
   "source": [
    "<h3><font color='#004b87'>Python</font></h3>\n",
    "<p></p>\n",
    "\n",
    "<li>Python is an interpreted, object-oriented, high-level programming language with dynamic semantics</li>\n",
    "<li>Its high-level built in data structures, combined with dynamic typing and dynamic binding, make it very attractive for Rapid Application Development</li>\n",
    "<li>Python is simple, easy to learn and it’s syntax emphasizes readability, notably using significant whitespace</li>\n",
    "<li>Created by a Dutch programmer named Guido van Rossum in 1991. He named it after the television show Monty Python's Flying Circus</li>"
   ]
  },
  {
   "cell_type": "markdown",
   "metadata": {},
   "source": [
    "NOTE: Python has no curly braces!\n",
    "-recall how C# uses ALL OF THE BRACES --> python uses WHITESPACE"
   ]
  },
  {
   "cell_type": "markdown",
   "metadata": {
    "slideshow": {
     "slide_type": "slide"
    }
   },
   "source": [
    "<h3><font color='#004b87'>Python Environments</font></h3>\n",
    "<p></p>\n",
    "\n",
    "There are 2 Major python environments:\n",
    "\n",
    "Python 2.X (2.7)\n",
    "    <ul>\n",
    "        <li>The legacy version of python, still widely used but on the decline</li>\n",
    "    </ul>\n",
    "<p></p>\n",
    "\n"
   ]
  },
  {
   "cell_type": "markdown",
   "metadata": {
    "slideshow": {
     "slide_type": "fragment"
    }
   },
   "source": [
    "Python 3.X.X (current 3.9.0)</li>\n",
    "    <ul>\n",
    "        <li>The future of python going forward</li>\n",
    "        <li>Better for GUI development</li>\n",
    "        <li>Most major libraries from 2. have been ported to 3</li>\n",
    "    </ul>\n",
    "\n",
    "<p></p>\n",
    "\n",
    "We will work mainly with python 3 for the semester"
   ]
  },
  {
   "cell_type": "markdown",
   "metadata": {
    "slideshow": {
     "slide_type": "slide"
    }
   },
   "source": [
    "<h3><font color='#004b87'>Python Data Types</font></h3>\n",
    "<p></p>\n",
    "\n",
    "<li>Expressions, Variables, and Assignments</li>\n",
    "<li>Strings</li>\n",
    "<li>Lists and Tuples</li>\n",
    "<li>Objects and Classes</li>\n",
    "<li>Python Standard Library</li>"
   ]
  },
  {
   "cell_type": "markdown",
   "metadata": {
    "slideshow": {
     "slide_type": "slide"
    }
   },
   "source": [
    "<h3><font color='#004b87'>Values and Types</font></h3>\n",
    "<p></p>\n",
    "\n",
    "<li>A value is one of the basic things a program works with, like a letter or a number.</li>\n",
    "<li>In Example 1 we used the value “Hello World” and passed it through the print function </li>\n",
    "<li>Not all values have the same type “Hello World” is of type string</li>\n",
    "\n",
    "<p></p>\n",
    "\n",
    "There are 5 standard value types in python\n",
    "    <ul>\n",
    "        <li>Numbers</li>\n",
    "        <li>Strings</li>\n",
    "        <li>Lists</li>\n",
    "        <li>Tuples</li>\n",
    "        <li>Dictionaries</li>\n",
    "    </ul>"
   ]
  },
  {
   "cell_type": "markdown",
   "metadata": {
    "slideshow": {
     "slide_type": "slide"
    }
   },
   "source": [
    "<h3><font color='#004b87'>Algebraic expressions</font></h3>\n",
    "<p></p>\n",
    "\n",
    "<li>The Python interactive shell or a Jupyter notebook can be used to evaluate algebraic expressions</li>\n",
    "<li>14//3 is the quotient when 14 is divided by 3 and 14%3 is the remainder</li>\n",
    "<li>2**3 is 2 to the 3rd power</li>\n",
    "<p></p>\n",
    "\n",
    "abs(), min(), and max() are functions\n",
    "\n",
    "   <ul>\n",
    "       <li>abs() takes a number as input and returns its absolute value</li>\n",
    "       <li>min() (resp., max()) take an arbitrary number of inputs and return the “smallest” (resp., “largest”) among them</li>\n",
    "   </ul>"
   ]
  },
  {
   "cell_type": "code",
   "execution_count": 6,
   "metadata": {
    "slideshow": {
     "slide_type": "fragment"
    }
   },
   "outputs": [
    {
     "name": "stdout",
     "output_type": "stream",
     "text": [
      "5\n",
      "2\n",
      "8\n",
      "2.5\n",
      "2\n",
      "4\n",
      "2\n",
      "8\n"
     ]
    }
   ],
   "source": [
    "print(2+3)\n",
    "print(7-5)\n",
    "print(2*(3+1))\n",
    "print(5/2)\n",
    "print(5//2)\n",
    "print(14//3)\n",
    "print(14%3)\n",
    "print(2**3) "
   ]
  },
  {
   "cell_type": "markdown",
   "metadata": {},
   "source": [
    "NOTE: With multiple statements (like above), need to use print statement for each statement. Otherwise, only the most recent statement will print (not all of them)."
   ]
  },
  {
   "cell_type": "markdown",
   "metadata": {
    "slideshow": {
     "slide_type": "slide"
    }
   },
   "source": [
    "<h3><font color='#004b87'>Boolean Expressions and Operators</font></h3>\n",
    "<p></p>\n",
    "\n",
    "In addition to algebraic expressions, Python can evaluate Boolean expressions\n",
    "   <ul>\n",
    "       <li>Boolean expressions evaluate to True or False</li>\n",
    "       <li>Boolean expressions often involve comparison operators &gt;, &lt;, ==, !=, &gt;=, and &lt;= </li>\n",
    "       <li>Boolean expressions may include Boolean operators and, or, and not</li> \n",
    "   </ul>"
   ]
  },
  {
   "cell_type": "markdown",
   "metadata": {
    "slideshow": {
     "slide_type": "fragment"
    }
   },
   "source": [
    "In an expression containing algebraic and comparison operators:\n",
    "   <ul>\n",
    "       <li>Algebraic operators are evaluated first</li>\n",
    "       <li>Comparison operators are evaluated next</li>\n",
    "       <li>Boolean operators are evaluated last</li>\n",
    "   </ul>  "
   ]
  },
  {
   "cell_type": "code",
   "execution_count": 7,
   "metadata": {
    "slideshow": {
     "slide_type": "slide"
    }
   },
   "outputs": [
    {
     "name": "stdout",
     "output_type": "stream",
     "text": [
      "True\n",
      "False\n",
      "False\n",
      "True\n",
      "True\n",
      "False\n",
      "True\n"
     ]
    }
   ],
   "source": [
    "print(2<3)\n",
    "print(2>3)\n",
    "print(2==3)\n",
    "print(2 != 3)\n",
    "print(2 <= 3)\n",
    "print(2 >= 3)\n",
    "print(2+4 == 2*(9/3))"
   ]
  },
  {
   "cell_type": "code",
   "execution_count": 8,
   "metadata": {
    "slideshow": {
     "slide_type": "fragment"
    }
   },
   "outputs": [
    {
     "name": "stdout",
     "output_type": "stream",
     "text": [
      "True\n",
      "False\n",
      "False\n",
      "True\n",
      "True\n",
      "True\n",
      "False\n",
      "False\n",
      "False\n",
      "True\n",
      "True\n"
     ]
    }
   ],
   "source": [
    "print(2<3 and 3<4)\n",
    "print(4==5 and 3<4)\n",
    "print(False and True)\n",
    "print(True and True)\n",
    "print(4==5 or 3<4)\n",
    "print(False or True)\n",
    "print(False or False)\n",
    "print(not(3<4))\n",
    "print(not(True))\n",
    "print(not(False))\n",
    "print(4+1==5 or 4-1<4)"
   ]
  },
  {
   "cell_type": "markdown",
   "metadata": {
    "slideshow": {
     "slide_type": "slide"
    }
   },
   "source": [
    "<h3><font color='#004b87'>Exercises</font></h3>\n",
    "<p></p>\n",
    "   <ol>\n",
    "    <li>The difference between Annie’s age (25) and Ellie’s (21)</li>\n",
    "    <li>The total of \\$14.99, \\$27.95, and \\$19.83</li>\n",
    "    <li>The area of a rectangle of length 20 and width 15</li>\n",
    "    <li>2 to the 10th power/li>\n",
    "    <li>3 equals 4-2</li>\n",
    "    <li>The minimum of 3, 1, 8, -2, 5, -3, and 0</li>\n",
    "    <li>The value of 17//5 is 3</li>\n",
    "    <li>The value of 17%5 is 3</li>\n",
    "    <li>284 is even</li>\n",
    "    <li>284 is even and 284 is divisible by 3</li>\n",
    "    <li>284 is even or 284 is divisible by 3</li>\n",
    "   </ol>"
   ]
  },
  {
   "cell_type": "code",
   "execution_count": 90,
   "metadata": {
    "slideshow": {
     "slide_type": "fragment"
    }
   },
   "outputs": [
    {
     "data": {
      "text/plain": [
       "4"
      ]
     },
     "execution_count": 90,
     "metadata": {},
     "output_type": "execute_result"
    }
   ],
   "source": [
    "#Try the exercises here!\n",
    "25-21"
   ]
  },
  {
   "cell_type": "code",
   "execution_count": 3,
   "metadata": {},
   "outputs": [
    {
     "data": {
      "text/plain": [
       "62.769999999999996"
      ]
     },
     "execution_count": 3,
     "metadata": {},
     "output_type": "execute_result"
    }
   ],
   "source": [
    "#2\n",
    "14.99+27.95+19.83"
   ]
  },
  {
   "cell_type": "code",
   "execution_count": 6,
   "metadata": {},
   "outputs": [
    {
     "data": {
      "text/plain": [
       "300"
      ]
     },
     "execution_count": 6,
     "metadata": {},
     "output_type": "execute_result"
    }
   ],
   "source": [
    "#3\n",
    "20*15"
   ]
  },
  {
   "cell_type": "code",
   "execution_count": 7,
   "metadata": {},
   "outputs": [
    {
     "data": {
      "text/plain": [
       "1024"
      ]
     },
     "execution_count": 7,
     "metadata": {},
     "output_type": "execute_result"
    }
   ],
   "source": [
    "#4\n",
    "2**10"
   ]
  },
  {
   "cell_type": "code",
   "execution_count": 8,
   "metadata": {},
   "outputs": [
    {
     "data": {
      "text/plain": [
       "False"
      ]
     },
     "execution_count": 8,
     "metadata": {},
     "output_type": "execute_result"
    }
   ],
   "source": [
    "#5\n",
    "3 == 4-2"
   ]
  },
  {
   "cell_type": "code",
   "execution_count": 9,
   "metadata": {},
   "outputs": [
    {
     "data": {
      "text/plain": [
       "-3"
      ]
     },
     "execution_count": 9,
     "metadata": {},
     "output_type": "execute_result"
    }
   ],
   "source": [
    "#6\n",
    "min(3,1,8,-2,5,-3,0)"
   ]
  },
  {
   "cell_type": "code",
   "execution_count": 12,
   "metadata": {},
   "outputs": [
    {
     "data": {
      "text/plain": [
       "True"
      ]
     },
     "execution_count": 12,
     "metadata": {},
     "output_type": "execute_result"
    }
   ],
   "source": [
    "#7\n",
    "17//5 ==3"
   ]
  },
  {
   "cell_type": "code",
   "execution_count": 11,
   "metadata": {},
   "outputs": [
    {
     "data": {
      "text/plain": [
       "False"
      ]
     },
     "execution_count": 11,
     "metadata": {},
     "output_type": "execute_result"
    }
   ],
   "source": [
    "#8\n",
    "17%5 ==3"
   ]
  },
  {
   "cell_type": "code",
   "execution_count": 26,
   "metadata": {},
   "outputs": [
    {
     "data": {
      "text/plain": [
       "True"
      ]
     },
     "execution_count": 26,
     "metadata": {},
     "output_type": "execute_result"
    }
   ],
   "source": [
    "#9\n",
    "284%2 ==0"
   ]
  },
  {
   "cell_type": "code",
   "execution_count": 28,
   "metadata": {},
   "outputs": [
    {
     "data": {
      "text/plain": [
       "False"
      ]
     },
     "execution_count": 28,
     "metadata": {},
     "output_type": "execute_result"
    }
   ],
   "source": [
    "#10\n",
    "284%2 == 0 and 284%3==0"
   ]
  },
  {
   "cell_type": "code",
   "execution_count": 29,
   "metadata": {},
   "outputs": [
    {
     "data": {
      "text/plain": [
       "True"
      ]
     },
     "execution_count": 29,
     "metadata": {},
     "output_type": "execute_result"
    }
   ],
   "source": [
    "#11\n",
    "284%2==0 or 284%3==0"
   ]
  },
  {
   "cell_type": "markdown",
   "metadata": {
    "slideshow": {
     "slide_type": "slide"
    }
   },
   "source": [
    "<h3><font color='#004b87'>Variables and assignments</font></h3>\n",
    "<p></p>\n",
    "\n",
    "<li>Just as in algebra, a value can be assigned to a variable, such as x</li>\n",
    "<li>When variable x appears inside an expression, it evaluates to its assigned value</li>\n",
    "<li>A variable (name) does not exist until it is assigned</li> \n",
    "<p></p>\n",
    "The assignment statement has the format\n",
    "<center><img title=\"a title\" alt=\"Alt text\" src=\"Picture1.png\"></center\n",
    "    \n",
    "expression is evaluated first, and the resulting value is assigned to variable\n",
    "\n"
   ]
  },
  {
   "cell_type": "code",
   "execution_count": 9,
   "metadata": {
    "slideshow": {
     "slide_type": "fragment"
    }
   },
   "outputs": [
    {
     "name": "stdout",
     "output_type": "stream",
     "text": [
      "3\n",
      "12\n",
      "12\n"
     ]
    }
   ],
   "source": [
    "x = 3\n",
    "print(x)\n",
    "print(4*x)\n",
    "y= x*4\n",
    "print(y)"
   ]
  },
  {
   "cell_type": "markdown",
   "metadata": {
    "slideshow": {
     "slide_type": "slide"
    }
   },
   "source": [
    "<h3><font color='#004b87'>Naming Rules</font></h3>\n",
    "<p></p>\n",
    "Variable names can contain these characters:\n",
    "<li>a through z</li>\n",
    "<li>A through Z</li>\n",
    "<li>the underscore character _ </li> \n",
    "<li>digits 0 through 9</li> \n",
    "<p></p>\n",
    "Variable names cannot start with a digit, python key words can not be used as variable names\n",
    "<p></p>\n",
    "For multiple-word names use:\n",
    "<li>camelCase</li>\n",
    "<li>the underscore as the delimiter snake_case</li>"
   ]
  },
  {
   "cell_type": "code",
   "execution_count": 20,
   "metadata": {
    "slideshow": {
     "slide_type": "fragment"
    }
   },
   "outputs": [
    {
     "name": "stdout",
     "output_type": "stream",
     "text": [
      "myTemp = 28\n",
      "21\n",
      "23\n"
     ]
    }
   ],
   "source": [
    "myTemp = 28\n",
    "print(\"myTemp = \" + str(myTemp))\n",
    "x2 = 21\n",
    "print(x2)\n",
    "new_temp = 23\n",
    "print(new_temp)\n",
    "# 2x = 22 starting with a digit will throw back a syntax error\n"
   ]
  },
  {
   "cell_type": "markdown",
   "metadata": {
    "slideshow": {
     "slide_type": "slide"
    }
   },
   "source": [
    "<h3><font color='#004b87'>Strings</font></h3>\n",
    "<p></p>\n",
    "Variable names can contain these characters:\n",
    "<li>In addition to number and Boolean values, Python support string values</li>\n",
    "<li>A string value is represented as a sequence of characters enclosed within quotes</li>\n",
    "<li>A string value can be assigned to a variable</li> \n",
    "<li>String values can be manipulated using string operators and functions</li> \n",
    "<p></p>\n",
    "<center><img src=\"Picture2.png\"></center"
   ]
  },
  {
   "cell_type": "code",
   "execution_count": 1,
   "metadata": {
    "slideshow": {
     "slide_type": "slide"
    }
   },
   "outputs": [
    {
     "data": {
      "text/plain": [
       "'Hello, World'"
      ]
     },
     "execution_count": 1,
     "metadata": {},
     "output_type": "execute_result"
    }
   ],
   "source": [
    "# In jupyter the result automatically prints if it's only one line of code, \n",
    "# If printing multple lines only the final line of code's result will print\n",
    "\"Hello, World\""
   ]
  },
  {
   "cell_type": "code",
   "execution_count": 4,
   "metadata": {
    "slideshow": {
     "slide_type": "fragment"
    }
   },
   "outputs": [
    {
     "name": "stdout",
     "output_type": "stream",
     "text": [
      "rock\n",
      "climbing\n",
      "True\n",
      "True\n",
      "False\n",
      "True\n",
      "rockclimbing\n",
      "rock climbing\n",
      "rockrockrockrockrock\n",
      "______________________________\n",
      "True\n",
      "False\n",
      "True\n",
      "8\n"
     ]
    }
   ],
   "source": [
    "# if we want to print all results we need to use the print function\n",
    "s = 'rock'\n",
    "t = 'climbing'\n",
    "print('rock')\n",
    "print('climbing')\n",
    "print(s == 'rock')\n",
    "print(s != t)\n",
    "print(s < t)\n",
    "print(s > t)\n",
    "print(s + t)\n",
    "print(s + ' ' + t)\n",
    "print(5 * s)\n",
    "print(30 * '_')\n",
    "print('o' in s)\n",
    "print('o' in t)\n",
    "print('bi' in t)\n",
    "print(len(t))\n"
   ]
  },
  {
   "cell_type": "markdown",
   "metadata": {
    "slideshow": {
     "slide_type": "slide"
    }
   },
   "source": [
    "<h3><font color='#004b87'>Exercises</font></h3>\n",
    "<p></p>\n",
    "Write Python expressions involving strings s1, s2, and s3 that correspond to:\n",
    "<p></p>\n",
    "   <ol>\n",
    "    <li>'ll' appears in s3</li>\n",
    "    <li>the blank space does not appear in s1</li>\n",
    "    <li>the concatenation of s1, s2, and s3</li>\n",
    "    <li>the blank space appears in the concatenation of s1, s2, and s3</li>\n",
    "    <li>the concatenation of 10 copies of s3</li>\n",
    "    <li>the total number of characters in the concatenation of s1, s2, and s3</li>\n",
    "   </ol>"
   ]
  },
  {
   "cell_type": "code",
   "execution_count": 36,
   "metadata": {
    "scrolled": true,
    "slideshow": {
     "slide_type": "skip"
    }
   },
   "outputs": [
    {
     "name": "stdout",
     "output_type": "stream",
     "text": [
      "False\n",
      "True\n",
      "Potatoes are a starchy food. There are many kinds of potatoes. Mashed potato sundaes are not good.\n",
      "True\n",
      "Mashed potato sundaes are not good. Mashed potato sundaes are not good. Mashed potato sundaes are not good. \n",
      "98\n"
     ]
    }
   ],
   "source": [
    "#Try the exercises here!\n",
    "s1 = \"Potatoes are a starchy food.\"\n",
    "s2 = \"There are many kinds of potatoes.\"\n",
    "s3 = \"Mashed potato sundaes are not good.\"\n",
    "print('ll'in s3)\n",
    "print(' ' in s1)\n",
    "print(s1 + \" \" + s2 + \" \" + s3)\n",
    "print(\" \" in s1 + \" \" + s2 + \" \" + s3)\n",
    "print(3* (s3 + \" \"))\n",
    "print(len(s1 + \" \" + s2 + \" \" + s3))"
   ]
  },
  {
   "cell_type": "markdown",
   "metadata": {
    "slideshow": {
     "slide_type": "slide"
    }
   },
   "source": [
    "<h3><font color='#004b87'>Index and indexing operator</font></h3>\n",
    "<p></p>\n",
    "The index of an item in a sequence is its position with respect to the first item\n",
    "<p></p>\n",
    "   \n",
    "   <li>The first item has index 0</li>\n",
    "   <li>The second has index 1</li>\n",
    "   <li>The third has index 2, …</li>\n",
    "<p></p>\n",
    "<center><img src=\"Picture3.png\"></center"
   ]
  },
  {
   "cell_type": "code",
   "execution_count": 7,
   "metadata": {
    "slideshow": {
     "slide_type": "fragment"
    }
   },
   "outputs": [
    {
     "name": "stdout",
     "output_type": "stream",
     "text": [
      "A\n",
      "p\n",
      "p\n",
      "l\n",
      "e\n"
     ]
    }
   ],
   "source": [
    "s = 'Apple'\n",
    "print(s[0])\n",
    "print(s[1])\n",
    "print(s[2])\n",
    "print(s[3])\n",
    "print(s[4])"
   ]
  },
  {
   "cell_type": "markdown",
   "metadata": {
    "slideshow": {
     "slide_type": "slide"
    }
   },
   "source": [
    "<h3><font color='#004b87'>Negative index</font></h3>\n",
    "<p></p>\n",
    "A negative index is used to specify a position with respect to the “end”\n",
    "<p></p>\n",
    "   \n",
    "   <li>The first item has index -1</li>\n",
    "   <li>The second has index -2</li>\n",
    "   <li>The third has index -3, …</li>\n",
    "   \n",
    "   <center><img src=\"Picture4.png\"></center"
   ]
  },
  {
   "cell_type": "code",
   "execution_count": 8,
   "metadata": {
    "slideshow": {
     "slide_type": "fragment"
    }
   },
   "outputs": [
    {
     "name": "stdout",
     "output_type": "stream",
     "text": [
      "e\n",
      "l\n",
      "p\n",
      "p\n",
      "A\n"
     ]
    }
   ],
   "source": [
    "print(s[-1])\n",
    "print(s[-2])\n",
    "print(s[-3])\n",
    "print(s[-4])\n",
    "print(s[-5])"
   ]
  },
  {
   "cell_type": "markdown",
   "metadata": {
    "slideshow": {
     "slide_type": "slide"
    }
   },
   "source": [
    "<h3><font color='#004b87'>Exercises</font></h3>\n",
    "<p></p>\n",
    "String s is defined to be\n",
    "<p></p>\n",
    "'abcdefgh'\n",
    "<p></p>\n",
    "Write expressions using s and the indexing operator [] that return the following strings:\n",
    "\n",
    "<p></p>\n",
    "   <ol>\n",
    "    <li>'a'</li>\n",
    "    <li>'c'</li>\n",
    "    <li>'h'</li>\n",
    "    <li>'f'</li>\n",
    "   </ol>"
   ]
  },
  {
   "cell_type": "code",
   "execution_count": 1,
   "metadata": {
    "slideshow": {
     "slide_type": "skip"
    }
   },
   "outputs": [
    {
     "name": "stdout",
     "output_type": "stream",
     "text": [
      "a\n",
      "c\n",
      "h\n",
      "f\n"
     ]
    }
   ],
   "source": [
    "#Try the exercises here!\n",
    "s=\"abcdefgh\"\n",
    "print(s[0])\n",
    "print(s[2])\n",
    "print(s[-1])\n",
    "print(s[-3])"
   ]
  },
  {
   "cell_type": "markdown",
   "metadata": {
    "slideshow": {
     "slide_type": "slide"
    }
   },
   "source": [
    "<h3><font color='#004b87'>Lists</font></h3>\n",
    "<p></p>\n",
    "In addition to number, Boolean, and string values, Python supports lists\n",
    "<p></p>\n",
    "<center><img src=\"Picture5.png\"></center>\n",
    "<p></p>\n",
    "<li>A comma-separated sequence of items enclosed within square brackets</li>\n",
    "<li>The items can be numbers, strings, and even other list</li>\n",
    "   \n"
   ]
  },
  {
   "cell_type": "markdown",
   "metadata": {
    "slideshow": {
     "slide_type": "fragment"
    }
   },
   "source": [
    "<h3><font color='#004b87'>List operators and functions</font></h3>\n",
    "<p></p>\n",
    "Like strings, lists can be manipulated with operators and functions\n",
    "<p></p>\n",
    "<center><img src=\"Picture6.png\"></center>\n",
    "\n",
    "   "
   ]
  },
  {
   "cell_type": "code",
   "execution_count": 9,
   "metadata": {
    "slideshow": {
     "slide_type": "slide"
    }
   },
   "outputs": [
    {
     "name": "stdout",
     "output_type": "stream",
     "text": [
      "False\n",
      "True\n",
      "[1, 2, 3, 0, 4]\n",
      "[1, 2, 3, 1, 2, 3]\n",
      "1\n",
      "2\n",
      "3\n",
      "3\n",
      "1\n",
      "3\n",
      "6\n",
      "Help on class list in module builtins:\n",
      "\n",
      "class list(object)\n",
      " |  list(iterable=(), /)\n",
      " |  \n",
      " |  Built-in mutable sequence.\n",
      " |  \n",
      " |  If no argument is given, the constructor creates a new empty list.\n",
      " |  The argument must be an iterable if specified.\n",
      " |  \n",
      " |  Methods defined here:\n",
      " |  \n",
      " |  __add__(self, value, /)\n",
      " |      Return self+value.\n",
      " |  \n",
      " |  __contains__(self, key, /)\n",
      " |      Return key in self.\n",
      " |  \n",
      " |  __delitem__(self, key, /)\n",
      " |      Delete self[key].\n",
      " |  \n",
      " |  __eq__(self, value, /)\n",
      " |      Return self==value.\n",
      " |  \n",
      " |  __ge__(self, value, /)\n",
      " |      Return self>=value.\n",
      " |  \n",
      " |  __getattribute__(self, name, /)\n",
      " |      Return getattr(self, name).\n",
      " |  \n",
      " |  __getitem__(...)\n",
      " |      x.__getitem__(y) <==> x[y]\n",
      " |  \n",
      " |  __gt__(self, value, /)\n",
      " |      Return self>value.\n",
      " |  \n",
      " |  __iadd__(self, value, /)\n",
      " |      Implement self+=value.\n",
      " |  \n",
      " |  __imul__(self, value, /)\n",
      " |      Implement self*=value.\n",
      " |  \n",
      " |  __init__(self, /, *args, **kwargs)\n",
      " |      Initialize self.  See help(type(self)) for accurate signature.\n",
      " |  \n",
      " |  __iter__(self, /)\n",
      " |      Implement iter(self).\n",
      " |  \n",
      " |  __le__(self, value, /)\n",
      " |      Return self<=value.\n",
      " |  \n",
      " |  __len__(self, /)\n",
      " |      Return len(self).\n",
      " |  \n",
      " |  __lt__(self, value, /)\n",
      " |      Return self<value.\n",
      " |  \n",
      " |  __mul__(self, value, /)\n",
      " |      Return self*value.\n",
      " |  \n",
      " |  __ne__(self, value, /)\n",
      " |      Return self!=value.\n",
      " |  \n",
      " |  __repr__(self, /)\n",
      " |      Return repr(self).\n",
      " |  \n",
      " |  __reversed__(self, /)\n",
      " |      Return a reverse iterator over the list.\n",
      " |  \n",
      " |  __rmul__(self, value, /)\n",
      " |      Return value*self.\n",
      " |  \n",
      " |  __setitem__(self, key, value, /)\n",
      " |      Set self[key] to value.\n",
      " |  \n",
      " |  __sizeof__(self, /)\n",
      " |      Return the size of the list in memory, in bytes.\n",
      " |  \n",
      " |  append(self, object, /)\n",
      " |      Append object to the end of the list.\n",
      " |  \n",
      " |  clear(self, /)\n",
      " |      Remove all items from list.\n",
      " |  \n",
      " |  copy(self, /)\n",
      " |      Return a shallow copy of the list.\n",
      " |  \n",
      " |  count(self, value, /)\n",
      " |      Return number of occurrences of value.\n",
      " |  \n",
      " |  extend(self, iterable, /)\n",
      " |      Extend list by appending elements from the iterable.\n",
      " |  \n",
      " |  index(self, value, start=0, stop=9223372036854775807, /)\n",
      " |      Return first index of value.\n",
      " |      \n",
      " |      Raises ValueError if the value is not present.\n",
      " |  \n",
      " |  insert(self, index, object, /)\n",
      " |      Insert object before index.\n",
      " |  \n",
      " |  pop(self, index=-1, /)\n",
      " |      Remove and return item at index (default last).\n",
      " |      \n",
      " |      Raises IndexError if list is empty or index is out of range.\n",
      " |  \n",
      " |  remove(self, value, /)\n",
      " |      Remove first occurrence of value.\n",
      " |      \n",
      " |      Raises ValueError if the value is not present.\n",
      " |  \n",
      " |  reverse(self, /)\n",
      " |      Reverse *IN PLACE*.\n",
      " |  \n",
      " |  sort(self, /, *, key=None, reverse=False)\n",
      " |      Sort the list in ascending order and return None.\n",
      " |      \n",
      " |      The sort is in-place (i.e. the list itself is modified) and stable (i.e. the\n",
      " |      order of two equal elements is maintained).\n",
      " |      \n",
      " |      If a key function is given, apply it once to each list item and sort them,\n",
      " |      ascending or descending, according to their function values.\n",
      " |      \n",
      " |      The reverse flag can be set to sort in descending order.\n",
      " |  \n",
      " |  ----------------------------------------------------------------------\n",
      " |  Static methods defined here:\n",
      " |  \n",
      " |  __new__(*args, **kwargs) from builtins.type\n",
      " |      Create and return a new object.  See help(type) for accurate signature.\n",
      " |  \n",
      " |  ----------------------------------------------------------------------\n",
      " |  Data and other attributes defined here:\n",
      " |  \n",
      " |  __hash__ = None\n",
      "\n"
     ]
    }
   ],
   "source": [
    "lst = [1, 2, 3]\n",
    "lstB = [0, 4]\n",
    "print(4 in lst)\n",
    "print(4 not in lst)\n",
    "print(lst + lstB)\n",
    "print(2*lst)\n",
    "print(lst[0])\n",
    "print(lst[1])\n",
    "print(lst[-1])\n",
    "print(len(lst))\n",
    "print(min(lst))\n",
    "print(max(lst))\n",
    "print(sum(lst))\n",
    "help(list)\n"
   ]
  },
  {
   "cell_type": "markdown",
   "metadata": {
    "slideshow": {
     "slide_type": "slide"
    }
   },
   "source": [
    "<h3><font color='#004b87'>Lists are mutable, strings are not</font></h3>\n",
    "<p></p>\n",
    "<center><img src=\"Picture7.png\"></center>"
   ]
  },
  {
   "cell_type": "code",
   "execution_count": 10,
   "metadata": {
    "slideshow": {
     "slide_type": "fragment"
    }
   },
   "outputs": [
    {
     "name": "stdout",
     "output_type": "stream",
     "text": [
      "['ant', 'bat', 'cow', 'dog', 'elk']\n"
     ]
    },
    {
     "ename": "TypeError",
     "evalue": "'str' object does not support item assignment",
     "output_type": "error",
     "traceback": [
      "\u001b[1;31m---------------------------------------------------------------------------\u001b[0m",
      "\u001b[1;31mTypeError\u001b[0m                                 Traceback (most recent call last)",
      "\u001b[1;32m<ipython-input-10-20f0f991bfd9>\u001b[0m in \u001b[0;36m<module>\u001b[1;34m\u001b[0m\n\u001b[0;32m      3\u001b[0m \u001b[0mprint\u001b[0m\u001b[1;33m(\u001b[0m\u001b[0mpets\u001b[0m\u001b[1;33m)\u001b[0m\u001b[1;33m\u001b[0m\u001b[1;33m\u001b[0m\u001b[0m\n\u001b[0;32m      4\u001b[0m \u001b[0mpet\u001b[0m \u001b[1;33m=\u001b[0m \u001b[1;34m'cod'\u001b[0m\u001b[1;33m\u001b[0m\u001b[1;33m\u001b[0m\u001b[0m\n\u001b[1;32m----> 5\u001b[1;33m \u001b[0mpet\u001b[0m\u001b[1;33m[\u001b[0m\u001b[1;36m2\u001b[0m\u001b[1;33m]\u001b[0m \u001b[1;33m=\u001b[0m \u001b[1;34m'w'\u001b[0m\u001b[1;33m\u001b[0m\u001b[1;33m\u001b[0m\u001b[0m\n\u001b[0m\u001b[0;32m      6\u001b[0m \u001b[1;33m\u001b[0m\u001b[0m\n",
      "\u001b[1;31mTypeError\u001b[0m: 'str' object does not support item assignment"
     ]
    }
   ],
   "source": [
    "pets = ['ant', 'bat', 'cod', 'dog', 'elk']\n",
    "pets[2] = 'cow'\n",
    "print(pets)\n",
    "pet = 'cod'\n",
    "pet[2] = 'w'\n",
    "\n"
   ]
  },
  {
   "cell_type": "markdown",
   "metadata": {
    "slideshow": {
     "slide_type": "slide"
    }
   },
   "source": [
    "<h3><font color='#004b87'>List Methods</font></h3>\n",
    "<p></p>\n",
    "len() and sum() are examples of functions that can be called with a list input argument; they can also be called on other type of input argument(s) \n",
    "<p></p>\n",
    "   \n",
    "   <li>There are also functions that are called on a list;\n",
    "such functions are called list methods</li>\n",
    "   <li>Method append() can’t be called independently; it must be called on some list object\n",
    "</li>\n",
    "   \n",
    "   \n",
    "   <center><img src=\"Picture8.png\"></center"
   ]
  },
  {
   "cell_type": "code",
   "execution_count": 11,
   "metadata": {
    "slideshow": {
     "slide_type": "fragment"
    }
   },
   "outputs": [
    {
     "name": "stdout",
     "output_type": "stream",
     "text": [
      "3\n",
      "6\n",
      "[1, 2, 3, 7]\n"
     ]
    }
   ],
   "source": [
    "lst = [1, 2, 3]\n",
    "print(len(lst))\n",
    "print(sum(lst))\n",
    "lst.append(7)\n",
    "print(lst)"
   ]
  },
  {
   "cell_type": "markdown",
   "metadata": {
    "slideshow": {
     "slide_type": "slide"
    }
   },
   "source": [
    "<h3><font color='#004b87'>List Methods</font></h3>\n",
    "<p></p>\n",
    "len() and sum() are examples of functions that can be called with a list input argument; they can also be called on other type of input argument(s) \n",
    "<p></p>\n",
    "<center><img src=\"Picture9.png\"></center>\n",
    "<p></p> \n",
    "Methods append(), remove(), reverse(),and sort() do not return any value; they, along with method pop(), modify list lst\n"
   ]
  },
  {
   "cell_type": "code",
   "execution_count": 14,
   "metadata": {
    "slideshow": {
     "slide_type": "slide"
    }
   },
   "outputs": [
    {
     "name": "stdout",
     "output_type": "stream",
     "text": [
      "[1, 2, 3, 7, 3]\n",
      "2\n",
      "[1, 3, 7, 3]\n",
      "[3, 7, 3, 1]\n",
      "0\n",
      "[1, 3, 3, 7]\n",
      "7\n",
      "[1, 3]\n"
     ]
    }
   ],
   "source": [
    "lst = [1, 2, 3]\n",
    "lst.append(7)\n",
    "lst.append(3)\n",
    "print(lst)\n",
    "print(lst.count(3))\n",
    "lst.remove(2)\n",
    "print(lst)\n",
    "lst.reverse()\n",
    "print(lst)\n",
    "print(lst.index(3))\n",
    "lst.sort()\n",
    "print(lst)\n",
    "lst.remove(3)\n",
    "list(lst)\n",
    "print(lst.pop())\n",
    "print(lst)"
   ]
  },
  {
   "cell_type": "markdown",
   "metadata": {
    "slideshow": {
     "slide_type": "slide"
    }
   },
   "source": [
    "<h3><font color='#004b87'>Exercises</font></h3>\n",
    "<p></p>\n",
    "List lst is a list of prices for a pair of boots at different online retailers \n",
    "<p></p>\n",
    "   <ol>\n",
    "    <li>You found another retailer selling the boots for &#36;160.00; add this price to list lst</li>\n",
    "    <li>Compute the number of retailers selling the boots for &#36;160.00</li>\n",
    "    <li>Find the minimum price in lst</li>\n",
    "    <li>Using c), find the index of the minimum price in list lst </li>\n",
    "    <li>Using c) remove the minimum price from list lst</li>\n",
    "    <li>Sort list lst in increasing order</li>\n",
    "   </ol>"
   ]
  },
  {
   "cell_type": "code",
   "execution_count": 25,
   "metadata": {
    "slideshow": {
     "slide_type": "skip"
    }
   },
   "outputs": [
    {
     "name": "stdout",
     "output_type": "stream",
     "text": [
      "[159.99, 160.0, 205.95, 128.83, 175.49, 160.0]\n",
      "2\n",
      "128.83\n",
      "3\n",
      "[159.99, 160.0, 205.95, 175.49, 160.0]\n",
      "[159.99, 160.0, 160.0, 175.49, 205.95]\n"
     ]
    }
   ],
   "source": [
    "# Try Exercises here\n",
    "lst = [159.99, 160.00, 205.95, 128.83, 175.49]\n",
    "\n",
    "#1\n",
    "lst.append(160.00)\n",
    "print(lst)\n",
    "\n",
    "#2\n",
    "print(lst.count(160.00))\n",
    "\n",
    "#3\n",
    "print(min(lst))\n",
    "\n",
    "#4\n",
    "print(lst.index(128.83))\n",
    "\n",
    "#5\n",
    "lst.remove(128.83)\n",
    "print(lst)\n",
    "\n",
    "#6\n",
    "lst.sort()\n",
    "print(lst)"
   ]
  },
  {
   "cell_type": "markdown",
   "metadata": {
    "slideshow": {
     "slide_type": "slide"
    }
   },
   "source": [
    "<h3><font color='#004b87'>Built-in class tuple</font></h3>\n",
    "<p></p>\n",
    "The class tuple is the same as class list … except that it is immutable\n",
    "<p></p>"
   ]
  },
  {
   "cell_type": "markdown",
   "metadata": {},
   "source": [
    "NOTE: Tuples are created with round brackets"
   ]
  },
  {
   "cell_type": "code",
   "execution_count": 16,
   "metadata": {
    "slideshow": {
     "slide_type": "fragment"
    }
   },
   "outputs": [
    {
     "name": "stdout",
     "output_type": "stream",
     "text": [
      "3\n",
      "['one', 'two', 'three']\n",
      "('one', 'two', 3)\n"
     ]
    },
    {
     "ename": "TypeError",
     "evalue": "'tuple' object does not support item assignment",
     "output_type": "error",
     "traceback": [
      "\u001b[1;31m---------------------------------------------------------------------------\u001b[0m",
      "\u001b[1;31mTypeError\u001b[0m                                 Traceback (most recent call last)",
      "\u001b[1;32m<ipython-input-16-e43b87947cac>\u001b[0m in \u001b[0;36m<module>\u001b[1;34m\u001b[0m\n\u001b[0;32m      6\u001b[0m \u001b[0mprint\u001b[0m\u001b[1;33m(\u001b[0m\u001b[0mtpl\u001b[0m\u001b[1;33m)\u001b[0m\u001b[1;33m\u001b[0m\u001b[1;33m\u001b[0m\u001b[0m\n\u001b[0;32m      7\u001b[0m \u001b[0mtpl\u001b[0m\u001b[1;33m[\u001b[0m\u001b[1;36m2\u001b[0m\u001b[1;33m]\u001b[0m\u001b[1;33m\u001b[0m\u001b[1;33m\u001b[0m\u001b[0m\n\u001b[1;32m----> 8\u001b[1;33m \u001b[0mtpl\u001b[0m\u001b[1;33m[\u001b[0m\u001b[1;36m2\u001b[0m\u001b[1;33m]\u001b[0m \u001b[1;33m=\u001b[0m \u001b[1;34m'three'\u001b[0m\u001b[1;33m\u001b[0m\u001b[1;33m\u001b[0m\u001b[0m\n\u001b[0m",
      "\u001b[1;31mTypeError\u001b[0m: 'tuple' object does not support item assignment"
     ]
    }
   ],
   "source": [
    "lst = ['one', 'two', 3]\n",
    "print(lst[2])\n",
    "lst[2] = 'three'\n",
    "print(lst)\n",
    "tpl = ('one', 'two', 3)\n",
    "print(tpl)\n",
    "tpl[2]\n",
    "tpl[2] = 'three'\n"
   ]
  },
  {
   "cell_type": "markdown",
   "metadata": {
    "slideshow": {
     "slide_type": "fragment"
    }
   },
   "source": [
    "<p></p>\n",
    "Why do we need it?  Sometimes, we need to have an “immutable list”\n",
    "<p></p>"
   ]
  },
  {
   "cell_type": "markdown",
   "metadata": {
    "slideshow": {
     "slide_type": "slide"
    }
   },
   "source": [
    "<h3><font color='#004b87'>Objects and classes</font></h3>\n",
    "<p></p>\n",
    "In Python, every value, whether a simple integer value like 3 or a more complex value, such as the list ['hello', 4,  5]  is stored in memory as an object.\n",
    "<p></p>\n",
    "   \n",
    "   <li>Every object has a value and a type;</li>\n",
    "   <li>It is the object that has a type, not the variable!</li>\n",
    "   \n",
    "   \n",
    "   <center><img src=\"Picture10.png\"></center>\n",
    "   \n",
    "   <p></p>\n",
    "An object’s type determines what values it can have and how it can be manipulated\n",
    "\n",
    " <li>Terminology: object X is of type int  =  object X belongs to class int </li>\n"
   ]
  },
  {
   "cell_type": "code",
   "execution_count": 17,
   "metadata": {
    "slideshow": {
     "slide_type": "fragment"
    }
   },
   "outputs": [
    {
     "name": "stdout",
     "output_type": "stream",
     "text": [
      "<class 'int'>\n",
      "<class 'float'>\n",
      "<class 'str'>\n",
      "<class 'list'>\n",
      "<class 'list'>\n"
     ]
    }
   ],
   "source": [
    "a = 3\n",
    "b = 3.0\n",
    "c = 'three'\n",
    "d = [1, 2, 3]\n",
    "print(type(a))\n",
    "print(type(b))\n",
    "print(type(c))\n",
    "print(type(d))\n",
    "a = []\n",
    "print(type(a))\n"
   ]
  },
  {
   "cell_type": "markdown",
   "metadata": {
    "slideshow": {
     "slide_type": "slide"
    }
   },
   "source": [
    "<h3><font color='#004b87'>Values of number types</font></h3>\n",
    "<p></p>\n",
    "An object’s type determines what values it can have and how it can be manipulated\n",
    "<p></p>\n",
    "   \n",
    "   <li>An object of type int can have, essentially, any integer number value</li>\n",
    "   <li>The value of an object of type float is represented in memory using 64 bits i.e., 64 zeros and ones!</li>\n",
    "   <li>This means that only 2<sup>64</sup> real number values can be represented with a float object; all other real number values are just approximated</li>"
   ]
  },
  {
   "cell_type": "code",
   "execution_count": 18,
   "metadata": {
    "slideshow": {
     "slide_type": "fragment"
    }
   },
   "outputs": [
    {
     "name": "stdout",
     "output_type": "stream",
     "text": [
      "0\n",
      "179769313486231590772930519078902473361797697894230657273430081157732675805500963132708477322407536021120113879871393357658789768814416622492847430639474124377767893424865485276302219601246094119453082952085005768838150682342462881473913110540827237163350510684586298239947245938479716304835356329624224137216\n",
      "0.0\n"
     ]
    },
    {
     "ename": "OverflowError",
     "evalue": "(34, 'Result too large')",
     "output_type": "error",
     "traceback": [
      "\u001b[1;31m---------------------------------------------------------------------------\u001b[0m",
      "\u001b[1;31mOverflowError\u001b[0m                             Traceback (most recent call last)",
      "\u001b[1;32m<ipython-input-18-e762715b8c0b>\u001b[0m in \u001b[0;36m<module>\u001b[1;34m\u001b[0m\n\u001b[0;32m      2\u001b[0m \u001b[0mprint\u001b[0m\u001b[1;33m(\u001b[0m\u001b[1;36m2\u001b[0m\u001b[1;33m**\u001b[0m\u001b[1;36m1024\u001b[0m\u001b[1;33m)\u001b[0m\u001b[1;33m\u001b[0m\u001b[1;33m\u001b[0m\u001b[0m\n\u001b[0;32m      3\u001b[0m \u001b[0mprint\u001b[0m\u001b[1;33m(\u001b[0m\u001b[1;36m0.0\u001b[0m\u001b[1;33m)\u001b[0m\u001b[1;33m\u001b[0m\u001b[1;33m\u001b[0m\u001b[0m\n\u001b[1;32m----> 4\u001b[1;33m \u001b[0mprint\u001b[0m\u001b[1;33m(\u001b[0m\u001b[1;36m2.0\u001b[0m\u001b[1;33m**\u001b[0m\u001b[1;36m1024\u001b[0m\u001b[1;33m)\u001b[0m\u001b[1;33m\u001b[0m\u001b[1;33m\u001b[0m\u001b[0m\n\u001b[0m\u001b[0;32m      5\u001b[0m \u001b[0mprint\u001b[0m\u001b[1;33m(\u001b[0m\u001b[1;36m2.0\u001b[0m\u001b[1;33m**\u001b[0m\u001b[1;33m(\u001b[0m\u001b[1;33m-\u001b[0m\u001b[1;36m1075\u001b[0m\u001b[1;33m)\u001b[0m\u001b[1;33m)\u001b[0m\u001b[1;33m\u001b[0m\u001b[1;33m\u001b[0m\u001b[0m\n",
      "\u001b[1;31mOverflowError\u001b[0m: (34, 'Result too large')"
     ]
    }
   ],
   "source": [
    "print(0)\n",
    "print(2**1024)\n",
    "print(0.0)\n",
    "print(2.0**1024)\n",
    "print(2.0**(-1075))"
   ]
  },
  {
   "cell_type": "markdown",
   "metadata": {
    "slideshow": {
     "slide_type": "slide"
    }
   },
   "source": [
    "<h3><font color='#004b87'>Operators for number types</font></h3>\n",
    "<p></p>\n",
    "An object’s type determines what values it can have and how it can be manipulated\n",
    "<p></p>\n",
    "   \n",
    "   <li>We already saw the operators that are used to manipulate number types:</li>\n",
    "   <li>algebraic operators +, -, *, /, //, %, **, abs() </li>\n",
    "   <li>comparison operators >, <, ==, !=, <=, >=, … </li>\n",
    "  <li>Parentheses and precedence rules determine the order in which operators are evaluated in an expression</li>\n",
    "  <li>List below is highest precedence to lowest (like BEDMAS)</li>\n"
   ]
  },
  {
   "cell_type": "markdown",
   "metadata": {
    "slideshow": {
     "slide_type": "fragment"
    }
   },
   "source": [
    "| Operator     |\n",
    "| :---:         |    \n",
    "| […]           | \n",
    "| x[]           | \n",
    "| **            |\n",
    "| +x, -x        |\n",
    "| \\*, /, //, %   | \n",
    "| +,-           | \n",
    "| in, not in    | \n",
    "| <,>,<=,>=,==,!=  | \n",
    "| not x          | \n",
    "| and   |\n",
    "| or   |"
   ]
  },
  {
   "cell_type": "markdown",
   "metadata": {
    "slideshow": {
     "slide_type": "slide"
    }
   },
   "source": [
    "<h3><font color='#004b87'>Object constructors</font></h3>\n",
    "<p></p>\n",
    "An assignment statement can be used to create an integer object with value 3\n",
    "<li>The type of the object is implicitly defined</li>\n",
    "<p></p>\n",
    "The object can also be created by explicitly specifying the object type using a constructor function\n",
    "<p></p>\n",
    "   <li>int(): integer constructor (default value: 0)</li>\n",
    "   <li>float(): Float constructor (default value: 0.0)</li>\n",
    "   <li>str(): string constructor (default value: empty string ’’)</li>\n",
    "   <li>list(): list constructor (default value: empty list [])</li>\n",
    "  "
   ]
  },
  {
   "cell_type": "code",
   "execution_count": 19,
   "metadata": {
    "slideshow": {
     "slide_type": "fragment"
    }
   },
   "outputs": [
    {
     "name": "stdout",
     "output_type": "stream",
     "text": [
      "3\n",
      "3\n",
      "0\n",
      "0.0\n",
      "\n",
      "[]\n"
     ]
    }
   ],
   "source": [
    "x = 3\n",
    "print(x)\n",
    "x = int(3)\n",
    "print(x)\n",
    "x = int()\n",
    "print(x)\n",
    "y = float()\n",
    "print(y)\n",
    "s = str()\n",
    "print(s)\n",
    "lst = list()\n",
    "print(lst)"
   ]
  },
  {
   "cell_type": "markdown",
   "metadata": {
    "slideshow": {
     "slide_type": "slide"
    }
   },
   "source": [
    "<h3><font color='#004b87'>Type conversion</font></h3>\n",
    "<p></p>\n",
    "<b>Implicit type conversion</b>\n",
    "<li>When evaluating an expression that contains operands of different type, operands must first be converted to the same type</li>\n",
    "<li>Operands are converted to the type that “contains the others”</li>\n",
    "<p></p>\n",
    "<b>Explicit type conversion</b> \n",
    "<p></p>\n",
    "   <li>Constructors can be used to explicitly convert types</li>\n",
    "<p></p>\n",
    "    <b>int() creates an int object</b> \n",
    "    <li>from a float object, by removing decimal part</li>\n",
    "    <li>from a str object, if it represents an integer</li>\n",
    "<p></p>\n",
    "<b>float() creates a float object</b> \n",
    "    <li>from an int object, if it is not too big</li>\n",
    "    <li>from a string, if it represents a number</li>\n",
    "<p></p>\n",
    "<b>str() creates a str object</b> \n",
    "    <li>the string representation of the object value</li>\n",
    "    "
   ]
  },
  {
   "cell_type": "code",
   "execution_count": 92,
   "metadata": {
    "slideshow": {
     "slide_type": "fragment"
    }
   },
   "outputs": [
    {
     "name": "stdout",
     "output_type": "stream",
     "text": [
      "345\n",
      "34.5\n",
      "345345\n"
     ]
    }
   ],
   "source": [
    "print(str(345))\n",
    "print(str(34.5))\n",
    "x = str(345)\n",
    "print(x*2)"
   ]
  },
  {
   "cell_type": "markdown",
   "metadata": {},
   "source": [
    "NOTE: in the above cell \"345\" is defined as a string so x* 2 will not produce \"690\" like it would if \"345\" were to be defined as an integer."
   ]
  },
  {
   "cell_type": "markdown",
   "metadata": {
    "slideshow": {
     "slide_type": "slide"
    }
   },
   "source": [
    "<h3><font color='#004b87'>Class and  class methods</font></h3>\n",
    "<p></p>\n",
    "<li>Once again: In Python, every value is stored in memory as an object, every object belongs to a class (i.e., has a type), and the object’s class determines what operations can be performed on it</li>\n",
    "<li>We saw the operations that can be performed on classes int and float</li>\n",
    "<li>The list class supports:</li>\n",
    "<ul>\n",
    "    <li>operators such as +, *, in, [], etc.</li>\n",
    "    <li>methods such as  append(), count(), remove(), reverse(), etc.</li>\n",
    "</ul>"
   ]
  },
  {
   "cell_type": "code",
   "execution_count": 24,
   "metadata": {
    "slideshow": {
     "slide_type": "fragment"
    }
   },
   "outputs": [
    {
     "name": "stdout",
     "output_type": "stream",
     "text": [
      "['goldfish', 'goldfish', 'goldfish']\n",
      "['goldfish', 'cat', 'dog']\n",
      "False\n",
      "dog\n"
     ]
    }
   ],
   "source": [
    "fish = ['goldfish']\n",
    "myPets = ['cat', 'dog']\n",
    "print(fish * 3)\n",
    "pets = fish + myPets\n",
    "print(pets)\n",
    "print('frog' in pets)\n",
    "print(pets[-1])"
   ]
  },
  {
   "cell_type": "markdown",
   "metadata": {
    "slideshow": {
     "slide_type": "slide"
    }
   },
   "source": [
    "<h3><font color='#004b87'>Class and  class methods</font></h3>\n",
    "<p></p>\n",
    "As programs get bigger and more complicated, they get more difficult to read. Formal languages are dense, and it is often difficult to look at a piece of code and figure out what it is doing, or why\n",
    "For this reason, it is a good idea to add notes to your programs to explain in natural language what the program is doing. These notes are called comments, and in Python they start with the # symbol:\n",
    "\n"
   ]
  },
  {
   "cell_type": "code",
   "execution_count": 23,
   "metadata": {
    "slideshow": {
     "slide_type": "fragment"
    }
   },
   "outputs": [],
   "source": [
    "# compute the percentage of the hour that has elapsed\n",
    "minute = 2\n",
    "percentage = (minute * 100) / 60"
   ]
  },
  {
   "cell_type": "markdown",
   "metadata": {
    "slideshow": {
     "slide_type": "slide"
    }
   },
   "source": [
    "<h3><font color='#004b87'>Python Standard Library</font></h3>\n",
    "<p></p>\n",
    "The core Python programming language comes with functions such as\n",
    "max() and sum() and classes such as int, str, and list. \n",
    "<p></p>\n",
    "Many more functions and classes are defined in the Python Standard Library to support\n",
    "<p></p>\n",
    "   <li>Network programming</li>\n",
    "   <li>Web application programming</li>\n",
    "   <li>Graphical user interface (GUI) development</li>\n",
    "   <li>Database programming</li>\n",
    "   <li>Mathematical functions</li>\n",
    "   <li>Pseudorandom number generators</li>\n",
    "   <li>lMedia processing, etc.</li>\n",
    "<p></p>  \n",
    "The Python Standard Library functions and classes are organized into components called modules."
   ]
  },
  {
   "cell_type": "markdown",
   "metadata": {
    "slideshow": {
     "slide_type": "slide"
    }
   },
   "source": [
    "<h3><font color='#004b87'>Standard Library module math</font></h3>\n",
    "<p></p>\n",
    "The core Python language does not have a square root function \n",
    "<p></p>\n",
    "A module must be explicitly imported into the execution environment:\n",
    "<p></p>\n",
    "   <li>The prefix math. must be present when using function sqrt()</li>\n",
    "   <li>The math module is a library of mathematical functions and constants</li>\n"
   ]
  },
  {
   "cell_type": "code",
   "execution_count": 25,
   "metadata": {
    "slideshow": {
     "slide_type": "fragment"
    }
   },
   "outputs": [
    {
     "name": "stdout",
     "output_type": "stream",
     "text": [
      "2.0\n"
     ]
    },
    {
     "ename": "NameError",
     "evalue": "name 'sqrt' is not defined",
     "output_type": "error",
     "traceback": [
      "\u001b[1;31m---------------------------------------------------------------------------\u001b[0m",
      "\u001b[1;31mNameError\u001b[0m                                 Traceback (most recent call last)",
      "\u001b[1;32m<ipython-input-25-7f0362c968ee>\u001b[0m in \u001b[0;36m<module>\u001b[1;34m\u001b[0m\n\u001b[0;32m      1\u001b[0m \u001b[1;32mimport\u001b[0m \u001b[0mmath\u001b[0m\u001b[1;33m\u001b[0m\u001b[1;33m\u001b[0m\u001b[0m\n\u001b[0;32m      2\u001b[0m \u001b[0mprint\u001b[0m\u001b[1;33m(\u001b[0m\u001b[0mmath\u001b[0m\u001b[1;33m.\u001b[0m\u001b[0msqrt\u001b[0m\u001b[1;33m(\u001b[0m\u001b[1;36m4\u001b[0m\u001b[1;33m)\u001b[0m\u001b[1;33m)\u001b[0m\u001b[1;33m\u001b[0m\u001b[1;33m\u001b[0m\u001b[0m\n\u001b[1;32m----> 3\u001b[1;33m \u001b[0mprint\u001b[0m\u001b[1;33m(\u001b[0m\u001b[0msqrt\u001b[0m\u001b[1;33m(\u001b[0m\u001b[1;36m4\u001b[0m\u001b[1;33m)\u001b[0m\u001b[1;33m)\u001b[0m\u001b[1;33m\u001b[0m\u001b[1;33m\u001b[0m\u001b[0m\n\u001b[0m\u001b[0;32m      4\u001b[0m \u001b[0mprint\u001b[0m\u001b[1;33m(\u001b[0m\u001b[0mmath\u001b[0m\u001b[1;33m.\u001b[0m\u001b[0mcos\u001b[0m\u001b[1;33m(\u001b[0m\u001b[1;36m0\u001b[0m\u001b[1;33m)\u001b[0m\u001b[1;33m)\u001b[0m\u001b[1;33m\u001b[0m\u001b[1;33m\u001b[0m\u001b[0m\n\u001b[0;32m      5\u001b[0m \u001b[0mprint\u001b[0m\u001b[1;33m(\u001b[0m\u001b[0mmath\u001b[0m\u001b[1;33m.\u001b[0m\u001b[0mlog\u001b[0m\u001b[1;33m(\u001b[0m\u001b[1;36m8\u001b[0m\u001b[1;33m)\u001b[0m\u001b[1;33m)\u001b[0m\u001b[1;33m\u001b[0m\u001b[1;33m\u001b[0m\u001b[0m\n",
      "\u001b[1;31mNameError\u001b[0m: name 'sqrt' is not defined"
     ]
    }
   ],
   "source": [
    "import math\n",
    "print(math.sqrt(4))\n",
    "print(sqrt(4))"
   ]
  },
  {
   "cell_type": "markdown",
   "metadata": {},
   "source": [
    "NOTE: need \"math.\" in front of the \"sqrt\" function"
   ]
  },
  {
   "cell_type": "code",
   "execution_count": 26,
   "metadata": {
    "slideshow": {
     "slide_type": "fragment"
    }
   },
   "outputs": [
    {
     "name": "stdout",
     "output_type": "stream",
     "text": [
      "1.0\n",
      "2.0794415416798357\n",
      "3.0\n",
      "3.141592653589793\n"
     ]
    }
   ],
   "source": [
    "print(math.cos(0))\n",
    "print(math.log(8))\n",
    "print(math.log(8, 2))\n",
    "print(math.pi)"
   ]
  },
  {
   "cell_type": "markdown",
   "metadata": {
    "slideshow": {
     "slide_type": "slide"
    }
   },
   "source": [
    "<h3><font color='#004b87'>Exercises</font></h3>\n",
    "<p></p>\n",
    "Write a Python expression that assigns to variable c\n",
    "<p></p>\n",
    "   <ol>\n",
    "    <li>The length of the hypotenuse in a right triangle whose other two sides have lengths 3 and 4</li>\n",
    "    <li>The value of the Boolean expression that evaluates whether the length of the above hypotenuse is 5</li>\n",
    "    <li>The area of a disk of radius 10</li>\n",
    "    <li>The value of the Boolean expression that checks whether a point with coordinates (5, 5) is inside a circle with center (0,0) and radius</li>\n",
    "   </ol>"
   ]
  },
  {
   "cell_type": "code",
   "execution_count": 31,
   "metadata": {
    "slideshow": {
     "slide_type": "skip"
    }
   },
   "outputs": [
    {
     "name": "stdout",
     "output_type": "stream",
     "text": [
      "5.0\n",
      "False\n",
      "314.1592653589793\n",
      "True\n"
     ]
    }
   ],
   "source": [
    "# Try Exercises here\n",
    "\n",
    "#1 hypotenuse: c = sqrt(a^2 + b^2)\n",
    "import math\n",
    "print(math.sqrt(3**2 + 4**2))\n",
    "\n",
    "#2 \n",
    "print(math.sqrt(3**2 + 4**2)>5.0)\n",
    "\n",
    "#3 Area of a circle = pi*r^2\n",
    "print(math.pi*(10**2))\n",
    "\n",
    "#4 Let radius = 10\n",
    "print(((5-0)**2 + (5-0)**2)<10**2)"
   ]
  },
  {
   "cell_type": "markdown",
   "metadata": {
    "slideshow": {
     "slide_type": "slide"
    }
   },
   "source": [
    "<h2><font color='#004b87'>Imperative Programming</font></h2>\n",
    "<p></p>"
   ]
  },
  {
   "cell_type": "markdown",
   "metadata": {
    "slideshow": {
     "slide_type": "fragment"
    }
   },
   "source": [
    "<h3><font color='#004b87'>Python program</font></h3>\n",
    "<p></p>\n",
    "A Python program is a sequence of Python statements\n",
    "<p></p>\n",
    "   <li>Stored in a text file called a Python module</li>\n",
    "   <li>Executed using an IDE or “from the command line”</li>\n",
    "   \n",
    "   <center><img src=\"Picture11.png\"></center>"
   ]
  },
  {
   "cell_type": "code",
   "execution_count": 28,
   "metadata": {
    "slideshow": {
     "slide_type": "fragment"
    }
   },
   "outputs": [
    {
     "name": "stdout",
     "output_type": "stream",
     "text": [
      "Hello Python developer...\n",
      "Welcome to the world of Python!\n"
     ]
    }
   ],
   "source": [
    "line1 = 'Hello Python developer...'\n",
    "line2 = 'Welcome to the world of Python!'\n",
    "print(line1)\n",
    "print(line2)"
   ]
  },
  {
   "cell_type": "markdown",
   "metadata": {
    "slideshow": {
     "slide_type": "slide"
    }
   },
   "source": [
    "<h3><font color='#004b87'>Print Function</font></h3>\n",
    "<p></p>\n",
    "Function print() prints its input argument to the Notebook window\n",
    "<p></p>\n",
    "   <li>The argument can be any object: an integer, a float, a string, a list, …</li>\n",
    "   \n",
    "   <li>Strings are printed without quotes  and “to be read by people”, rather than “to be interpreted by Python”, </li>\n",
    "   <li>The “string representation” of the object is printed</li>"
   ]
  },
  {
   "cell_type": "code",
   "execution_count": 29,
   "metadata": {
    "slideshow": {
     "slide_type": "fragment"
    }
   },
   "outputs": [
    {
     "name": "stdout",
     "output_type": "stream",
     "text": [
      "0\n",
      "0.0\n",
      "zero\n",
      "[0, 1, 'two']\n"
     ]
    }
   ],
   "source": [
    "print(0)\n",
    "print(0.0)\n",
    "print('zero')\n",
    "print([0,1,'two'])"
   ]
  },
  {
   "cell_type": "markdown",
   "metadata": {
    "slideshow": {
     "slide_type": "slide"
    }
   },
   "source": [
    "<h3><font color='#004b87'>Built-in function input()</font></h3>\n",
    "<p></p>\n",
    "Function input() requests and reads input from the user interactively\n",
    "<p></p>\n",
    "   <li>It’s (optional) input argument is the request message</li>   \n",
    "   <li>Typically used on the right side of an assignment statement</li>\n",
    "<p></p>\n",
    "When executed:\n",
    "   <li>The input request message is printed</li>\n",
    "   <li>The user enters the input</li>\n",
    "   <li>The string typed by the user is assigned to the variable on the left side of the assignment statement</li>"
   ]
  },
  {
   "cell_type": "code",
   "execution_count": 93,
   "metadata": {
    "slideshow": {
     "slide_type": "fragment"
    }
   },
   "outputs": [
    {
     "name": "stdout",
     "output_type": "stream",
     "text": [
      "Enter your name: Ethan\n"
     ]
    }
   ],
   "source": [
    "name = input('Enter your name: ')"
   ]
  },
  {
   "cell_type": "markdown",
   "metadata": {
    "slideshow": {
     "slide_type": "slide"
    }
   },
   "source": [
    "<h3><font color='#004b87'>Built-in function eval()</font></h3>\n",
    "<p></p>\n",
    "Function input() evaluates anything the user enters as a string\n",
    "<p></p>\n",
    "What if we want the user to interactively enter non-string input such as a number?\n",
    "<p></p>\n",
    "   <li>Solution 1: Use type conversion</li>   \n",
    "   <li>Solution 2: Use function eval()</li>\n",
    "   <li>Takes a string as input and evaluates it as a Python expression</li>"
   ]
  },
  {
   "cell_type": "code",
   "execution_count": 31,
   "metadata": {
    "slideshow": {
     "slide_type": "fragment"
    }
   },
   "outputs": [
    {
     "name": "stdout",
     "output_type": "stream",
     "text": [
      "Enter your age: 18\n"
     ]
    }
   ],
   "source": [
    "age = input('Enter your age: ')"
   ]
  },
  {
   "cell_type": "code",
   "execution_count": 32,
   "metadata": {
    "slideshow": {
     "slide_type": "fragment"
    }
   },
   "outputs": [
    {
     "data": {
      "text/plain": [
       "'18'"
      ]
     },
     "execution_count": 32,
     "metadata": {},
     "output_type": "execute_result"
    }
   ],
   "source": [
    "age\n"
   ]
  },
  {
   "cell_type": "markdown",
   "metadata": {},
   "source": [
    "NOTE: '18' is printed as a string. Do not want that so see code before"
   ]
  },
  {
   "cell_type": "code",
   "execution_count": 33,
   "metadata": {
    "slideshow": {
     "slide_type": "fragment"
    }
   },
   "outputs": [
    {
     "name": "stdout",
     "output_type": "stream",
     "text": [
      "18\n"
     ]
    }
   ],
   "source": [
    "print(int(age))"
   ]
  },
  {
   "cell_type": "markdown",
   "metadata": {
    "slideshow": {
     "slide_type": "slide"
    }
   },
   "source": [
    "<h3><font color='#004b87'>Exercise</font></h3>\n",
    "<p></p>\n",
    "Write a program that:\n",
    "<p></p>\n",
    "   <li>Requests the user’s name</li>   \n",
    "   <li>Requests the user’s age</li>\n",
    "   <li>Computes the user’s age one year from now and prints the message shown</li>"
   ]
  },
  {
   "cell_type": "code",
   "execution_count": 48,
   "metadata": {
    "slideshow": {
     "slide_type": "skip"
    }
   },
   "outputs": [
    {
     "name": "stdout",
     "output_type": "stream",
     "text": [
      "Enter your name: Carolyn\n",
      "Enter your age: 33\n",
      "Carolyn, next year you will be 34 years old.\n"
     ]
    }
   ],
   "source": [
    "#Try Exercise Here\n",
    "name = input('Enter your name: ')\n",
    "age = input('Enter your age: ')\n",
    "\n",
    "print(name + ', next year you will be ' + str(int(age)+1)+ ' years old.')      "
   ]
  },
  {
   "cell_type": "markdown",
   "metadata": {
    "slideshow": {
     "slide_type": "slide"
    }
   },
   "source": [
    "<h3><font color='#004b87'>Exercise II</font></h3>\n",
    "<p></p>\n",
    "Write a program that:\n",
    "<p></p>\n",
    "   <li>Requests the user’s name</li>   \n",
    "   <li>Requests the user’s age</li>\n",
    "   <li>Prints a message saying whether the user is eligible to vote or not</li>\n",
    "   \n",
    "<p></p>   Need a way to execute a Python statement\n",
    "if a condition is true  \n"
   ]
  },
  {
   "cell_type": "code",
   "execution_count": 52,
   "metadata": {},
   "outputs": [
    {
     "name": "stdout",
     "output_type": "stream",
     "text": [
      "Enter your name: Carolyn\n",
      "Enter your age: 33\n",
      "Carolyn, you can vote!\n",
      "Voting is important.\n"
     ]
    }
   ],
   "source": [
    "#Try exercise here\n",
    "name = input('Enter your name: ')\n",
    "age = input('Enter your age: ')\n",
    "\n",
    "int(age)\n",
    "if int(age) >18:\n",
    "    print(name + ', you can vote!')\n",
    "print('Voting is important.')"
   ]
  },
  {
   "cell_type": "markdown",
   "metadata": {
    "slideshow": {
     "slide_type": "slide"
    }
   },
   "source": [
    "<h3><font color='#004b87'>One Way If Statment</font></h3>\n",
    "<p></p>\n",
    "   <center><img src=\"Picture12.png\"></center>"
   ]
  },
  {
   "cell_type": "code",
   "execution_count": 36,
   "metadata": {
    "slideshow": {
     "slide_type": "fragment"
    }
   },
   "outputs": [
    {
     "name": "stdout",
     "output_type": "stream",
     "text": [
      "Goodbye.\n"
     ]
    }
   ],
   "source": [
    "temp = 50\n",
    "if temp > 86:\n",
    "    print('It is hot!')\n",
    "    print('Be sure to drink liquids.')\n",
    "print('Goodbye.')\n"
   ]
  },
  {
   "cell_type": "markdown",
   "metadata": {
    "slideshow": {
     "slide_type": "slide"
    }
   },
   "source": [
    "<h3><font color='#004b87'>Exercise</font></h3>\n",
    "<p></p>\n",
    "Write a program that:\n",
    "<p></p>\n",
    "   <li>If age is greater than 62 then print 'You can get Social Security benefits</li>   \n",
    "   <li>If string 'large bonuses' appears in string report then print 'Vacation time!’</li>\n",
    "   <li>If hits is greater than 10 and shield is 0 then print \"You're dead...\"</li>\n"
   ]
  },
  {
   "cell_type": "code",
   "execution_count": 86,
   "metadata": {
    "slideshow": {
     "slide_type": "skip"
    }
   },
   "outputs": [
    {
     "name": "stdout",
     "output_type": "stream",
     "text": [
      "You can get Social Security benefits.\n",
      "Goodbye.\n",
      " \n",
      "Nope.\n",
      " \n",
      "You're dead...\n"
     ]
    }
   ],
   "source": [
    "#Try Exercises here\n",
    "age = 63\n",
    "if age > 62:\n",
    "    print('You can get Social Security benefits.')\n",
    "print('Goodbye.')\n",
    " \n",
    "#the following print statement is to spread out the answers    \n",
    "print(' ')\n",
    "\n",
    "Report = 'Everyone is getting a small bonus this year!'\n",
    "if 'large bonus'in Report:\n",
    "    print('Vacation time!')\n",
    "print('Nope.')\n",
    "\n",
    "#the following print statement is to spread out the answers    \n",
    "print(' ')\n",
    "\n",
    "hits = 11 \n",
    "shield = 0\n",
    "if hits > 10 and shield == 0:\n",
    "    print('You\\'re dead...')"
   ]
  },
  {
   "cell_type": "markdown",
   "metadata": {
    "slideshow": {
     "slide_type": "slide"
    }
   },
   "source": [
    "<h3><font color='#004b87'>Indentation is critical</font></h3>\n",
    "<p></p>"
   ]
  },
  {
   "cell_type": "code",
   "execution_count": 37,
   "metadata": {
    "slideshow": {
     "slide_type": "fragment"
    }
   },
   "outputs": [
    {
     "name": "stdout",
     "output_type": "stream",
     "text": [
      "Goodbye.\n"
     ]
    }
   ],
   "source": [
    "if temp > 86:\n",
    "    print('It is hot!')\n",
    "    print('Drink liquids.')\n",
    "    print('Goodbye.')\n",
    "#versus\n",
    "\n",
    "if temp > 86:\n",
    "    print('It is hot!')\n",
    "    print('Drink liquids.')\n",
    "print('Goodbye.')"
   ]
  },
  {
   "cell_type": "markdown",
   "metadata": {
    "slideshow": {
     "slide_type": "fragment"
    }
   },
   "source": [
    "   <center><img src=\"Picture13.png\"></center>"
   ]
  },
  {
   "cell_type": "markdown",
   "metadata": {
    "slideshow": {
     "slide_type": "slide"
    }
   },
   "source": [
    "<h3><font color='#004b87'>Two-way if statement</font></h3>\n",
    "<p></p>\n",
    "<b>Syntax</b>"
   ]
  },
  {
   "cell_type": "code",
   "execution_count": null,
   "metadata": {
    "slideshow": {
     "slide_type": "fragment"
    }
   },
   "outputs": [],
   "source": [
    "if <condition>:\n",
    "    <indented code block 1>\n",
    "else:\n",
    "    <indented code block 2>\n",
    "<non-indented statement>\n"
   ]
  },
  {
   "cell_type": "code",
   "execution_count": 94,
   "metadata": {
    "scrolled": true,
    "slideshow": {
     "slide_type": "fragment"
    }
   },
   "outputs": [
    {
     "name": "stdout",
     "output_type": "stream",
     "text": [
      "It is not hot.\n",
      "Bring a jacket.\n",
      "Goodbye.\n"
     ]
    }
   ],
   "source": [
    "#Example: Change temperature as needed\n",
    "temp = 50\n",
    "if temp > 86:\n",
    "    print('It is hot!')\n",
    "    print('Be sure to drink liquids.')\n",
    "else:\n",
    "    print('It is not hot.')\n",
    "    print('Bring a jacket.')\n",
    "print('Goodbye.')"
   ]
  },
  {
   "cell_type": "markdown",
   "metadata": {
    "slideshow": {
     "slide_type": "fragment"
    }
   },
   "source": [
    "   <center><img src=\"Picture14.png\"></center>"
   ]
  },
  {
   "cell_type": "markdown",
   "metadata": {
    "slideshow": {
     "slide_type": "slide"
    }
   },
   "source": [
    "<h3><font color='#004b87'>Exercise</font></h3>\n",
    "<p></p>\n",
    "Write a program that:\n",
    "<p></p>\n",
    "   <li>Requests the user’s name</li>   \n",
    "   <li>Requests the user’s age</li>\n",
    "   <li>Prints a message saying whether the user is eligible to vote or not</li>"
   ]
  },
  {
   "cell_type": "code",
   "execution_count": 87,
   "metadata": {
    "slideshow": {
     "slide_type": "skip"
    }
   },
   "outputs": [
    {
     "name": "stdout",
     "output_type": "stream",
     "text": [
      "Enter your name: Carolyn\n",
      "Enter your age: 17\n",
      "Carolyn, you are too young to vote.\n",
      "Voting is important!\n"
     ]
    }
   ],
   "source": [
    "# Try exercises here\n",
    "name = input('Enter your name: ')\n",
    "age = input('Enter your age: ')\n",
    "\n",
    "int(age)\n",
    "if int(age) >18:\n",
    "    print(name + ', you can vote!')\n",
    "else:\n",
    "    print(name + ', you are too young to vote.')\n",
    "print('Voting is important!')"
   ]
  },
  {
   "cell_type": "markdown",
   "metadata": {
    "slideshow": {
     "slide_type": "slide"
    }
   },
   "source": [
    "<h3><font color='#004b87'>Execution control structures</font></h3>\n",
    "<p></p>\n",
    "   <li>Execution control structures</li>   \n",
    "   <li>Execution control structures are programming language statements that control which statements are executed, i.e., the execution flow of the program</li>\n",
    "   <li>The one-way and two-way if statements are, more specifically,  conditional structures</li>\n",
    "   <li>Iteration structures are execution control structures that enable the repetitive execution of a statement or a block of statements</li>\n",
    "   <li>The for loop statement is an iteration structure that executes a block of code for every item of a sequence </li>"
   ]
  },
  {
   "cell_type": "markdown",
   "metadata": {
    "slideshow": {
     "slide_type": "slide"
    }
   },
   "source": [
    "<h3><font color='#004b87'>The For Loop</font></h3>\n",
    "<p></p>\n",
    "Executes a block of code for every item of a sequence\n",
    "<p></p>\n",
    "   <li>If sequence is a string, items are its characters (single-character strings)</li> \n",
    "   \n",
    "<center><img src=\"Picture15.png\"></center>"
   ]
  },
  {
   "cell_type": "code",
   "execution_count": 42,
   "metadata": {
    "slideshow": {
     "slide_type": "fragment"
    }
   },
   "outputs": [
    {
     "name": "stdout",
     "output_type": "stream",
     "text": [
      "A\n",
      "p\n",
      "p\n",
      "l\n",
      "e\n"
     ]
    }
   ],
   "source": [
    "name = 'Apple'\n",
    "for char in name:\n",
    "    print(char)\n"
   ]
  },
  {
   "cell_type": "markdown",
   "metadata": {
    "slideshow": {
     "slide_type": "slide"
    }
   },
   "source": [
    "<h3><font color='#004b87'>The For Loop</font></h3>\n",
    "<p></p>\n",
    "Executes a block of code for every item of a sequence\n",
    "<p></p>\n",
    "   <li>Sequence can be a string, a list, …</li>\n",
    "   <li>Block of code must be indented</li>"
   ]
  },
  {
   "cell_type": "code",
   "execution_count": 43,
   "metadata": {
    "slideshow": {
     "slide_type": "fragment"
    }
   },
   "outputs": [
    {
     "name": "stdout",
     "output_type": "stream",
     "text": [
      "stop\n",
      "desktop\n",
      "top\n",
      "Done.\n"
     ]
    }
   ],
   "source": [
    "for word in ['stop', 'desktop', 'post', 'top']:\n",
    "    if 'top' in word:\n",
    "        print(word)\n",
    "print('Done.')\n"
   ]
  },
  {
   "cell_type": "markdown",
   "metadata": {
    "slideshow": {
     "slide_type": "slide"
    }
   },
   "source": [
    "<h3><font color='#004b87'>Exercise</font></h3>\n",
    "<p></p>\n",
    "Write a program that:\n",
    "<p></p>\n",
    "   <li>Requests a word from the user</li>   \n",
    "   <li>Prints the characters in the word from left to right, one per line</li>\n",
    "   "
   ]
  },
  {
   "cell_type": "code",
   "execution_count": 88,
   "metadata": {
    "slideshow": {
     "slide_type": "skip"
    }
   },
   "outputs": [
    {
     "name": "stdout",
     "output_type": "stream",
     "text": [
      "Please enter a word: potatoes\n",
      "p\n",
      "o\n",
      "t\n",
      "a\n",
      "t\n",
      "o\n",
      "e\n",
      "s\n"
     ]
    }
   ],
   "source": [
    "#Try exercises here\n",
    "word = input('Please enter a word: ')\n",
    "for char in word:\n",
    "    print(char)"
   ]
  },
  {
   "cell_type": "markdown",
   "metadata": {
    "slideshow": {
     "slide_type": "slide"
    }
   },
   "source": [
    "<h3><font color='#004b87'>Built-in function range()</font></h3>\n",
    "<p></p>\n",
    "Function range() is used to iterate over a sequence of numbers in a specified range\n",
    "<p></p>\n",
    "   <li>To iterate over the n numbers 0, 1, 2, …, n-1\n",
    "for i in range(n):</li>\n",
    "   <li>To iterate over the n numbers i, i+1, i+2, …, n-1\n",
    "for i in range(i, n):</li>\n",
    "   <li>To iterate over the n numbers i, i+c, i+2c, i+3c, …, n-1\n",
    "for i in range(i, n):</li>"
   ]
  },
  {
   "cell_type": "code",
   "execution_count": 45,
   "metadata": {},
   "outputs": [
    {
     "name": "stdout",
     "output_type": "stream",
     "text": [
      "2\n",
      "12\n"
     ]
    }
   ],
   "source": [
    "for i in range(2, 16, 10):\n",
    "        print(i)\n"
   ]
  },
  {
   "cell_type": "markdown",
   "metadata": {
    "slideshow": {
     "slide_type": "slide"
    }
   },
   "source": [
    "<h3><font color='#004b87'>Exercise</font></h3>\n",
    "<p></p>\n",
    "Write for loops that will print the following sequences:\n",
    "<p></p>\n",
    "   <li>0, 1, 2, 3, 4, 5, 6, 7, 8 , 9, 10</li>   \n",
    "   <li>1, 2, 3, 4, 5, 6, 7, 8, 9</li>\n",
    "   <li>0, 2, 4, 6, 8</li>\n",
    "   <li>1, 3, 5, 7, 9</li>\n",
    "   <li>20, 30, 40, 50, 60</li>"
   ]
  },
  {
   "cell_type": "code",
   "execution_count": 5,
   "metadata": {
    "slideshow": {
     "slide_type": "skip"
    }
   },
   "outputs": [
    {
     "name": "stdout",
     "output_type": "stream",
     "text": [
      "0\n",
      "1\n",
      "2\n",
      "3\n",
      "4\n",
      "5\n",
      "6\n",
      "7\n",
      "8\n",
      "9\n",
      "10\n",
      "1\n",
      "2\n",
      "3\n",
      "4\n",
      "5\n",
      "6\n",
      "7\n",
      "8\n",
      "9\n",
      "0\n",
      "2\n",
      "4\n",
      "6\n",
      "8\n",
      "1\n",
      "3\n",
      "5\n",
      "7\n",
      "9\n",
      "20\n",
      "30\n",
      "40\n",
      "50\n",
      "60\n"
     ]
    }
   ],
   "source": [
    "#Try exercises here\n",
    "for i in range(11):\n",
    "    print(i)\n",
    "    \n",
    "for i in range(1,10):\n",
    "    print(i)\n",
    "    \n",
    "for i in range(0,10,2):\n",
    "    print(i)\n",
    "\n",
    "for i in range(1,10,2):\n",
    "    print(i)\n",
    "\n",
    "for i in range(20,70,10):\n",
    "    print(i)"
   ]
  },
  {
   "cell_type": "markdown",
   "metadata": {
    "slideshow": {
     "slide_type": "slide"
    }
   },
   "source": [
    "<h3><font color='#004b87'>Defining new functions</font></h3>\n",
    "<p></p>\n",
    "A few built-in functions we have seen:\n",
    "<p></p>\n",
    "   <li>abs(), max(), len(), sum(), print()</li>\n",
    "<p></p>\n",
    "New functions can be defined using def\n",
    "<p></p>\n",
    "<li>def:  function definition keyword</li>\n",
    "<li>f:  name of function</li>\n",
    "<li>x:  variable name for input argument</li>"
   ]
  },
  {
   "cell_type": "code",
   "execution_count": 47,
   "metadata": {
    "slideshow": {
     "slide_type": "fragment"
    }
   },
   "outputs": [
    {
     "data": {
      "text/plain": [
       "11"
      ]
     },
     "execution_count": 47,
     "metadata": {},
     "output_type": "execute_result"
    }
   ],
   "source": [
    "def f(x):\n",
    "    res = x**2 + 10\n",
    "    return res\n",
    "f(1)"
   ]
  },
  {
   "cell_type": "markdown",
   "metadata": {
    "slideshow": {
     "slide_type": "slide"
    }
   },
   "source": [
    "<h3><font color='#004b87'>print() vs return</font></h3>\n",
    "<p></p>\n",
    "<li>Function returns value of res which can then be used in an expression</li>\n",
    "<li>Function prints value of res but does not return anything</li>\n"
   ]
  },
  {
   "cell_type": "markdown",
   "metadata": {},
   "source": [
    "NOTE: Res --> Result. Print just shows the value but it can't be used later."
   ]
  },
  {
   "cell_type": "code",
   "execution_count": 48,
   "metadata": {
    "slideshow": {
     "slide_type": "fragment"
    }
   },
   "outputs": [
    {
     "data": {
      "text/plain": [
       "14"
      ]
     },
     "execution_count": 48,
     "metadata": {},
     "output_type": "execute_result"
    }
   ],
   "source": [
    "def f(x):\n",
    "    res = x**2 + 10\n",
    "    return res\n",
    "def y(x):\n",
    "    res = x**2 + 10\n",
    "    print(res)\n",
    "f(2)"
   ]
  },
  {
   "cell_type": "code",
   "execution_count": 49,
   "metadata": {
    "slideshow": {
     "slide_type": "fragment"
    }
   },
   "outputs": [
    {
     "name": "stdout",
     "output_type": "stream",
     "text": [
      "14\n"
     ]
    }
   ],
   "source": [
    "y(2)"
   ]
  },
  {
   "cell_type": "code",
   "execution_count": 50,
   "metadata": {
    "slideshow": {
     "slide_type": "fragment"
    }
   },
   "outputs": [
    {
     "name": "stdout",
     "output_type": "stream",
     "text": [
      "14\n"
     ]
    },
    {
     "ename": "TypeError",
     "evalue": "unsupported operand type(s) for *: 'int' and 'NoneType'",
     "output_type": "error",
     "traceback": [
      "\u001b[1;31m---------------------------------------------------------------------------\u001b[0m",
      "\u001b[1;31mTypeError\u001b[0m                                 Traceback (most recent call last)",
      "\u001b[1;32m<ipython-input-50-fc85a0e0a573>\u001b[0m in \u001b[0;36m<module>\u001b[1;34m\u001b[0m\n\u001b[0;32m      1\u001b[0m \u001b[1;36m2\u001b[0m\u001b[1;33m*\u001b[0m\u001b[0mf\u001b[0m\u001b[1;33m(\u001b[0m\u001b[1;36m2\u001b[0m\u001b[1;33m)\u001b[0m\u001b[1;33m\u001b[0m\u001b[1;33m\u001b[0m\u001b[0m\n\u001b[1;32m----> 2\u001b[1;33m \u001b[1;36m2\u001b[0m\u001b[1;33m*\u001b[0m\u001b[0my\u001b[0m\u001b[1;33m(\u001b[0m\u001b[1;36m2\u001b[0m\u001b[1;33m)\u001b[0m\u001b[1;33m\u001b[0m\u001b[1;33m\u001b[0m\u001b[0m\n\u001b[0m",
      "\u001b[1;31mTypeError\u001b[0m: unsupported operand type(s) for *: 'int' and 'NoneType'"
     ]
    }
   ],
   "source": [
    "2*f(2)\n",
    "2*y(2)"
   ]
  },
  {
   "cell_type": "markdown",
   "metadata": {
    "slideshow": {
     "slide_type": "slide"
    }
   },
   "source": [
    "<h3><font color='#004b87'>Defining new functions</font></h3>\n",
    "<p></p>\n",
    "The general format of a function definition is"
   ]
  },
  {
   "cell_type": "code",
   "execution_count": null,
   "metadata": {
    "slideshow": {
     "slide_type": "fragment"
    }
   },
   "outputs": [],
   "source": [
    "def <function name> (<0 or more variables>):\n",
    "    <indented function body>\n"
   ]
  },
  {
   "cell_type": "markdown",
   "metadata": {
    "slideshow": {
     "slide_type": "slide"
    }
   },
   "source": [
    "Let’s develop function hyp() that:\n",
    "<p></p>\n",
    "<li>Takes two numbers as input (side lengths a and b of above right triangle ) </li>\n",
    "<li>Returns the length of the hypotenuse c</li>\n"
   ]
  },
  {
   "cell_type": "code",
   "execution_count": 51,
   "metadata": {
    "slideshow": {
     "slide_type": "fragment"
    }
   },
   "outputs": [],
   "source": [
    "import math\n",
    "def hyp(a, b):\n",
    "    res = math.sqrt(a**2 + b**2)\n",
    "    return res\n"
   ]
  },
  {
   "cell_type": "code",
   "execution_count": 52,
   "metadata": {
    "slideshow": {
     "slide_type": "fragment"
    }
   },
   "outputs": [
    {
     "data": {
      "text/plain": [
       "6.4031242374328485"
      ]
     },
     "execution_count": 52,
     "metadata": {},
     "output_type": "execute_result"
    }
   ],
   "source": [
    "hyp(5,4)"
   ]
  },
  {
   "cell_type": "markdown",
   "metadata": {
    "slideshow": {
     "slide_type": "slide"
    }
   },
   "source": [
    "<h3><font color='#004b87'>Exercise</font></h3>\n",
    "<p></p>\n",
    "Write function hello() that:\n",
    "<p></p>\n",
    "   <li>takes a name (i.e., a string) as input</li>   \n",
    "   <li>prints a personalized welcome message</li>\n",
    " <p></p>  \n",
    "   Note that the function does not return anything\n",
    " <p></p> \n",
    "Write function rng() that:\n",
    "<p></p>\n",
    "   <li>takes a list of numbers as input</li>   \n",
    "   <li>returns the range of the numbers in the list</li>\n",
    " <p></p>  \n",
    "The range is the difference between the largest and smallest number in the list\n"
   ]
  },
  {
   "cell_type": "code",
   "execution_count": 1,
   "metadata": {},
   "outputs": [
    {
     "name": "stdout",
     "output_type": "stream",
     "text": [
      "Enter your name: Carolyn\n",
      "Hello Carolyn!\n"
     ]
    }
   ],
   "source": [
    "#Try Exercise here\n",
    "name = input('Enter your name: ')\n",
    "def hello():\n",
    "    print('Hello ' + name + '!')\n",
    "    \n",
    "#Here is where we call on the function that was defined\n",
    "hello()"
   ]
  },
  {
   "cell_type": "code",
   "execution_count": 50,
   "metadata": {},
   "outputs": [],
   "source": [
    "#create an empty list\n",
    "lst = []"
   ]
  },
  {
   "cell_type": "markdown",
   "metadata": {
    "slideshow": {
     "slide_type": "slide"
    }
   },
   "source": [
    "<h2><font color='#004b87'>Text Data, File I/O, and Exceptions</font></h2>"
   ]
  },
  {
   "cell_type": "markdown",
   "metadata": {
    "slideshow": {
     "slide_type": "fragment"
    }
   },
   "source": [
    "<h3><font color='#004b87'>String representations</font></h3>\n",
    "<p></p>\n",
    "A string value is represented as a sequence of characters delimited by quotes \n",
    "<li>What if ' or \" (or both) is one of the string characters? </li>\n",
    "<li>Escape sequence \\' or \\\" is used to indicate that a quote is not the string delimiter but is part of the string value </li>\n",
    "<li>Function print() interprets the escape sequence  </li>\n",
    "<li>Another example:</li>\n",
    "<li>\\n is an escape sequence that represents a new line </li>"
   ]
  },
  {
   "cell_type": "code",
   "execution_count": 53,
   "metadata": {
    "slideshow": {
     "slide_type": "fragment"
    }
   },
   "outputs": [
    {
     "ename": "SyntaxError",
     "evalue": "invalid syntax (<ipython-input-53-581a2e804904>, line 3)",
     "output_type": "error",
     "traceback": [
      "\u001b[1;36m  File \u001b[1;32m\"<ipython-input-53-581a2e804904>\"\u001b[1;36m, line \u001b[1;32m3\u001b[0m\n\u001b[1;33m    excuse = 'I'm sick'\u001b[0m\n\u001b[1;37m                ^\u001b[0m\n\u001b[1;31mSyntaxError\u001b[0m\u001b[1;31m:\u001b[0m invalid syntax\n"
     ]
    }
   ],
   "source": [
    "excuse = 'I am sick'\n",
    "excuse = \"I am sick\"\n",
    "excuse = 'I'm sick'\n"
   ]
  },
  {
   "cell_type": "code",
   "execution_count": 54,
   "metadata": {
    "slideshow": {
     "slide_type": "fragment"
    }
   },
   "outputs": [
    {
     "ename": "SyntaxError",
     "evalue": "invalid syntax (<ipython-input-54-b302fac9b5f9>, line 2)",
     "output_type": "error",
     "traceback": [
      "\u001b[1;36m  File \u001b[1;32m\"<ipython-input-54-b302fac9b5f9>\"\u001b[1;36m, line \u001b[1;32m2\u001b[0m\n\u001b[1;33m    excuse = \"I'm \"sick\"\"\u001b[0m\n\u001b[1;37m                   ^\u001b[0m\n\u001b[1;31mSyntaxError\u001b[0m\u001b[1;31m:\u001b[0m invalid syntax\n"
     ]
    }
   ],
   "source": [
    "excuse = \"I'm sick\"\n",
    "excuse = \"I'm \"sick\"\"\n"
   ]
  },
  {
   "cell_type": "code",
   "execution_count": 55,
   "metadata": {
    "slideshow": {
     "slide_type": "fragment"
    }
   },
   "outputs": [
    {
     "name": "stdout",
     "output_type": "stream",
     "text": [
      "I'm \"sick\"\n"
     ]
    }
   ],
   "source": [
    "excuse = 'I\\'m \"sick\"'\n",
    "excuse='I\\'m \"sick\"'\n",
    "print(excuse)\n"
   ]
  },
  {
   "cell_type": "markdown",
   "metadata": {
    "slideshow": {
     "slide_type": "slide"
    }
   },
   "source": [
    "<h3><font color='#004b87'>Indexing operator, revisited</font></h3>\n",
    "<p></p>\n",
    "A string value is represented as a sequence of characters delimited by quotes \n",
    "<li>The indexing operator can also be used to obtain a slice of a string</li>\n",
    "<li>s[i:j] : the slice of s starting at index i and ending before index j</li>\n",
    "<li>s[i:] : the slice of s starting at index i</li>\n",
    "<li>s[:j] : the slice of s ending before index j</li>\n"
   ]
  },
  {
   "attachments": {
    "Picture16.png": {
     "image/png": "[encoded data removed]"
    }
   },
   "cell_type": "markdown",
   "metadata": {
    "slideshow": {
     "slide_type": "fragment"
    }
   },
   "source": [
    "![Picture16.png](attachment:Picture16.png)"
   ]
  },
  {
   "cell_type": "code",
   "execution_count": 56,
   "metadata": {
    "slideshow": {
     "slide_type": "slide"
    }
   },
   "outputs": [
    {
     "name": "stdout",
     "output_type": "stream",
     "text": [
      "Ap\n",
      "ppl\n",
      "ple\n"
     ]
    }
   ],
   "source": [
    "s = 'Apple'\n",
    "print(s[0:2])\n",
    "print(s[1:4])\n",
    "print(s[2:5])"
   ]
  },
  {
   "cell_type": "markdown",
   "metadata": {
    "slideshow": {
     "slide_type": "slide"
    }
   },
   "source": [
    "<h3><font color='#004b87'>Exercise</font></h3>\n",
    "<p></p>\n",
    "The indexing operator can also be used to obtain slices of a list as well. Let list lst refer to list\n",
    "<p></p>\n",
    "['a', 'b', 'c', 'd', 'e', 'f', 'g', 'h’]\n",
    "<p></p>\n",
    "Write Python expressions using list lst and the indexing operator that evaluate to:\n",
    "<p></p>\n",
    "   <li>['a', 'b', 'c', 'd']</li>   \n",
    "   <li>['d', 'e', 'f']</li>\n",
    "   <li>['d']</li>\n",
    "   <li>['f', 'g']</li>\n",
    "   <li>['d', 'e', 'f', 'g’, 'h']</li>\n",
    "   <li>['f', 'g', 'h']</li>\n",
    " <p></p>"
   ]
  },
  {
   "cell_type": "code",
   "execution_count": 63,
   "metadata": {},
   "outputs": [
    {
     "name": "stdout",
     "output_type": "stream",
     "text": [
      "['a', 'b', 'c', 'd']\n",
      "['d', 'e', 'f']\n",
      "['d']\n",
      "['f', 'g']\n",
      "['d', 'e', 'f', 'g', 'h']\n",
      "['f', 'g', 'h']\n"
     ]
    }
   ],
   "source": [
    "lst = ['a','b','c','d','e','f','g','h']\n",
    "print(lst[0:4])\n",
    "print(lst[3:6])\n",
    "print(lst[3:4])\n",
    "print(lst[-3:-1])\n",
    "print(lst[3:])\n",
    "print(lst[5:])"
   ]
  },
  {
   "cell_type": "markdown",
   "metadata": {
    "slideshow": {
     "slide_type": "slide"
    }
   },
   "source": [
    "<h3><font color='#004b87'>String methods</font></h3>\n",
    "<p></p>\n",
    "\n",
    "\n",
    "|Usage               | Explanation                                                      |                         \n",
    "| :---               |-----------------:                                                |          \n",
    "| s.capitalize()     | returns a copy of s with first character capitalized             |        \n",
    "| s.count(target)    | returns the number of occurences of target in s                  |  \n",
    "| s.find(target)     | returns the index of the first occurrence of target in s         |  \n",
    "| s.lower()           | returns lowercase copy of s                                      |  \n",
    "| s.replace(old, new)| returns copy of s with every occurrence of old replaced with new |  \n",
    "| s.split(sep)       | returns list of substrings of s, delimited by sep                |  \n",
    "| s.strip()          | returns copy of s without leading and trailing whitespace        |  \n",
    "| s.upper()          | returns uppercase copy of s                                      |  "
   ]
  },
  {
   "cell_type": "markdown",
   "metadata": {
    "slideshow": {
     "slide_type": "slide"
    }
   },
   "source": [
    "<h3><font color='#004b87'>print() revisted</font></h3>\n",
    "<p></p>\n",
    "Function print() takes 0 or more arguments and prints their string representation in the shell\n"
   ]
  },
  {
   "cell_type": "code",
   "execution_count": 58,
   "metadata": {
    "slideshow": {
     "slide_type": "fragment"
    }
   },
   "outputs": [
    {
     "name": "stdout",
     "output_type": "stream",
     "text": [
      "morels 139 0.5 69.5\n",
      "morels; 139; 0.5; 69.5\n",
      "morels:::139:::0.5:::69.5\n"
     ]
    }
   ],
   "source": [
    "prod = 'morels'\n",
    "cost = 139\n",
    "wght = 1/2\n",
    "total = cost * wght\n",
    "print(prod, cost, wght, total)\n",
    "print(prod, cost, wght, total, sep='; ')\n",
    "print(prod, cost, wght, total, sep=':::')"
   ]
  },
  {
   "cell_type": "code",
   "execution_count": 60,
   "metadata": {
    "slideshow": {
     "slide_type": "fragment"
    }
   },
   "outputs": [
    {
     "name": "stdout",
     "output_type": "stream",
     "text": [
      "boa\n",
      "cat\n",
      "dog\n",
      "boa, cat, dog, boa!!! cat!!! dog!!! "
     ]
    }
   ],
   "source": [
    "pets = ['boa', 'cat', 'dog']\n",
    "for pet in pets:\n",
    "    print(pet)\n",
    "\n",
    "for pet in pets:\n",
    "    print(pet, end=', ')\n",
    "\n",
    "for pet in pets:\n",
    "    print(pet, end='!!! ')\n"
   ]
  },
  {
   "cell_type": "markdown",
   "metadata": {
    "slideshow": {
     "slide_type": "slide"
    }
   },
   "source": [
    "<h3><font color='#004b87'>General output formatting</font></h3>\n",
    "<p></p>\n",
    "Function print() takes 0 or more arguments and prints their string representation in the shell"
   ]
  },
  {
   "cell_type": "code",
   "execution_count": 61,
   "metadata": {
    "slideshow": {
     "slide_type": "fragment"
    }
   },
   "outputs": [
    {
     "ename": "TypeError",
     "evalue": "unsupported operand type(s) for +: 'int' and 'str'",
     "output_type": "error",
     "traceback": [
      "\u001b[1;31m---------------------------------------------------------------------------\u001b[0m",
      "\u001b[1;31mTypeError\u001b[0m                                 Traceback (most recent call last)",
      "\u001b[1;32m<ipython-input-61-e78fdccc1ef2>\u001b[0m in \u001b[0;36m<module>\u001b[1;34m\u001b[0m\n\u001b[0;32m      6\u001b[0m \u001b[0mminute\u001b[0m \u001b[1;33m=\u001b[0m \u001b[1;36m45\u001b[0m\u001b[1;33m\u001b[0m\u001b[1;33m\u001b[0m\u001b[0m\n\u001b[0;32m      7\u001b[0m \u001b[0msecond\u001b[0m \u001b[1;33m=\u001b[0m \u001b[1;36m33\u001b[0m\u001b[1;33m\u001b[0m\u001b[1;33m\u001b[0m\u001b[0m\n\u001b[1;32m----> 8\u001b[1;33m \u001b[0mprint\u001b[0m\u001b[1;33m(\u001b[0m\u001b[0mhour\u001b[0m\u001b[1;33m+\u001b[0m\u001b[1;34m':'\u001b[0m\u001b[1;33m+\u001b[0m\u001b[0mminute\u001b[0m\u001b[1;33m+\u001b[0m\u001b[1;34m':'\u001b[0m\u001b[1;33m+\u001b[0m\u001b[0msecond\u001b[0m\u001b[1;33m)\u001b[0m\u001b[1;33m\u001b[0m\u001b[1;33m\u001b[0m\u001b[0m\n\u001b[0m",
      "\u001b[1;31mTypeError\u001b[0m: unsupported operand type(s) for +: 'int' and 'str'"
     ]
    }
   ],
   "source": [
    "weekday = 'Wednesday'\n",
    "month = 'March'\n",
    "day = 10\n",
    "year = 2010\n",
    "hour = 11\n",
    "minute = 45\n",
    "second = 33\n",
    "print(hour+':'+minute+':'+second)\n"
   ]
  },
  {
   "cell_type": "code",
   "execution_count": 63,
   "metadata": {
    "slideshow": {
     "slide_type": "fragment"
    }
   },
   "outputs": [
    {
     "name": "stdout",
     "output_type": "stream",
     "text": [
      "11:45:33\n",
      "11:45:33\n",
      "Wednesday, March 10, 2010 at 11:45:33\n"
     ]
    }
   ],
   "source": [
    "print(str(hour)+':'+str(minute)+':'+str(second))\n",
    "print('{}:{}:{}'.format(hour, minute, second))\n",
    "print('{}, {} {}, {} at {}:{}:{}'.format(weekday, month, day, year, hour, minute, second))\n",
    "# The {} are place holders to specify what occupies them"
   ]
  },
  {
   "cell_type": "markdown",
   "metadata": {
    "slideshow": {
     "slide_type": "slide"
    }
   },
   "source": [
    "<h3><font color='#004b87'>Output format type</font></h3>\n",
    "<p></p>\n",
    "Inside the curly braces of a placeholder, we can specify the field width, the type of the output, and the decimal precision \n",
    "<p></p>\n",
    "\n",
    "|Usage | Explanation       |                         \n",
    "| :--- |-----------------: |          \n",
    "| b    | binary            |        \n",
    "| c    | character         |  \n",
    "| d    | decimal           |  \n",
    "| X    | hexadecimal       |  \n",
    "| e    | scientific        |  \n",
    "| f    | fixed-point       |  "
   ]
  },
  {
   "cell_type": "code",
   "execution_count": 65,
   "metadata": {
    "slideshow": {
     "slide_type": "fragment"
    }
   },
   "outputs": [
    {
     "name": "stdout",
     "output_type": "stream",
     "text": [
      "1010\n",
      "\n",
      "\n",
      "10\n",
      "A\n",
      "1.000000e+01\n",
      "  10.00\n"
     ]
    }
   ],
   "source": [
    "n = 10\n",
    "print('{:b}'.format(n))\n",
    "print('{:c}'.format(n))\n",
    "print('{:d}'.format(n))\n",
    "print('{:X}'.format(n))\n",
    "print('{:e}'.format(n))\n",
    "print('{:7.2f}'.format(n))"
   ]
  },
  {
   "cell_type": "markdown",
   "metadata": {
    "slideshow": {
     "slide_type": "slide"
    }
   },
   "source": [
    "<h3><font color='#004b87'>General output formatting</font></h3>\n",
    "<p></p>\n",
    "The file system is the OS component that organizes files and provides a way to create, access, and modify files\n",
    "<p></p>\n",
    "Files are organized into a tree structure\n",
    "<li>folders (or directories)</li>\n",
    "<li>regular files</li>\n",
    "<p></p>\n",
    "While every file and folder has a name, it is the file pathname that identifies the file \n",
    "<li>Absolute pathnames</li>\n",
    "<li>Relative pathnames (relative to current working directory Users)</li>\n"
   ]
  },
  {
   "attachments": {
    "Picture17.png": {
     "image/png": "[encoded data removed]"
    }
   },
   "cell_type": "markdown",
   "metadata": {
    "slideshow": {
     "slide_type": "fragment"
    }
   },
   "source": [
    "![Picture17.png](attachment:Picture17.png)"
   ]
  },
  {
   "cell_type": "markdown",
   "metadata": {
    "slideshow": {
     "slide_type": "slide"
    }
   },
   "source": [
    "<h3><font color='#004b87'>Opening and closing a file</font></h3>\n",
    "<p></p>\n",
    "The file system is the OS component that organizes files and provides a way to create, access, and modify files\n",
    "<p></p>\n",
    "Processing a file consists of:\n",
    "<li>Opening the file</li>\n",
    "<li>Reading from and/or writing to the file</li>\n",
    "<li>Closing the file</li>\n",
    "<p></p>\n",
    "Built in function open() is used to open a file\n",
    "<li>The first input argument is the file pathname, whether absolute or relative with respect to the current working directory</li>\n",
    "<li>The second optional argument is the file mode such as r or w</li>\n",
    "<p></p>\n",
    "A “file” object is of a type that supports several “file” methods, including method close() that closes the file\n"
   ]
  },
  {
   "cell_type": "code",
   "execution_count": 66,
   "metadata": {
    "slideshow": {
     "slide_type": "fragment"
    }
   },
   "outputs": [
    {
     "ename": "FileNotFoundError",
     "evalue": "[Errno 2] No such file or directory: 'sample.txt'",
     "output_type": "error",
     "traceback": [
      "\u001b[1;31m---------------------------------------------------------------------------\u001b[0m",
      "\u001b[1;31mFileNotFoundError\u001b[0m                         Traceback (most recent call last)",
      "\u001b[1;32m<ipython-input-66-9770e420b688>\u001b[0m in \u001b[0;36m<module>\u001b[1;34m\u001b[0m\n\u001b[1;32m----> 1\u001b[1;33m \u001b[0minfile\u001b[0m \u001b[1;33m=\u001b[0m \u001b[0mopen\u001b[0m\u001b[1;33m(\u001b[0m\u001b[1;34m'sample.txt'\u001b[0m\u001b[1;33m)\u001b[0m\u001b[1;33m\u001b[0m\u001b[1;33m\u001b[0m\u001b[0m\n\u001b[0m\u001b[0;32m      2\u001b[0m \u001b[1;33m\u001b[0m\u001b[0m\n",
      "\u001b[1;31mFileNotFoundError\u001b[0m: [Errno 2] No such file or directory: 'sample.txt'"
     ]
    }
   ],
   "source": [
    "infile = open('sample.txt')\n",
    "\n"
   ]
  },
  {
   "cell_type": "code",
   "execution_count": 67,
   "metadata": {
    "slideshow": {
     "slide_type": "fragment"
    }
   },
   "outputs": [],
   "source": [
    "infile = open('example.txt', 'r')\n",
    "infile.close()"
   ]
  },
  {
   "cell_type": "markdown",
   "metadata": {
    "slideshow": {
     "slide_type": "slide"
    }
   },
   "source": [
    "<h3><font color='#004b87'>Open file mode</font></h3>\n",
    "<p></p>\n",
    "The file mode defines how the file will be accessed\n",
    "<p></p>\n",
    "\n",
    "\n",
    "|Usage | Description                                 |                         \n",
    "| :--- |-----------------:                           |          \n",
    "| r    | Reading (default)                           |        \n",
    "| w    | Writing (if file exists, content is wiped)  |  \n",
    "| a    | Append (if file exists, writes are appended)|  \n",
    "| r+   | Reading and Writing                         |  \n",
    "| t    | Text (default)                              |   \n",
    "| b    | Binary                                      |  "
   ]
  },
  {
   "cell_type": "code",
   "execution_count": null,
   "metadata": {
    "slideshow": {
     "slide_type": "fragment"
    }
   },
   "outputs": [],
   "source": [
    "#These are all equivalent\n",
    "infile = open('example.txt', 'rt')\n",
    "infile = open('example.txt', 'r')\n",
    "infile = open('example.txt', 't')\n",
    "infile = open('example.txt')"
   ]
  },
  {
   "cell_type": "markdown",
   "metadata": {
    "slideshow": {
     "slide_type": "slide"
    }
   },
   "source": [
    "<h3><font color='#004b87'>File methods</font></h3>\n",
    "<p></p>\n",
    "There are several “file” types; they all support similar “file” methods \n",
    "<li>Methods  readlines() returns the characters read as a list of lines  </li>\n",
    "<li>Method write() returns the number of characters written</li>"
   ]
  },
  {
   "cell_type": "markdown",
   "metadata": {
    "slideshow": {
     "slide_type": "fragment"
    }
   },
   "source": [
    "|Usage              | Description                                 |                         \n",
    "| :---              |-----------------:                           |          \n",
    "| infile.read(n)    | Read n characters starting from cursor; if fewer than n characters remain, read until the end of file|   \n",
    "| infile.read()     | Read starting from cursor up to the end of the file |  \n",
    "| infile.readline() | Read starting from cursor up to, and including, the end of line character|  \n",
    "| infile.readlines()| Read starting from cursor up to the end of the file and return list of lines                        |  \n",
    "| outfile.write(s)  | Write string s to file outfile starting from cursor                             |   \n",
    "| infile.close(n)   | Close file infile                                      |  "
   ]
  },
  {
   "cell_type": "markdown",
   "metadata": {
    "slideshow": {
     "slide_type": "slide"
    }
   },
   "source": [
    "<h3><font color='#004b87'>Reading a file</font></h3>\n",
    "<p></p>\n",
    "When the file is opened, a cursor is associated with the opened file\n",
    "<p></p>\n",
    "The initial position of the cursor is:\n",
    "<li>at the beginning of the file, if file mode is r</li>\n",
    "<li>at the end of the file, if file mode is a or w</li>"
   ]
  },
  {
   "cell_type": "code",
   "execution_count": 64,
   "metadata": {
    "slideshow": {
     "slide_type": "fragment"
    }
   },
   "outputs": [
    {
     "data": {
      "text/plain": [
       "'T'"
      ]
     },
     "execution_count": 64,
     "metadata": {},
     "output_type": "execute_result"
    }
   ],
   "source": [
    "infile = open('example.txt')\n",
    "infile.read(1)\n"
   ]
  },
  {
   "cell_type": "code",
   "execution_count": 75,
   "metadata": {
    "slideshow": {
     "slide_type": "fragment"
    }
   },
   "outputs": [
    {
     "data": {
      "text/plain": [
       "'he 3 lines in this file end with the new line character.\\n'"
      ]
     },
     "execution_count": 75,
     "metadata": {},
     "output_type": "execute_result"
    }
   ],
   "source": [
    "infile.readline()\n",
    "\n"
   ]
  },
  {
   "cell_type": "code",
   "execution_count": 76,
   "metadata": {
    "slideshow": {
     "slide_type": "fragment"
    }
   },
   "outputs": [
    {
     "data": {
      "text/plain": [
       "'\\nThere is a blank line above this line.\\n'"
      ]
     },
     "execution_count": 76,
     "metadata": {},
     "output_type": "execute_result"
    }
   ],
   "source": [
    "infile.read()\n"
   ]
  },
  {
   "cell_type": "code",
   "execution_count": 77,
   "metadata": {
    "slideshow": {
     "slide_type": "fragment"
    }
   },
   "outputs": [],
   "source": [
    "infile.close()"
   ]
  },
  {
   "cell_type": "markdown",
   "metadata": {
    "slideshow": {
     "slide_type": "slide"
    }
   },
   "source": [
    "<h3><font color='#004b87'>Patterns for reading a text file</font></h3>\n",
    "<p></p>\n",
    "Common patterns for reading a file:\n",
    "<p></p>\n",
    "<li>Read the file content into a string</li>\n",
    "<li>Read the file content into a list of words</li>\n",
    "<li>Read the file content into a list of lines</li>"
   ]
  },
  {
   "cell_type": "code",
   "execution_count": 79,
   "metadata": {
    "slideshow": {
     "slide_type": "fragment"
    }
   },
   "outputs": [],
   "source": [
    "def numLines(filename):\n",
    "    'returns the number of lines in file filename'\n",
    "\n",
    "    infile = open(filename, 'r')\n",
    "    lineList = infile.readlines()\n",
    "    infile.close()\n",
    "\n",
    "    return len(lineList)\n"
   ]
  },
  {
   "cell_type": "code",
   "execution_count": 80,
   "metadata": {
    "slideshow": {
     "slide_type": "fragment"
    }
   },
   "outputs": [],
   "source": [
    "def numWords(filename):\n",
    "    'returns the number of words in file filename'\n",
    "\n",
    "    infile = open(filename)\n",
    "    content = infile.read()\n",
    "    infile.close()\n",
    "    wordList = content.split()\n",
    "\n",
    "    return len(wordList)\n"
   ]
  },
  {
   "cell_type": "markdown",
   "metadata": {
    "slideshow": {
     "slide_type": "slide"
    }
   },
   "source": [
    "<h3><font color='#004b87'>Writing to a text file</font></h3>\n",
    "<p></p>"
   ]
  },
  {
   "cell_type": "code",
   "execution_count": 81,
   "metadata": {
    "slideshow": {
     "slide_type": "fragment"
    }
   },
   "outputs": [
    {
     "data": {
      "text/plain": [
       "1"
      ]
     },
     "execution_count": 81,
     "metadata": {},
     "output_type": "execute_result"
    }
   ],
   "source": [
    "outfile = open('test.txt', 'w')\n",
    "outfile.write('T')\n"
   ]
  },
  {
   "cell_type": "code",
   "execution_count": 82,
   "metadata": {
    "slideshow": {
     "slide_type": "fragment"
    }
   },
   "outputs": [
    {
     "data": {
      "text/plain": [
       "22"
      ]
     },
     "execution_count": 82,
     "metadata": {},
     "output_type": "execute_result"
    }
   ],
   "source": [
    "outfile.write('his is the first line.')"
   ]
  },
  {
   "cell_type": "code",
   "execution_count": 83,
   "metadata": {
    "slideshow": {
     "slide_type": "fragment"
    }
   },
   "outputs": [
    {
     "data": {
      "text/plain": [
       "25"
      ]
     },
     "execution_count": 83,
     "metadata": {},
     "output_type": "execute_result"
    }
   ],
   "source": [
    "outfile.write(' Still the first line...\\n')"
   ]
  },
  {
   "cell_type": "markdown",
   "metadata": {},
   "source": [
    "NOTE: The above funciton returns the number of characters."
   ]
  },
  {
   "cell_type": "code",
   "execution_count": 84,
   "metadata": {
    "slideshow": {
     "slide_type": "fragment"
    }
   },
   "outputs": [],
   "source": [
    "outfile.close()"
   ]
  },
  {
   "cell_type": "markdown",
   "metadata": {
    "slideshow": {
     "slide_type": "slide"
    }
   },
   "source": [
    "<h3><font color='#004b87'>We saw different types of errors in this chapter</font></h3>\n",
    "<p></p>\n",
    "There are basically two types of errors:\n",
    "<p></p>\n",
    "<li>syntax errors</li>\n",
    "<li>erroneous state errors</li>\n"
   ]
  },
  {
   "cell_type": "code",
   "execution_count": 85,
   "metadata": {
    "slideshow": {
     "slide_type": "fragment"
    }
   },
   "outputs": [
    {
     "ename": "SyntaxError",
     "evalue": "invalid syntax (<ipython-input-85-20b953ede63e>, line 1)",
     "output_type": "error",
     "traceback": [
      "\u001b[1;36m  File \u001b[1;32m\"<ipython-input-85-20b953ede63e>\"\u001b[1;36m, line \u001b[1;32m1\u001b[0m\n\u001b[1;33m    excuse = 'I'm sick'\u001b[0m\n\u001b[1;37m                ^\u001b[0m\n\u001b[1;31mSyntaxError\u001b[0m\u001b[1;31m:\u001b[0m invalid syntax\n"
     ]
    }
   ],
   "source": [
    "excuse = 'I'm sick'"
   ]
  },
  {
   "cell_type": "code",
   "execution_count": 86,
   "metadata": {
    "slideshow": {
     "slide_type": "fragment"
    }
   },
   "outputs": [
    {
     "ename": "FileNotFoundError",
     "evalue": "[Errno 2] No such file or directory: 'sample.txt'",
     "output_type": "error",
     "traceback": [
      "\u001b[1;31m---------------------------------------------------------------------------\u001b[0m",
      "\u001b[1;31mFileNotFoundError\u001b[0m                         Traceback (most recent call last)",
      "\u001b[1;32m<ipython-input-86-a7d736e7ed9b>\u001b[0m in \u001b[0;36m<module>\u001b[1;34m\u001b[0m\n\u001b[1;32m----> 1\u001b[1;33m \u001b[0minfile\u001b[0m \u001b[1;33m=\u001b[0m \u001b[0mopen\u001b[0m\u001b[1;33m(\u001b[0m\u001b[1;34m'sample.txt'\u001b[0m\u001b[1;33m)\u001b[0m\u001b[1;33m\u001b[0m\u001b[1;33m\u001b[0m\u001b[0m\n\u001b[0m",
      "\u001b[1;31mFileNotFoundError\u001b[0m: [Errno 2] No such file or directory: 'sample.txt'"
     ]
    }
   ],
   "source": [
    "infile = open('sample.txt')"
   ]
  },
  {
   "cell_type": "markdown",
   "metadata": {
    "slideshow": {
     "slide_type": "slide"
    }
   },
   "source": [
    "<h3><font color='#004b87'>Syntax errors</font></h3>\n",
    "<p></p>\n",
    "Syntax errors are errors that are due to the incorrect format of a Python statement \n",
    "<p></p>\n",
    "<li>They occur while the statement is being translated to machine language and before it is being executed. </li>"
   ]
  },
  {
   "cell_type": "code",
   "execution_count": 87,
   "metadata": {
    "slideshow": {
     "slide_type": "fragment"
    }
   },
   "outputs": [
    {
     "ename": "SyntaxError",
     "evalue": "closing parenthesis ']' does not match opening parenthesis '(' (<ipython-input-87-f03ba10b7140>, line 1)",
     "output_type": "error",
     "traceback": [
      "\u001b[1;36m  File \u001b[1;32m\"<ipython-input-87-f03ba10b7140>\"\u001b[1;36m, line \u001b[1;32m1\u001b[0m\n\u001b[1;33m    (3+4]\u001b[0m\n\u001b[1;37m        ^\u001b[0m\n\u001b[1;31mSyntaxError\u001b[0m\u001b[1;31m:\u001b[0m closing parenthesis ']' does not match opening parenthesis '('\n"
     ]
    }
   ],
   "source": [
    "(3+4] \n"
   ]
  },
  {
   "cell_type": "markdown",
   "metadata": {
    "slideshow": {
     "slide_type": "slide"
    }
   },
   "source": [
    "<h3><font color='#004b87'>Erroneous state errors</font></h3>\n",
    "<p></p>\n",
    "The program execution gets into an erroneous state, When an error occurs, an “error” object is created\n",
    "<p></p>\n",
    "<li>This object has a type that is related to the type of error</li>\n",
    "<li>The object contains information about the error</li>\n",
    "<li>The default behavior is to print this information and interrupt the execution of the statement.</li>"
   ]
  },
  {
   "cell_type": "code",
   "execution_count": 88,
   "metadata": {
    "slideshow": {
     "slide_type": "fragment"
    }
   },
   "outputs": [
    {
     "ename": "ZeroDivisionError",
     "evalue": "division by zero",
     "output_type": "error",
     "traceback": [
      "\u001b[1;31m---------------------------------------------------------------------------\u001b[0m",
      "\u001b[1;31mZeroDivisionError\u001b[0m                         Traceback (most recent call last)",
      "\u001b[1;32m<ipython-input-88-f6cc6d14333b>\u001b[0m in \u001b[0;36m<module>\u001b[1;34m\u001b[0m\n\u001b[1;32m----> 1\u001b[1;33m \u001b[1;36m3\u001b[0m\u001b[1;33m/\u001b[0m\u001b[1;36m0\u001b[0m\u001b[1;33m\u001b[0m\u001b[1;33m\u001b[0m\u001b[0m\n\u001b[0m",
      "\u001b[1;31mZeroDivisionError\u001b[0m: division by zero"
     ]
    }
   ],
   "source": [
    "3/0\n"
   ]
  },
  {
   "cell_type": "code",
   "execution_count": 89,
   "metadata": {
    "slideshow": {
     "slide_type": "fragment"
    }
   },
   "outputs": [
    {
     "ename": "NameError",
     "evalue": "name 'lst2' is not defined",
     "output_type": "error",
     "traceback": [
      "\u001b[1;31m---------------------------------------------------------------------------\u001b[0m",
      "\u001b[1;31mNameError\u001b[0m                                 Traceback (most recent call last)",
      "\u001b[1;32m<ipython-input-89-a6198233248f>\u001b[0m in \u001b[0;36m<module>\u001b[1;34m\u001b[0m\n\u001b[1;32m----> 1\u001b[1;33m \u001b[0mlst2\u001b[0m\u001b[1;33m\u001b[0m\u001b[1;33m\u001b[0m\u001b[0m\n\u001b[0m",
      "\u001b[1;31mNameError\u001b[0m: name 'lst2' is not defined"
     ]
    }
   ],
   "source": [
    "lst2\n"
   ]
  },
  {
   "cell_type": "markdown",
   "metadata": {
    "slideshow": {
     "slide_type": "slide"
    }
   },
   "source": [
    "<h3><font color='#004b87'>Exception types</font></h3>\n",
    "<p></p>\n",
    "Some of the built-in exception classes\n",
    "<p></p>"
   ]
  },
  {
   "cell_type": "markdown",
   "metadata": {
    "slideshow": {
     "slide_type": "slide"
    }
   },
   "source": [
    "|Exception          | Description                                                                            |                \n",
    "| :---              |-----------------:                                                                      |          \n",
    "| KeyboardInterrupt | Raised when user hits Ctrl-C, the interrupt key                                        | \n",
    "| OverflowError     | Raised when a floating-point expression evaluates to a value that is too large         |  \n",
    "| ZeroDivisionError | Raised when attempting to divide by 0                                                  |  \n",
    "| IOError           | Raised when an I/O operation fails for an I/O-related reason                           |  \n",
    "| IndexError        | Raised when a sequence index is outside the range of valid indexes                     |   \n",
    "| NameError         | Raised when attempting to evaluate an unassigned identifier (name)                     |  \n",
    "| TypeError         | Raised when an operation of function is applied to an object of the wrong type         |  \n",
    "| ValueError        | Raised when operation or function has an argument of the right type but incorrect value|  "
   ]
  },
  {
   "cell_type": "code",
   "execution_count": null,
   "metadata": {},
   "outputs": [],
   "source": []
  }
 ],
 "metadata": {
  "celltoolbar": "Slideshow",
  "kernelspec": {
   "display_name": "Python 3",
   "language": "python",
   "name": "python3"
  },
  "language_info": {
   "codemirror_mode": {
    "name": "ipython",
    "version": 3
   },
   "file_extension": ".py",
   "mimetype": "text/x-python",
   "name": "python",
   "nbconvert_exporter": "python",
   "pygments_lexer": "ipython3",
   "version": "3.8.5"
  }
 },
 "nbformat": 4,
 "nbformat_minor": 4
}
