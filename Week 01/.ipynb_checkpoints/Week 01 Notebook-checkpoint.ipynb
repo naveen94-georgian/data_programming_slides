{
 "cells": [
  {
   "cell_type": "markdown",
   "metadata": {
    "slideshow": {
     "slide_type": "slide"
    }
   },
   "source": [
    "<center><img title=\"a title\" alt=\"Alt text\" src=\"Georgian College Logo.svg\"></center\n",
    "\n",
    "<h1><font color='#004b87'><center>BDAT 1004 Week 1</center></font></h1>\n",
    "<h3><center>Introduction to Data Programming</center></h3>"
   ]
  },
  {
   "cell_type": "markdown",
   "metadata": {
    "slideshow": {
     "slide_type": "slide"
    }
   },
   "source": [
    "<center><img title=\"a title\" alt=\"Alt text\" src=\"welcome.jpg\"></center"
   ]
  },
  {
   "cell_type": "markdown",
   "metadata": {
    "slideshow": {
     "slide_type": "slide"
    }
   },
   "source": [
    "<h1><font color='#004b87'>About Me</font></h1>\n",
    "<p></p>\n",
    "<li>Senior Analyst at Infrastrucutre Ontario</li>\n",
    "<li>Previous roles as a Data Science Developer with MGCS and Reporting Analyst at MOHLTC</li>\n",
    "<li>BDAT Graduate</li>\n",
    "<li>Prior to BDAT I worked in biotechnology</li>\n",
    "<li>BSc from the University of Western Ontatio: Double Major Medical Physics and Genetics</li>\n",
    "<li>Interesting Fact: Hackathon Winner and coach</li>\n"
   ]
  },
  {
   "cell_type": "markdown",
   "metadata": {
    "slideshow": {
     "slide_type": "slide"
    }
   },
   "source": [
    "<h1><font color='#004b87'>About Data Programming</font></h1>\n",
    "<p></p>\n",
    "<li>Introduction to programming, no prior experience needed</li>\n",
    "<li>Course moves at a fast pace and prior programming experice will benefit you</li>\n",
    "<li>Course provides foundation for several other BDAT courses</li>\n",
    "<li>We will be using 3 main langauges:C#, Python and R (with a short lesson on JS)</li>\n",
    "<li>Lectures - To maintain asynchronous learning, lectures are pre-reorded and posted every week</li>\n",
    "<li>Students are to watch the lectures and then office hours take place from 6:30-7:30pm</li>"
   ]
  },
  {
   "cell_type": "markdown",
   "metadata": {
    "slideshow": {
     "slide_type": "slide"
    }
   },
   "source": [
    "<h1><font color='#004b87'>Asynchronous Learning</font></h1>\n",
    "<p></p>\n",
    "<li>Pandemic has changed how the course is delivered</li>\n",
    "<li>Many of you are on different continents and time zones</li>\n",
    "<li>Videos will be released weekly as early as possible, lots of new content this semester but lectures will be released at latest 5pm on the day of class</li>\n",
    "<li>Lectures are accompanied by a Quiz that must be complete within 24 hours </li>\n",
    "<li>Problem Sets are due dates are in the course syllabus</li>\n",
    "<li>No offical textbooks and resources will be posted on BlackBoard</li>\n",
    "<li>For Python 2 textbooks are recommended An Introduction to Computing Using Python: An Application Focus by Ljubomir Perkovic</li>\n",
    "<li>Python for Everybody (open source and posted on BlackBoard)</li>\n",
    "<li>Jupyter Notebook accompanies each lecture</li>"
   ]
  },
  {
   "cell_type": "markdown",
   "metadata": {
    "slideshow": {
     "slide_type": "slide"
    }
   },
   "source": [
    "<h1><font color='#004b87'>Grade Breakdown</font></h1>\n",
    "<p></p>\n",
    "<li>3 Problems sets worth 10% each (total of 30%)</li>\n",
    "<li>Weekly Quizzes worth 10%</li>\n",
    "<li>Midterm worth 30%</li>\n",
    "<li>Final Group Project worth 30%</li>\n"
   ]
  },
  {
   "cell_type": "markdown",
   "metadata": {
    "slideshow": {
     "slide_type": "fragment"
    }
   },
   "source": [
    "<h1><font color='#004b87'>Software and Tools</font></h1>\n",
    "<p></p>\n",
    "<li>Anaconda</li>\n",
    "<li>Jupyter Notebooks</li>\n",
    "<li>SQLite</li>\n",
    "<li>Visual Studio Code (text editor)</li>\n",
    "<li>Visual Studio (Optional)</li>"
   ]
  },
  {
   "cell_type": "markdown",
   "metadata": {
    "slideshow": {
     "slide_type": "slide"
    }
   },
   "source": [
    "<h2><font color='#004b87'>Course Syllabus and Course Contract</font></h2>\n",
    "<p></p>\n",
    "\n",
    "<li>Lets look at the Syllabus and the Contract</li>\n",
    "<li>Course contract needs to be signed or your work will not be marked</li>\n",
    "<li>Outlines the course rules as well as the responsbilities of the student</li>"
   ]
  },
  {
   "cell_type": "markdown",
   "metadata": {
    "slideshow": {
     "slide_type": "slide"
    }
   },
   "source": [
    "<h3><font color='#004b87'>What is Data</font></h3>\n",
    "<p></p>\n",
    "\n",
    "<li>A set of values of subjects with respect to qualitative or quantitative variables</li>\n",
    "<li>Big Data: is a term used to refer to data sets that are too large or complex for traditional data-processing application software to adequately deal with</li>\n",
    "\n",
    "<center><img title=\"a title\" alt=\"Alt text\" src=\"Picture1.png\"></center"
   ]
  },
  {
   "cell_type": "markdown",
   "metadata": {
    "slideshow": {
     "slide_type": "slide"
    }
   },
   "source": [
    "<h3><font color='#004b87'>Data Formats</font></h3>\n",
    "<p></p>\n",
    "\n",
    "<li>TXT</li>\n",
    "<li>CSV</li>\n",
    "<li>JPEG</li>\n",
    "<li>JSON</li>\n",
    "<li>XML</li>\n",
    "<li>MP3</li>"
   ]
  },
  {
   "cell_type": "markdown",
   "metadata": {
    "slideshow": {
     "slide_type": "slide"
    }
   },
   "source": [
    "<h3><font color='#004b87'>How does programming work?</font></h3>\n",
    "<p></p>\n",
    "\n",
    "<li>A computer can only understand two distinct types of data: on and off. A computer is really just a collection of on/off switches (transistors). Anything that a computer can do is nothing more than a unique combination of some transistors turned on and some transistors turned off</li>\n",
    "<li>Binary code is the representation of these combinations as 1s and 0s, where each digit represents one transistor. Binary code is grouped into bytes, groups of 8 digits representing 8 transistors. Binary is a form of machine code that a computer directly understands</li>\n",
    "<li>To be able to write a computer program by typing out billions of 1s and 0s would require superhuman brainpower, and even then it would probably take you a lifetime or two to write</li>\n",
    "<li>This is where programming languages come in</li>\n",
    "<li>The syntax of a programming language can not be directly understood by the computer but can be compiled or interpreted into machine code</li>\n"
   ]
  },
  {
   "cell_type": "markdown",
   "metadata": {
    "slideshow": {
     "slide_type": "slide"
    }
   },
   "source": [
    "<h3><font color='#004b87'>Hierarchy of Language </font></h3>\n",
    "<p></p>\n",
    "<center><img title=\"a title\" alt=\"Alt text\" src=\"Picture2.png\"></center"
   ]
  },
  {
   "attachments": {},
   "cell_type": "markdown",
   "metadata": {
    "slideshow": {
     "slide_type": "notes"
    }
   },
   "source": [
    "-Python is an example of a high level language\n",
    "-An assembly language is like an intermediate language between a high level language and machine codes"
   ]
  },
  {
   "cell_type": "markdown",
   "metadata": {
    "slideshow": {
     "slide_type": "slide"
    }
   },
   "source": [
    "<h3><font color='#004b87'>Compiled vs Interpreted </font></h3>\n",
    "<p></p>\n",
    "<center><img title=\"a title\" alt=\"Alt text\" src=\"Picture3.png\"></center"
   ]
  },
  {
   "attachments": {},
   "cell_type": "markdown",
   "metadata": {},
   "source": [
    "The differences between compiled and interpreted languages have blurred in the past 20 years\n",
    "-Python, R are interpreted languages\n",
    "-C# is a compiled language"
   ]
  },
  {
   "cell_type": "markdown",
   "metadata": {
    "slideshow": {
     "slide_type": "slide"
    }
   },
   "source": [
    "<h3><font color='#004b87'>Compiled vs Interpreted </font></h3>\n",
    "<p></p>\n",
    "<center><img title=\"a title\" alt=\"Alt text\" src=\"Picture4.jpg\"></center"
   ]
  },
  {
   "cell_type": "markdown",
   "metadata": {
    "slideshow": {
     "slide_type": "slide"
    }
   },
   "source": [
    "<h2><font color='#004b87'>Why Are We Programming? </font></h2>\n",
    "<p></p>\n",
    "<center><img title=\"a title\" alt=\"Alt text\" src=\"Picture5.png\"></center"
   ]
  },
  {
   "cell_type": "markdown",
   "metadata": {
    "slideshow": {
     "slide_type": "slide"
    }
   },
   "source": [
    "<center><img title=\"a title\" alt=\"Alt text\" src=\"Picture6.jpg\"></center"
   ]
  },
  {
   "cell_type": "markdown",
   "metadata": {
    "slideshow": {
     "slide_type": "slide"
    }
   },
   "source": [
    "<h3><font color='#004b87'>Extract, Transform, Load</font></h3>\n",
    "<p></p>\n",
    "\n",
    "<li>Extract, transform, load (ETL) refers to a process in database usage and especially in data warehousing</li>\n",
    "<li>Data extraction is where data is extracted from homogeneous or heterogeneous data sources</li>\n",
    "<li>Data transformation is where the data is transformed for storing in the proper format or structure for the purposes of querying and analysis</li>\n",
    "<li>Data loading is where the data is loaded into the final target database, more specifically, an operational data store, data mart, or data warehouse</li>\n",
    "<li>With the increase in power of cloud computer this process is often changed to ELT</li>"
   ]
  },
  {
   "cell_type": "markdown",
   "metadata": {},
   "source": [
    "For the purpose of this course, data warehouses are larger than database\n",
    "(There is a lot of back and forth between which is larger).\n",
    "We now have advanced clouds and computing so that we can load and THEN transform"
   ]
  },
  {
   "cell_type": "markdown",
   "metadata": {
    "slideshow": {
     "slide_type": "slide"
    }
   },
   "source": [
    "<h3><font color='#004b87'>Extract, Transform, Load</font></h3>\n",
    "<p></p>\n",
    "These processes can take place on the fly or require a great length of time to complete.  A common example could be how a website displays data to a user:\n",
    "<p></p>\n",
    "<li>Extract User data from the database</li>\n",
    "<li>Data is Transformed into HTML code</li>\n",
    "<li>HTML code is Transmitted or Loaded into to the web browser via HTTP</li>\n",
    "<p></p>\n",
    "<center><img title=\"a title\" alt=\"Alt text\" src=\"Picture7.jpg\"></center"
   ]
  },
  {
   "cell_type": "markdown",
   "metadata": {
    "slideshow": {
     "slide_type": "slide"
    }
   },
   "source": [
    "<h3><font color='#004b87'>Data Extraction and Analysis</font></h3>\n",
    "<p></p>\n",
    "\n",
    "<li>Data extraction is the act or process of retrieving data out of (usually unstructured or poorly structured) data sources for further data processing or data storage (data migration). The import into the intermediate extracting system is thus usually followed by data transformation and possibly the addition of metadata prior to export to another stage in the data workflow.</li>\n",
    "<li>Data Analysis is the process of inspecting, cleaning, transforming, and modeling data with the goal of discovering useful information, suggesting conclusions, and supporting decision-making.</li>"
   ]
  },
  {
   "cell_type": "markdown",
   "metadata": {
    "slideshow": {
     "slide_type": "fragment"
    }
   },
   "source": [
    "<h3><font color='#004b87'>Data Analysis</font></h3>\n",
    "<p></p>\n",
    "\n",
    "<li>Analysis of data is a process of inspecting, cleaning, transforming, and modeling data with the goal of discovering useful information, suggesting conclusions, and supporting decision-making.</li>\n",
    "<li>Data science, business intelligence, machine learning and artificial intelligence all stem from the fundamentals of data analysis.</li>\n",
    "<li>Our job is to be better programmers than statisticians and better at statistics than programmers.</li>\n"
   ]
  },
  {
   "cell_type": "markdown",
   "metadata": {
    "slideshow": {
     "slide_type": "slide"
    }
   },
   "source": [
    "<h3><font color='#004b87'>The Data Analysis Process</font></h3>\n",
    "<p></p>\n",
    "<center><img title=\"a title\" alt=\"Alt text\" src=\"Picture8.jpg\"></center"
   ]
  },
  {
   "cell_type": "markdown",
   "metadata": {},
   "source": [
    "This is the process we will use for our final project for this course.\n",
    "\n",
    "During data collection will discover what is actually possible in terms of collecting data. There is often a disconnect between what people say they want and what can actually be done!\n",
    "There is often a lot of back and forth with data cleaning and data processing. \n",
    "Once the data has been cleaned and processed, a data model/algorithm is created. ***We will be doing that in this course!***\n",
    "Data product is what we get after applying data model/algorirthm to data\n",
    "Data communication is EXTREMELY IMPORTANT (documentation, presentation, website, etc.)\n"
   ]
  },
  {
   "cell_type": "markdown",
   "metadata": {
    "slideshow": {
     "slide_type": "slide"
    }
   },
   "source": [
    "<h3><font color='#004b87'>The Data Analysis Process</font></h3>\n",
    "<p></p>\n",
    "Data Requirements \n",
    "<li>What data is required?</li>\n",
    "<li>Who will use the data? </li>\n",
    "<p></p>\n",
    "Data Collection\n",
    "<li>Data is collected from a vast array of sources: Images, Documents, Satellite Traffic, Traffic Cameras, Mobile Phone and Desktop computers.At this point we are not necessarily making relationships between the data.</li>\n",
    "<p></p>\n",
    "Data Processing\n",
    "<li>After data has been collected the processing is ready to begin. </li>\n",
    "<li>Organize into a tabular format (Rows and Columns).</li>\n",
    "<li>Find common relationships between data: Government Id, Driver License, Name, Dates etc.</li>\n",
    "<li>Relationships used to build Indexes for quick reference of the relational data</li>\n",
    "<li>Identify what a single entity of data will look like.  Including attributes and unique identifier or Index Key.</li>\n",
    "    \n",
    "    "
   ]
  },
  {
   "cell_type": "markdown",
   "metadata": {
    "slideshow": {
     "slide_type": "slide"
    }
   },
   "source": [
    "<h3><font color='#004b87'>The Data Analysis Process</font></h3>\n",
    "<p></p>\n",
    "Data Cleaning \n",
    "<li>Exploratory data analysis</li>\n",
    "<li>Data processing data is not always perfect. It needs to be cleaned. Here are some examples that are yielded from processed data:</li>\n",
    "    <ul>\n",
    "        <li>Street addresses - may have been entered differently from your data. They may have used abbreviations while your database requires full names</li>\n",
    "        <li>Phone Numbers - stored as text \"+1 (555) 555-5555\" as opposed to a number 15555555555</li>\n",
    "        <li>Dates - stored as Month/Day/Year as a opposed to Day/Month/Year or even Year/Month/Day</li>\n",
    "    </ul>\n",
    "\n",
    "<li>It is in this phase that you make decisions on how your data will be represented and how you will translate from other sources.</li>"
   ]
  },
  {
   "cell_type": "markdown",
   "metadata": {
    "slideshow": {
     "slide_type": "slide"
    }
   },
   "source": [
    "<h3><font color='#004b87'>The Data Analysis Process</font></h3>\n",
    "<p>Once you have established formats and data types for your final data product you will begin to build Model and Algorithms that represent and manage it.</p>\n",
    "Data Cleaning \n",
    "<li>Model</li>\n",
    "<ul>\n",
    "        <li>A Model represents a single Data Entity. The Model contains the Index or Primary Key and the Attributes to describe this Single Data Entity</li>\n",
    "        <li>For example here is a Model that describes a typical User of a website</li>\n",
    "    </ul>\n",
    "<center><img title=\"a title\" alt=\"Alt text\" src=\"Picture9.png\"></center"
   ]
  },
  {
   "cell_type": "markdown",
   "metadata": {
    "slideshow": {
     "slide_type": "slide"
    }
   },
   "source": [
    "<h3><font color='#004b87'>The Data Analysis Process</font></h3>\n",
    "<p></p>\n",
    "Modeling and Algorithms Continued \n",
    "<li>Naming Conventions and Design Patterns</li>\n",
    "<li>Another key component of Modeling is Naming Conventions and Design Patterns</li>\n",
    "<li>Naming Conventions are critical to successful and clean processing. Here some important elements of Naming Conventions:</li>\n",
    "    <ul>\n",
    "        <li>Do not use spaces when naming an attribute. For example: the attribute for a User's \"first name\" will become FirstName</li>\n",
    "        <li>Capitalize the first letter of each word in the attribute (For example \"first name\" becomes FirstName) </li>\n",
    "        <li>Avoid long attribute names. Try to limit a name to 25 characters or less. This is for readability, requires less typing and reduces the risk of spelling errors</li>\n",
    "        <li>Do not use numbers at the beginning of an attribute name. For example, this is not acceptable 123FirstName</li>\n",
    "    </ul>"
   ]
  },
  {
   "cell_type": "markdown",
   "metadata": {},
   "source": [
    "Ethan's preference is camelCase\n"
   ]
  },
  {
   "cell_type": "markdown",
   "metadata": {
    "slideshow": {
     "slide_type": "slide"
    }
   },
   "source": [
    "<h3><font color='#004b87'>The Data Analysis Process</font></h3>\n",
    "<p></p>\n",
    "Algorithms\n",
    "<li>Algorithms are associated with display and storage of your Models</li>\n",
    "<li>You will need to integrate data that is not perfect.</li>\n",
    "<li>The translation from data that is not  \"Well Formed\"  may require an Algorithm to parse the source data</li>\n",
    "<li>Here is an example of such a set of translation rules to convert a telephone number </li>\n",
    "<center><img title=\"a title\" alt=\"Alt text\" src=\"Picture10.png\"></center>\n",
    "<li>In the example above we convert the character based telephone number to a Long Integer (Big Number) without non-numeric characters. The algorithm also confirms that the conversion contains data after stripping out the characters.  It then confirms that the numbers will fit into the country standard format. </li>\n",
    "<li>A more simple use for a Display Algorithm is the combination or formula of data in the Model to produce a read-only result. For example, the full name of a User might be FirstName + \" \" + LastName.</li>"
   ]
  },
  {
   "cell_type": "markdown",
   "metadata": {
    "slideshow": {
     "slide_type": "slide"
    }
   },
   "source": [
    "<h3><font color='#004b87'>The Data Analysis Process</font></h3>\n",
    "<p></p>\n",
    "Data Product\n",
    "<li>The Data Product (DP) is often the application that produces the output.  After all data has been processed and cleaned you will end up with usable information.  This information can then be used in the Communication stage as a presentation, website display, documents or the determine buying patterns of customers or news feeds on social media.\n",
    "</li>\n",
    "<p></p>\n",
    "Communication\n",
    "<li>The Communication stage of the Data Analysis Process is the final component in the process. It is here that the data is presented and consumed. Data may be displayed in a variety of ways: Tables, Forms, Graphs</li>"
   ]
  },
  {
   "cell_type": "markdown",
   "metadata": {
    "slideshow": {
     "slide_type": "slide"
    }
   },
   "source": [
    "<h3><font color='#004b87'>C# and .Net Basics</font></h3>\n",
    "<p></p>\n",
    "<li>The .NET Framework is a framework for\n",
    "developing and implementing software for\n",
    "personal computer, web etc.</li>\n",
    "<li>It was designed and is maintained by\n",
    "Microsoft Corporation</li>\n",
    "<li>It came out around the year 2000, even\n",
    "though Microsoft started its development in\n",
    "early 90s</li>\n",
    "<li>.NET has a rich collection of class library\n",
    "(called the Base Class Library) to implement\n",
    "GUI, query, database, web services etc.</li>\n",
    "<li>Programs developed with .NET needs a\n",
    "virtual machine to run on a host. This virtual\n",
    "machine is called Common Language\n",
    "Runtime (CLR).</li>\n",
    "<li>Since the compiler doesn’t produce native\n",
    "machine code, and its product is interpreted\n",
    "by the CLR, there’s much security.</li>\n",
    "<li>It came out around the year 2000, even\n",
    "though Microsoft started its development in\n",
    "early 90s</li>\n",
    "<li>.NET allows using types defined by one .NET\n",
    "language to be used by another under the\n",
    "Common Language Infrastructure (CLI)\n",
    "specification, for the conforming languages</li>"
   ]
  },
  {
   "cell_type": "markdown",
   "metadata": {
    "slideshow": {
     "slide_type": "fragment"
    }
   },
   "source": [
    "<h3><font color='#004b87'>C# and .Net Basics Continued</font></h3>\n",
    "<p></p>\n",
    "<li>Any language that conforms to the Common\n",
    "Language Infrastructure (CLI) specification of\n",
    "the .NET, can run in the .NET run-time.\n",
    "Followings are some .NET languages</li>\n",
    "<li>Visual Basic</li>\n",
    "<li>C#</li>\n",
    "<li>C++ (CLI version)</li>\n",
    "<li>J# (CLI version of Java) </li>\n",
    "<li>A# (CLI version of ADA) </li>\n",
    "<li>L# (CLI version of LISP) </li>\n",
    "<li>IronRuby (CLI version of RUBY)</li>"
   ]
  },
  {
   "cell_type": "markdown",
   "metadata": {
    "slideshow": {
     "slide_type": "slide"
    }
   },
   "source": [
    "<h3><font color='#004b87'>C# and .Net Basics Continued</font></h3>\n",
    "<p></p>\n",
    "Microsoft provides a comprehensive Integrated\n",
    "Development Environment (IDE) for the\n",
    "development and testing of software with .NET\n",
    "\n",
    "<p></p>\n",
    "Some IDEs are as follows \n",
    "<li>Jupyter Notebook</li>\n",
    "<li>Visual Studio</li>\n",
    "<li>Visual Studio Code</li>"
   ]
  },
  {
   "cell_type": "markdown",
   "metadata": {
    "slideshow": {
     "slide_type": "slide"
    }
   },
   "source": [
    "<h3><font color='#004b87'>C# and .Net Basics Continued</font></h3>\n",
    "<p></p>\n",
    "<li>C# is a general purpose object oriented\n",
    "programming language developed by Microsoft\n",
    "for program development in the .NET\n",
    "Framework</li> \n",
    "<li>It’s supported by .NET’s huge class library that\n",
    "makes development of modern Graphical User\n",
    "Interface applications for personal computers\n",
    "very easy.</li>\n",
    "<li>It’s a C-like language and many features resemble\n",
    "those of C++ and Java. For instance, like Java,\n",
    "it too has automatic garbage collection. </li>"
   ]
  },
  {
   "cell_type": "markdown",
   "metadata": {
    "slideshow": {
     "slide_type": "slide"
    }
   },
   "source": [
    "<h3><font color='#004b87'>C# Applications</font></h3>\n",
    "<p></p>\n",
    "<li>The product of the C# compiler is called the\n",
    "“Assembly”. It’s either a “.dll” or a “.exe”\n",
    "file. Both run on the Common Language\n",
    "Runtime and are different from native code\n",
    "that may also end with a “.exe” extension.</li>\n",
    "<p></p>\n",
    "C# has three basic types of application. \n",
    "<li>Windows From Application: This is GUI based, runs in a window of some sort.</li>\n",
    "<li>Console Application: This application runs in the command prompt .</li>\n",
    "<li>Web Application: This application in a browser .</li>\n"
   ]
  },
  {
   "cell_type": "markdown",
   "metadata": {
    "slideshow": {
     "slide_type": "slide"
    }
   },
   "source": [
    "<h3><font color='#004b87'>C# Applications</font></h3>\n",
    "<p></p>\n",
    "<li>You will want to install these packages to make your code look nice</li>"
   ]
  },
  {
   "cell_type": "code",
   "execution_count": null,
   "metadata": {
    "slideshow": {
     "slide_type": "subslide"
    }
   },
   "outputs": [],
   "source": [
    "// ML.NET Nuget packages installation\n",
    "#r \"nuget:Microsoft.ML,1.3.1\"\n",
    "\n",
    "//Install XPlot package\n",
    "#r \"nuget:XPlot.Plotly,2.0.0\""
   ]
  },
  {
   "cell_type": "markdown",
   "metadata": {
    "slideshow": {
     "slide_type": "slide"
    }
   },
   "source": [
    "<h3><font color='#004b87'>A Typical and Trivial Program in C#</font></h3>"
   ]
  },
  {
   "cell_type": "code",
   "execution_count": 33,
   "metadata": {
    "slideshow": {
     "slide_type": "fragment"
    }
   },
   "outputs": [
    {
     "name": "stdout",
     "output_type": "stream",
     "text": [
      "Hello World!\r\n"
     ]
    }
   ],
   "source": [
    "Console.WriteLine(\"Hello World!\");"
   ]
  },
  {
   "cell_type": "code",
   "execution_count": 13,
   "metadata": {
    "slideshow": {
     "slide_type": "fragment"
    }
   },
   "outputs": [],
   "source": [
    "public class Person\n",
    "{\n",
    "    // Field \n",
    "    public string FirstName{get;set;}\n",
    "    public string LastName{get;set;}\n",
    "\n",
    "\n",
    "    // Method \n",
    "    public string GetFullName()\n",
    "    {\n",
    "        return this.FirstName + \" \" + LastName;\n",
    "    }\n",
    "}"
   ]
  },
  {
   "cell_type": "code",
   "execution_count": 14,
   "metadata": {
    "slideshow": {
     "slide_type": "fragment"
    }
   },
   "outputs": [
    {
     "data": {
      "text/plain": [
       "Ethan"
      ]
     },
     "execution_count": 14,
     "metadata": {},
     "output_type": "execute_result"
    }
   ],
   "source": [
    "Person me = new Person(){FirstName=\"Ethan\", LastName=\"Davis\"};\n",
    "me.FirstName"
   ]
  },
  {
   "cell_type": "markdown",
   "metadata": {
    "slideshow": {
     "slide_type": "slide"
    }
   },
   "source": [
    "<h3><font color='#004b87'>C# Syntax</font></h3>\n"
   ]
  },
  {
   "cell_type": "code",
   "execution_count": null,
   "metadata": {
    "slideshow": {
     "slide_type": "fragment"
    }
   },
   "outputs": [],
   "source": [
    "using System;\n",
    "\n",
    "namespace HelloWorld\n",
    "{\n",
    "  class Program\n",
    "  {\n",
    "    static void Main(string[] args)\n",
    "    {\n",
    "      Console.WriteLine(\"Hello World!\");    \n",
    "    }\n",
    "  }\n",
    "}"
   ]
  },
  {
   "cell_type": "markdown",
   "metadata": {
    "slideshow": {
     "slide_type": "fragment"
    }
   },
   "source": [
    "<li>Line 1: using System means that we can use classes from the System namespace.</li>\n",
    "<li>Line 2: A blank line. C# ignores white space. However, multiple lines makes the code more readable</li>\n",
    "<li>Line 3: namespace is a used to organize your code, and it is a container for classes and other namespaces.</li>\n",
    "<li>Line 4: The curly braces {} marks the beginning and the end of a block of code.</li>\n",
    "<li>Line 5: class is a container for data and methods, which brings functionality to your program. Every line of code that runs in C# must be inside a class. In our example, we named the class Program.</li>\n",
    "<li>Line 7: Another thing that always appear in a C# program, is the Main method. Any code inside its curly brackets {} will be executed. You don't have to understand the keywords before and after Main</li>\n",
    "<li>Line 9: Console is a class of the System namespace, which has a WriteLine() method that is used to output/print text. In our example it will output \"Hello World!\".</li>\n",
    "<li>If you omit the using System line, you would have to write System.Console.WriteLine() to print/output text.</li>\n",
    "<li>Note: Every C# statement ends with a semicolon ;</li>\n",
    "<li>Note: C# is case-sensitive: \"MyClass\" and \"myclass\" has different meaning.</li>"
   ]
  },
  {
   "cell_type": "markdown",
   "metadata": {
    "slideshow": {
     "slide_type": "slide"
    }
   },
   "source": [
    "<h3><font color='#004b87'>C# Types</font></h3>\n",
    "<p></p>\n",
    "Variables\n",
    "<li>a name that refers to a value</li>\n",
    "<p></p>\n",
    "Assignment statement\n",
    "<li>Associates a value with a variable</li>"
   ]
  },
  {
   "cell_type": "markdown",
   "metadata": {
    "slideshow": {
     "slide_type": "slide"
    }
   },
   "source": [
    "<h3><font color='#004b87'>C# Types</font></h3>\n",
    "<p></p>\n",
    "Value Types\n",
    "<li>Variable name contains the actual value </li>\n",
    "<li>int, double and other primitive types </li>\n",
    "<li>Structure, Enumeration, etc</li>\n",
    "<p></p>\n",
    "Reference Type\n",
    "<li>Variable name contains the reference or\n",
    "pointer to the actual value in memory </li>\n",
    "<li>Array, derived from class Array </li>\n",
    "<li>Class, Interface, Delegate, String, etc</li>\n",
    "<p></p>\n",
    "<li>The value types are derived from System.ValueType</li>\n",
    "<li>All types in C# are derived from\n",
    "System.Object which is also accessed\n",
    "by the alias keyword ‘object’</li>\n",
    "<li>This type hierarchy is called Common\n",
    "Type System (CTS)</li"
   ]
  },
  {
   "cell_type": "code",
   "execution_count": 34,
   "metadata": {
    "slideshow": {
     "slide_type": "fragment"
    }
   },
   "outputs": [],
   "source": [
    "int myNum = 5;               // Integer (whole number)\n",
    "double myDoubleNum = 5.99D;  // Floating point number\n",
    "char myLetter = 'D';         // Character\n",
    "bool myBool = true;          // Boolean\n",
    "string myText = \"Hello\";     // String"
   ]
  },
  {
   "cell_type": "markdown",
   "metadata": {
    "slideshow": {
     "slide_type": "slide"
    }
   },
   "source": [
    "<h3><font color='#004b87'>C# Types</font></h3>\n",
    "<p></p>\n",
    "Nullable\n",
    "<li>The value types can’t be assigned a null. To\n",
    "enable regular primitive value types to take a\n",
    "null value, C# uses nullable types using ‘?’\n",
    "with type name. Following example shows\n",
    "how</li>"
   ]
  },
  {
   "cell_type": "code",
   "execution_count": 15,
   "metadata": {
    "slideshow": {
     "slide_type": "fragment"
    }
   },
   "outputs": [
    {
     "name": "stdout",
     "output_type": "stream",
     "text": [
      "this is null.-99\n",
      "this is not null. 23\n"
     ]
    }
   ],
   "source": [
    "int? a; a =null; int b;b=a?? -99;\n",
    "// the ?? operator picks -99 if null\n",
    "System.Console.WriteLine(\"this is null.{0}\",b);\n",
    "a = 23; // not null\n",
    "System.Console.WriteLine(\"this is not null. {0}\", a ?? -99);"
   ]
  },
  {
   "cell_type": "markdown",
   "metadata": {
    "slideshow": {
     "slide_type": "slide"
    }
   },
   "source": [
    "<h3><font color='#004b87'>C# Types</font></h3>\n",
    "<p></p>\n",
    "Anonymous\n",
    "<li>Variables can be defined without an explicit name\n",
    "and to encapsulate a set of values. This is\n",
    "useful for C#’s Language Integrated Query\n",
    "(which will not be discussed in this\n",
    "presentation)</li>"
   ]
  },
  {
   "cell_type": "code",
   "execution_count": 16,
   "metadata": {
    "slideshow": {
     "slide_type": "fragment"
    }
   },
   "outputs": [
    {
     "name": "stdout",
     "output_type": "stream",
     "text": [
      "a=3,b.id=21,b.name=Tito\r\n"
     ]
    }
   ],
   "source": [
    "var a =3; // the type is automatically inferred by compiler\n",
    "var b = new {id=21, name = \"Tito\" };\n",
    "System.Console.WriteLine(\"a={0},b.id={1},b.name={2}\",a,\n",
    "b.id,b.name);"
   ]
  },
  {
   "cell_type": "markdown",
   "metadata": {
    "slideshow": {
     "slide_type": "slide"
    }
   },
   "source": [
    "<h3><font color='#004b87'>C# Operators</font></h3>\n",
    "<p></p>\n",
    "C# provides a number of operators. Many of them are supported by the built-in types and allow you to perform basic operations with values of those types. Those operators include the following groups:\n",
    "<li>Arithmetic operators that perform arithmetic operations with numeric operands</li>\n",
    "<li>Comparison operators that compare numeric operands</li>\n",
    "<li>Boolean logical operators that perform logical operations with bool operands</li>\n",
    "<li>Bitwise and shift operators that perform bitwise or shift operations with operands of the integral types</li>\n",
    "<li>Equality operators that check if their operands are equal or not</li>"
   ]
  },
  {
   "cell_type": "code",
   "execution_count": 35,
   "metadata": {},
   "outputs": [],
   "source": [
    "int a, b, c;\n",
    "a = 7;\n",
    "b = a;\n",
    "c = b++;\n",
    "b = a + b * c;\n",
    "c = a >= 100 ? b : c / 10;\n",
    "a = (int)Math.Sqrt(b * b + c * c);\n",
    "\n",
    "string s = \"String literal\";\n",
    "char l = s[s.Length - 1];\n",
    "\n",
    "var numbers = new List<int>(new[] { 1, 2, 3 });\n",
    "b = numbers.FindLast(n => n > 1);"
   ]
  },
  {
   "cell_type": "markdown",
   "metadata": {
    "slideshow": {
     "slide_type": "slide"
    }
   },
   "source": [
    "<h3><font color='#004b87'>C# Arrays</font></h3>\n",
    "<p></p>\n",
    "Arrays\n",
    "<li>An array is a data structure, which can store a fixed-size collection of elements of the same data type. An array is used to store a collection of data, but it is often more useful to think of an array as a collection of variables of the same type\n",
    "<li>Following is an example of declaring and</li>\n",
    "using a simple array.</li>"
   ]
  },
  {
   "cell_type": "code",
   "execution_count": 21,
   "metadata": {
    "slideshow": {
     "slide_type": "fragment"
    }
   },
   "outputs": [
    {
     "name": "stdout",
     "output_type": "stream",
     "text": [
      "4\n",
      "\n",
      "18\n",
      "\n",
      "40\n",
      "\n",
      "0\n",
      "\n",
      "8\n",
      "\n"
     ]
    }
   ],
   "source": [
    "int[] items =new int[]{5,19,41,1,9};\n",
    "            foreach\t(int i in items)\n",
    "            {\n",
    "                System.Console.WriteLine(\"{0}\\n\", i-1);\n",
    "            }"
   ]
  },
  {
   "cell_type": "markdown",
   "metadata": {
    "slideshow": {
     "slide_type": "fragment"
    }
   },
   "source": [
    "<li>The ‘foreach’\n",
    " ,\n",
    "’in’ keywords are used to\n",
    "provide read only (recommended)\n",
    "access to members of an array or any\n",
    "object implementing the IEnumerable\n",
    "interface (more about this is discussed\n",
    "in the section ‘Iterator’)..</li>"
   ]
  },
  {
   "cell_type": "markdown",
   "metadata": {
    "slideshow": {
     "slide_type": "slide"
    }
   },
   "source": [
    "<h3><font color='#004b87'>C# Properties</font></h3>\n",
    "<p></p>\n",
    "Properties\n",
    "<li>Properties are members of a class that\n",
    "allows for easy and simplified getters\n",
    "and setters implementation of its\n",
    "private field variables.</li>"
   ]
  },
  {
   "cell_type": "code",
   "execution_count": 27,
   "metadata": {
    "slideshow": {
     "slide_type": "fragment"
    }
   },
   "outputs": [],
   "source": [
    "\n",
    "class Client{\n",
    "    private string name ;\n",
    "    public string Name{\n",
    "        get{\n",
    "            return name; \n",
    "        }\n",
    "        set{\n",
    "            name=value;\n",
    "        }\n",
    "    }\n",
    "    static void Main(string[] args)\n",
    "    {\n",
    "      Client c = new Client();\n",
    "      display(c.Name = \"Celia\");\n",
    "      System.Console.WriteLine(c.Name);\n",
    "      System.Console.ReadLine();\n",
    "       \n",
    "    }\n",
    "}\n"
   ]
  },
  {
   "cell_type": "markdown",
   "metadata": {
    "slideshow": {
     "slide_type": "slide"
    }
   },
   "source": [
    "<center><img title=\"a title\" alt=\"Alt text\" src=\"Picture11.png\"></center>"
   ]
  },
  {
   "cell_type": "markdown",
   "metadata": {},
   "source": [
    "<h3><font color='#004b87'>C# Properties</font></h3>\n",
    "<p></p>\n",
    "Automatically Implemented\n",
    "<li>C# also has a feature to automatically implement the getters\n",
    "and setter for you.</li>\n",
    "<li>Users have direct access to the data members of the class.\n",
    "Following example does the same thing as the previous\n",
    "example, but using automatically implemented properties</li>"
   ]
  },
  {
   "cell_type": "code",
   "execution_count": 16,
   "metadata": {
    "slideshow": {
     "slide_type": "slide"
    }
   },
   "outputs": [],
   "source": [
    " class Client2{\n",
    " public string Name {get; set;}\n",
    " static void Main(string[] args)\n",
    "    {\n",
    "      Client2 c = new Client2();\n",
    "      c.Name = \"Ethan\";      \n",
    "      System.Console.WriteLine(c.Name);\n",
    "      System.Console.ReadLine();\n",
    "    }\n",
    " } \n",
    "//Should display \"Ethan\""
   ]
  },
  {
   "cell_type": "markdown",
   "metadata": {
    "slideshow": {
     "slide_type": "fragment"
    }
   },
   "source": [
    "<center><img title=\"a title\" alt=\"Alt text\" src=\"Picture12.png\"></center>"
   ]
  },
  {
   "cell_type": "markdown",
   "metadata": {
    "slideshow": {
     "slide_type": "slide"
    }
   },
   "source": [
    "<h3><font color='#004b87'>C# Indexers</font></h3>\n",
    "<p></p>\n",
    "Automatically Implemented\n",
    "<li>Indexers allow a class to be used as an array. For\n",
    "instance the “[]” operator can be used and the\n",
    "‘foreach’\n",
    ",\n",
    "‘in’ keywords can also be used on a\n",
    "class that has indexers</li>\n",
    "<li>The internal representation of the items in that class\n",
    "are managed by the developer</li>\n",
    "<li>Indexers are defined by the following expression.\n",
    "public int this[int idx]{\n",
    "get{/* your code*/}; set{/*code here*/};\n",
    "}</li>"
   ]
  },
  {
   "cell_type": "code",
   "execution_count": null,
   "metadata": {},
   "outputs": [],
   "source": []
  }
 ],
 "metadata": {
  "celltoolbar": "Slideshow",
  "kernelspec": {
   "display_name": ".NET (C#)",
   "language": "C#",
   "name": ".net-csharp"
  },
  "language_info": {
   "file_extension": ".cs",
   "mimetype": "text/x-csharp",
   "name": "C#",
   "pygments_lexer": "csharp",
   "version": "8.0"
  }
 },
 "nbformat": 4,
 "nbformat_minor": 4
}
