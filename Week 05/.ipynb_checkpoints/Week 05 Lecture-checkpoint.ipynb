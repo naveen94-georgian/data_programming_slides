{
 "cells": [
  {
   "cell_type": "markdown",
   "metadata": {
    "slideshow": {
     "slide_type": "slide"
    }
   },
   "source": [
    "<center><img src=\"Georgian College Logo.svg\"></center>\n",
    "\n",
    "<h1><font color='#004b87'><center>BDAT 1004 Week 5</center></font></h1>\n",
    "<h3><center>Namespaces and object oriented programming</center></h3>"
   ]
  },
  {
   "cell_type": "markdown",
   "metadata": {
    "slideshow": {
     "slide_type": "slide"
    }
   },
   "source": [
    "<h1><font color='#004b87'>Annoucments</font></h1>\n",
    "<p></p>\n",
    "<li>Thursday Section Don’t forget about the quiz!</li>\n",
    "<li>Monday Section's quiz will be made up next week</li>\n",
    "<li>Problem Set 2 is posted</li>\n",
    "<li>In the essence of time I will be removing GUIs form the syllabus</li>\n",
    "<li>For those really interested in GUIs I will post last semesters lecture but this material will not be tested</li>"
   ]
  },
  {
   "cell_type": "markdown",
   "metadata": {
    "slideshow": {
     "slide_type": "slide"
    }
   },
   "source": [
    "<h3><font color='#004b87'>Namespaces and Exceptions, revisited</font></h3>\n",
    "<p></p>\n",
    "\n",
    "<li>Encapsulation in Functions</li>\n",
    "<li>Global versus Local Namespaces</li>\n",
    "<li>Exceptional Control Flow</li>\n",
    "<li>Modules as Namespaces</li>\n",
    "<li>Classes as Namespaces</li>\n"
   ]
  },
  {
   "cell_type": "markdown",
   "metadata": {
    "slideshow": {
     "slide_type": "slide"
    }
   },
   "source": [
    "<h3><font color='#004b87'>The purpose of functions</font></h3>\n",
    "<p></p>\n",
    "Wrapping code into functions has several desirable goals:\n",
    "<p></p>\n",
    "<li>Modularity: The complexity of developing a large program can be dealt with by breaking down the program into smaller, simpler, self-contained pieces. Each smaller piece (e.g., function) can be designed, implemented, tested, and debugged independently.</li>\n",
    "<p></p>\n",
    "<li>Code reuse: A fragment of code that is used multiple times in a program—or by multiple programs— should be packaged in a function. The program ends up being shorter, with a single function call replacing a code fragment, and clearer, because the name of the function can be more descriptive of the action being performed by the code fragment. Debugging also becomes easier because a bug in the code fragment will need to be fixed only once.</li>\n",
    "<p></p>\n",
    "<li>Encapsulation: A function hides its implementation details from the user of the function; removing the implementation details from the developer’s radar makes her job easier.</li>\n"
   ]
  },
  {
   "cell_type": "markdown",
   "metadata": {
    "slideshow": {
     "slide_type": "slide"
    }
   },
   "source": [
    "<h3><font color='#004b87'>Encapsulation through local variables</font></h3>\n",
    "Encapsulation makes modularity and code reuse possible\n"
   ]
  },
  {
   "cell_type": "code",
   "execution_count": 2,
   "metadata": {
    "slideshow": {
     "slide_type": "fragment"
    }
   },
   "outputs": [],
   "source": [
    "def double(y):\n",
    "    x=2\n",
    "    print('x = {}, y = {}'.format(x,y))\n",
    "    return x*y"
   ]
  },
  {
   "cell_type": "code",
   "execution_count": 1,
   "metadata": {
    "scrolled": true,
    "slideshow": {
     "slide_type": "fragment"
    }
   },
   "outputs": [
    {
     "ename": "NameError",
     "evalue": "name 'x' is not defined",
     "output_type": "error",
     "traceback": [
      "\u001b[1;31m---------------------------------------------------------------------------\u001b[0m",
      "\u001b[1;31mNameError\u001b[0m                                 Traceback (most recent call last)",
      "\u001b[1;32m<ipython-input-1-fc17d851ef81>\u001b[0m in \u001b[0;36m<module>\u001b[1;34m\u001b[0m\n\u001b[1;32m----> 1\u001b[1;33m \u001b[0mprint\u001b[0m\u001b[1;33m(\u001b[0m\u001b[0mx\u001b[0m\u001b[1;33m)\u001b[0m\u001b[1;33m\u001b[0m\u001b[1;33m\u001b[0m\u001b[0m\n\u001b[0m",
      "\u001b[1;31mNameError\u001b[0m: name 'x' is not defined"
     ]
    }
   ],
   "source": [
    "print(x)"
   ]
  },
  {
   "cell_type": "markdown",
   "metadata": {
    "slideshow": {
     "slide_type": "fragment"
    }
   },
   "source": [
    "<li>Before executing function double(), variables x and y do not exist</li>\n",
    "<li>After executing function double(), variables x and y still do not exist</li>\n",
    "<li>x and y exist ONLY during the execution of function call double(5);</li>\n",
    "<li>they are said to be LOCAL VARIABLES of function double()</li>\n"
   ]
  },
  {
   "cell_type": "code",
   "execution_count": 3,
   "metadata": {
    "slideshow": {
     "slide_type": "slide"
    }
   },
   "outputs": [
    {
     "name": "stdout",
     "output_type": "stream",
     "text": [
      "x = 2, y = 5\n"
     ]
    },
    {
     "data": {
      "text/plain": [
       "10"
      ]
     },
     "execution_count": 3,
     "metadata": {},
     "output_type": "execute_result"
    }
   ],
   "source": [
    "double(5)"
   ]
  },
  {
   "cell_type": "code",
   "execution_count": 6,
   "metadata": {
    "slideshow": {
     "slide_type": "fragment"
    }
   },
   "outputs": [
    {
     "ename": "NameError",
     "evalue": "name 'y' is not defined",
     "output_type": "error",
     "traceback": [
      "\u001b[1;31m---------------------------------------------------------------------------\u001b[0m",
      "\u001b[1;31mNameError\u001b[0m                                 Traceback (most recent call last)",
      "\u001b[1;32m<ipython-input-6-d9183e048de3>\u001b[0m in \u001b[0;36m<module>\u001b[1;34m\u001b[0m\n\u001b[1;32m----> 1\u001b[1;33m \u001b[0mprint\u001b[0m\u001b[1;33m(\u001b[0m\u001b[0my\u001b[0m\u001b[1;33m)\u001b[0m\u001b[1;33m\u001b[0m\u001b[1;33m\u001b[0m\u001b[0m\n\u001b[0m",
      "\u001b[1;31mNameError\u001b[0m: name 'y' is not defined"
     ]
    }
   ],
   "source": [
    "print(y)"
   ]
  },
  {
   "cell_type": "markdown",
   "metadata": {
    "slideshow": {
     "slide_type": "slide"
    }
   },
   "source": [
    "<h3><font color='#004b87'>Function call namespace</font></h3>\n",
    "<p></p>\n",
    "Even during the execution of double(), local variables x and y are invisible outside of the function!"
   ]
  },
  {
   "cell_type": "code",
   "execution_count": 7,
   "metadata": {
    "slideshow": {
     "slide_type": "fragment"
    }
   },
   "outputs": [
    {
     "name": "stdout",
     "output_type": "stream",
     "text": [
      "x = 2, y = 5\n",
      "20 50\n"
     ]
    }
   ],
   "source": [
    "x, y = 20, 50\n",
    "res = double(5)\n",
    "print(x,y)"
   ]
  },
  {
   "cell_type": "markdown",
   "metadata": {
    "slideshow": {
     "slide_type": "fragment"
    }
   },
   "source": [
    "How is it possible that these values of x and y don't interfere with eachother?\n",
    "<p></p>\n",
    "<li>Every function call has a namespace in which local variables are stored</li>\n",
    "<p></p>\n",
    "<center><img src=\"Picture1.PNG\"></center>"
   ]
  },
  {
   "cell_type": "markdown",
   "metadata": {
    "slideshow": {
     "slide_type": "slide"
    }
   },
   "source": [
    "<h3><font color='#004b87'>Function call namespace</font></h3>\n",
    "<p></p>\n",
    "Every function call has a namespace in which local variables are stored\n"
   ]
  },
  {
   "cell_type": "code",
   "execution_count": 9,
   "metadata": {
    "slideshow": {
     "slide_type": "fragment"
    }
   },
   "outputs": [],
   "source": [
    "def h(n):\n",
    "    print('Start h')\n",
    "    print(1/n)\n",
    "    print(n)\n",
    "\n",
    "def g(n):\n",
    "    print('Start g')\n",
    "    h(n-1)      # calling on the function h, inside of the function g\n",
    "    print(n)\n",
    "\n",
    "def f(n):\n",
    "    print('Start f')\n",
    "    g(n-1)\n",
    "    print(n)"
   ]
  },
  {
   "cell_type": "markdown",
   "metadata": {
    "slideshow": {
     "slide_type": "slide"
    }
   },
   "source": [
    "<p></p>\n",
    "<center><img src=\"Picture2.PNG\"></center>\n",
    "\n",
    "\n"
   ]
  },
  {
   "cell_type": "markdown",
   "metadata": {
    "slideshow": {
     "slide_type": "fragment"
    }
   },
   "source": [
    "<p></p>\n",
    "<center><img src=\"Picture3.PNG\"></center>\n",
    "<li>Note that there are several active values of n, one in each namespace</li>\n",
    "</li>How are all the namespaces managed by Python?</li>\n",
    "</li>How does python know which line to return to?</li>"
   ]
  },
  {
   "cell_type": "markdown",
   "metadata": {
    "slideshow": {
     "slide_type": "slide"
    }
   },
   "source": [
    "<h3><font color='#004b87'>Program stack</font></h3>\n",
    "<p></p>\n",
    "The system dedicates a chunk of memory to the program stack; its job is to remember the values defined in a function call and …"
   ]
  },
  {
   "cell_type": "code",
   "execution_count": 10,
   "metadata": {
    "slideshow": {
     "slide_type": "fragment"
    }
   },
   "outputs": [],
   "source": [
    "def h(n):\n",
    "    print('Start h')\n",
    "    print(1/n)\n",
    "    print(n)\n",
    "\n",
    "def g(n):\n",
    "    print('Start g')\n",
    "    h(n-1)\n",
    "    print(n)#… the statement to be executed after h(n-1) returns\n",
    "\n",
    "def f(n):\n",
    "    print('Start f')\n",
    "    g(n-1)\n",
    "    print(n) #… the statement to be executed after g(n-1) returns"
   ]
  },
  {
   "cell_type": "markdown",
   "metadata": {
    "slideshow": {
     "slide_type": "slide"
    }
   },
   "source": [
    "<h3><font color='#004b87'>Scope and global vs. local namespace</font></h3>\n",
    "<p></p>\n",
    "Every function call has a namespace associated with it.\n",
    "<p></p>\n",
    "<li>This namespace is where names defined during the execution of the function (e.g., local variables) live.</li>\n",
    "<li>The scope of these names (i.e., the space where they live) is the namespace of the function.</li>\n",
    "<p></p>\n",
    "In fact, every name in a Python program has a scope\n",
    "<p></p>\n",
    "<li>Whether the name is of a variable, function, class</li>\n",
    "<li>Outside of its scope, the name does not exist, and any reference to it will result in an error.</li>\n",
    "<li>Names assigned/defined in the interpreter shell or in a module and outside of any function are said to have global scope.</li>\n",
    "<li>Their scope is the namespace associated with the shell or the whole module. Variables with global scope are referred to as global variables.</li>"
   ]
  },
  {
   "cell_type": "markdown",
   "metadata": {
    "slideshow": {
     "slide_type": "slide"
    }
   },
   "source": [
    "<h3><font color='#004b87'>Example: variable with local scope</font></h3>\n",
    "<p></p>"
   ]
  },
  {
   "cell_type": "code",
   "execution_count": 15,
   "metadata": {
    "slideshow": {
     "slide_type": "fragment"
    }
   },
   "outputs": [
    {
     "name": "stdout",
     "output_type": "stream",
     "text": [
      "f(3) = 18\n",
      "a is 0\n"
     ]
    }
   ],
   "source": [
    "def k(b):       # f has global scope, b has local scope\n",
    "    a = 6       # this a has scope local to function call f()\n",
    "    return a*b  # this a is the local a\n",
    "\n",
    "a = 0           # this a has global scope\n",
    "print('f(3) = {}'.format(f(3)))\n",
    "print('a is {}'.format(a))        # global a is still 0"
   ]
  },
  {
   "cell_type": "markdown",
   "metadata": {
    "slideshow": {
     "slide_type": "fragment"
    }
   },
   "source": [
    "<center><img src=\"Picture4.PNG\"></center>"
   ]
  },
  {
   "cell_type": "markdown",
   "metadata": {
    "slideshow": {
     "slide_type": "slide"
    }
   },
   "source": [
    "<h3><font color='#004b87'>How Python evaluates names</font></h3>"
   ]
  },
  {
   "cell_type": "code",
   "execution_count": 17,
   "metadata": {
    "slideshow": {
     "slide_type": "fragment"
    }
   },
   "outputs": [
    {
     "name": "stdout",
     "output_type": "stream",
     "text": [
      "f(3) = 0\n",
      "a is 0\n"
     ]
    }
   ],
   "source": [
    "def f(b):       # f has global scope, b has local scope\n",
    "    return a*b  # this a is the global a\n",
    "\n",
    "a = 0           # this a has global scope\n",
    "print('f(3) = {}'.format(f(3)))\n",
    "print('a is {}'.format(a))        # global a is still 0"
   ]
  },
  {
   "cell_type": "markdown",
   "metadata": {
    "slideshow": {
     "slide_type": "fragment"
    }
   },
   "source": [
    "How does the Python interpreter decide whether to evaluate a name (of a variable, function, etc.) as a local or as a global name?\n",
    "<p><p/>\n",
    "Whenever the Python interpreter needs to evaluate a name, it searches for the name definition in this order:\n",
    "<p><p/>\n",
    "<li>First the enclosing function call namespace</li>\n",
    "<li>Then the global (module) namespace</li>\n",
    "<li>Finally the namespace of module builtins</li>"
   ]
  },
  {
   "cell_type": "markdown",
   "metadata": {
    "slideshow": {
     "slide_type": "slide"
    }
   },
   "source": [
    "<center><img src=\"Picture5.PNG\"></center>"
   ]
  },
  {
   "cell_type": "markdown",
   "metadata": {
    "slideshow": {
     "slide_type": "slide"
    }
   },
   "source": [
    "<h3><font color='#004b87'>Modifying a global variable inside a function </font></h3>\n",
    "<p></p>\n"
   ]
  },
  {
   "cell_type": "code",
   "execution_count": 18,
   "metadata": {
    "slideshow": {
     "slide_type": "fragment"
    }
   },
   "outputs": [
    {
     "name": "stdout",
     "output_type": "stream",
     "text": [
      "f(3) = 18\n",
      "a is 6\n"
     ]
    }
   ],
   "source": [
    "def f(b):\n",
    "    global a    # all references to a in f() are to the global a\n",
    "    a = 6       # global a is changed\n",
    "    return a*b  # this a is the global a\n",
    "\n",
    "a = 0           # this a has global scope\n",
    "print('f(3) = {}'.format(f(3)))\n",
    "print('a is {}'.format(a))        # global a has been changed to 6\n"
   ]
  },
  {
   "cell_type": "markdown",
   "metadata": {
    "slideshow": {
     "slide_type": "fragment"
    }
   },
   "source": [
    "<center><img src=\"Picture6.png\"></center"
   ]
  },
  {
   "cell_type": "markdown",
   "metadata": {
    "slideshow": {
     "slide_type": "slide"
    }
   },
   "source": [
    "<h3><font color='#004b87'>Exceptions, revisited</font></h3>\n",
    "<p></p>\n",
    "Recall that when the program execution gets into an erroneous state, an exception object is created\n",
    "<p></p> \n",
    "<li>This object has a type that is related to the type of error</li>\n",
    "<li>The object contains information about the error</li>\n",
    "<li>The default behavior is to print this information and interrupt the execution of the statement that “caused” the error</li>\n",
    "<p></p> \n",
    "The reason behind the term “exception” is that when an error occurs and an exception object is created, the normal execution flow of the program is interrupted and execution switches to the exceptional control flow  \n"
   ]
  },
  {
   "cell_type": "markdown",
   "metadata": {
    "slideshow": {
     "slide_type": "slide"
    }
   },
   "source": [
    "<h3><font color='#004b87'>Exceptional control flow</font></h3>\n",
    "<p></p>\n",
    "Recall that when the program execution gets into an erroneous state, an exception object is created\n",
    "<p></p>\n",
    "The default behavior is to interrupt the execution of each “active” statement and print the error information contained in the exception object.\n"
   ]
  },
  {
   "cell_type": "code",
   "execution_count": 23,
   "metadata": {
    "slideshow": {
     "slide_type": "slide"
    }
   },
   "outputs": [
    {
     "name": "stdout",
     "output_type": "stream",
     "text": [
      "Start f\n",
      "Start g\n",
      "Start h\n"
     ]
    },
    {
     "ename": "ZeroDivisionError",
     "evalue": "division by zero",
     "output_type": "error",
     "traceback": [
      "\u001b[1;31m---------------------------------------------------------------------------\u001b[0m",
      "\u001b[1;31mZeroDivisionError\u001b[0m                         Traceback (most recent call last)",
      "\u001b[1;32m<ipython-input-23-356be6f552b9>\u001b[0m in \u001b[0;36m<module>\u001b[1;34m\u001b[0m\n\u001b[0;32m     13\u001b[0m    \u001b[0mg\u001b[0m\u001b[1;33m(\u001b[0m\u001b[0mn\u001b[0m\u001b[1;33m-\u001b[0m\u001b[1;36m1\u001b[0m\u001b[1;33m)\u001b[0m\u001b[1;33m\u001b[0m\u001b[1;33m\u001b[0m\u001b[0m\n\u001b[0;32m     14\u001b[0m    \u001b[0mprint\u001b[0m\u001b[1;33m(\u001b[0m\u001b[0mn\u001b[0m\u001b[1;33m)\u001b[0m\u001b[1;33m\u001b[0m\u001b[1;33m\u001b[0m\u001b[0m\n\u001b[1;32m---> 15\u001b[1;33m \u001b[0mf\u001b[0m\u001b[1;33m(\u001b[0m\u001b[1;36m2\u001b[0m\u001b[1;33m)\u001b[0m\u001b[1;33m\u001b[0m\u001b[1;33m\u001b[0m\u001b[0m\n\u001b[0m",
      "\u001b[1;32m<ipython-input-23-356be6f552b9>\u001b[0m in \u001b[0;36mf\u001b[1;34m(n)\u001b[0m\n\u001b[0;32m     11\u001b[0m \u001b[1;32mdef\u001b[0m \u001b[0mf\u001b[0m\u001b[1;33m(\u001b[0m\u001b[0mn\u001b[0m\u001b[1;33m)\u001b[0m\u001b[1;33m:\u001b[0m\u001b[1;33m\u001b[0m\u001b[1;33m\u001b[0m\u001b[0m\n\u001b[0;32m     12\u001b[0m    \u001b[0mprint\u001b[0m\u001b[1;33m(\u001b[0m\u001b[1;34m'Start f'\u001b[0m\u001b[1;33m)\u001b[0m\u001b[1;33m\u001b[0m\u001b[1;33m\u001b[0m\u001b[0m\n\u001b[1;32m---> 13\u001b[1;33m    \u001b[0mg\u001b[0m\u001b[1;33m(\u001b[0m\u001b[0mn\u001b[0m\u001b[1;33m-\u001b[0m\u001b[1;36m1\u001b[0m\u001b[1;33m)\u001b[0m\u001b[1;33m\u001b[0m\u001b[1;33m\u001b[0m\u001b[0m\n\u001b[0m\u001b[0;32m     14\u001b[0m    \u001b[0mprint\u001b[0m\u001b[1;33m(\u001b[0m\u001b[0mn\u001b[0m\u001b[1;33m)\u001b[0m\u001b[1;33m\u001b[0m\u001b[1;33m\u001b[0m\u001b[0m\n\u001b[0;32m     15\u001b[0m \u001b[0mf\u001b[0m\u001b[1;33m(\u001b[0m\u001b[1;36m2\u001b[0m\u001b[1;33m)\u001b[0m\u001b[1;33m\u001b[0m\u001b[1;33m\u001b[0m\u001b[0m\n",
      "\u001b[1;32m<ipython-input-23-356be6f552b9>\u001b[0m in \u001b[0;36mg\u001b[1;34m(n)\u001b[0m\n\u001b[0;32m      6\u001b[0m \u001b[1;32mdef\u001b[0m \u001b[0mg\u001b[0m\u001b[1;33m(\u001b[0m\u001b[0mn\u001b[0m\u001b[1;33m)\u001b[0m\u001b[1;33m:\u001b[0m\u001b[1;33m\u001b[0m\u001b[1;33m\u001b[0m\u001b[0m\n\u001b[0;32m      7\u001b[0m    \u001b[0mprint\u001b[0m\u001b[1;33m(\u001b[0m\u001b[1;34m'Start g'\u001b[0m\u001b[1;33m)\u001b[0m\u001b[1;33m\u001b[0m\u001b[1;33m\u001b[0m\u001b[0m\n\u001b[1;32m----> 8\u001b[1;33m    \u001b[0mh\u001b[0m\u001b[1;33m(\u001b[0m\u001b[0mn\u001b[0m\u001b[1;33m-\u001b[0m\u001b[1;36m1\u001b[0m\u001b[1;33m)\u001b[0m\u001b[1;33m\u001b[0m\u001b[1;33m\u001b[0m\u001b[0m\n\u001b[0m\u001b[0;32m      9\u001b[0m    \u001b[0mprint\u001b[0m\u001b[1;33m(\u001b[0m\u001b[0mn\u001b[0m \u001b[1;33m)\u001b[0m\u001b[1;33m\u001b[0m\u001b[1;33m\u001b[0m\u001b[0m\n\u001b[0;32m     10\u001b[0m \u001b[1;33m\u001b[0m\u001b[0m\n",
      "\u001b[1;32m<ipython-input-23-356be6f552b9>\u001b[0m in \u001b[0;36mh\u001b[1;34m(n)\u001b[0m\n\u001b[0;32m      1\u001b[0m \u001b[1;32mdef\u001b[0m \u001b[0mh\u001b[0m\u001b[1;33m(\u001b[0m\u001b[0mn\u001b[0m\u001b[1;33m)\u001b[0m\u001b[1;33m:\u001b[0m\u001b[1;33m\u001b[0m\u001b[1;33m\u001b[0m\u001b[0m\n\u001b[0;32m      2\u001b[0m    \u001b[0mprint\u001b[0m\u001b[1;33m(\u001b[0m\u001b[1;34m'Start h'\u001b[0m\u001b[1;33m)\u001b[0m\u001b[1;33m\u001b[0m\u001b[1;33m\u001b[0m\u001b[0m\n\u001b[1;32m----> 3\u001b[1;33m    \u001b[0mprint\u001b[0m\u001b[1;33m(\u001b[0m\u001b[1;36m1\u001b[0m\u001b[1;33m/\u001b[0m\u001b[0mn\u001b[0m\u001b[1;33m)\u001b[0m\u001b[1;33m\u001b[0m\u001b[1;33m\u001b[0m\u001b[0m\n\u001b[0m\u001b[0;32m      4\u001b[0m    \u001b[0mprint\u001b[0m\u001b[1;33m(\u001b[0m\u001b[0mn\u001b[0m\u001b[1;33m)\u001b[0m\u001b[1;33m\u001b[0m\u001b[1;33m\u001b[0m\u001b[0m\n\u001b[0;32m      5\u001b[0m \u001b[1;33m\u001b[0m\u001b[0m\n",
      "\u001b[1;31mZeroDivisionError\u001b[0m: division by zero"
     ]
    }
   ],
   "source": [
    " def h(n):\n",
    "    print('Start h')\n",
    "    print(1/n)\n",
    "    print(n)\n",
    " \n",
    " def g(n):\n",
    "    print('Start g')\n",
    "    h(n-1)\n",
    "    print(n )\n",
    " \n",
    " def f(n):\n",
    "    print('Start f')\n",
    "    g(n-1)\n",
    "    print(n)\n",
    "f(2)"
   ]
  },
  {
   "cell_type": "markdown",
   "metadata": {},
   "source": [
    "NOTE: at line 3, n = 0. Cannot divide by zero. "
   ]
  },
  {
   "cell_type": "markdown",
   "metadata": {
    "slideshow": {
     "slide_type": "slide"
    }
   },
   "source": [
    "<center><img src=\"Picture7.png\"></center"
   ]
  },
  {
   "cell_type": "markdown",
   "metadata": {
    "slideshow": {
     "slide_type": "slide"
    }
   },
   "source": [
    "<h3><font color='#004b87'>Catching and handling exceptions</font></h3>\n",
    "<p></p>\n",
    "It is possible to override the default behavior (print error information and “crash”) when an exception is raised, using try/except statements\n",
    "<li>If an exception is raised while executing the try block, then the block of the associated except statement is executed</li>\n",
    "<li>creturns True if the numbers in the list form an arithmetic sequence, False otherwise</li>\n"
   ]
  },
  {
   "cell_type": "code",
   "execution_count": 24,
   "metadata": {
    "slideshow": {
     "slide_type": "fragment"
    }
   },
   "outputs": [
    {
     "name": "stdout",
     "output_type": "stream",
     "text": [
      "Enter your age: Fifteen \n"
     ]
    },
    {
     "ename": "ValueError",
     "evalue": "invalid literal for int() with base 10: 'Fifteen '",
     "output_type": "error",
     "traceback": [
      "\u001b[1;31m---------------------------------------------------------------------------\u001b[0m",
      "\u001b[1;31mValueError\u001b[0m                                Traceback (most recent call last)",
      "\u001b[1;32m<ipython-input-24-96b339f92298>\u001b[0m in \u001b[0;36m<module>\u001b[1;34m\u001b[0m\n\u001b[0;32m      1\u001b[0m \u001b[0mstrAge\u001b[0m \u001b[1;33m=\u001b[0m \u001b[0minput\u001b[0m\u001b[1;33m(\u001b[0m\u001b[1;34m'Enter your age: '\u001b[0m\u001b[1;33m)\u001b[0m\u001b[1;33m\u001b[0m\u001b[1;33m\u001b[0m\u001b[0m\n\u001b[1;32m----> 2\u001b[1;33m \u001b[0mintAge\u001b[0m \u001b[1;33m=\u001b[0m \u001b[0mint\u001b[0m\u001b[1;33m(\u001b[0m\u001b[0mstrAge\u001b[0m\u001b[1;33m)\u001b[0m\u001b[1;33m\u001b[0m\u001b[1;33m\u001b[0m\u001b[0m\n\u001b[0m\u001b[0;32m      3\u001b[0m \u001b[0mprint\u001b[0m\u001b[1;33m(\u001b[0m\u001b[1;34m'You are {} years old.'\u001b[0m\u001b[1;33m.\u001b[0m\u001b[0mformat\u001b[0m\u001b[1;33m(\u001b[0m\u001b[0mintAge\u001b[0m\u001b[1;33m)\u001b[0m\u001b[1;33m)\u001b[0m\u001b[1;33m\u001b[0m\u001b[1;33m\u001b[0m\u001b[0m\n\u001b[0;32m      4\u001b[0m \u001b[0mprint\u001b[0m\u001b[1;33m(\u001b[0m\u001b[1;34m'Enter your age using digits 0-9!'\u001b[0m\u001b[1;33m)\u001b[0m\u001b[1;33m\u001b[0m\u001b[1;33m\u001b[0m\u001b[0m\n",
      "\u001b[1;31mValueError\u001b[0m: invalid literal for int() with base 10: 'Fifteen '"
     ]
    }
   ],
   "source": [
    "strAge = input('Enter your age: ')\n",
    "intAge = int(strAge)\n",
    "print('You are {} years old.'.format(intAge))\n",
    "print('Enter your age using digits 0-9!')"
   ]
  },
  {
   "cell_type": "code",
   "execution_count": 25,
   "metadata": {
    "slideshow": {
     "slide_type": "fragment"
    }
   },
   "outputs": [
    {
     "name": "stdout",
     "output_type": "stream",
     "text": [
      "Enter your age: Fifteen \n",
      "Enter your age using digits 0-9!\n"
     ]
    }
   ],
   "source": [
    "try:\n",
    "    strAge = input('Enter your age: ')\n",
    "    intAge = int(strAge)\n",
    "    print('You are {} years old.'.format(intAge))\n",
    "except:\n",
    "    print('Enter your age using digits 0-9!')"
   ]
  },
  {
   "cell_type": "markdown",
   "metadata": {
    "slideshow": {
     "slide_type": "slide"
    }
   },
   "source": [
    "<h3><font color='#004b87'>Format of a try/except statement pair</font></h3>\n",
    "<p></p>\n",
    "The format of a try/except pair of statements is:\n"
   ]
  },
  {
   "cell_type": "code",
   "execution_count": null,
   "metadata": {
    "slideshow": {
     "slide_type": "fragment"
    }
   },
   "outputs": [],
   "source": [
    "try:\n",
    "    <indented code block>\n",
    "except:\n",
    "    <exception handler block>\n",
    "<non-indented statement>"
   ]
  },
  {
   "cell_type": "markdown",
   "metadata": {
    "slideshow": {
     "slide_type": "fragment"
    }
   },
   "source": [
    "<li>The exception handler handles any exception raised in the try block</li>\n",
    "<li>The except statement is said to catch the (raised) exception</li>\n",
    "<p></p>\n",
    "It is possible to restrict the except statement to catch exceptions of  specific type only"
   ]
  },
  {
   "cell_type": "code",
   "execution_count": null,
   "metadata": {
    "slideshow": {
     "slide_type": "fragment"
    }
   },
   "outputs": [],
   "source": [
    "try:\n",
    "    <indented code block>\n",
    "except <ExceptionType>:\n",
    "    <exception handler block>\n",
    "<non-indented statement>"
   ]
  },
  {
   "cell_type": "markdown",
   "metadata": {
    "slideshow": {
     "slide_type": "slide"
    }
   },
   "source": [
    "<h3><font color='#004b87'>Format of a try/except statement pair</font></h3>\n",
    "<p></p>\n",
    "It is possible to restrict the except statement to catch exceptions of a specific type only"
   ]
  },
  {
   "cell_type": "code",
   "execution_count": 20,
   "metadata": {
    "slideshow": {
     "slide_type": "skip"
    }
   },
   "outputs": [],
   "source": [
    "def readAge(filename):\n",
    "    'converts first line of file filename to an integer and prints it'\n",
    "    try:\n",
    "        infile = open(filename)\n",
    "        strAge = infile.readline()\n",
    "        age = int(strAge)\n",
    "        print('age is', age)\n",
    "except ValueError:\n",
    "        print('Value cannot be converted to integer.')"
   ]
  },
  {
   "cell_type": "markdown",
   "metadata": {
    "slideshow": {
     "slide_type": "fragment"
    }
   },
   "source": [
    "<h3><font color='#004b87'>Multiple exception handlers</font></h3>\n",
    "<p></p>"
   ]
  },
  {
   "cell_type": "code",
   "execution_count": null,
   "metadata": {
    "slideshow": {
     "slide_type": "skip"
    }
   },
   "outputs": [],
   "source": [
    "def readAge(filename):\n",
    "    'converts first line of file filename to an integer and prints it'\n",
    "    try:\n",
    "        infile = open(filename)\n",
    "        strAge = infile.readline()\n",
    "        age = int(strAge)\n",
    "        print('age is',age)\n",
    "    except IOError:\n",
    "        # executed only if an IOError exception is raised\n",
    "        print('Input/Output error.')\n",
    "    except ValueError:\n",
    "        # executed only if a ValueError exception is raised\n",
    "        print('Value cannot be converted to integer.')\n",
    "    except:\n",
    "        # executed if an exception other than IOError or ValueError is raised\n",
    "        print('Other error.')"
   ]
  },
  {
   "cell_type": "markdown",
   "metadata": {
    "slideshow": {
     "slide_type": "fragment"
    }
   },
   "source": [
    "<h3><font color='#004b87'>Controlling the exceptional control flow</font></h3>\n",
    "<p></p>\n",
    "<center><img src=\"Picture8.png\"></center"
   ]
  },
  {
   "cell_type": "markdown",
   "metadata": {
    "slideshow": {
     "slide_type": "slide"
    }
   },
   "source": [
    "<h3><font color='#004b87'>Modules, revisited</font></h3>\n",
    "<p></p>\n",
    "A module is a file containing Python code\n",
    "<p></p>\n",
    "When the module is executed (imported), then the module is (also) a namespace. \n",
    "<li>This namespace has a name, typically the name of the module.</li>\n",
    "<li>In this namespace live the names that are defined in the global scope of the module: the names of functions, values, and classes defined in the module</li>\n",
    "<li>These names are the module’s attributes.</li>\n",
    "<li>To access the imported module’s attributes, the name of the namespace must be specified</li>\n"
   ]
  },
  {
   "cell_type": "code",
   "execution_count": 27,
   "metadata": {
    "slideshow": {
     "slide_type": "fragment"
    }
   },
   "outputs": [
    {
     "name": "stdout",
     "output_type": "stream",
     "text": [
      "['__doc__', '__loader__', '__name__', '__package__', '__spec__', 'acos', 'acosh', 'asin', 'asinh', 'atan', 'atan2', 'atanh', 'ceil', 'comb', 'copysign', 'cos', 'cosh', 'degrees', 'dist', 'e', 'erf', 'erfc', 'exp', 'expm1', 'fabs', 'factorial', 'floor', 'fmod', 'frexp', 'fsum', 'gamma', 'gcd', 'hypot', 'inf', 'isclose', 'isfinite', 'isinf', 'isnan', 'isqrt', 'ldexp', 'lgamma', 'log', 'log10', 'log1p', 'log2', 'modf', 'nan', 'perm', 'pi', 'pow', 'prod', 'radians', 'remainder', 'sin', 'sinh', 'sqrt', 'tan', 'tanh', 'tau', 'trunc']\n"
     ]
    }
   ],
   "source": [
    "import math\n",
    "print(dir(math))"
   ]
  },
  {
   "cell_type": "markdown",
   "metadata": {
    "slideshow": {
     "slide_type": "slide"
    }
   },
   "source": [
    "<h3><font color='#004b87'>Importing a module</font></h3>\n",
    "When the Python interpreter executes an import statement, it:\n",
    "<p></p>\n",
    "<ol>\n",
    "    <li>Looks for the file corresponding to the module to be imported.</li>\n",
    "    <li>Runs the module’s code to create the objects defined in the module</li>\n",
    "    <li>Creates a namespace where the names of these objects will live.</li>\n",
    "</ol>\n",
    "<p></p>\n",
    "An import statement only lists a name, the name of the module\n",
    "<li>without any directory information or .py suffix.</li>\n",
    "<p></p>\n",
    "Python uses the Python search path to locate the module.\n",
    "<li>The search path is a list of directories where Python looks for modules.</li>\n",
    "<li>The variable name path defined in the Standard Library module sys refers to this list.</li>"
   ]
  },
  {
   "cell_type": "code",
   "execution_count": 28,
   "metadata": {
    "slideshow": {
     "slide_type": "slide"
    }
   },
   "outputs": [
    {
     "data": {
      "text/plain": [
       "['C:\\\\Users\\\\tranq\\\\OneDrive\\\\Desktop\\\\Teaching Material\\\\2021 01 BDAT 1004\\\\Week 05',\n",
       " 'C:\\\\Users\\\\tranq\\\\anaconda3\\\\python38.zip',\n",
       " 'C:\\\\Users\\\\tranq\\\\anaconda3\\\\DLLs',\n",
       " 'C:\\\\Users\\\\tranq\\\\anaconda3\\\\lib',\n",
       " 'C:\\\\Users\\\\tranq\\\\anaconda3',\n",
       " '',\n",
       " 'C:\\\\Users\\\\tranq\\\\anaconda3\\\\lib\\\\site-packages',\n",
       " 'C:\\\\Users\\\\tranq\\\\anaconda3\\\\lib\\\\site-packages\\\\win32',\n",
       " 'C:\\\\Users\\\\tranq\\\\anaconda3\\\\lib\\\\site-packages\\\\win32\\\\lib',\n",
       " 'C:\\\\Users\\\\tranq\\\\anaconda3\\\\lib\\\\site-packages\\\\Pythonwin',\n",
       " 'C:\\\\Users\\\\tranq\\\\anaconda3\\\\lib\\\\site-packages\\\\IPython\\\\extensions',\n",
       " 'C:\\\\Users\\\\tranq\\\\.ipython']"
      ]
     },
     "execution_count": 28,
     "metadata": {},
     "output_type": "execute_result"
    }
   ],
   "source": [
    "import sys\n",
    "sys.path\n"
   ]
  },
  {
   "cell_type": "markdown",
   "metadata": {},
   "source": [
    "<h3><font color='#004b87'>The Python search path</font></h3>\n",
    "<p></p>\n",
    "Suppose we want to import module 'example' stored in folder /Users/me that is not in list sys.path\n",
    "<p></p>"
   ]
  },
  {
   "cell_type": "code",
   "execution_count": null,
   "metadata": {},
   "outputs": [],
   "source": [
    "'an example module'\n",
    "def f():\n",
    "    'function f'\n",
    "    print('Executing f()')\n",
    "\n",
    "def g():\n",
    "    'function g'\n",
    "    print('Executing g()')\n",
    "    \n",
    "x = 0  # global var"
   ]
  },
  {
   "cell_type": "markdown",
   "metadata": {},
   "source": [
    "<p>For the above code:</p>\n",
    "<p> When called without an argument, function dir() returns the names in the top-level module:</p>\n",
    "<li> the shell in this case </li>\n",
    "<p></p>\n",
    "<p>By just adding folder /Users/me to the search path, module 'example' can be imported </p>"
   ]
  },
  {
   "cell_type": "markdown",
   "metadata": {
    "slideshow": {
     "slide_type": "slide"
    }
   },
   "source": [
    "<h3><font color='#004b87'>Top-level module</font></h3>\n",
    "<p></p>\n",
    "A computer application is a program typically split across multiple modules. \n",
    "<p></p>\n",
    "One of the modules is special: It contains the “main program”. This module is referred to as the top-level module.\n",
    "<li>The remaining modules are “library” modules that are imported by the top-level module and that contain functions and classes used by it</li>\n",
    "<p></p>\n",
    "When a module is imported, Python creates a few “bookkeeping” variables in the module namespace, including variable __name__:\n",
    "<li>set to '__main__', if the module is being run as a top-level module</li>\n",
    "<li>set to the module’s name, if the file is being imported by another module</li>\n",
    "\n",
    "<h4><font color='#004b87'>A module is a top-level module if:</font></h4>\n",
    "<p></p>\n",
    "<li>it is run from the shell</li>\n",
    "<li> it is run at the command line</li>\n"
   ]
  },
  {
   "cell_type": "markdown",
   "metadata": {},
   "source": [
    "<h3><font color='#004b87'>Three ways to import module attributes</font></h3>\n",
    "<p></p>\n",
    "1) Import the (name of the) module \n",
    "<p></p>"
   ]
  },
  {
   "cell_type": "code",
   "execution_count": 3,
   "metadata": {},
   "outputs": [],
   "source": [
    "# here namespace: '__main__'\n",
    "\n",
    "'an example module'\n",
    "def f():\n",
    "    'function f'\n",
    "    print('Executing f()')\n",
    "\n",
    "def g():\n",
    "    'function g'\n",
    "    print('Executing g()')\n",
    "    \n",
    "x = 0  # global var"
   ]
  },
  {
   "cell_type": "code",
   "execution_count": null,
   "metadata": {},
   "outputs": [],
   "source": [
    ">>> import example\n",
    ">>> example.x\n",
    "0\n",
    ">>> example.f\n",
    "<function f at 0x10278dd98>\n",
    ">>> example.f()\n",
    "Executing f()\n",
    ">>> \n"
   ]
  },
  {
   "cell_type": "markdown",
   "metadata": {
    "slideshow": {
     "slide_type": "slide"
    }
   },
   "source": [
    "<h3><font color='#004b87'>Three ways to import module attributes</font></h3>\n",
    "<p></p>\n",
    "2) Import specific module attributes\n",
    "<p></p>"
   ]
  },
  {
   "cell_type": "code",
   "execution_count": null,
   "metadata": {
    "slideshow": {
     "slide_type": "slide"
    }
   },
   "outputs": [],
   "source": [
    ">>> from example import f\n",
    ">>> f()\n",
    "Executing f()\n",
    ">>> x\n",
    "Traceback (most recent call last):\n",
    "  File \"<pyshell#28>\", line 1, in <module>\n",
    "    x\n",
    "NameError: name 'x' is not defined\n",
    ">>> \n",
    "# x not defined because it was not imported\n",
    "# only f was imported"
   ]
  },
  {
   "cell_type": "markdown",
   "metadata": {
    "slideshow": {
     "slide_type": "slide"
    }
   },
   "source": [
    "<h3><font color='#004b87'>Three ways to import module attributes</font></h3>\n",
    "<p></p>\n",
    "3) Import all module attributes\n",
    "<p></p>"
   ]
  },
  {
   "cell_type": "code",
   "execution_count": null,
   "metadata": {
    "slideshow": {
     "slide_type": "fragment"
    }
   },
   "outputs": [],
   "source": [
    ">>> from example import *\n",
    ">>> f()\n",
    "Executing f()\n",
    ">>> g()\n",
    "Executing g()\n",
    ">>> x\n",
    "0\n",
    ">>>\n"
   ]
  },
  {
   "cell_type": "markdown",
   "metadata": {
    "slideshow": {
     "slide_type": "slide"
    }
   },
   "source": [
    "<h3><font color='#004b87'>A class is a namespace</font></h3>\n",
    "<p></p>\n",
    "A class is really a namespace\n",
    "<p></p>\n",
    "<li>The name of this namespace is the name of the class</li>\n",
    "<li>The names defined in  this namespace are the class attributes (e.g., class methods)</li>\n",
    "<li>The class attributes can be accessed using the standard namespace notation</li>\n",
    "<li>Function dir() can be used to listthe class attributes</li>\n"
   ]
  },
  {
   "cell_type": "markdown",
   "metadata": {
    "slideshow": {
     "slide_type": "slide"
    }
   },
   "source": [
    "<h3><font color='#004b87'>Class methods</font></h3>\n",
    "<p></p>\n",
    "A class method is really a function defined in the class namespace; when Python executes\n"
   ]
  },
  {
   "cell_type": "code",
   "execution_count": null,
   "metadata": {
    "slideshow": {
     "slide_type": "fragment"
    }
   },
   "outputs": [],
   "source": [
    "instance.method(arg1, arg2, …)"
   ]
  },
  {
   "cell_type": "markdown",
   "metadata": {
    "slideshow": {
     "slide_type": "fragment"
    }
   },
   "source": [
    "it first translates it to"
   ]
  },
  {
   "cell_type": "code",
   "execution_count": null,
   "metadata": {
    "slideshow": {
     "slide_type": "fragment"
    }
   },
   "outputs": [],
   "source": [
    "class.method(instance, arg1, arg2, …)"
   ]
  },
  {
   "cell_type": "markdown",
   "metadata": {
    "slideshow": {
     "slide_type": "slide"
    }
   },
   "source": [
    "and actually executes this last statement\n",
    "<p></p>\n",
    "The function has an extra argument ('instance'), which is the object invoking the method\n"
   ]
  },
  {
   "cell_type": "code",
   "execution_count": 35,
   "metadata": {
    "slideshow": {
     "slide_type": "fragment"
    }
   },
   "outputs": [
    {
     "name": "stdout",
     "output_type": "stream",
     "text": [
      "[9, 1, 8, 2, 7, 3]\n",
      "[1, 2, 3, 7, 8, 9]\n",
      "[9, 1, 8, 2, 7, 3]\n",
      "[1, 2, 3, 7, 8, 9]\n",
      "[1, 2, 3, 7, 8, 9, 6]\n",
      "[1, 2, 3, 7, 8, 9, 6, 5]\n"
     ]
    }
   ],
   "source": [
    "lst = [9, 1, 8, 2, 7, 3]\n",
    "print(lst)\n",
    "lst.sort()\n",
    "print(lst)\n",
    "lst = [9, 1, 8, 2, 7, 3]\n",
    "print(lst)\n",
    "list.sort(lst)\n",
    "print(lst)\n",
    "lst.append(6)\n",
    "print(lst)\n",
    "list.append(lst, 5)\n",
    "print(lst)\n",
    "\n"
   ]
  },
  {
   "cell_type": "markdown",
   "metadata": {
    "slideshow": {
     "slide_type": "fragment"
    }
   },
   "source": [
    "<h3><font color='#004b87'>Exercise</font></h3>\n",
    "<p></p>\n",
    "Rewrite the below Python statement so that instead of making the usual method invocations\n",
    "<br></br>\n",
    "instance.method(arg1, arg2, …)\n",
    "<br></br>\n",
    "you use the notation\n",
    "<br></br>\n",
    "class.method(instance, arg1, arg2, …)\n"
   ]
  },
  {
   "cell_type": "code",
   "execution_count": 50,
   "metadata": {
    "slideshow": {
     "slide_type": "slide"
    }
   },
   "outputs": [],
   "source": [
    "# Change the below notation to class.method(instance, arg1, arg2, …)\n",
    "s = 'ACM'\n",
    "s.lower()\n",
    "s.find('C')\n",
    "s.replace('AC', 'IB')"
   ]
  },
  {
   "cell_type": "code",
   "execution_count": 8,
   "metadata": {},
   "outputs": [
    {
     "name": "stdout",
     "output_type": "stream",
     "text": [
      "acm\n",
      "1\n",
      "IBM\n"
     ]
    }
   ],
   "source": [
    "s = 'ACM'\n",
    "print(str.lower(s))\n",
    "\n",
    "print(str.find(s, 'C'))\n",
    "\n",
    "print(str.replace(s, 'AC', 'IB'))\n"
   ]
  },
  {
   "cell_type": "markdown",
   "metadata": {
    "slideshow": {
     "slide_type": "fragment"
    }
   },
   "source": [
    "<h3><font color='#004b87'>Object-Oriented Programming</font></h3>\n",
    "<p></p>\n",
    "Rewrite the below Python statement so that instead of making the usual method invocations\n",
    "<p></p>\n",
    "<li>Defining new Python Classes</li>\n",
    "<li>Container Classes</li>\n",
    "<li>Overloaded Operators</li>\n",
    "<li>Inheritance</li>\n",
    "<li>User-Defined Exceptions</li>\n"
   ]
  },
  {
   "cell_type": "markdown",
   "metadata": {
    "slideshow": {
     "slide_type": "slide"
    }
   },
   "source": [
    "<h3><font color='#004b87'>A new class: Point</font></h3>\n",
    "<p></p>\n",
    "Suppose we would like to have a class that represents points on a plane\n",
    "<p></p>\n",
    "   <li>or a graphics app, say </li>   \n",
    "\n",
    "|Usage               | Explanation                                                      |                         \n",
    "| :---               |-----------------:                                                |          \n",
    "| p.setx(xcoord)     | Sets the x coordinate of point p to xcoord           |        \n",
    "| p.sety(ycoord)     | Sets the y coordinate of point p to ycoord                |  \n",
    "| p.get()            | Returns the x and y coordinates of point p as a tuple (x, y)        |  \n",
    "| p.move(dx, dy)     | Changes the coordinates of point p from the current (x, y) to (x+dx, y+dy)       |  \n",
    "\n",
    "\n",
    "\n",
    "<p></p>\n",
    "<li>How do we create this new class Point?</li>   \n",
    "\n",
    "\n"
   ]
  },
  {
   "cell_type": "code",
   "execution_count": 34,
   "metadata": {
    "slideshow": {
     "slide_type": "fragment"
    }
   },
   "outputs": [],
   "source": [
    "point = Point()\n",
    "point.setx(3)\n",
    "point.sety(4)\n",
    "point.get()\n",
    "(3, 4)\n",
    "point.move(1, 2)\n",
    "point.get()\n",
    "(4, 6)\n",
    "point.setx(-1)\n",
    "point.get()\n",
    "(-1, 6)\n"
   ]
  },
  {
   "cell_type": "markdown",
   "metadata": {
    "slideshow": {
     "slide_type": "slide"
    }
   },
   "source": [
    "<h3><font color='#004b87'>Recall a class is a namespace </font></h3>\n",
    "<p></p>\n",
    "A class is really a namespace\n",
    "\n",
    "<p></p>\n",
    "<li>The name of this namespace is the name of the class</li>\n",
    "<li>The names defined in  this namespace are the class attributes (e.g., class methods: __add__, count, pop, sort)</li>\n",
    "<li>The class attributes can be accessed using the standard namespace notation</li>\n",
    "\n",
    "\n",
    "\n"
   ]
  },
  {
   "cell_type": "code",
   "execution_count": 37,
   "metadata": {
    "slideshow": {
     "slide_type": "fragment"
    }
   },
   "outputs": [
    {
     "name": "stdout",
     "output_type": "stream",
     "text": [
      "['__add__', '__class__', '__contains__', '__delattr__', '__delitem__', '__dir__', '__doc__', '__eq__', '__format__', '__ge__', '__getattribute__', '__getitem__', '__gt__', '__hash__', '__iadd__', '__imul__', '__init__', '__init_subclass__', '__iter__', '__le__', '__len__', '__lt__', '__mul__', '__ne__', '__new__', '__reduce__', '__reduce_ex__', '__repr__', '__reversed__', '__rmul__', '__setattr__', '__setitem__', '__sizeof__', '__str__', '__subclasshook__', 'append', 'clear', 'copy', 'count', 'extend', 'index', 'insert', 'pop', 'remove', 'reverse', 'sort']\n"
     ]
    }
   ],
   "source": [
    "print(dir(list))"
   ]
  },
  {
   "cell_type": "markdown",
   "metadata": {
    "slideshow": {
     "slide_type": "fragment"
    }
   },
   "source": [
    "A class method is really a function defined in the class namespace; when Python executes\n",
    "<br></br>\n",
    "instance.method(arg1, arg2, …)\n",
    "<br></br>\n",
    "it first translates it to\n",
    "<br></br>\n",
    "class.method(instance, arg1, arg2, …)\n",
    "and actually executes this last statement\n"
   ]
  },
  {
   "cell_type": "markdown",
   "metadata": {
    "slideshow": {
     "slide_type": "slide"
    }
   },
   "source": [
    "<h3><font color='#004b87'>Developing the class Point</font></h3>\n",
    "<p></p>\n",
    "<li>A namespace called Point needs to be defined</li>\n",
    "<li>Namespace Point will store the names of the 4 methods (the class\n",
    "attributes)</li>\n",
    "<li> In this example, the class attributes are setx, sety, get and move </li>\n",
    "<li>Each method is a function that has an extra (first) argument\n",
    "which refers to the object that the method is invoked on</li>\n",
    "\n",
    "\n",
    "\n",
    "|Usage               | Explanation                                                      |                         \n",
    "| :---               |-----------------:                                                |          \n",
    "| setx(p, xcoord)     | Sets the x coordinate of point p to xcoord           |        \n",
    "| sety(p, ycoord)     | Sets the y coordinate of point p to ycoord                |  \n",
    "| get(p)            | Returns the x and y coordinates of point p as a tuple (x, y)        |  \n",
    "| move(p, dx, dy)     | Changes the coordinates of point p from the current (x, y) to (x+dx, y+dy)                                      |  \n",
    "\n",
    "\n",
    "\n",
    "<p></p>\n",
    "\n",
    "<center><img src=\"Picture9.png\"></center"
   ]
  },
  {
   "cell_type": "code",
   "execution_count": null,
   "metadata": {
    "slideshow": {
     "slide_type": "slide"
    }
   },
   "outputs": [],
   "source": [
    "class Point:\n",
    "    'class that represents a point in the plane'\n",
    "\n",
    "    def setx(self, xcoord):\n",
    "        'set x coordinate of point to xcoord'\n",
    "        # to be implemented\n",
    "\n",
    "    def sety(self, ycoord):\n",
    "        'set y coordinate of point to ycoord'\n",
    "        # to be implemented\n",
    "\n",
    "    def get(self):\n",
    "        'return coordinates of the point as a tuple'\n",
    "        # to be implemented\n",
    "\n",
    "    def move(self, dx, dy):\n",
    "        'change the x and y coordinates by dx and dy'\n",
    "        # to be implemented\n"
   ]
  },
  {
   "cell_type": "markdown",
   "metadata": {
    "slideshow": {
     "slide_type": "fragment"
    }
   },
   "source": [
    "The Python class statement defines a new class (and associated namespace)\n"
   ]
  },
  {
   "cell_type": "markdown",
   "metadata": {
    "slideshow": {
     "slide_type": "slide"
    }
   },
   "source": [
    "<h3><font color='#004b87'>The object namespace</font></h3>\n",
    "<p></p>\n",
    "   <li>We know that a namespace is associated with every class</li>   \n",
    "   <li>A namespace is also associated with every object</li>\n",
    "\n"
   ]
  },
  {
   "cell_type": "code",
   "execution_count": 38,
   "metadata": {
    "slideshow": {
     "slide_type": "fragment"
    }
   },
   "outputs": [],
   "source": [
    "class Point:\n",
    "    'class that represents a point in the plane'\n",
    "\n",
    "    def setx(self, xcoord):\n",
    "        'set x coordinate of point to xcoord'\n",
    "        self.x = xcoord\n",
    "\n",
    "    def sety(self, ycoord):\n",
    "        'set y coordinate of point to ycoord'\n",
    "        # to be implemented\n",
    "\n",
    "    def get(self):\n",
    "        'return coordinates of the point as a tuple'\n",
    "        # to be implemented\n",
    "\n",
    "    def move(self, dx, dy):\n",
    "        'change the x and y coordinates by dx and dy'\n",
    "        # to be implemented\n"
   ]
  },
  {
   "cell_type": "code",
   "execution_count": 40,
   "metadata": {
    "slideshow": {
     "slide_type": "slide"
    }
   },
   "outputs": [],
   "source": [
    "point = Point()\n",
    "Point.setx(point, 3)"
   ]
  },
  {
   "attachments": {
    "Picture10.PNG": {
     "image/png": "[encoded data removed]"
    }
   },
   "cell_type": "markdown",
   "metadata": {
    "slideshow": {
     "slide_type": "fragment"
    }
   },
   "source": [
    "![Picture10.PNG](attachment:Picture10.PNG)"
   ]
  },
  {
   "cell_type": "markdown",
   "metadata": {
    "slideshow": {
     "slide_type": "slide"
    }
   },
   "source": [
    "<h3><font color='#004b87'>Defining the class Point</font></h3>\n",
    "<p></p>\n",
    "   <li>A namespace called Point needs to be defined</li>   \n",
    "   <li>Namespace Point will store the names of the 4 methods (the class attributes)</li>\n",
    "   <li>Each method is a function that has an extra (first) argument\n",
    "which refers to the object that the method is invoked on</li>"
   ]
  },
  {
   "cell_type": "markdown",
   "metadata": {
    "slideshow": {
     "slide_type": "slide"
    }
   },
   "source": [
    "<h3><font color='#004b87'>Exercise</font></h3>\n",
    "<p></p>\n",
    "Add new method getx() to class Point"
   ]
  },
  {
   "cell_type": "code",
   "execution_count": 52,
   "metadata": {
    "slideshow": {
     "slide_type": "fragment"
    }
   },
   "outputs": [],
   "source": [
    "class Point:\n",
    "    \n",
    "\n",
    "    def setx(self, xcoord):\n",
    "        'set x coordinate of point to xcoord'\n",
    "        self.x = xcoord\n",
    "\n",
    "    def sety(self, ycoord):\n",
    "        'set y coordinate of point to ycoord'\n",
    "        # to be implemented\n",
    "\n",
    "    def get(self):\n",
    "        'return coordinates of the point as a tuple'\n",
    "        # to be implemented\n",
    "\n",
    "    def move(self, dx, dy):\n",
    "        'change the x and y coordinates by dx and dy'\n",
    "        # to be implemented\n",
    "        \n",
    "     #ADD getx()   "
   ]
  },
  {
   "cell_type": "markdown",
   "metadata": {
    "slideshow": {
     "slide_type": "slide"
    }
   },
   "source": [
    "<h3><font color='#004b87'>The instance namespaces</font></h3>\n",
    "\n",
    "\n",
    "<p></p>\n",
    "   <li>Variables stored in the namespace of an object (instance) are called instance variables (or instance attributes</li>   \n",
    "   <li>Every object will have its own namespace and therefore its own instance variables</li>\n",
    "  \n",
    " \n",
    " <center><img src=\"Picture11.png\"></center"
   ]
  },
  {
   "cell_type": "code",
   "execution_count": 42,
   "metadata": {
    "slideshow": {
     "slide_type": "fragment"
    }
   },
   "outputs": [
    {
     "name": "stdout",
     "output_type": "stream",
     "text": [
      "3\n",
      "0\n"
     ]
    }
   ],
   "source": [
    "a = Point()\n",
    "a.setx(3)\n",
    "a.sety(4)\n",
    "b = Point()\n",
    "b.setx(0)\n",
    "b.sety(0)\n",
    "a.get()\n",
    "print(a.x)\n",
    "print(b.x)\n"
   ]
  },
  {
   "cell_type": "markdown",
   "metadata": {
    "slideshow": {
     "slide_type": "slide"
    }
   },
   "source": [
    "<h3><font color='#004b87'>The class and instance attributes</font></h3>\n",
    "<p></p>\n",
    "<li>An instance of a class inherits all the class attributes</li>\n",
    "<li>Function dir() returns the attributes of an object, including the inherited ones</li>\n",
    "<li>class Point attributes inherited by a</li>\n",
    "<li>instance attributes of a</li>\n",
    "<p></p>\n",
    " <center><img src=\"Picture12.png\"></center"
   ]
  },
  {
   "cell_type": "code",
   "execution_count": 44,
   "metadata": {
    "slideshow": {
     "slide_type": "fragment"
    }
   },
   "outputs": [
    {
     "name": "stdout",
     "output_type": "stream",
     "text": [
      "['__class__', '__delattr__', '__dict__', '__dir__', '__doc__', '__eq__', '__format__', '__ge__', '__getattribute__', '__gt__', '__hash__', '__init__', '__init_subclass__', '__le__', '__lt__', '__module__', '__ne__', '__new__', '__reduce__', '__reduce_ex__', '__repr__', '__setattr__', '__sizeof__', '__str__', '__subclasshook__', '__weakref__', 'get', 'move', 'setx', 'sety', 'x']\n"
     ]
    }
   ],
   "source": [
    "print(dir(a))"
   ]
  },
  {
   "cell_type": "markdown",
   "metadata": {
    "slideshow": {
     "slide_type": "slide"
    }
   },
   "source": [
    "<h3><font color='#004b87'>The class and instance attributes</font></h3>\n",
    "<p></p>\n",
    "Method names setx, sety, get, and move are defined in namespace Point\n",
    "<li>not in namespace a or b.</li>\n",
    "<p></p>\n",
    "Python does the following when evaluating expression a.setx:\n",
    "<p></p>\n",
    "   <li>It first attempts to find name setx in object (namespace) a.</li>\n",
    "   <li>If name setx does not exist in namespace a, then it attempts to find setx in namespace Point</li>\n",
    "  <p></p> \n",
    "<center><img src=\"Picture12.png\"></center"
   ]
  },
  {
   "cell_type": "markdown",
   "metadata": {
    "slideshow": {
     "slide_type": "slide"
    }
   },
   "source": [
    "<h3><font color='#004b87'>Class definition, in general</font></h3>\n"
   ]
  },
  {
   "cell_type": "code",
   "execution_count": null,
   "metadata": {
    "slideshow": {
     "slide_type": "fragment"
    }
   },
   "outputs": [],
   "source": [
    "class <Class Name>:\n",
    "    <class variable 1> = <value>\n",
    "    <class variable 2> = <value>\n",
    "    ...\n",
    "    def <class method 1>(self, arg11, arg12, ...):\n",
    "        <implementation of class method 1>\n",
    "\n",
    "    def <class method 2>(self, arg21, arg22, ...):\n",
    "        <implementation of class method 2>\n",
    "\n",
    "    ...\n"
   ]
  },
  {
   "cell_type": "code",
   "execution_count": 53,
   "metadata": {
    "slideshow": {
     "slide_type": "fragment"
    }
   },
   "outputs": [
    {
     "name": "stdout",
     "output_type": "stream",
     "text": [
      "Help on class Point in module __main__:\n",
      "\n",
      "class Point(builtins.object)\n",
      " |  Methods defined here:\n",
      " |  \n",
      " |  get(self)\n",
      " |      return coordinates of the point as a tuple\n",
      " |  \n",
      " |  move(self, dx, dy)\n",
      " |      change the x and y coordinates by dx and dy\n",
      " |  \n",
      " |  setx(self, xcoord)\n",
      " |      set x coordinate of point to xcoord\n",
      " |  \n",
      " |  sety(self, ycoord)\n",
      " |      set y coordinate of point to ycoord\n",
      " |  \n",
      " |  ----------------------------------------------------------------------\n",
      " |  Data descriptors defined here:\n",
      " |  \n",
      " |  __dict__\n",
      " |      dictionary for instance variables (if defined)\n",
      " |  \n",
      " |  __weakref__\n",
      " |      list of weak references to the object (if defined)\n",
      "\n"
     ]
    }
   ],
   "source": [
    "help(Point)"
   ]
  },
  {
   "cell_type": "markdown",
   "metadata": {
    "slideshow": {
     "slide_type": "slide"
    }
   },
   "source": [
    "<h3><font color='#004b87'>Class documentation</font></h3>\n"
   ]
  },
  {
   "cell_type": "code",
   "execution_count": 50,
   "metadata": {
    "slideshow": {
     "slide_type": "fragment"
    }
   },
   "outputs": [],
   "source": [
    "class Point:\n",
    "    'class that represents a point in the plane'\n",
    "\n",
    "    def setx(self, xcoord):\n",
    "        'set x coordinate of point to xcoord'\n",
    "        self.x = xcoord\n",
    "\n",
    "    def sety(self, ycoord):\n",
    "        'set y coordinate of point to ycoord'\n",
    "        self.y = ycoord\n",
    "\n",
    "    def get(self):\n",
    "        'return coordinates of the point as a tuple'\n",
    "        return (self.x, self.y)\n",
    "\n",
    "    def move(self, dx, dy):\n",
    "        'change the x and y coordinates by dx and dy'\n",
    "        self.x += dx\n",
    "        self.y += dy"
   ]
  },
  {
   "cell_type": "code",
   "execution_count": 51,
   "metadata": {
    "slideshow": {
     "slide_type": "fragment"
    }
   },
   "outputs": [
    {
     "name": "stdout",
     "output_type": "stream",
     "text": [
      "Help on class Point in module __main__:\n",
      "\n",
      "class Point(builtins.object)\n",
      " |  class that represents a point in the plane\n",
      " |  \n",
      " |  Methods defined here:\n",
      " |  \n",
      " |  get(self)\n",
      " |      return coordinates of the point as a tuple\n",
      " |  \n",
      " |  move(self, dx, dy)\n",
      " |      change the x and y coordinates by dx and dy\n",
      " |  \n",
      " |  setx(self, xcoord)\n",
      " |      set x coordinate of point to xcoord\n",
      " |  \n",
      " |  sety(self, ycoord)\n",
      " |      set y coordinate of point to ycoord\n",
      " |  \n",
      " |  ----------------------------------------------------------------------\n",
      " |  Data descriptors defined here:\n",
      " |  \n",
      " |  __dict__\n",
      " |      dictionary for instance variables (if defined)\n",
      " |  \n",
      " |  __weakref__\n",
      " |      list of weak references to the object (if defined)\n",
      "\n"
     ]
    }
   ],
   "source": [
    "help(Point)"
   ]
  },
  {
   "cell_type": "markdown",
   "metadata": {
    "slideshow": {
     "slide_type": "slide"
    }
   },
   "source": [
    "<h3><font color='#004b87'>Exercise</font></h3>\n",
    "<p></p>\n",
    "<li>Develop class Animal that supports methods:</li>\n",
    "<li>setSpecies(species)</li>\n",
    "<li>setLanguage(language)</li>\n",
    "<li>speak()</li>\n"
   ]
  },
  {
   "cell_type": "code",
   "execution_count": null,
   "metadata": {
    "slideshow": {
     "slide_type": "fragment"
    }
   },
   "outputs": [],
   "source": [
    "#Try Exercise here\n"
   ]
  },
  {
   "cell_type": "markdown",
   "metadata": {
    "slideshow": {
     "slide_type": "slide"
    }
   },
   "source": [
    "<h3><font color='#004b87'>Overloaded constructor</font></h3>\n",
    "<p></p>\n",
    "called by Python each time a Point object is created \n",
    "<li>It takes 3 steps to create a Point object at specific x and y coordinates</li>\n",
    "<li>It would be better if we could do it in one step</li>"
   ]
  },
  {
   "cell_type": "code",
   "execution_count": 60,
   "metadata": {
    "slideshow": {
     "slide_type": "fragment"
    }
   },
   "outputs": [],
   "source": [
    "class Point:\n",
    "    'class that represents a point in the plane'\n",
    "\n",
    "    def __init__(self, xcoord, ycoord):\n",
    "        'initialize coordinates to (xcoord, ycoord)'\n",
    "        self.x = xcoord\n",
    "        self.y = ycoord\n",
    "\n",
    "    def setx(self, xcoord):\n",
    "        'set x coordinate of point to xcoord'\n",
    "        self.x = xcoord\n",
    "\n",
    "    def sety(self, ycoord):\n",
    "        'set y coordinate of point to ycoord'\n",
    "        self.y = ycoord\n",
    "\n",
    "    def get(self):\n",
    "        'return coordinates of the point as a tuple'\n",
    "        return (self.x, self.y)\n",
    "\n",
    "    def move(self, dx, dy):\n",
    "        'change the x and y coordinates by dx and dy'\n",
    "        self.x += dx\n",
    "        self.y += dy"
   ]
  },
  {
   "cell_type": "code",
   "execution_count": 61,
   "metadata": {},
   "outputs": [
    {
     "data": {
      "text/plain": [
       "(3, 4)"
      ]
     },
     "execution_count": 61,
     "metadata": {},
     "output_type": "execute_result"
    }
   ],
   "source": [
    "a = Point(3, 4)\n",
    "a.get()"
   ]
  },
  {
   "cell_type": "markdown",
   "metadata": {
    "slideshow": {
     "slide_type": "slide"
    }
   },
   "source": [
    "<h3><font color='#004b87'>Default constructor</font></h3>\n",
    "<p></p>\n",
    "Problem: Now we can’t create an uninitialized point"
   ]
  },
  {
   "cell_type": "code",
   "execution_count": 62,
   "metadata": {
    "slideshow": {
     "slide_type": "fragment"
    }
   },
   "outputs": [
    {
     "ename": "TypeError",
     "evalue": "__init__() missing 2 required positional arguments: 'xcoord' and 'ycoord'",
     "output_type": "error",
     "traceback": [
      "\u001b[1;31m---------------------------------------------------------------------------\u001b[0m",
      "\u001b[1;31mTypeError\u001b[0m                                 Traceback (most recent call last)",
      "\u001b[1;32m<ipython-input-62-13a45788828d>\u001b[0m in \u001b[0;36m<module>\u001b[1;34m\u001b[0m\n\u001b[1;32m----> 1\u001b[1;33m \u001b[0ma\u001b[0m \u001b[1;33m=\u001b[0m \u001b[0mPoint\u001b[0m\u001b[1;33m(\u001b[0m\u001b[1;33m)\u001b[0m\u001b[1;33m\u001b[0m\u001b[1;33m\u001b[0m\u001b[0m\n\u001b[0m",
      "\u001b[1;31mTypeError\u001b[0m: __init__() missing 2 required positional arguments: 'xcoord' and 'ycoord'"
     ]
    }
   ],
   "source": [
    "a = Point()"
   ]
  },
  {
   "cell_type": "code",
   "execution_count": 65,
   "metadata": {
    "slideshow": {
     "slide_type": "fragment"
    }
   },
   "outputs": [],
   "source": [
    "class Point:\n",
    "    'class that represents a point in the plane'\n",
    "\n",
    "    def __init__(self, xcoord=0, ycoord=0):\n",
    "        'initialize coordinates to (xcoord, ycoord)'\n",
    "        self.x = xcoord\n",
    "        self.y = ycoord\n",
    "\n",
    "    def setx(self, xcoord):\n",
    "        'set x coordinate of point to xcoord'\n",
    "        self.x = xcoord\n",
    "\n",
    "    def sety(self, ycoord):\n",
    "        'set y coordinate of point to ycoord'\n",
    "        self.y = ycoord\n",
    "\n",
    "    def get(self):\n",
    "        'return coordinates of the point as a tuple'\n",
    "        return (self.x, self.y)\n",
    "\n",
    "    def move(self, dx, dy):\n",
    "        'change the x and y coordinates by dx and dy'\n",
    "        self.x += dx\n",
    "        self.y += dy"
   ]
  },
  {
   "cell_type": "code",
   "execution_count": 66,
   "metadata": {
    "slideshow": {
     "slide_type": "fragment"
    }
   },
   "outputs": [
    {
     "data": {
      "text/plain": [
       "(0, 0)"
      ]
     },
     "execution_count": 66,
     "metadata": {},
     "output_type": "execute_result"
    }
   ],
   "source": [
    "a = Point()\n",
    "a.get()\n"
   ]
  },
  {
   "cell_type": "markdown",
   "metadata": {
    "slideshow": {
     "slide_type": "slide"
    }
   },
   "source": [
    "<h3><font color='#004b87'>Exercise</font></h3>\n",
    "<p></p>\n",
    "Modify the class Animal we developed in the previous section so it supports a two, one, or no input argument constructor"
   ]
  },
  {
   "cell_type": "code",
   "execution_count": 67,
   "metadata": {
    "slideshow": {
     "slide_type": "fragment"
    }
   },
   "outputs": [],
   "source": [
    "#Modify this class \n",
    "class Animal:\n",
    "    'represents an animal'\n",
    "\n",
    "    def setSpecies(self, species):\n",
    "        'sets the animal species'\n",
    "        self.spec = species\n",
    "\n",
    "    def setLanguage(self, language):\n",
    "        'sets the animal language'\n",
    "        self.lang = language\n",
    "\n",
    "    def speak(self):\n",
    "        'prints a sentence by the animal'\n",
    "        print('I am a {} and I {}.'.format(self.spec, self.lang))\n",
    "\n"
   ]
  },
  {
   "cell_type": "markdown",
   "metadata": {
    "slideshow": {
     "slide_type": "slide"
    }
   },
   "source": [
    "<h3><font color='#004b87'>Example: class Card</font></h3>\n",
    "<p></p>\n",
    "Goal: develop a  class Card class to represent playing cards\n",
    "<p></p>\n",
    "<li>The class Card should support methods:</li>\n",
    "<li>Card(rank, suit): Constructor that initializes the rank and suit of the card </li>\n",
    "<li>getRank(): Returns the card’s rank</li>\n",
    "<li>getSuit(): Returns the card’s suit</li>\n"
   ]
  },
  {
   "cell_type": "code",
   "execution_count": 68,
   "metadata": {
    "slideshow": {
     "slide_type": "fragment"
    }
   },
   "outputs": [],
   "source": [
    "class Card:\n",
    "    'represents a playing card'\n",
    "\n",
    "    def __init__(self, rank, suit):\n",
    "        'initialize rank and suit of card'\n",
    "        self.rank = rank\n",
    "        self.suit = suit\n",
    "\n",
    "    def getRank(self):\n",
    "        'return rank'\n",
    "        return self.rank\n",
    "\n",
    "    def getSuit(self):\n",
    "        'return suit'\n",
    "        return self.suit "
   ]
  },
  {
   "cell_type": "markdown",
   "metadata": {
    "slideshow": {
     "slide_type": "slide"
    }
   },
   "source": [
    "<h3><font color='#004b87'>Container class: class Deck</font></h3>\n",
    "<p></p>\n",
    "The class Deck should support methods:\n",
    "<li>Deck(): Initializes the deck to contain a standard deck of 52 playing cards</li>\n",
    "<li>shuffle(): Shuffles the deck</li>\n",
    "<li>dealCard():  Pops and returns the card at the top of the deck</li>\n"
   ]
  },
  {
   "cell_type": "code",
   "execution_count": 76,
   "metadata": {
    "slideshow": {
     "slide_type": "fragment"
    }
   },
   "outputs": [],
   "source": [
    "from random import shuffle\n",
    "class Deck:\n",
    "    'represents a deck of 52 cards'\n",
    "\n",
    "    # ranks and suits are Deck class variables\n",
    "    ranks = {'2','3','4','5','6','7','8','9','10','J','Q','K','A'}\n",
    "\n",
    "    # suits is a set of 4 Unicode symbols representing the 4 suits \n",
    "    suits = {'\\u2660', '\\u2661', '\\u2662', '\\u2663'}\n",
    "\n",
    "    def __init__(self):\n",
    "        'initialize deck of 52 cards'\n",
    "        self.deck = []          # deck is initially empty\n",
    "\n",
    "        for suit in Deck.suits: # suits and ranks are Deck\n",
    "            for rank in Deck.ranks: # class variables\n",
    "                # add Card with given rank and suit to deck\n",
    "                self.deck.append(Card(rank,suit))\n",
    "\n",
    "\n",
    "    def dealCard(self):\n",
    "        'deal (pop and return) card from the top of the deck'\n",
    "        return self.deck.pop()\n",
    "\n",
    "    def shuffle(self):\n",
    "        'shuffle the deck'\n",
    "        shuffle(self.deck)\n"
   ]
  },
  {
   "cell_type": "code",
   "execution_count": 77,
   "metadata": {},
   "outputs": [
    {
     "name": "stdout",
     "output_type": "stream",
     "text": [
      "9 ♣\n",
      "Q ♡\n",
      "4 ♠\n"
     ]
    }
   ],
   "source": [
    "deck = Deck()\n",
    "deck.shuffle()\n",
    "card = deck.dealCard()\n",
    "print(card.getRank(), card.getSuit())\n",
    "card = deck.dealCard()\n",
    "print(card.getRank(), card.getSuit())\n",
    "card = deck.dealCard()\n",
    "print(card.getRank(), card.getSuit())"
   ]
  },
  {
   "cell_type": "markdown",
   "metadata": {
    "slideshow": {
     "slide_type": "slide"
    }
   },
   "source": [
    "<h3><font color='#004b87'>Container class: class Queue</font></h3>\n",
    "<p></p>\n",
    "Goal: develop a class Queue , an ordered collection of objects that restricts insertions to the rear of the queue and removal from the front of the queue\n",
    "<p></p>\n",
    "The class Queue should support methods:\n",
    "<li>Queue(): Constructor that initializes the queue to an empty queue</li>\n",
    "<li>enqueue(): Add item to the end of the queue</li>\n",
    "<li>dequeue(): Remove and return the element at the front of the queue</li>\n",
    "<li>isEmpty(): Returns True if the queue is empty, False otherwise</li>\n",
    "<center><img src=\"Picture13.png\"></center"
   ]
  },
  {
   "cell_type": "code",
   "execution_count": 81,
   "metadata": {
    "slideshow": {
     "slide_type": "fragment"
    }
   },
   "outputs": [
    {
     "data": {
      "text/plain": [
       "'John'"
      ]
     },
     "execution_count": 81,
     "metadata": {},
     "output_type": "execute_result"
    }
   ],
   "source": [
    "appts = Queue()\n",
    "appts.enqueue('John')\n",
    "appts.enqueue('Annie')\n",
    "appts.enqueue('Sandy')\n",
    "appts.dequeue()\n"
   ]
  },
  {
   "cell_type": "code",
   "execution_count": 74,
   "metadata": {
    "slideshow": {
     "slide_type": "slide"
    }
   },
   "outputs": [],
   "source": [
    "class Queue:\n",
    "    'a classic queue class'\n",
    "\n",
    "    def __init__(self):\n",
    "        'instantiates an empty list'\n",
    "        self.q = []\n",
    "\n",
    "    def isEmpty(self):\n",
    "        'returns True if queue is empty, False otherwise'\n",
    "        return (len(self.q) == 0)\n",
    "\n",
    "    def enqueue (self, item):\n",
    "        'insert item at rear of queue'\n",
    "        return self.q.append(item)\n",
    "\n",
    "    def dequeue(self):\n",
    "        'remove and return item at front of queue'\n",
    "        return self.q.pop(0)\n"
   ]
  },
  {
   "cell_type": "code",
   "execution_count": 78,
   "metadata": {
    "slideshow": {
     "slide_type": "fragment"
    }
   },
   "outputs": [
    {
     "data": {
      "text/plain": [
       "'John'"
      ]
     },
     "execution_count": 78,
     "metadata": {},
     "output_type": "execute_result"
    }
   ],
   "source": [
    "appts = Queue()\n",
    "appts.enqueue('John')\n",
    "appts.enqueue('Annie')\n",
    "appts.enqueue('Sandy')\n",
    "appts.dequeue()"
   ]
  },
  {
   "cell_type": "markdown",
   "metadata": {
    "slideshow": {
     "slide_type": "slide"
    }
   },
   "source": [
    "<h3><font color='#004b87'>Our classes are not user-friendly</font></h3>\n",
    "<p></p>\n",
    "<center><img src=\"Picture14.png\"></center"
   ]
  },
  {
   "cell_type": "markdown",
   "metadata": {
    "slideshow": {
     "slide_type": "slide"
    }
   },
   "source": [
    "<h3><font color='#004b87'>Python operators</font></h3>\n",
    "<p></p>\n",
    "Operator + is defined for multiple classes; it is an overloaded operator. \n",
    "<p></p>\n",
    "For each class, the definition—and thus the meaning—of the operator is different. \n",
    "<li>integer addition for class int</li>\n",
    "<li>list concatenation for class list</li>\n",
    "<li>string concatenation for class str</li>\n",
    "<p></p>\n",
    "How is the behavior of operator + defined for a particular class?\n"
   ]
  },
  {
   "cell_type": "code",
   "execution_count": 79,
   "metadata": {
    "slideshow": {
     "slide_type": "fragment"
    }
   },
   "outputs": [
    {
     "name": "stdout",
     "output_type": "stream",
     "text": [
      "hello\n",
      "[1, 2, 3, 4]\n",
      "6\n"
     ]
    }
   ],
   "source": [
    "print('he' + 'llo')\n",
    "print([1,2] + [3,4])\n",
    "print(2+4)\n"
   ]
  },
  {
   "cell_type": "code",
   "execution_count": 80,
   "metadata": {
    "slideshow": {
     "slide_type": "slide"
    }
   },
   "outputs": [
    {
     "name": "stdout",
     "output_type": "stream",
     "text": [
      "hello\n",
      "[1, 2, 3, 4]\n",
      "6\n"
     ]
    }
   ],
   "source": [
    "print('he'.__add__('llo'))\n",
    "print([1,2].__add__([3,4]))\n",
    "print((2).__add__(4))\n"
   ]
  },
  {
   "cell_type": "markdown",
   "metadata": {
    "slideshow": {
     "slide_type": "fragment"
    }
   },
   "source": [
    "<h3><font color='#004b87'>Python operators</font></h3>\n",
    "<p></p>\n",
    "For each class, the definition—and thus the meaning—of the operator is different. \n",
    "<li>When Python evaluates: object1 + object 2</li>\n",
    "<li>it first translates it to method invocation: object1.__add__(object2) </li>\n",
    "<li>and then evaluates\n",
    "the method invocation</li>"
   ]
  },
  {
   "cell_type": "markdown",
   "metadata": {
    "slideshow": {
     "slide_type": "slide"
    }
   },
   "source": [
    "<h3><font color='#004b87'>Python operators</font></h3>\n",
    "<p></p>\n",
    "In Python, all expressions involving operators are translated into method calls\n",
    "<li>(Recall that method invocations are then further translated to function calls in a namespace)</li>\n",
    "<p></p>\n",
    "Built-in function repr() returns the canonical string representation of an object\n",
    "<li>This is the representation printed by the shell when evaluating the object </li>\n",
    "\n",
    "\n",
    "|Operator            | Method            |                         \n",
    "| :---               |-----------------: |          \n",
    "| x + y              | x.__add__(y)      |        \n",
    "| x - y              | x.__sub__(y)      |  \n",
    "| x * y              | x.__mul__(y)      |  \n",
    "| x / y              | x.__truediv__(y)  | \n",
    "| x // y             | x.__floordiv__(y) |        \n",
    "| x % y              | x.__mod__(y)      |  \n",
    "| x == y             | x.__eq__(y)       |  \n",
    "| x != y             | x.__ne__(y)       | \n",
    "| x > y              | x.__gt__(y)       |        \n",
    "| x >= y             | x.__ge__(y)       |  \n",
    "| x < y              | x.__lt__(y)       |  \n",
    "| x <= y             | x.__le__(y)       | \n",
    "| repr(x)            | x.__repr__()      |        \n",
    "| str(x)             | x.__str__()       |  \n",
    "| len(x)             | x.__len__()       |  \n",
    "| &lt; type &gt;(x)        | &lt; type &gt;.__init__(x)| "
   ]
  },
  {
   "cell_type": "markdown",
   "metadata": {
    "slideshow": {
     "slide_type": "slide"
    }
   },
   "source": [
    "<h3><font color='#004b87'>Overloading repr()s</font></h3>\n",
    "<p></p>\n",
    "In Python, operators are translated into method calls \n",
    "<p></p>\n",
    "To add an overloaded operator to a user-defined class, the corresponding method must be implemented\n",
    "<li>To get this behavior</li>\n",
    ">>> a = Point(3, 4)\n",
    "<br></br>\n",
    ">>> a\n",
    "<br></br>\n",
    "Point(3, 4)\n",
    "<br></br>\n",
    "method __repr__() must be implemented and added to class Point\n"
   ]
  },
  {
   "cell_type": "code",
   "execution_count": 84,
   "metadata": {
    "slideshow": {
     "slide_type": "slide"
    }
   },
   "outputs": [],
   "source": [
    "class Point:\n",
    "    'class that represents a point in the plane'\n",
    "\n",
    "    def __init__(self, xcoord=0, ycoord=0):\n",
    "        'initialize coordinates to (xcoord, ycoord)'\n",
    "        self.x = xcoord\n",
    "        self.y = ycoord\n",
    "\n",
    "    def setx(self, xcoord):\n",
    "        'set x coordinate of point to xcoord'\n",
    "        self.x = xcoord\n",
    "\n",
    "    def sety(self, ycoord):\n",
    "        'set y coordinate of point to ycoord'\n",
    "        self.y = ycoord\n",
    "\n",
    "    def get(self):\n",
    "        'return coordinates of the point as a tuple'\n",
    "        return (self.x, self.y)\n",
    "\n",
    "    def move(self, dx, dy):\n",
    "        'change the x and y coordinates by dx and dy'\n",
    "        self.x += dx\n",
    "        self.y += dy\n",
    "\n",
    "    def __repr__(self):\n",
    "        'canonical string representation Point(x, y)'\n",
    "        return 'Point({}, {})'.format(self.x, self.y)\n"
   ]
  },
  {
   "cell_type": "code",
   "execution_count": 86,
   "metadata": {
    "slideshow": {
     "slide_type": "fragment"
    }
   },
   "outputs": [
    {
     "data": {
      "text/plain": [
       "Point(3, 4)"
      ]
     },
     "execution_count": 86,
     "metadata": {},
     "output_type": "execute_result"
    }
   ],
   "source": [
    "a = Point(3, 4)\n",
    "a"
   ]
  },
  {
   "cell_type": "markdown",
   "metadata": {
    "slideshow": {
     "slide_type": "fragment"
    }
   },
   "source": [
    "__repr__() should return the (canonical) string representation of the point"
   ]
  },
  {
   "cell_type": "markdown",
   "metadata": {
    "slideshow": {
     "slide_type": "slide"
    }
   },
   "source": [
    "<h3><font color='#004b87'>Overloading operator +</font></h3>\n",
    "<p></p>\n",
    "\n",
    "<li>To get this behavior</li>\n",
    ">>> a = Point(3,4)\n",
    "<br></br>\n",
    ">>> b = Point(1,2)\n",
    "<br></br>\n",
    ">>> a+b\n",
    "<br></br>\n",
    "Point(4, 6)\n",
    "\n",
    "<li>method __add__() must be implemented and added to class Point</li>\n",
    "<li>__add__() should return a new Point object whose coordinates are the sum of the coordinates of a and b</li>\n",
    "<li>Also, method __repr__() should be implemented to achieve the desired display of the result in the shell</li>"
   ]
  },
  {
   "cell_type": "code",
   "execution_count": 87,
   "metadata": {
    "slideshow": {
     "slide_type": "slide"
    }
   },
   "outputs": [],
   "source": [
    "class Point:\n",
    "    'class that represents a point in the plane'\n",
    "\n",
    "    def __init__(self, xcoord=0, ycoord=0):\n",
    "        'initialize coordinates to (xcoord, ycoord)'\n",
    "        self.x = xcoord\n",
    "        self.y = ycoord\n",
    "\n",
    "    def setx(self, xcoord):\n",
    "        'set x coordinate of point to xcoord'\n",
    "        self.x = xcoord\n",
    "\n",
    "    def sety(self, ycoord):\n",
    "        'set y coordinate of point to ycoord'\n",
    "        self.y = ycoord\n",
    "\n",
    "    def get(self):\n",
    "        'return coordinates of the point as a tuple'\n",
    "        return (self.x, self.y)\n",
    "\n",
    "    def move(self, dx, dy):\n",
    "        'change the x and y coordinates by dx and dy'\n",
    "        self.x += dx\n",
    "        self.y += dy\n",
    "        \n",
    "    def __add__(self, point):\n",
    "        return Point(self.x+point.x, self.y+point.y)\n",
    "\n",
    "\n",
    "    def __repr__(self):\n",
    "        'canonical string representation Point(x, y)'\n",
    "        return 'Point({}, {})'.format(self.x, self.y)"
   ]
  },
  {
   "cell_type": "code",
   "execution_count": 88,
   "metadata": {
    "slideshow": {
     "slide_type": "fragment"
    }
   },
   "outputs": [
    {
     "data": {
      "text/plain": [
       "Point(4, 6)"
      ]
     },
     "execution_count": 88,
     "metadata": {},
     "output_type": "execute_result"
    }
   ],
   "source": [
    "a = Point(3,4)\n",
    "b = Point(1,2)\n",
    "a+b"
   ]
  },
  {
   "cell_type": "markdown",
   "metadata": {},
   "source": [
    "<h3><font color='#004b87'>Overloading len()</font></h3>\n",
    "<p></p>\n",
    "\n",
    "<li>To get this behavior</li>\n",
    ">>> appts = Queue()\n",
    "<br></br>\n",
    ">>> len(appts)\n",
    "<br></br>\n",
    "0\n",
    "\n",
    "<li>method __len__() must be implemented and added to class Queue</li>\n",
    "<li>__len__() should return the number of objects in the queue\n",
    "i.e., the size of list self.q</li>\n"
   ]
  },
  {
   "cell_type": "code",
   "execution_count": 89,
   "metadata": {},
   "outputs": [],
   "source": [
    "class Queue:\n",
    "    def __init__(self):\n",
    "        self.q = []\n",
    "\n",
    "    def isEmpty(self):\n",
    "        return (len(self.q) == 0)\n",
    "\n",
    "    def enqueue (self, item):\n",
    "        return self.q.append(item)\n",
    "\n",
    "    def dequeue(self):\n",
    "        return self.q.pop(0)\n",
    "\n",
    "    def __len__(self):\n",
    "        return len(self.q)"
   ]
  },
  {
   "cell_type": "code",
   "execution_count": 90,
   "metadata": {},
   "outputs": [
    {
     "data": {
      "text/plain": [
       "0"
      ]
     },
     "execution_count": 90,
     "metadata": {},
     "output_type": "execute_result"
    }
   ],
   "source": [
    "appts = Queue()\n",
    "len(appts)"
   ]
  },
  {
   "cell_type": "markdown",
   "metadata": {},
   "source": [
    "<h3><font color='#004b87'>Exercise</font></h3>\n",
    "<p></p>\n",
    "<li>Modify Deck and/or Card to get this behavior</li>\n",
    ">>> deck = Deck()\n",
    "<br></br>\n",
    ">>> deck.shuffle()\n",
    "<br></br>\n",
    ">>> deck.dealCard()\n",
    "<br></br>\n",
    "Card('2', '♠')"
   ]
  },
  {
   "cell_type": "markdown",
   "metadata": {},
   "source": [
    "<h3><font color='#004b87'>str() vs repr()</font></h3>\n",
    "<p></p>\n",
    "Built-in function repr() returns the canonical string representation of an object\n",
    "<li>This is the representation printed by the shell when evaluating the object </li>\n",
    "<p></p>\n",
    "Built-in function str() returns the “pretty” string representation of an object\n",
    "<li>This is the representation printed by the print() statement and is meant to be readable by humans</li>\n",
    "\n",
    "\n",
    "|Operator            | Method            |                         \n",
    "| :---               |-----------------: |          \n",
    "| x + y              | x.__add__(y)      |        \n",
    "| x - y              | x.__sub__(y)      |  \n",
    "| x * y              | x.__mul__(y)      |  \n",
    "| x / y              | x.__truediv__(y)  | \n",
    "| x // y             | x.__floordiv__(y) |        \n",
    "| x % y              | x.__mod__(y)      |  \n",
    "| x == y             | x.__eq__(y)       |  \n",
    "| x != y             | x.__ne__(y)       | \n",
    "| x > y              | x.__gt__(y)       |        \n",
    "| x >= y             | x.__ge__(y)       |  \n",
    "| x < y              | x.__lt__(y)       |  \n",
    "| x <= y             | x.__le__(y)       | \n",
    "| repr(x)            | x.__repr__()      |        \n",
    "| str(x)             | x.__str__()       |  \n",
    "| len(x)             | x.__len__()       |  \n",
    "| &lt; type &gt;(x)        | &lt; type &gt;.__init__(x)| "
   ]
  },
  {
   "cell_type": "code",
   "execution_count": 91,
   "metadata": {},
   "outputs": [
    {
     "name": "stdout",
     "output_type": "stream",
     "text": [
      "[1, 2, 3]\n",
      "193\n",
      "set()\n"
     ]
    }
   ],
   "source": [
    "print([1,2,3].__str__())\n",
    "print(int(193).__str__())\n",
    "print(set().__str__())\n",
    "\n"
   ]
  },
  {
   "cell_type": "code",
   "execution_count": 92,
   "metadata": {},
   "outputs": [
    {
     "name": "stdout",
     "output_type": "stream",
     "text": [
      "[1, 2, 3]\n",
      "193\n",
      "set()\n"
     ]
    }
   ],
   "source": [
    "print([1,2,3])\n",
    "print(193)\n",
    "print(set())\n"
   ]
  },
  {
   "cell_type": "code",
   "execution_count": 93,
   "metadata": {
    "slideshow": {
     "slide_type": "slide"
    }
   },
   "outputs": [],
   "source": [
    "class Representation(object):\n",
    "    def __repr__(self):\n",
    "        return 'canonical string representation'\n",
    "    def __str__(self):\n",
    "        return 'Pretty string representation.'"
   ]
  },
  {
   "cell_type": "code",
   "execution_count": 94,
   "metadata": {
    "slideshow": {
     "slide_type": "fragment"
    }
   },
   "outputs": [
    {
     "data": {
      "text/plain": [
       "canonical string representation"
      ]
     },
     "execution_count": 94,
     "metadata": {},
     "output_type": "execute_result"
    }
   ],
   "source": [
    "r = Representation()\n",
    "r"
   ]
  },
  {
   "cell_type": "code",
   "execution_count": 96,
   "metadata": {
    "slideshow": {
     "slide_type": "fragment"
    }
   },
   "outputs": [
    {
     "name": "stdout",
     "output_type": "stream",
     "text": [
      "Pretty string representation.\n"
     ]
    }
   ],
   "source": [
    "print(r)"
   ]
  },
  {
   "cell_type": "markdown",
   "metadata": {},
   "source": [
    "<h3><font color='#004b87'>Canonical string representation</font></h3>\n",
    "<p></p>\n",
    "Built-in function repr() returns the canonical string representation of an object\n",
    "<li>This is the representation printed by the shell when evaluating the object </li>\n",
    "<li>Ideally, this is also the string used to construct the object\n",
    "e.g., '[1, 2, 3]' , 'Point(3, 5)'t </li>\n",
    "<li>In other words, the expression eval(repr(o)) should give back an object equal to the original object o</li>"
   ]
  },
  {
   "cell_type": "code",
   "execution_count": 97,
   "metadata": {},
   "outputs": [
    {
     "data": {
      "text/plain": [
       "True"
      ]
     },
     "execution_count": 97,
     "metadata": {},
     "output_type": "execute_result"
    }
   ],
   "source": [
    "repr([1,2,3])\n",
    "[1,2,3]\n",
    "eval(repr([1,2,3]))\n",
    "[1,2,3] == eval(repr([1,2,3]))"
   ]
  },
  {
   "cell_type": "code",
   "execution_count": 98,
   "metadata": {},
   "outputs": [
    {
     "data": {
      "text/plain": [
       "False"
      ]
     },
     "execution_count": 98,
     "metadata": {},
     "output_type": "execute_result"
    }
   ],
   "source": [
    "repr(Point(3,5))\n",
    "eval(repr(Point(3,5)))\n",
    "Point(3,5) == eval(repr(Point(3,5)))"
   ]
  },
  {
   "cell_type": "markdown",
   "metadata": {
    "slideshow": {
     "slide_type": "slide"
    }
   },
   "source": [
    "<h3><font color='#004b87'>Overloading operator ==</font></h3>\n",
    "<p></p>\n",
    "For user-defined classes, the default behavior for operator == is to return True only when the two objects are the same object.\n",
    "<li>Usually, that is not the desired behavior</li>\n",
    "<li>It also gets in the way of satisfying the contract between constructor and repr() </li>\n",
    "<li>For class Point, operator == should return True if the two points have the same coordinates</li>"
   ]
  },
  {
   "cell_type": "code",
   "execution_count": 99,
   "metadata": {
    "slideshow": {
     "slide_type": "fragment"
    }
   },
   "outputs": [
    {
     "name": "stdout",
     "output_type": "stream",
     "text": [
      "False\n",
      "True\n"
     ]
    }
   ],
   "source": [
    "a = Point(3,5)\n",
    "b = Point(3,5)\n",
    "print(a == b)\n",
    "print(a == a)\n",
    "\n"
   ]
  },
  {
   "cell_type": "code",
   "execution_count": 100,
   "metadata": {
    "slideshow": {
     "slide_type": "slide"
    }
   },
   "outputs": [],
   "source": [
    "class Point:\n",
    "    'class that represents a point in the plane'\n",
    "\n",
    "    def __init__(self, xcoord=0, ycoord=0):\n",
    "        'initialize coordinates to (xcoord, ycoord)'\n",
    "        self.x = xcoord\n",
    "        self.y = ycoord\n",
    "\n",
    "    def setx(self, xcoord):\n",
    "        'set x coordinate of point to xcoord'\n",
    "        self.x = xcoord\n",
    "\n",
    "    def sety(self, ycoord):\n",
    "        'set y coordinate of point to ycoord'\n",
    "        self.y = ycoord\n",
    "\n",
    "    def get(self):\n",
    "        'return coordinates of the point as a tuple'\n",
    "        return (self.x, self.y)\n",
    "\n",
    "    def move(self, dx, dy):\n",
    "        'change the x and y coordinates by dx and dy'\n",
    "        self.x += dx\n",
    "        self.y += dy\n",
    "        \n",
    "    def __add__(self, point):\n",
    "        return Point(self.x+point.x, self.y+point.y)\n",
    "    \n",
    "    def __eq__(self, other):\n",
    "        'self == other if they have the same coordinates'\n",
    "        return self.x == other.x and self.y == other.y\n",
    "\n",
    "    def __repr__(self):\n",
    "        'canonical string representation Point(x, y)'\n",
    "        return 'Point({}, {})'.format(self.x, self.y)"
   ]
  },
  {
   "cell_type": "code",
   "execution_count": 101,
   "metadata": {
    "slideshow": {
     "slide_type": "fragment"
    }
   },
   "outputs": [
    {
     "name": "stdout",
     "output_type": "stream",
     "text": [
      "True\n",
      "True\n"
     ]
    }
   ],
   "source": [
    "a = Point(3,5)\n",
    "b = Point(3,5)\n",
    "print(a == b)\n",
    "print(a == a)"
   ]
  },
  {
   "cell_type": "markdown",
   "metadata": {},
   "source": [
    "<h3><font color='#004b87'>Exercise</font></h3>\n",
    "<p></p>\n",
    "<li>We have already modified class Card to support function repr(). Now implement operator == so two cards with same rank and suit are equa</li>\n",
    ">>> card1 = Card('4', '\\u2662')\n",
    "<br></br>\n",
    ">>> card2 = Card('4', '\\u2662')\n",
    "<br></br>\n",
    ">>> card1 == card2\n",
    "<br></br>\n",
    "True\n"
   ]
  },
  {
   "cell_type": "markdown",
   "metadata": {},
   "source": [
    "<h3><font color='#004b87'>Inheritance</font></h3>\n",
    "<p></p>\n",
    "Code reuse is a key software engineering goal\n",
    "<li>One benefit of functions is they make it easier to reuse code</li>\n",
    "<li>Similarly, organizing code into user-defined classes makes it easier to later reuse the code</li>\n",
    "<li>E.g., classes Card and Deck can be reused in  different card game apps</li>\n",
    "<p></p>\n",
    "A class can also be reused by extending it through inheritance\n",
    "<p></p>\n",
    "Example: Suppose that we find it convenient to have a class that behaves just like the built-in class list but also supports a method called choice() that returns an item from the list, chosen uniformly at random.\n"
   ]
  },
  {
   "cell_type": "code",
   "execution_count": null,
   "metadata": {},
   "outputs": [],
   "source": [
    ">>> mylst = MyList()\n",
    ">>> mylst.append(2)\n",
    ">>> mylst.append(3)\n",
    ">>> mylst.append(5)\n",
    ">>> mylst.append(7)\n",
    ">>> len(mylst)\n",
    "4\n",
    ">>> mylst.index(5)\n",
    "2\n",
    ">>> mylst.choice()\n",
    "7\n",
    ">>> mylst.choice()\n",
    "3"
   ]
  },
  {
   "cell_type": "markdown",
   "metadata": {},
   "source": [
    "<h3><font color='#004b87'>Implementing class MyList</font></h3>\n",
    "<p></p>\n",
    "Code reuse is a key software engineering goal\n",
    "<li>Approach 1: Develop class MyList from scratch Just like classes Deck and Queue</li>\n",
    "\n",
    "Example: Suppose that we find it convenient to have a class that behaves just like the built-in class list but also supports a method called choice() that returns an item from the list, chosen uniformly at random."
   ]
  },
  {
   "cell_type": "code",
   "execution_count": 103,
   "metadata": {},
   "outputs": [],
   "source": [
    "import random \n",
    "class MyList:\n",
    "    def __init__(self, initial = []): \n",
    "        self.lst = initial\n",
    "\n",
    "    def __len__(self):\n",
    "        return len(self.lst)\n",
    "\n",
    "    def append(self, item): \n",
    "        self.lst.append(self, item)\n",
    "\n",
    "    # implementations of remaining \"list\" methods\n",
    "\n",
    "    def choice(self):\n",
    "        return random.choice(self.lst)"
   ]
  },
  {
   "cell_type": "markdown",
   "metadata": {},
   "source": [
    "<li>Approach 2: Develop class MyList by inheritance from class list</li>\n"
   ]
  },
  {
   "cell_type": "code",
   "execution_count": 104,
   "metadata": {},
   "outputs": [],
   "source": [
    "import random\n",
    "class MyList(list):\n",
    "    'a subclass of list that implements method choice'\n",
    "\n",
    "    def choice(self):\n",
    "        'return item from list chosen uniformly at random'\n",
    "        return random.choice(self)\n"
   ]
  },
  {
   "cell_type": "markdown",
   "metadata": {},
   "source": [
    "<h3><font color='#004b87'>Class MyList by inheritance</font></h3>\n",
    "<p></p>\n",
    "Code reuse is a key software engineering goal\n",
    "<li>Class MyList inherits all the attributes of class list</li>\n",
    "<li>Object mylst inherits all the attributes of class MyList (which inherits all the attributes of class list)</li>\n"
   ]
  },
  {
   "cell_type": "code",
   "execution_count": 106,
   "metadata": {},
   "outputs": [
    {
     "name": "stdout",
     "output_type": "stream",
     "text": [
      "['__add__', '__class__', '__contains__', '__delattr__', '__delitem__', '__dict__', '__dir__', '__doc__', '__eq__', '__format__', '__ge__', '__getattribute__', '__getitem__', '__gt__', '__hash__', '__iadd__', '__imul__', '__init__', '__init_subclass__', '__iter__', '__le__', '__len__', '__lt__', '__module__', '__mul__', '__ne__', '__new__', '__reduce__', '__reduce_ex__', '__repr__', '__reversed__', '__rmul__', '__setattr__', '__setitem__', '__sizeof__', '__str__', '__subclasshook__', '__weakref__', 'append', 'choice', 'clear', 'copy', 'count', 'extend', 'index', 'insert', 'pop', 'remove', 'reverse', 'sort']\n",
      "['__add__', '__class__', '__contains__', '__delattr__', '__delitem__', '__dict__', '__dir__', '__doc__', '__eq__', '__format__', '__ge__', '__getattribute__', '__getitem__', '__gt__', '__hash__', '__iadd__', '__imul__', '__init__', '__init_subclass__', '__iter__', '__le__', '__len__', '__lt__', '__module__', '__mul__', '__ne__', '__new__', '__reduce__', '__reduce_ex__', '__repr__', '__reversed__', '__rmul__', '__setattr__', '__setitem__', '__sizeof__', '__str__', '__subclasshook__', '__weakref__', 'append', 'choice', 'clear', 'copy', 'count', 'extend', 'index', 'insert', 'pop', 'remove', 'reverse', 'sort']\n"
     ]
    }
   ],
   "source": [
    "mylst = MyList()\n",
    "print(dir(MyList))\n",
    "print(dir(mylst))"
   ]
  },
  {
   "cell_type": "markdown",
   "metadata": {},
   "source": [
    "<h3><font color='#004b87'>Class MyList by inheritance</font></h3>\n",
    "<p></p>\n",
    "Code reuse is a key software engineering goal\n",
    "<li>A MyList object should behave just like a list</li>\n",
    "<li>A MyList object should also support method choice()</li>"
   ]
  },
  {
   "cell_type": "code",
   "execution_count": 107,
   "metadata": {},
   "outputs": [
    {
     "name": "stdout",
     "output_type": "stream",
     "text": [
      "2\n",
      "2\n",
      "7\n",
      "5\n",
      "5\n",
      "3\n"
     ]
    }
   ],
   "source": [
    "mylst = MyList()\n",
    "mylst.append(2)\n",
    "mylst.append(3)\n",
    "mylst.append(5)\n",
    "mylst.append(7)\n",
    "len(mylst)\n",
    "\n",
    "print(mylst.index(5))\n",
    "\n",
    "print(mylst.choice())\n",
    "\n",
    "print(mylst.choice())\n",
    "\n",
    "print(mylst.choice())\n",
    "\n",
    "print(mylst.choice())\n",
    "\n",
    "print(mylst.choice())\n"
   ]
  },
  {
   "cell_type": "markdown",
   "metadata": {},
   "source": [
    "<h3><font color='#004b87'>Class definition, in general</font></h3>\n",
    "<p></p>\n",
    "<li>A class can be defined “from scratch” using class &lt;Class Name&gt;: </li>\n",
    "<li>class can also be derived from another class, through inheritance class &lt;Class Name&gt;(&lt;Super Class&gt;):\n",
    "</li>\n",
    "<li>A class can be defined “from scratch” using class &lt;Class Name&gt;: </li>\n",
    "<li> class&lt;Class Name&gt; is shorthand for class&lt;Class Name&gt;(object):  </li>\n",
    "<li> object is a built-in class with no attributes; it is the class that all classes inherit from, directly or indirectly</li>\n",
    "<li> class can also inherit attributes from more than one superclass</li>"
   ]
  },
  {
   "cell_type": "code",
   "execution_count": 108,
   "metadata": {},
   "outputs": [
    {
     "name": "stdout",
     "output_type": "stream",
     "text": [
      "Help on class object in module builtins:\n",
      "\n",
      "class object\n",
      " |  The base class of the class hierarchy.\n",
      " |  \n",
      " |  When called, it accepts no arguments and returns a new featureless\n",
      " |  instance that has no instance attributes and cannot be given any.\n",
      " |  \n",
      " |  Built-in subclasses:\n",
      " |      async_generator\n",
      " |      BaseException\n",
      " |      builtin_function_or_method\n",
      " |      bytearray\n",
      " |      ... and 109 other subclasses\n",
      " |  \n",
      " |  Methods defined here:\n",
      " |  \n",
      " |  __delattr__(self, name, /)\n",
      " |      Implement delattr(self, name).\n",
      " |  \n",
      " |  __dir__(self, /)\n",
      " |      Default dir() implementation.\n",
      " |  \n",
      " |  __eq__(self, value, /)\n",
      " |      Return self==value.\n",
      " |  \n",
      " |  __format__(self, format_spec, /)\n",
      " |      Default object formatter.\n",
      " |  \n",
      " |  __ge__(self, value, /)\n",
      " |      Return self>=value.\n",
      " |  \n",
      " |  __getattribute__(self, name, /)\n",
      " |      Return getattr(self, name).\n",
      " |  \n",
      " |  __gt__(self, value, /)\n",
      " |      Return self>value.\n",
      " |  \n",
      " |  __hash__(self, /)\n",
      " |      Return hash(self).\n",
      " |  \n",
      " |  __init__(self, /, *args, **kwargs)\n",
      " |      Initialize self.  See help(type(self)) for accurate signature.\n",
      " |  \n",
      " |  __le__(self, value, /)\n",
      " |      Return self<=value.\n",
      " |  \n",
      " |  __lt__(self, value, /)\n",
      " |      Return self<value.\n",
      " |  \n",
      " |  __ne__(self, value, /)\n",
      " |      Return self!=value.\n",
      " |  \n",
      " |  __reduce__(self, /)\n",
      " |      Helper for pickle.\n",
      " |  \n",
      " |  __reduce_ex__(self, protocol, /)\n",
      " |      Helper for pickle.\n",
      " |  \n",
      " |  __repr__(self, /)\n",
      " |      Return repr(self).\n",
      " |  \n",
      " |  __setattr__(self, name, value, /)\n",
      " |      Implement setattr(self, name, value).\n",
      " |  \n",
      " |  __sizeof__(self, /)\n",
      " |      Size of object in memory, in bytes.\n",
      " |  \n",
      " |  __str__(self, /)\n",
      " |      Return str(self).\n",
      " |  \n",
      " |  ----------------------------------------------------------------------\n",
      " |  Class methods defined here:\n",
      " |  \n",
      " |  __init_subclass__(...) from builtins.type\n",
      " |      This method is called when a class is subclassed.\n",
      " |      \n",
      " |      The default implementation does nothing. It may be\n",
      " |      overridden to extend subclasses.\n",
      " |  \n",
      " |  __subclasshook__(...) from builtins.type\n",
      " |      Abstract classes can override this to customize issubclass().\n",
      " |      \n",
      " |      This is invoked early on by abc.ABCMeta.__subclasscheck__().\n",
      " |      It should return True, False or NotImplemented.  If it returns\n",
      " |      NotImplemented, the normal algorithm is used.  Otherwise, it\n",
      " |      overrides the normal algorithm (and the outcome is cached).\n",
      " |  \n",
      " |  ----------------------------------------------------------------------\n",
      " |  Static methods defined here:\n",
      " |  \n",
      " |  __new__(*args, **kwargs) from builtins.type\n",
      " |      Create and return a new object.  See help(type) for accurate signature.\n",
      " |  \n",
      " |  ----------------------------------------------------------------------\n",
      " |  Data and other attributes defined here:\n",
      " |  \n",
      " |  __class__ = <class 'type'>\n",
      " |      type(object_or_name, bases, dict)\n",
      " |      type(object) -> the object's type\n",
      " |      type(name, bases, dict) -> a new type\n",
      "\n"
     ]
    }
   ],
   "source": [
    "help(object)"
   ]
  },
  {
   "cell_type": "markdown",
   "metadata": {},
   "source": [
    "<h3><font color='#004b87'>Overriding superclass methods</font></h3>\n",
    "<p></p>\n",
    "<li>Sometimes we need to develop a new class that can almost inherit attributes from an existing class… but not quite.</li>\n",
    "<li>For example, a class Bird that supports the same methods class Animal supports (setSpecies(), setLanguage(), and speak()) but with a different behavior for method speak()</li>\n"
   ]
  },
  {
   "cell_type": "code",
   "execution_count": 110,
   "metadata": {},
   "outputs": [],
   "source": [
    "class Animal:\n",
    "    'represents an animal'\n",
    "\n",
    "    def setSpecies(self, species):\n",
    "        'sets the animal species'\n",
    "        self.spec = species\n",
    "\n",
    "    def setLanguage(self, language):\n",
    "        'sets the animal language'\n",
    "        self.lang = language\n",
    "\n",
    "    def speak(self):\n",
    "        'prints a sentence by the animal'\n",
    "        print('I am a {} and I {}.'.format(self.spec, self.lang))"
   ]
  },
  {
   "cell_type": "code",
   "execution_count": null,
   "metadata": {},
   "outputs": [],
   "source": [
    ">>> snoopy = Animal()\n",
    ">>> snoopy.setSpecies('dog')\n",
    ">>> snoopy.setLanguage('bark')\n",
    ">>> snoopy.speak()\n",
    "I am a dog and I bark.\n",
    ">>> tweety = Bird()\n",
    ">>> tweety.setSpecies('canary')\n",
    ">>> tweety.setLanguage('tweet')\n",
    ">>> tweety.speak()\n",
    "tweet! tweet! tweet! "
   ]
  },
  {
   "cell_type": "code",
   "execution_count": 111,
   "metadata": {},
   "outputs": [],
   "source": [
    "class Bird(Animal):\n",
    "    'represents a bird'\n",
    "\n",
    "    def speak(self):\n",
    "        'prints bird sounds'\n",
    "        print('{}! '.format(self.lang) * 3)\n"
   ]
  },
  {
   "cell_type": "code",
   "execution_count": 112,
   "metadata": {},
   "outputs": [
    {
     "name": "stdout",
     "output_type": "stream",
     "text": [
      "I am a dog and I bark.\n",
      "None\n",
      "tweet! tweet! tweet! \n",
      "None\n"
     ]
    }
   ],
   "source": [
    "snoopy = Animal()\n",
    "snoopy.setSpecies('dog')\n",
    "snoopy.setLanguage('bark')\n",
    "print(snoopy.speak())\n",
    "tweety = Bird()\n",
    "tweety.setSpecies('canary')\n",
    "tweety.setLanguage('tweet')\n",
    "print(tweety.speak())\n",
    "\n"
   ]
  },
  {
   "cell_type": "markdown",
   "metadata": {},
   "source": [
    "<li>Python looks for the definition of an attribute by starting with the name- space associated with object and continuing up the class hierarchy.</li>\n",
    "<li>Bird inherits all the attributes of Animal</li>\n",
    "<li>but then overrides the behavior of method speak()</li>\n"
   ]
  },
  {
   "cell_type": "markdown",
   "metadata": {},
   "source": [
    "<h3><font color='#004b87'>Extending superclass methods</font></h3>\n",
    "<p></p>\n",
    "<li>A superclass method can be inherited as-is, overridden, or extended.</li>"
   ]
  },
  {
   "cell_type": "code",
   "execution_count": 113,
   "metadata": {},
   "outputs": [],
   "source": [
    "class Super:\n",
    "    'a generic class with one method'\n",
    "    def method(self):                     # the Super method\n",
    "        print('in Super.method')\n",
    "\n",
    "class Inheritor(Super):\n",
    "    'class that inherits method'\n",
    "    pass\n",
    "\n",
    "class Replacer(Super):\n",
    "    'class that overrides method'\n",
    "    def method(self):\n",
    "        print('in Replacer.method')\n",
    "\n",
    "class Extender(Super):\n",
    "    'class that extends method'\n",
    "    def method(self):\n",
    "        print('starting Extender.method')\n",
    "        Super.method(self)                # calling Super method\n",
    "        print('ending Extender.method')\n"
   ]
  },
  {
   "cell_type": "markdown",
   "metadata": {},
   "source": [
    "<h3><font color='#004b87'>Object-Oriented Programming (OOP)</font></h3>\n",
    "<p></p>\n",
    "Code reuse is a key benefit of organizing code into new classes; it is made possible through abstraction and encapsulation.\n",
    "<p></p>\n",
    "Abstraction: The idea that a class object can be manipulated by users through method invocations alone and without knowledge of the implementation of these methods.\n",
    "<li>Abstraction facilitates software development because the programmer works with objects abstractly (i.e., through “abstract”, meaningful method names rather than “concrete”, technical code).</li>\n",
    "<p></p>\n",
    "Encapsulation: In order for abstraction to be beneficial, the “concrete” code and data associated with objects must be encapsulated (i.e., made “invisible” to the program using the object). \n",
    "<li>Encapsulation is achieved thanks to the fact that (1) every class defines a namespace in which class attributes live, and (2) every object has a namespace, that inherits the class attributes, in which instance attributes live.</li>\n",
    "<p></p>\n",
    "OOP is an approach to programming that achieves modular code through the use of objects and by structuring code into user-defined classes. \n"
   ]
  },
  {
   "cell_type": "markdown",
   "metadata": {},
   "source": [
    "<h3><font color='#004b87'>An encapsulation issue</font></h3>\n",
    "<p></p>\n",
    "The current implementation of class Queue does not completely encapsulate its implementation\n",
    "<p></p>\n",
    "<li>We need to be able to define user-defined exceptions</li>\n",
    "<li>But first, we need to learn how to “force” an exception to be raised</li>\n",
    "<p></p>\n",
    "<li>What is the problem?</li>\n",
    "<li>The user of class Queue should not have to know the implementation detail that a list stores the items in a Queue object</li>\n",
    "<li>What should be output instead?</li>"
   ]
  },
  {
   "cell_type": "code",
   "execution_count": 114,
   "metadata": {},
   "outputs": [
    {
     "ename": "IndexError",
     "evalue": "pop from empty list",
     "output_type": "error",
     "traceback": [
      "\u001b[1;31m---------------------------------------------------------------------------\u001b[0m",
      "\u001b[1;31mIndexError\u001b[0m                                Traceback (most recent call last)",
      "\u001b[1;32m<ipython-input-114-c0a8662215b8>\u001b[0m in \u001b[0;36m<module>\u001b[1;34m\u001b[0m\n\u001b[0;32m      1\u001b[0m \u001b[0mqueue\u001b[0m \u001b[1;33m=\u001b[0m \u001b[0mQueue\u001b[0m\u001b[1;33m(\u001b[0m\u001b[1;33m)\u001b[0m\u001b[1;33m\u001b[0m\u001b[1;33m\u001b[0m\u001b[0m\n\u001b[1;32m----> 2\u001b[1;33m \u001b[0mqueue\u001b[0m\u001b[1;33m.\u001b[0m\u001b[0mdequeue\u001b[0m\u001b[1;33m(\u001b[0m\u001b[1;33m)\u001b[0m\u001b[1;33m\u001b[0m\u001b[1;33m\u001b[0m\u001b[0m\n\u001b[0m",
      "\u001b[1;32m<ipython-input-89-4389b050ac89>\u001b[0m in \u001b[0;36mdequeue\u001b[1;34m(self)\u001b[0m\n\u001b[0;32m     10\u001b[0m \u001b[1;33m\u001b[0m\u001b[0m\n\u001b[0;32m     11\u001b[0m     \u001b[1;32mdef\u001b[0m \u001b[0mdequeue\u001b[0m\u001b[1;33m(\u001b[0m\u001b[0mself\u001b[0m\u001b[1;33m)\u001b[0m\u001b[1;33m:\u001b[0m\u001b[1;33m\u001b[0m\u001b[1;33m\u001b[0m\u001b[0m\n\u001b[1;32m---> 12\u001b[1;33m         \u001b[1;32mreturn\u001b[0m \u001b[0mself\u001b[0m\u001b[1;33m.\u001b[0m\u001b[0mq\u001b[0m\u001b[1;33m.\u001b[0m\u001b[0mpop\u001b[0m\u001b[1;33m(\u001b[0m\u001b[1;36m0\u001b[0m\u001b[1;33m)\u001b[0m\u001b[1;33m\u001b[0m\u001b[1;33m\u001b[0m\u001b[0m\n\u001b[0m\u001b[0;32m     13\u001b[0m \u001b[1;33m\u001b[0m\u001b[0m\n\u001b[0;32m     14\u001b[0m     \u001b[1;32mdef\u001b[0m \u001b[0m__len__\u001b[0m\u001b[1;33m(\u001b[0m\u001b[0mself\u001b[0m\u001b[1;33m)\u001b[0m\u001b[1;33m:\u001b[0m\u001b[1;33m\u001b[0m\u001b[1;33m\u001b[0m\u001b[0m\n",
      "\u001b[1;31mIndexError\u001b[0m: pop from empty list"
     ]
    }
   ],
   "source": [
    "queue = Queue()\n",
    "queue.dequeue()"
   ]
  },
  {
   "cell_type": "markdown",
   "metadata": {},
   "source": [
    "<h3><font color='#004b87'>Raising an exception</font></h3>\n",
    "<p></p>\n",
    "By typing Ctrl-C, a user can force a KeyboardInterrupt exception to be raised (for Jupyter highligh the cell and hit i twice)\n",
    "<p></p>\n",
    "Any exception can be raised within a program with the raise statement\n",
    "<li>ValueError, like all exception types, is a class</li>\n",
    "<li>ValueError() uses the default constructor to create an exception (object) </li>\n",
    "<li>statement raise switches control flow from normal to exceptional</li>\n",
    "<li>The constructor can take a “message” argument to be stored in the exception object</li>"
   ]
  },
  {
   "cell_type": "code",
   "execution_count": 115,
   "metadata": {},
   "outputs": [
    {
     "ename": "KeyboardInterrupt",
     "evalue": "",
     "output_type": "error",
     "traceback": [
      "\u001b[1;31m---------------------------------------------------------------------------\u001b[0m",
      "\u001b[1;31mKeyboardInterrupt\u001b[0m                         Traceback (most recent call last)",
      "\u001b[1;32m<ipython-input-115-b7133701d76c>\u001b[0m in \u001b[0;36m<module>\u001b[1;34m\u001b[0m\n\u001b[0;32m      1\u001b[0m \u001b[1;32mwhile\u001b[0m \u001b[1;32mTrue\u001b[0m\u001b[1;33m:\u001b[0m\u001b[1;33m\u001b[0m\u001b[1;33m\u001b[0m\u001b[0m\n\u001b[1;32m----> 2\u001b[1;33m     \u001b[1;32mpass\u001b[0m\u001b[1;33m\u001b[0m\u001b[1;33m\u001b[0m\u001b[0m\n\u001b[0m",
      "\u001b[1;31mKeyboardInterrupt\u001b[0m: "
     ]
    }
   ],
   "source": [
    "while True:\n",
    "    pass\n"
   ]
  },
  {
   "cell_type": "markdown",
   "metadata": {},
   "source": [
    "<h3><font color='#004b87'>User-defined exceptions</font></h3>\n",
    "<p></p>\n",
    "<li>Every built-in exception type is a subclass of class Exception. </li>\n",
    "<li>A new exception class should be a subclass, either directly or indirectly, of Exception.</li>"
   ]
  },
  {
   "cell_type": "code",
   "execution_count": 116,
   "metadata": {},
   "outputs": [
    {
     "name": "stdout",
     "output_type": "stream",
     "text": [
      "Help on class Exception in module builtins:\n",
      "\n",
      "class Exception(BaseException)\n",
      " |  Common base class for all non-exit exceptions.\n",
      " |  \n",
      " |  Method resolution order:\n",
      " |      Exception\n",
      " |      BaseException\n",
      " |      object\n",
      " |  \n",
      " |  Built-in subclasses:\n",
      " |      ArithmeticError\n",
      " |      AssertionError\n",
      " |      AttributeError\n",
      " |      BufferError\n",
      " |      ... and 15 other subclasses\n",
      " |  \n",
      " |  Methods defined here:\n",
      " |  \n",
      " |  __init__(self, /, *args, **kwargs)\n",
      " |      Initialize self.  See help(type(self)) for accurate signature.\n",
      " |  \n",
      " |  ----------------------------------------------------------------------\n",
      " |  Static methods defined here:\n",
      " |  \n",
      " |  __new__(*args, **kwargs) from builtins.type\n",
      " |      Create and return a new object.  See help(type) for accurate signature.\n",
      " |  \n",
      " |  ----------------------------------------------------------------------\n",
      " |  Methods inherited from BaseException:\n",
      " |  \n",
      " |  __delattr__(self, name, /)\n",
      " |      Implement delattr(self, name).\n",
      " |  \n",
      " |  __getattribute__(self, name, /)\n",
      " |      Return getattr(self, name).\n",
      " |  \n",
      " |  __reduce__(...)\n",
      " |      Helper for pickle.\n",
      " |  \n",
      " |  __repr__(self, /)\n",
      " |      Return repr(self).\n",
      " |  \n",
      " |  __setattr__(self, name, value, /)\n",
      " |      Implement setattr(self, name, value).\n",
      " |  \n",
      " |  __setstate__(...)\n",
      " |  \n",
      " |  __str__(self, /)\n",
      " |      Return str(self).\n",
      " |  \n",
      " |  with_traceback(...)\n",
      " |      Exception.with_traceback(tb) --\n",
      " |      set self.__traceback__ to tb and return self.\n",
      " |  \n",
      " |  ----------------------------------------------------------------------\n",
      " |  Data descriptors inherited from BaseException:\n",
      " |  \n",
      " |  __cause__\n",
      " |      exception cause\n",
      " |  \n",
      " |  __context__\n",
      " |      exception context\n",
      " |  \n",
      " |  __dict__\n",
      " |  \n",
      " |  __suppress_context__\n",
      " |  \n",
      " |  __traceback__\n",
      " |  \n",
      " |  args\n",
      "\n"
     ]
    }
   ],
   "source": [
    "help(Exception)\n",
    "\n"
   ]
  },
  {
   "cell_type": "markdown",
   "metadata": {},
   "source": [
    "<h3><font color='#004b87'>Class Queue, revisited</font></h3>\n",
    "<p></p>\n",
    "<li>Our goal was to encapsulate class Queue better:</li>\n",
    "<p></p>\n",
    "To achieve this behavior, we:\n",
    "<li>Need to create exception class EmptyQueueError</li>\n",
    "<li>Modify Queue method dequeue so an EmptyQueueError exception is raised if an attempt to dequeue an empty queue is made</li>"
   ]
  },
  {
   "cell_type": "code",
   "execution_count": 117,
   "metadata": {},
   "outputs": [],
   "source": [
    "class EmptyQueueError(Exception):\n",
    "    pass\n",
    "\n",
    "class Queue:\n",
    "    'a classic queue class'\n",
    "\n",
    "    def __init__(self):\n",
    "        'instantiates an empty list'\n",
    "        self.q = []\n",
    "\n",
    "    def isEmpty(self):\n",
    "        'returns True if queue is empty, False otherwise'\n",
    "        return (len(self.q) == 0)\n",
    "\n",
    "    def enqueue (self, item):\n",
    "        'insert item at rear of queue'\n",
    "        return self.q.append(item)\n",
    "\n",
    "    def dequeue(self):\n",
    "        'remove and return item at front of queue'\n",
    "        if self.isEmpty():\n",
    "            raise EmptyQueueError('dequeue from empty queue')\n",
    "        return self.q.pop(0)\n"
   ]
  },
  {
   "cell_type": "code",
   "execution_count": 118,
   "metadata": {},
   "outputs": [
    {
     "ename": "EmptyQueueError",
     "evalue": "dequeue from empty queue",
     "output_type": "error",
     "traceback": [
      "\u001b[1;31m---------------------------------------------------------------------------\u001b[0m",
      "\u001b[1;31mEmptyQueueError\u001b[0m                           Traceback (most recent call last)",
      "\u001b[1;32m<ipython-input-118-c0a8662215b8>\u001b[0m in \u001b[0;36m<module>\u001b[1;34m\u001b[0m\n\u001b[0;32m      1\u001b[0m \u001b[0mqueue\u001b[0m \u001b[1;33m=\u001b[0m \u001b[0mQueue\u001b[0m\u001b[1;33m(\u001b[0m\u001b[1;33m)\u001b[0m\u001b[1;33m\u001b[0m\u001b[1;33m\u001b[0m\u001b[0m\n\u001b[1;32m----> 2\u001b[1;33m \u001b[0mqueue\u001b[0m\u001b[1;33m.\u001b[0m\u001b[0mdequeue\u001b[0m\u001b[1;33m(\u001b[0m\u001b[1;33m)\u001b[0m\u001b[1;33m\u001b[0m\u001b[1;33m\u001b[0m\u001b[0m\n\u001b[0m",
      "\u001b[1;32m<ipython-input-117-f4be95ce8c93>\u001b[0m in \u001b[0;36mdequeue\u001b[1;34m(self)\u001b[0m\n\u001b[0;32m     20\u001b[0m         \u001b[1;34m'remove and return item at front of queue'\u001b[0m\u001b[1;33m\u001b[0m\u001b[1;33m\u001b[0m\u001b[0m\n\u001b[0;32m     21\u001b[0m         \u001b[1;32mif\u001b[0m \u001b[0mself\u001b[0m\u001b[1;33m.\u001b[0m\u001b[0misEmpty\u001b[0m\u001b[1;33m(\u001b[0m\u001b[1;33m)\u001b[0m\u001b[1;33m:\u001b[0m\u001b[1;33m\u001b[0m\u001b[1;33m\u001b[0m\u001b[0m\n\u001b[1;32m---> 22\u001b[1;33m             \u001b[1;32mraise\u001b[0m \u001b[0mEmptyQueueError\u001b[0m\u001b[1;33m(\u001b[0m\u001b[1;34m'dequeue from empty queue'\u001b[0m\u001b[1;33m)\u001b[0m\u001b[1;33m\u001b[0m\u001b[1;33m\u001b[0m\u001b[0m\n\u001b[0m\u001b[0;32m     23\u001b[0m         \u001b[1;32mreturn\u001b[0m \u001b[0mself\u001b[0m\u001b[1;33m.\u001b[0m\u001b[0mq\u001b[0m\u001b[1;33m.\u001b[0m\u001b[0mpop\u001b[0m\u001b[1;33m(\u001b[0m\u001b[1;36m0\u001b[0m\u001b[1;33m)\u001b[0m\u001b[1;33m\u001b[0m\u001b[1;33m\u001b[0m\u001b[0m\n",
      "\u001b[1;31mEmptyQueueError\u001b[0m: dequeue from empty queue"
     ]
    }
   ],
   "source": [
    "queue = Queue()\n",
    "queue.dequeue()"
   ]
  }
 ],
 "metadata": {
  "celltoolbar": "Slideshow",
  "kernelspec": {
   "display_name": "Python 3",
   "language": "python",
   "name": "python3"
  },
  "language_info": {
   "codemirror_mode": {
    "name": "ipython",
    "version": 3
   },
   "file_extension": ".py",
   "mimetype": "text/x-python",
   "name": "python",
   "nbconvert_exporter": "python",
   "pygments_lexer": "ipython3",
   "version": "3.8.5"
  }
 },
 "nbformat": 4,
 "nbformat_minor": 4
}
