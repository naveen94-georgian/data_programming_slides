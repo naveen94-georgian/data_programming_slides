{
 "cells": [
  {
   "cell_type": "markdown",
   "metadata": {
    "slideshow": {
     "slide_type": "slide"
    }
   },
   "source": [
    "<center><img title=\"a title\" alt=\"Alt text\" src=\"Georgian College Logo.svg\"></center\n",
    "\n",
    "<h1><font color='#004b87'><center>BDAT 1004 Week 2</center></font></h1>\n",
    "<h3><center>C# Part 2</center></h3>"
   ]
  },
  {
   "cell_type": "markdown",
   "metadata": {
    "slideshow": {
     "slide_type": "slide"
    }
   },
   "source": [
    "<h2><font color='#004b87'>Annoucments</font></h2>\n",
    "<p></p>\n",
    "<li>Long lecture, lots of material</li>\n",
    "<li>Discussion Boards</li>\n",
    "<li>Problem Set 1 is posted</li>\n",
    "<li>C# Tutorial Series</li>\n",
    "<li>Problem Set Submission Document</li>\n",
    "<li>1st quiz today (can be found under the assignments link)</li>\n",
    "<li>Course contracts</li>\n",
    "<li>Office Hours 6:30-7:30pm Mondays and Thursdays</li>"
   ]
  },
  {
   "cell_type": "markdown",
   "metadata": {
    "slideshow": {
     "slide_type": "slide"
    }
   },
   "source": [
    "<h2><font color='#004b87'>C# Features</font></h2>\n",
    "<p></p>\n",
    "<li>Object-Oriented Programming Language</li>\n",
    "<ul>\n",
    "    Object-Oriented Programming approach is what makes C# sharp to be the most programmer-friendly and easy to develop and maintain programming language.\n",
    "</ul>\n",
    "<li>Type-Safe Language</li>\n",
    "<ul>\n",
    "    The meaning of Type-Safe is that the compiler will be given access only to the memory location that has the permission to execute. This feature improves the code safety to an exponential level.\n",
    "</ul>\n",
    "<li>Interoperability</li>\n",
    "<ul>\n",
    "    The feature of Interoperability makes C# capable enough to do everything that is native to C++ in a more efficient way that can outperform C++ itself.\n",
    "</ul>\n",
    "<li>Rich Library</li>\n",
    "<ul>\n",
    "    C# provides access to multiple numbers of in-built libraries that provide preprogrammed functionalities to decrease the time spent in the development process.\n",
    "</ul>"
   ]
  },
  {
   "cell_type": "markdown",
   "metadata": {
    "slideshow": {
     "slide_type": "slide"
    }
   },
   "source": [
    "<h1><font color='#004b87'>C# Features Continued</font></h1>\n",
    "<p></p>\n",
    "<center><img title=\"a title\" alt=\"Alt text\" src=\"Picture1.png\"></center"
   ]
  },
  {
   "cell_type": "markdown",
   "metadata": {
    "slideshow": {
     "slide_type": "fragment"
    }
   },
   "source": [
    "<li>Scalable and Updateable</li>\n",
    "<ul>\n",
    "       C# was designed to be superior amongst the other programming languages. Hence, it is always open to updates and it keeps itself highly scalable with its features\n",
    "</ul>\n",
    "<li>Component Oriented</li>\n",
    "<ul>\n",
    "    The developers at Microsoft used the component-based approach to develope C#. This is the most predominant development methodology to keep C# highly scalable and updated\n",
    "</ul>\n",
    "<li>Structured Language</li>\n",
    "<ul>\n",
    "    The Structured Programming approach is preferred during the software development life-cycle as it becomes easy to develop compile and deploy the software compared to the procedure-oriented programming approach.\n",
    "</ul>\n",
    "<li>Fast</li>\n",
    "<ul>\n",
    "    C# Programming happens to be faster in compilation and execution compared to C++ and other programming languages.\n",
    "</ul>"
   ]
  },
  {
   "cell_type": "markdown",
   "metadata": {
    "slideshow": {
     "slide_type": "slide"
    }
   },
   "source": [
    "<h2><font color='#004b87'>C# Structure Review</font></h2>\n",
    "<p></p>\n"
   ]
  },
  {
   "cell_type": "markdown",
   "metadata": {},
   "source": [
    "NOTE: Including both code to run in Visual Studio and then in a separate cell the code to run in Jupyter Notebook"
   ]
  },
  {
   "cell_type": "code",
   "execution_count": null,
   "metadata": {
    "slideshow": {
     "slide_type": "fragment"
    }
   },
   "outputs": [],
   "source": [
    "using System; //Visual Studio Syntax\n",
    "\n",
    "namespace HelloWorld\n",
    "{\n",
    "  class Program\n",
    "  {\n",
    "    static void Main(string[] args)\n",
    "    {\n",
    "      Console.WriteLine(\"Hello World!\");    \n",
    "    }\n",
    "  }\n",
    "}"
   ]
  },
  {
   "cell_type": "code",
   "execution_count": 3,
   "metadata": {
    "slideshow": {
     "slide_type": "fragment"
    }
   },
   "outputs": [
    {
     "name": "stdout",
     "output_type": "stream",
     "text": [
      "Hello World!\r\n"
     ]
    }
   ],
   "source": [
    "Console.WriteLine(\"Hello World!\");    "
   ]
  },
  {
   "cell_type": "markdown",
   "metadata": {
    "slideshow": {
     "slide_type": "slide"
    }
   },
   "source": [
    "<h3><font color='#004b87'>C# Structure Review Continued</font></h3>"
   ]
  },
  {
   "cell_type": "code",
   "execution_count": null,
   "metadata": {
    "slideshow": {
     "slide_type": "fragment"
    }
   },
   "outputs": [],
   "source": [
    "using System;\n",
    "\n",
    "namespace HelloWorld\n",
    "{\n",
    "  class Program\n",
    "  {\n",
    "    static void Main(string[] args)\n",
    "    {\n",
    "      Console.WriteLine(\"Hello World!\");    \n",
    "    }\n",
    "  }\n",
    "}"
   ]
  },
  {
   "cell_type": "markdown",
   "metadata": {
    "slideshow": {
     "slide_type": "fragment"
    }
   },
   "source": [
    "<li>class: class can be generally defined as a keyword that is used to define a class in the C#  Program</li>\n",
    "<li>Program: It is the name of the Class. Class is often considered as a blueprint that stores the members and methods related to the class.</li>\n",
    "<li>Main: Basically is the primary method of the whole C# Program, It acts as the gateway for the control to enter the program. It gets executed before any other method of the program is executed</li>\n",
    "<li>void: This segment of the code is designated to the return type of the method. It can be any Datatype other than void. Void means the method does not have any data getting returned from it</li>\n",
    "<li>static: This is a keyword which says the data members declared are static and a dedicated memory is been allocated to the members declared.</li>\n",
    "<li>String[] args: It resembles the command line arguments that we use in our program. While we execute our program, we basically pass some arguments, which will be accepted by the program because of this statement.</li>\n",
    "<li>System.Console.WriteLine(“Hello World!”); Here, System is the namespace. The console is that the category outlined in System namespace. The WriteLine() is that the static technique of Console category that is employed to write down the text on the console.</li>"
   ]
  },
  {
   "cell_type": "markdown",
   "metadata": {
    "slideshow": {
     "slide_type": "slide"
    }
   },
   "source": [
    "<h3><font color='#004b87'>Data Types Indepth</font></h3>\n",
    "<p></p>\n",
    "\n",
    "<center><img title=\"a title\" alt=\"Alt text\" src=\"Picture3.png\"></center"
   ]
  },
  {
   "cell_type": "markdown",
   "metadata": {
    "slideshow": {
     "slide_type": "slide"
    }
   },
   "source": [
    "Value Datatypes\n",
    "<p></p>\n",
    "The Value Datatypes are located in the System.ValueType Library and are always ready to be directly accessed and variables can be directly assigned to a particular value. The Value Datatypes are further classified into two types as shown below:\n",
    "<p></p>\n",
    "<ul>\n",
    "    <li>Predefined Datatypes</li>\n",
    "    <li>User-defined Datatypes</li>\n",
    "</ul>\n",
    "<p></p>\n",
    "Predefined Datatypes: These are the ones which we normally use in our day to day programming. These Datatypes are predefined by the language developers and are kept ready to use for the programmers.\n",
    "<p></p>\n",
    "Example:\n",
    "\n",
    "int, float, char, short double, etc\n",
    "\n",
    "User-Defined Datatypes: There are situations where we might need to store different values from Datatypes into one single variable. In these cases, the Predefined Datatypes aren’t just enough. User-Defined Datatypes are like customizable datatypes for the user.\n",
    "\n",
    "Example: Structure, Enum"
   ]
  },
  {
   "cell_type": "markdown",
   "metadata": {
    "slideshow": {
     "slide_type": "slide"
    }
   },
   "source": [
    "| Datatype      | Range of the Memory Allocated                           | Memory Size   |\n",
    "| :---          |    :--------------------------------------------------: |          ---: |\n",
    "| signed char   | -128 to 127                                             | 1 Byte        |\n",
    "| unsigned char | 0 to 127                                                | 1 Byte        |\n",
    "| char          | -128 to 127                                             | 1 Byte        |\n",
    "| signed short  |-32,768 to 32,767                                        | 2 Bytes       |\n",
    "| unsigned short| 0 to 65,535                                             | 2 Bytes       |\n",
    "| short         | -32,768 to 32,767                                       | 2 Bytes       |\n",
    "| signed int    | -2,147,483,648 to -2,147,483,647                        | 4 Bytes       |\n",
    "| unsigned int  | 0 to 4,294,967,295                                      | 4 Bytes       |\n",
    "| int           | -2,147,483,648 to -2,147,483,647                        | 4 Bytes       |\n",
    "| signed long   | -9,223,372,036,854,775,808 to 9,223,372,036,854,775,807 | 8 Bytes       |\n",
    "| unsigned long | 0 to 18,446,744,073,709,551,615                         | 8 Bytes       |\n",
    "| long          |-9,223,372,036,854,775,808 to 9,223,372,036,854,775,807  | 8 Bytes       |\n",
    "| float         | 1.5 * 10-45 – 3.4 * 1038, (7-digit precision)           | 4 Bytes       |\n",
    "| double        | 5.0 * 10-324 – 1.7 * 10308, (15-digit precision)        | 8 Bytes       |\n",
    "| decimal       | -7.9 * 10-28 – 7.9 * 1028, (28-digit precision)         | 16 Bytes      |\n"
   ]
  },
  {
   "cell_type": "markdown",
   "metadata": {
    "slideshow": {
     "slide_type": "slide"
    }
   },
   "source": [
    "<h3><font color='#004b87'>Pointer Data type </font></h3>\n",
    "<p></p>\n",
    "<li>Pointer Type is a simple datatype. Its functionality is completely similar to the Pointers in C. They are designed to store the address of another pointer.</li>\n",
    "<li>A C# pointer is nothing but a variable that holds the memory address of another type.</li>\n",
    "<li>In C# pointer can only be declared to hold the memory address of value types and arrays.</li>"
   ]
  },
  {
   "cell_type": "markdown",
   "metadata": {},
   "source": [
    "NOTE: We won't really be using them in this course but they are important to be aware of\n",
    "-Use the below notation if using pointer data types"
   ]
  },
  {
   "cell_type": "code",
   "execution_count": null,
   "metadata": {
    "slideshow": {
     "slide_type": "fragment"
    }
   },
   "outputs": [],
   "source": [
    "float* ptr;"
   ]
  },
  {
   "cell_type": "markdown",
   "metadata": {
    "slideshow": {
     "slide_type": "slide"
    }
   },
   "source": [
    "<h3><font color='#004b87'>Reference Data type </font></h3>\n",
    "<p></p>\n",
    "The Reference Datatypes actually do not store the variables, instead, they store the reference value to that particular variable. In other words, they store the address of the actual variable.\n",
    "<p></p>\n",
    "The Reference Variables are classified into three different types as mentioned below:\n",
    "<p></p>\n",
    "<li>Object type</li>\n",
    "<ul>\n",
    "The Object Datatype is available in the System.Object Class. The object types can be assigned to the values of the other types, reference types, predefined, user-defined types. But, before assignment values, it requires type conversion.\n",
    "</ul>"
   ]
  },
  {
   "cell_type": "code",
   "execution_count": null,
   "metadata": {
    "slideshow": {
     "slide_type": "fragment"
    }
   },
   "outputs": [],
   "source": [
    "object abc;\n",
    "abc = 50;  //this is called boxing"
   ]
  },
  {
   "cell_type": "markdown",
   "metadata": {
    "slideshow": {
     "slide_type": "fragment"
    }
   },
   "source": [
    "<li>Dynamic Type </li>\n",
    "<ul>\n",
    "Dynamic Type variables are designed to store almost all types of values. It is called as Dynamic Type because the type-checking of values takes place in run-time\n",
    "</ul>"
   ]
  },
  {
   "cell_type": "code",
   "execution_count": null,
   "metadata": {
    "slideshow": {
     "slide_type": "fragment"
    }
   },
   "outputs": [],
   "source": [
    "dynamic x=10;"
   ]
  },
  {
   "cell_type": "markdown",
   "metadata": {
    "slideshow": {
     "slide_type": "slide"
    }
   },
   "source": [
    "<li>String Type</li>\n",
    "<ul>\n",
    "The String Type is available in System.String class. The String Type is designed to store string literals. The String Literals are stored in two forms in two forms\n",
    "</ul>\n",
    "    <ul>\n",
    "    <li>quoted</li>\n",
    "    <li>@quoted</li>\n",
    "    </ul>"
   ]
  },
  {
   "cell_type": "code",
   "execution_count": null,
   "metadata": {
    "slideshow": {
     "slide_type": "fragment"
    }
   },
   "outputs": [],
   "source": [
    "String S = \"Edureka\";\n",
    "//The @quoted string literal looks like\n",
    "\n",
    "@\"Edureka\";"
   ]
  },
  {
   "cell_type": "markdown",
   "metadata": {
    "slideshow": {
     "slide_type": "slide"
    }
   },
   "source": [
    "<h3><font color='#004b87'>Variables</font></h3>\n",
    "<p></p>\n",
    "\n",
    "Variables are the names allotted for the memory location that store certain data given by the user and that data is easily accessible by using the variable name. There are five types of variables available in C#\n",
    "\n",
    "| Type      | Example                      |                         \n",
    "| :---      |-----------------:            |          \n",
    "| Null      | Null data                    |        \n",
    "| Boolean   | True and False               |  \n",
    "| Integer   | Int, Char, Byte, Short, Long |  \n",
    "| Float     | Float and Double             |  \n",
    "| Decimal   | Decimal                      |  "
   ]
  },
  {
   "cell_type": "code",
   "execution_count": null,
   "metadata": {
    "slideshow": {
     "slide_type": "fragment"
    }
   },
   "outputs": [],
   "source": [
    "int a, b;  \n",
    "double x;      \n",
    "float p;      \n",
    "char abc;\n"
   ]
  },
  {
   "cell_type": "markdown",
   "metadata": {
    "slideshow": {
     "slide_type": "slide"
    }
   },
   "source": [
    "<h3><font color='#004b87'>Rules to be followed to declare variables in C#</font></h3>\n",
    "<p></p>\n",
    "<li>A variable can include alphabets, digits and underscores.</li>\n",
    "<li>A variable name can only start with an alphabet or an underscore only.</li>\n",
    "<li>Variables can not start with a digit or special character.</li>\n",
    "<li>White spaces are not allowed in between the variable name.</li>\n",
    "<li>Reserved keywords are restricted from being used as variable names.</li>"
   ]
  },
  {
   "cell_type": "markdown",
   "metadata": {
    "slideshow": {
     "slide_type": "slide"
    }
   },
   "source": [
    "<h3><font color='#004b87'>Operators</font></h3>\n",
    "<p></p>\n",
    "An Operator can be defined as a special symbol that explains the computer to perform a particular Mathematical are a Logical Operation upon a set of variables. C# includes a variety of Operators which are mentioned as below. \n",
    "<p></p>\n",
    "<li>Arithmetic Operators</li>\n",
    "<li>Relational Operators</li>\n",
    "<li>Logical Operators</li>\n",
    "<li>Bitwise Operators</li>\n",
    "<li>Assignment Operators</li>\n",
    "\n",
    "    "
   ]
  },
  {
   "cell_type": "markdown",
   "metadata": {
    "slideshow": {
     "slide_type": "slide"
    }
   },
   "source": [
    "<h3><font color='#004b87'>Arithmetic Operators</font></h3>\n",
    "<p></p>\n",
    "\n",
    "|Operator|\tExample  |\tDescription |\n",
    "| :---   | :-------: |         ---: |\n",
    "|+\t     |A + B\t     |Adds two Operands|\n",
    "|–\t     |A – B\t     |Substracts two Operands|\n",
    "|*\t     |A * B\t     |Multiples two Operands|\n",
    "|/\t     |A / B\t     |Divides two Operands|\n",
    "|%\t     |A % B\t     |The remainder of Two Operands|\n",
    "|++\t     |A++\t     |Increment Operation|\n",
    "|—\t     |A–\t     |Decrement Operation|"
   ]
  },
  {
   "cell_type": "markdown",
   "metadata": {
    "slideshow": {
     "slide_type": "slide"
    }
   },
   "source": [
    "<h3><font color='#004b87'>Relational Operators</font></h3>\n",
    "<p></p>\n",
    "\n",
    "|Operator  |Example|\tDescription |\n",
    "| :---   | :-------: |         ---: |\n",
    "|==|\tA == B|\tTrue, if both operands are equal, Else False|\n",
    "|!=|\tA != B|\tTrue, if both operands are not equal, Else False|\n",
    "|>|\tA > B|\tTrue, if A is Greater, Else False|\n",
    "|<|\tA < B|\tTrue, if B is Greater, Else False|\n",
    "|>=|\tA >= B|\tTrue, if A is Greater or equal, Else False|\n",
    "|<=|\tA <= B|\tTrue, id B is Greater equal, Else False|"
   ]
  },
  {
   "cell_type": "markdown",
   "metadata": {
    "slideshow": {
     "slide_type": "slide"
    }
   },
   "source": [
    "<h3><font color='#004b87'>Logical Operators</font></h3>\n",
    "<p></p>\n",
    "\n",
    "\n",
    "|Operator|\tExample\t|Description|\n",
    "| :---   | :-------: |         ---: |\n",
    "|&&      |\tA && B   |\tTrue, if both operands are true, Else False|\n",
    "|\\|\\|\t     |A  B\t     |True, if one of the operands is true, Else False|\n",
    "|!\t     |A ! B\t     |Reverses the logical state of the operand|"
   ]
  },
  {
   "cell_type": "markdown",
   "metadata": {},
   "source": [
    "NOTE: || is for 'or' statements"
   ]
  },
  {
   "cell_type": "markdown",
   "metadata": {
    "slideshow": {
     "slide_type": "slide"
    }
   },
   "source": [
    "<h3><font color='#004b87'>Bitwise Operators</font></h3>\n",
    "<p></p>\n",
    "\n",
    "|A|\tB|\tA & B|\tA \\| B|\tA ^ B|\n",
    "| :---|:---: |:---:|:---:|---: |\n",
    "|1|\t1|\t    1|\t     1|\t    0|\n",
    "|1|\t0|\t    0|\t     1|\t    1|\n",
    "|0|\t1|\t    0|\t     1|\t    1|\n",
    "|0|\t0|\t    0|\t     0|\t    0|\n",
    "\n",
    "<p></p>\n",
    "\n",
    "|Operator|\tExample|\tDescription|\n",
    "| :---   | :-------: |         ---: |\n",
    "|~\t|(~A)\t|Binary One’s Complement Operator is unary and has the effect of ‘flipping’ bits.|\n",
    "|<<\t|A<<2\t|Binary Left Shift Operator. The left operands value is moved left by the number of bits specified by the right operand.|\n",
    "|>>\t|A>>2|\tBinary Right Shift Operator. The left operands value is moved right by the number of bits specified by the right operand.|"
   ]
  },
  {
   "cell_type": "markdown",
   "metadata": {
    "slideshow": {
     "slide_type": "slide"
    }
   },
   "source": [
    "<h3><font color='#004b87'>Assignment Operators</font></h3>\n",
    "<p></p>"
   ]
  },
  {
   "cell_type": "markdown",
   "metadata": {
    "slideshow": {
     "slide_type": "fragment"
    }
   },
   "source": [
    "\n",
    "|Operator |Example\t  |Description                                |\n",
    "| :---    | :-------: |         ---------------------------------:|\n",
    "|=        |A = B+C    |\tA=B+C, B+C is assigned to A               |\n",
    "|+=       |A += B     |\tA=A+B, A+B is assigned to A               |\n",
    "|-=       |A -= B     |\tA=A-B, A-B is assigned to A               |\n",
    "|\\*=      |A -= B     |\tA=A*B, A*B is assigned to A               |\n",
    "|/=       |A /= B     |\tA=A/B, A/B is assigned to A               |\n",
    "|%=       |A %= B     |\tA=A%B, A%B is assigned to A               |\n",
    "|<<=      |A <<= 2    |\tLeft Shift and Assignment Operator        |\n",
    "|>>=      |A >>= 2    |\tRight Shift and Assignment Operator       |\n",
    "|&=       |A &= 2     |\tBitwise and Assignment Operator           |\n",
    "|^=\t      |A ^= 2     |\tBitwise Exclusive and Assignment Operator |\n",
    "|\\|=      |A != 2     |\tBitwise Inclusive and Assignment Operator |"
   ]
  },
  {
   "cell_type": "markdown",
   "metadata": {
    "slideshow": {
     "slide_type": "slide"
    }
   },
   "source": [
    "<h3><font color='#004b87'>Loops</font></h3>\n",
    "<p></p>\n",
    "A <b>loop</b> statement is used for executing a block of statements repeatedly until a particular condition is satisfied. The C# Language consists of the following Loop Statements.\n",
    "<li>For Loop</li>\n",
    "<li>While Loop</li>\n",
    "<li>Do While Loop</li>\n"
   ]
  },
  {
   "cell_type": "markdown",
   "metadata": {
    "slideshow": {
     "slide_type": "slide"
    }
   },
   "source": [
    "<h3><font color='#004b87'>For Loop</font></h3>\n",
    "<p></p>\n",
    "The for loop is used to execute a particular code segment for multiple times until the given condition is satisfied. \n",
    "<p></p>\n",
    "<b>Syntax</b>"
   ]
  },
  {
   "cell_type": "code",
   "execution_count": null,
   "metadata": {
    "slideshow": {
     "slide_type": "fragment"
    }
   },
   "outputs": [],
   "source": [
    "for(initialization; condition; increment/decrement)\n",
    "{  \n",
    "    //code segment\n",
    "}"
   ]
  },
  {
   "cell_type": "markdown",
   "metadata": {
    "slideshow": {
     "slide_type": "fragment"
    }
   },
   "source": [
    "<center><img title=\"a title\" alt=\"Alt text\" src=\"Picture4.jpeg\"></center\n"
   ]
  },
  {
   "cell_type": "markdown",
   "metadata": {
    "slideshow": {
     "slide_type": "slide"
    }
   },
   "source": [
    "<h3><font color='#004b87'>For Loop Example</font></h3>\n",
    "<p></p>"
   ]
  },
  {
   "cell_type": "code",
   "execution_count": null,
   "metadata": {
    "slideshow": {
     "slide_type": "fragment"
    }
   },
   "outputs": [],
   "source": [
    "using System; //Visual Studio syntax\n",
    "public class ForExample\n",
    "{\n",
    "    public static void Main(string[] args)\n",
    "    {\n",
    "        for (int i = 1; i<= 5; i++)\n",
    "        {\n",
    "            Console.WriteLine(i);\n",
    "        }\n",
    "    }\n",
    "}"
   ]
  },
  {
   "cell_type": "code",
   "execution_count": 2,
   "metadata": {
    "slideshow": {
     "slide_type": "fragment"
    }
   },
   "outputs": [
    {
     "name": "stdout",
     "output_type": "stream",
     "text": [
      "1\n",
      "2\n",
      "3\n",
      "4\n",
      "5\n"
     ]
    }
   ],
   "source": [
    " for (int i = 1; i<= 5; i++)\n",
    "        {\n",
    "            Console.WriteLine(i);\n",
    "        }"
   ]
  },
  {
   "cell_type": "markdown",
   "metadata": {
    "slideshow": {
     "slide_type": "slide"
    }
   },
   "source": [
    "<h3><font color='#004b87'>While Loop</font></h3>\n",
    "<p></p>\n",
    "The While loop is used to execute a code segment for multiple numbers of times until a specific condition is satisfied.\n",
    "<p></p>\n",
    "<b>Syntax</b>"
   ]
  },
  {
   "cell_type": "code",
   "execution_count": 4,
   "metadata": {
    "slideshow": {
     "slide_type": "fragment"
    }
   },
   "outputs": [
    {
     "ename": "Unhandled Exception",
     "evalue": "(1,7): error CS0103: The name 'condition' does not exist in the current context",
     "output_type": "error",
     "traceback": [
      "(1,7): error CS0103: The name 'condition' does not exist in the current context"
     ]
    }
   ],
   "source": [
    "while(condition)\n",
    "{  \n",
    "    //code to be executed  \n",
    "} "
   ]
  },
  {
   "cell_type": "markdown",
   "metadata": {
    "slideshow": {
     "slide_type": "fragment"
    }
   },
   "source": [
    "<center><img title=\"a title\" alt=\"Alt text\" src=\"Picture5.jpeg\"></center\n"
   ]
  },
  {
   "cell_type": "code",
   "execution_count": null,
   "metadata": {
    "slideshow": {
     "slide_type": "slide"
    }
   },
   "outputs": [],
   "source": [
    "using System; //Visual Studio syntax\n",
    " \n",
    "namespace Loops\n",
    "{\n",
    "    class Program\n",
    "    {\n",
    "           static void Main(string[] args)\n",
    "           {\n",
    "                  int x = 5;\n",
    "                  while (x<= 10)\n",
    "                  {\n",
    "                        Console.WriteLine(\"The value of a: {0}\", x);\n",
    "                        x++;\n",
    "                  }\n",
    "                  Console.ReadLine();\n",
    "           }\n",
    "     }\n",
    "}"
   ]
  },
  {
   "cell_type": "code",
   "execution_count": 5,
   "metadata": {
    "slideshow": {
     "slide_type": "fragment"
    }
   },
   "outputs": [
    {
     "name": "stdout",
     "output_type": "stream",
     "text": [
      "The value of a: 5\n",
      "The value of a: 6\n",
      "The value of a: 7\n",
      "The value of a: 8\n",
      "The value of a: 9\n",
      "The value of a: 10\n"
     ]
    }
   ],
   "source": [
    " int x = 5;\n",
    "                  while (x<= 10)\n",
    "                  {\n",
    "                        Console.WriteLine(\"The value of a: {0}\", x);\n",
    "                        x++;\n",
    "                  }"
   ]
  },
  {
   "cell_type": "markdown",
   "metadata": {
    "slideshow": {
     "slide_type": "slide"
    }
   },
   "source": [
    "<h3><font color='#004b87'>Do While Loop</font></h3>\n",
    "<p></p>\n",
    "Do while loop is completely similar to While Loop but the only difference is that the condition is placed at the end of the loop. Hence, the loop is executed at least for once.\n",
    "<p></p>\n",
    "<b>Syntax</b>"
   ]
  },
  {
   "cell_type": "code",
   "execution_count": null,
   "metadata": {
    "slideshow": {
     "slide_type": "fragment"
    }
   },
   "outputs": [],
   "source": [
    "do\n",
    "{  \n",
    "    //code to be executed  \n",
    "}while(condition); "
   ]
  },
  {
   "cell_type": "markdown",
   "metadata": {
    "slideshow": {
     "slide_type": "fragment"
    }
   },
   "source": [
    "<center><img title=\"a title\" alt=\"Alt text\" src=\"Picture6.jpeg\"></center"
   ]
  },
  {
   "cell_type": "markdown",
   "metadata": {
    "slideshow": {
     "slide_type": "slide"
    }
   },
   "source": [
    "using System;// Visual Studio sytntax\n",
    "namespace Edureka\n",
    "{\n",
    "    class DoWhileLoop\n",
    "    {\n",
    "        public static void Main(string[] args)\n",
    "        {\n",
    "            int i = 1, n = 5, product;\n",
    "            do\n",
    "            {\n",
    "                product = n * i;\n",
    "                Console.WriteLine(\"{0} * {1} = {2}\", n, i, product);\n",
    "                i++;\n",
    "            } while (i<= 10);\n",
    "        }\n",
    "    }\n",
    "}"
   ]
  },
  {
   "cell_type": "markdown",
   "metadata": {},
   "source": [
    "NOTE: 0 references i,\n",
    "1 references n,\n",
    "2 references product"
   ]
  },
  {
   "cell_type": "code",
   "execution_count": 6,
   "metadata": {
    "slideshow": {
     "slide_type": "fragment"
    }
   },
   "outputs": [
    {
     "name": "stdout",
     "output_type": "stream",
     "text": [
      "5 * 1 = 5\n",
      "5 * 2 = 10\n",
      "5 * 3 = 15\n",
      "5 * 4 = 20\n",
      "5 * 5 = 25\n",
      "5 * 6 = 30\n",
      "5 * 7 = 35\n",
      "5 * 8 = 40\n",
      "5 * 9 = 45\n",
      "5 * 10 = 50\n"
     ]
    }
   ],
   "source": [
    " int i = 1, n = 5, product;\n",
    "            do\n",
    "            {\n",
    "                product = n * i;\n",
    "                Console.WriteLine(\"{0} * {1} = {2}\", n, i, product);\n",
    "                i++;\n",
    "            } while (i<= 10);"
   ]
  },
  {
   "cell_type": "markdown",
   "metadata": {
    "slideshow": {
     "slide_type": "slide"
    }
   },
   "source": [
    "<h3><font color='#004b87'>Conditionals</font></h3>\n",
    "<p></p>\n",
    "Conditional statements are used to execute statement or group of statements based on some condition. If the condition is true then C# statements are executed otherwise the next statement will be executed.\n",
    "<p></p>\n",
    "Different types of Conditional Statements in C# Language are as follows:\n",
    "<p></p>\n",
    "<li>If statement</li>\n",
    "<li>If-Else statement</li>\n",
    "<li>Nested If-else statement</li>\n",
    "<li>If-Else ladder</li>\n",
    "<li>Switch statement</li>"
   ]
  },
  {
   "cell_type": "markdown",
   "metadata": {
    "slideshow": {
     "slide_type": "slide"
    }
   },
   "source": [
    "<h3><font color='#004b87'>If statement</font></h3>\n",
    "<p></p>\n",
    "The single if statement in C# language is used to execute the code if a condition is true. It is also called one-way selection statement..\n",
    "<p></p>\n",
    "<b>Syntax</b>"
   ]
  },
  {
   "cell_type": "code",
   "execution_count": null,
   "metadata": {
    "slideshow": {
     "slide_type": "fragment"
    }
   },
   "outputs": [],
   "source": [
    "if (boolean-expression)\n",
    "{\n",
    "    // statements executed if boolean-expression is true\n",
    "}"
   ]
  },
  {
   "cell_type": "markdown",
   "metadata": {
    "slideshow": {
     "slide_type": "fragment"
    }
   },
   "source": [
    "<center><img title=\"a title\" alt=\"Alt text\" src=\"Picture7.png\"></center"
   ]
  },
  {
   "cell_type": "code",
   "execution_count": null,
   "metadata": {
    "slideshow": {
     "slide_type": "slide"
    }
   },
   "outputs": [],
   "source": [
    "using System; //Visual Studio Syntax\n",
    "namespace Conditional\n",
    "{\n",
    "    class IfStatement\n",
    "    {\n",
    "        public static void Main(string[] args)\n",
    "        {\n",
    "            int number = 2;\n",
    "            if (number<5)\n",
    "            {\n",
    "                Console.WriteLine(\"{0} is less than 5\", number);\n",
    "            }\n",
    "            Console.WriteLine(\"This statement is always executed.\");\n",
    "        }\n",
    "    }\n",
    "}"
   ]
  },
  {
   "cell_type": "code",
   "execution_count": 7,
   "metadata": {
    "slideshow": {
     "slide_type": "fragment"
    }
   },
   "outputs": [
    {
     "name": "stdout",
     "output_type": "stream",
     "text": [
      "2 is less than 5\n",
      "This statement is always executed.\n"
     ]
    }
   ],
   "source": [
    " int number = 2;\n",
    "            if (number<5)\n",
    "            {\n",
    "                Console.WriteLine(\"{0} is less than 5\", number);\n",
    "            }\n",
    "            Console.WriteLine(\"This statement is always executed.\");"
   ]
  },
  {
   "cell_type": "markdown",
   "metadata": {
    "slideshow": {
     "slide_type": "slide"
    }
   },
   "source": [
    "<h3><font color='#004b87'>If-else statement</font></h3>\n",
    "<p></p>\n",
    "The if-else statement in C# language is used to execute the code if the condition is true or false. It is also called two-way selection statement.\n",
    "<p></p>\n",
    "<b>Syntax</b>"
   ]
  },
  {
   "cell_type": "code",
   "execution_count": null,
   "metadata": {
    "slideshow": {
     "slide_type": "fragment"
    }
   },
   "outputs": [],
   "source": [
    "if (boolean-expression)\n",
    "{\n",
    "    // statements executed if boolean-expression is true\n",
    "}\n",
    "else\n",
    "{\n",
    "    // statements executed if boolean-expression is false\n",
    "}"
   ]
  },
  {
   "cell_type": "markdown",
   "metadata": {
    "slideshow": {
     "slide_type": "fragment"
    }
   },
   "source": [
    "<center><img title=\"a title\" alt=\"Alt text\" src=\"Picture8.png\"></center"
   ]
  },
  {
   "cell_type": "code",
   "execution_count": null,
   "metadata": {
    "slideshow": {
     "slide_type": "slide"
    }
   },
   "outputs": [],
   "source": [
    "using System;//Visual Studio syntax\n",
    "namespace Conditional\n",
    "{\n",
    "    class IfElseStatement\n",
    "    {\n",
    "        public static void Main(string[] args)\n",
    "        {\n",
    "            int number = 12;\n",
    "            if (number<5)\n",
    "            {\n",
    "                Console.WriteLine(\"{0} is less than 5\", number);\n",
    "            }\n",
    "            else\n",
    "            {\n",
    "                Console.WriteLine(\"{0} is greater than or equal to 5\", number);\n",
    "            }\n",
    "            Console.WriteLine(\"This statement is always executed.\");\n",
    "        }\n",
    "    }\n",
    "}"
   ]
  },
  {
   "cell_type": "code",
   "execution_count": 8,
   "metadata": {
    "slideshow": {
     "slide_type": "fragment"
    }
   },
   "outputs": [
    {
     "name": "stdout",
     "output_type": "stream",
     "text": [
      "12 is greater than or equal to 5\n",
      "This statement is always executed.\n"
     ]
    }
   ],
   "source": [
    "int number = 12;\n",
    "            if (number<5)\n",
    "            {\n",
    "                Console.WriteLine(\"{0} is less than 5\", number);\n",
    "            }\n",
    "            else\n",
    "            {\n",
    "                Console.WriteLine(\"{0} is greater than or equal to 5\", number);\n",
    "            }\n",
    "            Console.WriteLine(\"This statement is always executed.\");\n"
   ]
  },
  {
   "cell_type": "markdown",
   "metadata": {
    "slideshow": {
     "slide_type": "slide"
    }
   },
   "source": [
    "<h3><font color='#004b87'>Nested If-else statement</font></h3>\n",
    "<p></p>\n",
    "The nested if-else statement is used when a program requires more than one test expression. It is also called a multi-way selection statement. When a series of the decision are involved in a statement, we use if-else statement in nested form.\n",
    "\n",
    "<b>Syntax</b>"
   ]
  },
  {
   "cell_type": "code",
   "execution_count": null,
   "metadata": {
    "slideshow": {
     "slide_type": "fragment"
    }
   },
   "outputs": [],
   "source": [
    "if (boolean-expression)\n",
    "{\n",
    "    if (nested-expression-1)\n",
    "    {\n",
    "        // code to be executed\n",
    "    }\n",
    "    else\n",
    "    {\n",
    "    // code to be executed\n",
    "    }\n",
    "}\n",
    "else\n",
    "{\n",
    "    if (nested-expression-2)\n",
    "    {\n",
    "        // code to be executed\n",
    "    }\n",
    "    else\n",
    "    {\n",
    "        // code to be executed\n",
    "    }\n",
    "}"
   ]
  },
  {
   "cell_type": "markdown",
   "metadata": {
    "slideshow": {
     "slide_type": "slide"
    }
   },
   "source": [
    "<center><img title=\"a title\" alt=\"Alt text\" src=\"Picture9.png\"></center"
   ]
  },
  {
   "cell_type": "code",
   "execution_count": null,
   "metadata": {
    "slideshow": {
     "slide_type": "slide"
    }
   },
   "outputs": [],
   "source": [
    "using System; //Visual Studio Syntax\n",
    " \n",
    "namespace Conditional\n",
    "{\n",
    "      class Nested\n",
    "      {\n",
    "             public static void Main(string[] args)\n",
    "             {\n",
    "                   int first = 7, second = -23, third = 13;\n",
    "                   if (first > second)\n",
    "                   {\n",
    "                        if (first>third)\n",
    "                        {\n",
    "                              Console.WriteLine(\"{0} is the largest\", first);\n",
    "                        }\n",
    "                        else\n",
    "                        {\n",
    "                               Console.WriteLine(\"{0} is the largest\", third);\n",
    "                        }\n",
    "                   }\n",
    "                   else\n",
    "                   {\n",
    "                        if (second>third)\n",
    "                        {\n",
    "                              Console.WriteLine(\"{0} is the largest\", second);\n",
    "                        }\n",
    "                        else\n",
    "                       {\n",
    "                               Console.WriteLine(\"{0} is the largest\", third);\n",
    "                       }\n",
    "                   }\n",
    "             }\n",
    "      }\n",
    "}"
   ]
  },
  {
   "cell_type": "code",
   "execution_count": 19,
   "metadata": {
    "slideshow": {
     "slide_type": "slide"
    }
   },
   "outputs": [
    {
     "name": "stdout",
     "output_type": "stream",
     "text": [
      "13 is the largest\r\n"
     ]
    }
   ],
   "source": [
    "           \n",
    "                   int first = 7, second = -23, third = 13;\n",
    "                   if (first > second)\n",
    "                   {\n",
    "                        if (first>third)\n",
    "                        {\n",
    "                              Console.WriteLine(\"{0} is the largest\", first);\n",
    "                        }\n",
    "                        else\n",
    "                        {\n",
    "                               Console.WriteLine(\"{0} is the largest\", third);\n",
    "                        }\n",
    "                   }\n",
    "                   else\n",
    "                   {\n",
    "                        if (second>third)\n",
    "                        {\n",
    "                              Console.WriteLine(\"{0} is the largest\", second);\n",
    "                        }\n",
    "                        else\n",
    "                       {\n",
    "                               Console.WriteLine(\"{0} is the largest\", third);\n",
    "                       }\n",
    "                   }\n",
    "             \n",
    "      \n"
   ]
  },
  {
   "cell_type": "markdown",
   "metadata": {
    "slideshow": {
     "slide_type": "slide"
    }
   },
   "source": [
    "<h3><font color='#004b87'>Else-if Ladder</font></h3>\n",
    "<p></p>\n",
    "The if-else-if statement is used to execute one code from multiple conditions. It is also called multipath decision statement. It is a chain of if..else statements in which each if statement is associated with else if statement and last would be an else statement.\n",
    "\n",
    "<b>Syntax</b>"
   ]
  },
  {
   "cell_type": "code",
   "execution_count": null,
   "metadata": {
    "slideshow": {
     "slide_type": "fragment"
    }
   },
   "outputs": [],
   "source": [
    "if(condition1)\n",
    "{  \n",
    "    // code to be executed if condition1 is true  \n",
    "}\n",
    "else if(condition2)\n",
    "{  \n",
    "    // code to be executed if condition2 is true  \n",
    "}  \n",
    "else if(condition3)\n",
    "{  \n",
    "    // code to be executed if condition3 is true  \n",
    "}  \n",
    "... \n",
    "else\n",
    "{\n",
    "    // code to be executed if all the conditions are false  \n",
    "}"
   ]
  },
  {
   "cell_type": "markdown",
   "metadata": {
    "slideshow": {
     "slide_type": "slide"
    }
   },
   "source": [
    "<center><img title=\"a title\" alt=\"Alt text\" src=\"Picture10.png\"></center"
   ]
  },
  {
   "cell_type": "code",
   "execution_count": null,
   "metadata": {
    "slideshow": {
     "slide_type": "slide"
    }
   },
   "outputs": [],
   "source": [
    "using System;//Visual Studio Syntax\n",
    " \n",
    "class Ladder\n",
    "{\n",
    "     public static void Main(String[] args)\n",
    "     {\n",
    "          int i = 20;\n",
    "          if (i == 10)\n",
    "              Console.WriteLine(\"i is 10\");\n",
    "          else if (i == 15)\n",
    "              Console.WriteLine(\"i is 15\");\n",
    "          else if (i == 20)\n",
    "              Console.WriteLine(\"i is 20\");\n",
    "          else\n",
    "              Console.WriteLine(\"i is not present\");\n",
    "     }\n",
    "}"
   ]
  },
  {
   "cell_type": "code",
   "execution_count": 20,
   "metadata": {
    "slideshow": {
     "slide_type": "fragment"
    }
   },
   "outputs": [
    {
     "name": "stdout",
     "output_type": "stream",
     "text": [
      "i is 20\r\n"
     ]
    }
   ],
   "source": [
    "int i = 20;\n",
    "          if (i == 10)\n",
    "              Console.WriteLine(\"i is 10\");\n",
    "          else if (i == 15)\n",
    "              Console.WriteLine(\"i is 15\");\n",
    "          else if (i == 20)\n",
    "              Console.WriteLine(\"i is 20\");\n",
    "          else\n",
    "              Console.WriteLine(\"i is not present\");"
   ]
  },
  {
   "cell_type": "markdown",
   "metadata": {
    "slideshow": {
     "slide_type": "slide"
    }
   },
   "source": [
    "<h3><font color='#004b87'>Switch statement</font></h3>\n",
    "<p></p>\n",
    "Switch statement acts as a substitute for a long if-else-if ladder that is used to test a list of cases. A switch statement contains one or more case labels which are tested against the switch expression. When the expression match to a case then the associated statements with that case would be executed.\n",
    "\n",
    "<b>Syntax</b>"
   ]
  },
  {
   "cell_type": "markdown",
   "metadata": {},
   "source": [
    "NOTE: This works similarly to the ladder statement but it is more efficient and easier to program."
   ]
  },
  {
   "cell_type": "code",
   "execution_count": null,
   "metadata": {
    "slideshow": {
     "slide_type": "fragment"
    }
   },
   "outputs": [],
   "source": [
    "switch (variable/expression)\n",
    "{\n",
    "    case value1:\n",
    "        // Statements executed if expression(or variable) = value1\n",
    "        break;\n",
    "    case value2:\n",
    "        // Statements executed if expression(or variable) = value1\n",
    "        break;\n",
    "    ... ... ... \n",
    "    ... ... ... \n",
    "    default:\n",
    "        // Statements executed if no case matches\n",
    "}"
   ]
  },
  {
   "cell_type": "markdown",
   "metadata": {
    "slideshow": {
     "slide_type": "slide"
    }
   },
   "source": [
    "<center><img title=\"a title\" alt=\"Alt text\" src=\"Picture11.jpeg\"></center"
   ]
  },
  {
   "cell_type": "code",
   "execution_count": null,
   "metadata": {
    "slideshow": {
     "slide_type": "slide"
    }
   },
   "outputs": [],
   "source": [
    "using System;//Visual Studio Syntax\n",
    " \n",
    "namespace Conditional\n",
    "{\n",
    "     class SwitchCase\n",
    "     {\n",
    "          public static void Main(string[] args)\n",
    "          {\n",
    "               char ch;\n",
    "               Console.WriteLine(\"Enter an alphabet\");\n",
    "               ch = Convert.ToChar(Console.ReadLine());//Readline does not currently work with jupyter \n",
    "               switch (Char.ToLower(ch))\n",
    "               {\n",
    "                     case 'a':\n",
    "                     Console.WriteLine(\"Vowel\");\n",
    "                     break;\n",
    "                     case 'e':\n",
    "                     Console.WriteLine(\"Vowel\");\n",
    "                     break;\n",
    "                     case 'i':\n",
    "                     Console.WriteLine(\"Vowel\");\n",
    "                     break;\n",
    "                     case 'o':\n",
    "                     Console.WriteLine(\"Vowel\");\n",
    "                     break;\n",
    "                     case 'u':\n",
    "                     Console.WriteLine(\"Vowel\");\n",
    "                     break;\n",
    "                     default:\n",
    "                     Console.WriteLine(\"Not a vowel\");\n",
    "                     break;\n",
    "               }\n",
    "          }\n",
    "     }\n",
    "}"
   ]
  },
  {
   "cell_type": "code",
   "execution_count": 24,
   "metadata": {
    "slideshow": {
     "slide_type": "slide"
    }
   },
   "outputs": [
    {
     "name": "stdout",
     "output_type": "stream",
     "text": [
      "The specified letter is a\n",
      "Vowel\n"
     ]
    }
   ],
   "source": [
    "               char ch;\n",
    "               Console.WriteLine(\"The specified letter is a\");\n",
    "               ch = Convert.ToChar(\"a\"); //Readline does not currently work with jupyter\n",
    "               switch (Char.ToLower(ch))\n",
    "               {\n",
    "                     case 'a':\n",
    "                     Console.WriteLine(\"Vowel\");\n",
    "                     break;\n",
    "                     case 'e':\n",
    "                     Console.WriteLine(\"Vowel\");\n",
    "                     break;\n",
    "                     case 'i':\n",
    "                     Console.WriteLine(\"Vowel\");\n",
    "                     break;\n",
    "                     case 'o':\n",
    "                     Console.WriteLine(\"Vowel\");\n",
    "                     break;\n",
    "                     case 'u':\n",
    "                     Console.WriteLine(\"Vowel\");\n",
    "                     break;\n",
    "                     default:\n",
    "                     Console.WriteLine(\"Not a vowel\");\n",
    "                     break;\n",
    "                }"
   ]
  },
  {
   "cell_type": "markdown",
   "metadata": {
    "slideshow": {
     "slide_type": "slide"
    }
   },
   "source": [
    "<h3><font color='#004b87'>Strings</font></h3>\n",
    "<p></p>\n",
    "String Datatype is a member of System.String Class. It is capable of storing character type of data. We can perform various operations on Strings such as concatenation, comparison, getting substring, search, trim, replacement and many more.\n",
    "<p></p>\n",
    "In C# String and string are equivalent. The word string is a keyword and acts as the System.String class. We can use either of the versions to declare strings.\n",
    "<p></p>\n",
    "<b>Syntax:</b>"
   ]
  },
  {
   "cell_type": "code",
   "execution_count": 84,
   "metadata": {
    "slideshow": {
     "slide_type": "fragment"
    }
   },
   "outputs": [],
   "source": [
    "string s1 = \"BDAT 1004\";//creating string using string keyword  \n",
    "String s2 = \"Happy Learning\";//creating string using String class  "
   ]
  },
  {
   "cell_type": "code",
   "execution_count": null,
   "metadata": {
    "slideshow": {
     "slide_type": "slide"
    }
   },
   "outputs": [],
   "source": [
    "using System; //Visual Studio Syntax\n",
    "public class StringExample\n",
    "{\n",
    "    public static void Main(string[] args)\n",
    "    {\n",
    "        string s1 = \"Edureka\";\n",
    "        char[] ch = { 'C', 's', 'h', 'a', 'r', 'p',' ','T','u','t','o','r','i','a','l' };\n",
    "        string s2 = new string(ch);\n",
    "        Console.WriteLine(s1);\n",
    "        Console.WriteLine(s2);\n",
    "    }\n",
    "}"
   ]
  },
  {
   "cell_type": "code",
   "execution_count": 26,
   "metadata": {
    "slideshow": {
     "slide_type": "fragment"
    }
   },
   "outputs": [
    {
     "name": "stdout",
     "output_type": "stream",
     "text": [
      "BDAT 1004\n",
      "Csharp Tutorial\n"
     ]
    }
   ],
   "source": [
    "        string s1 = \"BDAT 1004\";\n",
    "        char[] ch = { 'C', 's', 'h', 'a', 'r', 'p',' ','T','u','t','o','r','i','a','l' };\n",
    "        string s2 = new string(ch);\n",
    "        Console.WriteLine(s1);\n",
    "        Console.WriteLine(s2);"
   ]
  },
  {
   "cell_type": "code",
   "execution_count": null,
   "metadata": {
    "collapsed": true
   },
   "outputs": [],
   "source": []
  },
  {
   "cell_type": "markdown",
   "metadata": {
    "slideshow": {
     "slide_type": "slide"
    }
   },
   "source": [
    "<h3><font color='#004b87'>String Methods</font></h3>\n",
    "\n",
    "|Method\t|Description|\n",
    "| :---    | -------: |\n",
    "|Clone()|\tUsed to return a reference to this instance of String.|\n",
    "|Compare(String, String)|\tUsed to compare two specified String objects.|\n",
    "|Concat(String, String)|\tConcatenate two specified instances of String.|\n",
    "|Contains(String)|\tReturn a value indicating a specified sub-string|\n",
    "|Copy(String)|\tUsed to create a new instance of String with the same value|\n",
    "|CopyTo(Int, Char[], Int, Int)|\tCopies characters from a specified position|\n",
    "|Equals(String, String)|\tDetermines that two String objects have the same value.|\n",
    "|Format(String, Object)|\tReplace one or more format items in a specified string|\n",
    "|IndexOf(String)|\tReports the zero-based index of the first occurrence|\n",
    "|Insert(Int32, String)|\tReturns a new string in which a string is inserted at an index.|\n",
    "|IsInterned(String)| \tIndicates that this string is in Unicode normalization form C.|\n",
    "|IsNullOrEmpty(String)|\tIndicates that the specified string is null or an empty string.|\n",
    "|IsNullOrWhiteSpace(String)|\tUsed to indicate whether a specified string is null, empty,|\n",
    "|Join(String, String[])|\tUsed to concatenate all the elements of a string array|\n",
    "|LastIndexOf(Char)| \t Reports the zero-based index position of the last character|\n",
    "|LastIndexOfAny(Char[])|\tReports the zero-based index position of the last character|\n",
    "|Remove(Int32)|\tReturns a new string in which all the characters|\n",
    "|Replace(String, String)|\tReturns a new string in which all occurrences of a string|\n",
    "|Split(Char[])|\tIt is used to split a string into substrings|\n",
    "|StartsWith(String)|\tIt is used to check whether the beginning of this string|\n",
    "|Substring(Int32)|\tIt is used to retrieve a substring from this instance.|\n",
    "|ToCharArray()| \tCopies the characters in this instance to a Unicode array.|\n",
    "|ToString()|\tIt is used to return the instance of String.|\n",
    "|Trim()|\tTrims the string|"
   ]
  },
  {
   "cell_type": "markdown",
   "metadata": {
    "slideshow": {
     "slide_type": "slide"
    }
   },
   "source": [
    "<h3><font color='#004b87'>Arrays</font></h3>\n",
    "<p></p>\n",
    "Similar to other programming languages, C# does have arrays. Arrays are the simple data structures that are designed to store the same datatype of elements in a contiguous memory location.\n",
    "<p></p>\n",
    "C# supports the following Array types.\n",
    "<p></p>\n",
    "<li>Single Dimensional Array</li>\n",
    "<li>Multidimensional Array</li>\n",
    "<li>Jagged Array</li>"
   ]
  },
  {
   "cell_type": "markdown",
   "metadata": {
    "slideshow": {
     "slide_type": "slide"
    }
   },
   "source": [
    "<h3><font color='#004b87'>Single Dimensional Array</font></h3>\n",
    "<p></p>\n",
    "Single Dimensional Array stores elements in the form of one single row.\n",
    "<p></p>\n",
    "<b>Syntax</b>"
   ]
  },
  {
   "cell_type": "code",
   "execution_count": 85,
   "metadata": {
    "slideshow": {
     "slide_type": "fragment"
    }
   },
   "outputs": [],
   "source": [
    "int[] arr = new int[5];//creating array\n"
   ]
  },
  {
   "cell_type": "markdown",
   "metadata": {},
   "source": [
    "NOTE: In above cell: an array of 5 elements\n",
    "Below: using length of the array as a conditional"
   ]
  },
  {
   "cell_type": "code",
   "execution_count": null,
   "metadata": {
    "slideshow": {
     "slide_type": "fragment"
    }
   },
   "outputs": [],
   "source": [
    "using System;//Visual Studio Syntax\n",
    "public class ArrayExample\n",
    "{\n",
    "    public static void Main(string[] args)\n",
    "    {\n",
    "        int[] arr = new int[5];        \n",
    "        arr[0] = 10;\n",
    "        arr[1] = 20;\n",
    "        arr[2] = 30;\n",
    "        arr[3] = 40;\n",
    "        arr[4] = 50;\n",
    "        for (int i = 0; i < arr.Length; i++)\n",
    "        {\n",
    "            Console.WriteLine(arr[i]);\n",
    "        }\n",
    "    }\n",
    "}"
   ]
  },
  {
   "cell_type": "code",
   "execution_count": 30,
   "metadata": {
    "slideshow": {
     "slide_type": "slide"
    }
   },
   "outputs": [
    {
     "name": "stdout",
     "output_type": "stream",
     "text": [
      "10\n",
      "20\n",
      "30\n",
      "40\n",
      "50\n"
     ]
    }
   ],
   "source": [
    "int[] arr = new int[5];        \n",
    "        arr[0] = 10;\n",
    "        arr[1] = 20;\n",
    "        arr[2] = 30;\n",
    "        arr[3] = 40;\n",
    "        arr[4] = 50;\n",
    "        for (int i = 0; i < arr.Length; i++)\n",
    "        {\n",
    "            Console.WriteLine(arr[i]);\n",
    "        }\n",
    "    "
   ]
  },
  {
   "cell_type": "markdown",
   "metadata": {
    "slideshow": {
     "slide_type": "fragment"
    }
   },
   "source": [
    "<center><img title=\"a title\" alt=\"Alt text\" src=\"Picture12.png\"></center"
   ]
  },
  {
   "cell_type": "markdown",
   "metadata": {
    "slideshow": {
     "slide_type": "slide"
    }
   },
   "source": [
    "<h3><font color='#004b87'>Multidimensional Array</font></h3>\n",
    "<p></p>\n",
    "Multidimensional Array stores elements in the form of multiple dimensions like a matrix and a cube etc.\n",
    "<p></p>\n",
    "<b>Syntax</b>"
   ]
  },
  {
   "cell_type": "code",
   "execution_count": null,
   "metadata": {
    "slideshow": {
     "slide_type": "fragment"
    }
   },
   "outputs": [],
   "source": [
    "int val = a[2,3];"
   ]
  },
  {
   "cell_type": "code",
   "execution_count": null,
   "metadata": {
    "slideshow": {
     "slide_type": "fragment"
    }
   },
   "outputs": [],
   "source": [
    "using System;//Visual Studio Syntax\n",
    " \n",
    "namespace ArrayApplication\n",
    "{\n",
    "     class MyArray\n",
    "     {\n",
    "           static void Main(string[] args)\n",
    "           {\n",
    "                  int[,] a = new int[5, 2] { { 0, 0 }, { 1, 2 }, { 2, 4 }, { 3, 6 }, { 4, 8 } };\n",
    "                  int i, j;\n",
    "                  for (i = 0; i < 5; i++)\n",
    "                  {\n",
    "                          for (j = 0; j < 2; j++)\n",
    "                          {\n",
    "                                 Console.WriteLine(\"a[{0},{1}] = {2}\", i, j, a[i, j]);\n",
    "                          }\n",
    "                  }\n",
    "                  Console.ReadKey();\n",
    "           }\n",
    "     }\n",
    "}"
   ]
  },
  {
   "cell_type": "code",
   "execution_count": 32,
   "metadata": {
    "slideshow": {
     "slide_type": "slide"
    }
   },
   "outputs": [
    {
     "name": "stdout",
     "output_type": "stream",
     "text": [
      "a[0,0] = 0\n",
      "a[0,1] = 0\n",
      "a[1,0] = 1\n",
      "a[1,1] = 2\n",
      "a[2,0] = 2\n",
      "a[2,1] = 4\n",
      "a[3,0] = 3\n",
      "a[3,1] = 6\n",
      "a[4,0] = 4\n",
      "a[4,1] = 8\n"
     ]
    }
   ],
   "source": [
    " int[,] a = new int[5, 2] { { 0, 0 }, { 1, 2 }, { 2, 4 }, { 3, 6 }, { 4, 8 } };\n",
    "                  int i, j;\n",
    "                  for (i = 0; i < 5; i++)\n",
    "                  {\n",
    "                          for (j = 0; j < 2; j++)\n",
    "                          {\n",
    "                                 Console.WriteLine(\"a[{0},{1}] = {2}\", i, j, a[i, j]);\n",
    "                          }\n",
    "                  }\n",
    "                  Console.Read();"
   ]
  },
  {
   "cell_type": "markdown",
   "metadata": {
    "slideshow": {
     "slide_type": "fragment"
    }
   },
   "source": [
    "<center><img title=\"a title\" alt=\"Alt text\" src=\"Picture13.png\"></center"
   ]
  },
  {
   "cell_type": "markdown",
   "metadata": {
    "slideshow": {
     "slide_type": "slide"
    }
   },
   "source": [
    "<h3><font color='#004b87'>Jagged Array</font></h3>\n",
    "<p></p>\n",
    "Jagged Array is simply an array of arrays.\n",
    "<p></p>\n",
    "<b>Syntax</b>"
   ]
  },
  {
   "cell_type": "markdown",
   "metadata": {},
   "source": [
    "NOTE: A jagged array as two sets of square brackets: [][]"
   ]
  },
  {
   "cell_type": "code",
   "execution_count": null,
   "metadata": {
    "slideshow": {
     "slide_type": "fragment"
    }
   },
   "outputs": [],
   "source": [
    "using System;//Visual Studio syntax\n",
    " \n",
    "namespace ArrayApplication\n",
    "{\n",
    "     class MyArray\n",
    "     {\n",
    "           static void Main(string[] args)\n",
    "           {\n",
    "                  int[][] a = new int[][]{new int[]{0,0},new int[]{1,2},\n",
    "                  new int[]{2,4},new int[]{ 3, 6 }, new int[]{ 4, 8 } };\n",
    "                  int i, j;\n",
    "                  for (i = 0; i < 5; i++)\n",
    "                  {\n",
    "                         for (j = 0; j < 2; j++)\n",
    "                         {\n",
    "                                Console.WriteLine(\"a[{0}][{1}] = {2}\", i, j, a[i][j]);\n",
    "                         }\n",
    "                  }\n",
    "                  Console.ReadKey();\n",
    "           }\n",
    "      }\n",
    "}"
   ]
  },
  {
   "cell_type": "code",
   "execution_count": 33,
   "metadata": {
    "slideshow": {
     "slide_type": "slide"
    }
   },
   "outputs": [
    {
     "name": "stdout",
     "output_type": "stream",
     "text": [
      "a[0][0] = 0\n",
      "a[0][1] = 0\n",
      "a[1][0] = 1\n",
      "a[1][1] = 2\n",
      "a[2][0] = 2\n",
      "a[2][1] = 4\n",
      "a[3][0] = 3\n",
      "a[3][1] = 6\n",
      "a[4][0] = 4\n",
      "a[4][1] = 8\n"
     ]
    }
   ],
   "source": [
    "int[][] a = new int[][]{new int[]{0,0},new int[]{1,2},\n",
    "                  new int[]{2,4},new int[]{ 3, 6 }, new int[]{ 4, 8 } };\n",
    "                  int i, j;\n",
    "                  for (i = 0; i < 5; i++)\n",
    "                  {\n",
    "                         for (j = 0; j < 2; j++)\n",
    "                         {\n",
    "                                Console.WriteLine(\"a[{0}][{1}] = {2}\", i, j, a[i][j]);\n",
    "                         }\n",
    "                  }\n",
    "                  Console.Read();"
   ]
  },
  {
   "cell_type": "markdown",
   "metadata": {
    "slideshow": {
     "slide_type": "slide"
    }
   },
   "source": [
    "<h3><font color='#004b87'>Collections</font></h3>\n",
    "<p></p>\n",
    "Collection can be simply considered as a group of objects collected together so as to apply some functions upon the collected data. The operations that one can possibly perform on a collection are,\n",
    "<p></p>\n",
    "<li>store object</li>\n",
    "<li>update object</li>\n",
    "<li>delete object</li>\n",
    "<li>retrieve object</li>\n",
    "<li>search object, and</li>\n",
    "<li>sort object</li>"
   ]
  },
  {
   "cell_type": "markdown",
   "metadata": {
    "slideshow": {
     "slide_type": "slide"
    }
   },
   "source": [
    "<h3><font color='#004b87'>Types of Collections</font></h3>\n",
    "<p></p>\n",
    "There are three different possibilities to work with collections. The three namespaces are mentioned below:\n",
    "<p></p>\n",
    "<li>System.Collections.Generic classes</li>\n",
    "<li>System.Collections classes</li>\n",
    "<li>System.Collections.Concurrent classes</li>\n"
   ]
  },
  {
   "cell_type": "markdown",
   "metadata": {
    "slideshow": {
     "slide_type": "fragment"
    }
   },
   "source": [
    "<h4><font color='#004b87'>The System.Collections.Generic Class has the following varieties of classes:</font></h4>\n",
    "<p></p>\n",
    "\n",
    "\n",
    "<li>List</li>\n",
    "<li>Stack</li>\n",
    "<li>Queue</li>\n",
    "<li>LinkedList</li>\n",
    "<li>HashSet</li>\n",
    "<li>SortedSet</li>\n",
    "<li>Dictionary</li>\n",
    "<li>SortedDictionary</li>\n",
    "<li>SortedList</li>\n",
    "\n"
   ]
  },
  {
   "cell_type": "markdown",
   "metadata": {
    "slideshow": {
     "slide_type": "slide"
    }
   },
   "source": [
    "<h4><font color='#004b87'>The System.Collections classes are considered as legacy classes. They include the following classes.</font></h4>\n",
    "<p></p>\n",
    "\n",
    "\n",
    "<li>ArrayList</li>\n",
    "<li>Stack</li>\n",
    "<li>Queue</li>\n",
    "<li>Hashtable</li>\n"
   ]
  },
  {
   "cell_type": "markdown",
   "metadata": {
    "slideshow": {
     "slide_type": "fragment"
    }
   },
   "source": [
    "<h4><font color='#004b87'>The System.Collections.Concurrent classes namespace provides classes for thread-safe operations. Now multiple threads will not create a problem for accessing the collection items. The classes available in this are,</font></h4>\n",
    "<p></p>\n",
    "\n",
    "\n",
    "<li>BlockingCollection</li>\n",
    "<li>ConcurrentBag</li>\n",
    "<li>ConcurrentStack</li>\n",
    "<li>ConcurrentQueue</li>\n",
    "<li>ConcurrentDictionary &lt;tkey, tvalue=””&gt;&lt;/tkey,&gt;</li>\n",
    "<li>Partitioner</li>\n",
    "<li>OrderablePartitioner</li>\n"
   ]
  },
  {
   "cell_type": "markdown",
   "metadata": {
    "slideshow": {
     "slide_type": "slide"
    }
   },
   "source": [
    "<h3><font color='#004b87'>List</font></h3>\n",
    "<p></p>\n",
    "The list is considered as a data structure available in System.Collection.Generics namespace. It can store and fetch elements. The list is capable to store duplicate elements.\n",
    "<p></p>"
   ]
  },
  {
   "cell_type": "code",
   "execution_count": null,
   "metadata": {
    "slideshow": {
     "slide_type": "fragment"
    }
   },
   "outputs": [],
   "source": [
    "using System;//Visual Studio syntax\n",
    "using System.Collections.Generic;\n",
    " \n",
    "public class myList\n",
    "{\n",
    "      public static void Main(string[] args)\n",
    "      {\n",
    "           var names = new List<string>();\n",
    "           names.Add(\"Sandhya\");\n",
    "           names.Add(\"Arun\");\n",
    "           names.Add(\"Prashanth\");\n",
    "           names.Add(\"Kiran\");\n",
    "           foreach (var name in names)\n",
    "           {\n",
    "                Console.WriteLine(name);\n",
    "           }\n",
    "      }\n",
    "}"
   ]
  },
  {
   "cell_type": "code",
   "execution_count": 34,
   "metadata": {
    "slideshow": {
     "slide_type": "fragment"
    }
   },
   "outputs": [
    {
     "name": "stdout",
     "output_type": "stream",
     "text": [
      "Sandhya\n",
      "Arun\n",
      "Prashanth\n",
      "Kiran\n"
     ]
    }
   ],
   "source": [
    "var names = new List<string>();\n",
    "           names.Add(\"Sandhya\");\n",
    "           names.Add(\"Arun\");\n",
    "           names.Add(\"Prashanth\");\n",
    "           names.Add(\"Kiran\");\n",
    "           foreach (var name in names)\n",
    "           {\n",
    "                Console.WriteLine(name);\n",
    "           }"
   ]
  },
  {
   "cell_type": "markdown",
   "metadata": {
    "slideshow": {
     "slide_type": "slide"
    }
   },
   "source": [
    "<h3><font color='#004b87'>Hash Set</font></h3>\n",
    "<p></p>\n",
    "C# HashSet category is often used to store, take away or read components. It doesn’t store duplicate components. You should use HashSet category if you need to store solely distinctive components. it’s found in System.Collections.Generic namespace.\n",
    "<p></p>"
   ]
  },
  {
   "cell_type": "code",
   "execution_count": 86,
   "metadata": {
    "slideshow": {
     "slide_type": "fragment"
    }
   },
   "outputs": [],
   "source": [
    "using System;//Visual Studio syntax\n",
    "using System.Collections.Generic;\n",
    " \n",
    "public class myHashSet\n",
    "{\n",
    "     public static void Main(string[] args)\n",
    "     {\n",
    "          var names = new HashSet<string>();\n",
    "          names.Add(\"Sunil\");\n",
    "          names.Add(\"Amar\");\n",
    "          names.Add(\"Pujari\");\n",
    "          names.Add(\"Imran\");\n",
    "          names.Add(\"karan\");\n",
    "          foreach (var name in names)\n",
    "          {\n",
    "              Console.WriteLine(name);\n",
    "          }\n",
    "     }\n",
    "}"
   ]
  },
  {
   "cell_type": "code",
   "execution_count": 35,
   "metadata": {
    "slideshow": {
     "slide_type": "fragment"
    }
   },
   "outputs": [
    {
     "name": "stdout",
     "output_type": "stream",
     "text": [
      "Sunil\n",
      "Amar\n",
      "Pujari\n",
      "Imran\n",
      "karan\n"
     ]
    }
   ],
   "source": [
    " var names = new HashSet<string>();\n",
    "          names.Add(\"Sunil\");\n",
    "          names.Add(\"Amar\");\n",
    "          names.Add(\"Pujari\");\n",
    "          names.Add(\"Imran\");\n",
    "          names.Add(\"karan\");\n",
    "          foreach (var name in names)\n",
    "          {\n",
    "              Console.WriteLine(name);\n",
    "          }"
   ]
  },
  {
   "cell_type": "markdown",
   "metadata": {
    "slideshow": {
     "slide_type": "slide"
    }
   },
   "source": [
    "<h3><font color='#004b87'>Sorted Set</font></h3>\n",
    "<p></p>\n",
    "C# SortedSet class are often use store, remove or read elements. It maintains ascending order and doesn’t store duplicate elements. it’s prompt to use SortedSet category if you’ve need to store distinctive components and maintain ascending order. it’s found in System.Collections.Generic namespace.\n",
    "<p></p>"
   ]
  },
  {
   "cell_type": "code",
   "execution_count": null,
   "metadata": {
    "slideshow": {
     "slide_type": "fragment"
    }
   },
   "outputs": [],
   "source": [
    "using System;//Visual Studio syntax\n",
    "using System.Collections.Generic;\n",
    " \n",
    "public class mySortedSet\n",
    "{\n",
    "     public static void Main(string[] args)\n",
    "     {\n",
    "          var names = new SortedSet<string>();\n",
    "          names.Add(\"Sanjay\");\n",
    "          names.Add(\"Anuradha\");\n",
    "          names.Add(\"Praveen\");\n",
    "          names.Add(\"Ravi\");\n",
    "          names.Add(\"Kajol\");\n",
    "          foreach (var name in names)\n",
    "          {\n",
    "               Console.WriteLine(name);\n",
    "          }\n",
    "      }\n",
    "}"
   ]
  },
  {
   "cell_type": "code",
   "execution_count": 36,
   "metadata": {
    "slideshow": {
     "slide_type": "fragment"
    }
   },
   "outputs": [
    {
     "name": "stdout",
     "output_type": "stream",
     "text": [
      "Anuradha\n",
      "Kajol\n",
      "Praveen\n",
      "Ravi\n",
      "Sanjay\n"
     ]
    }
   ],
   "source": [
    "var names = new SortedSet<string>();\n",
    "          names.Add(\"Sanjay\");\n",
    "          names.Add(\"Anuradha\");\n",
    "          names.Add(\"Praveen\");\n",
    "          names.Add(\"Ravi\");\n",
    "          names.Add(\"Kajol\");\n",
    "          foreach (var name in names)\n",
    "          {\n",
    "               Console.WriteLine(name);\n",
    "          }"
   ]
  },
  {
   "cell_type": "markdown",
   "metadata": {
    "slideshow": {
     "slide_type": "slide"
    }
   },
   "source": [
    "<h3><font color='#004b87'>Stack</font></h3>\n",
    "<p></p>\n",
    "The stack is a simple collection that follows FILO or first in last out procedure while processing the elements stored in it.\n",
    "<p></p>"
   ]
  },
  {
   "cell_type": "code",
   "execution_count": null,
   "metadata": {
    "slideshow": {
     "slide_type": "fragment"
    }
   },
   "outputs": [],
   "source": [
    "using System;//Visual Studio syntax\n",
    "using System.Collections.Generic;\n",
    " \n",
    "public class myStack\n",
    "{\n",
    "      public static void Main(string[] args)\n",
    "      {\n",
    "            Stack<string> names = new Stack<string>();\n",
    "            names.Push(\"Chandan\");\n",
    "            names.Push(\"Pooja\");\n",
    "            names.Push(\"James\");\n",
    "            names.Push(\"Rajesh\");\n",
    "            names.Push(\"kumar\");\n",
    "            foreach (string name in names)\n",
    "            {\n",
    "                   Console.WriteLine(name);\n",
    "            }\n",
    "            Console.WriteLine(\"Peek element: \" + names.Peek());\n",
    "            Console.WriteLine(\"Pop: \" + names.Pop());\n",
    "            Console.WriteLine(\"After Pop, Peek element: \" + names.Peek());\n",
    "      }\n",
    "}\n"
   ]
  },
  {
   "cell_type": "code",
   "execution_count": 37,
   "metadata": {
    "slideshow": {
     "slide_type": "slide"
    }
   },
   "outputs": [
    {
     "name": "stdout",
     "output_type": "stream",
     "text": [
      "kumar\n",
      "Rajesh\n",
      "James\n",
      "Pooja\n",
      "Chandan\n",
      "Peek element: kumar\n",
      "Pop: kumar\n",
      "After Pop, Peek element: Rajesh\n"
     ]
    }
   ],
   "source": [
    "Stack<string> names = new Stack<string>();\n",
    "            names.Push(\"Chandan\");\n",
    "            names.Push(\"Pooja\");\n",
    "            names.Push(\"James\");\n",
    "            names.Push(\"Rajesh\");\n",
    "            names.Push(\"kumar\");\n",
    "            foreach (string name in names)\n",
    "            {\n",
    "                   Console.WriteLine(name);\n",
    "            }\n",
    "            Console.WriteLine(\"Peek element: \" + names.Peek());\n",
    "            Console.WriteLine(\"Pop: \" + names.Pop());\n",
    "            Console.WriteLine(\"After Pop, Peek element: \" + names.Peek());"
   ]
  },
  {
   "cell_type": "markdown",
   "metadata": {
    "slideshow": {
     "slide_type": "slide"
    }
   },
   "source": [
    "<h3><font color='#004b87'>Queue</font></h3>\n",
    "<p></p>\n",
    "The queue is completely similar to Stack but the only difference is that the Queue follows FIFO or first in and first out principle while processing the elements stored in it.\n",
    "<p></p>"
   ]
  },
  {
   "cell_type": "code",
   "execution_count": null,
   "metadata": {
    "slideshow": {
     "slide_type": "fragment"
    }
   },
   "outputs": [],
   "source": [
    "using System;//Visual Studio syntax\n",
    "using System.Collections.Generic;\n",
    " \n",
    "public class myQueue\n",
    "{\n",
    "      public static void Main(string[] args)\n",
    "      {\n",
    "            Queue<string> names = new Queue<string>();\n",
    "            names.Enqueue(\"Srujan\");\n",
    "            names.Enqueue(\"Prajat\");\n",
    "            names.Enqueue(\"John\");\n",
    "            names.Enqueue(\"Raju\");\n",
    "            names.Enqueue(\"Hari\");\n",
    "            foreach (string name in names)\n",
    "            {\n",
    "                  Console.WriteLine(name);\n",
    "            }\n",
    "            Console.WriteLine(\"Peek element: \" + names.Peek());\n",
    "            Console.WriteLine(\"Dequeue: \" + names.Dequeue());\n",
    "            Console.WriteLine(\"After Dequeue, Peek element: \" + names.Peek());\n",
    "      }\n",
    "}\n"
   ]
  },
  {
   "cell_type": "code",
   "execution_count": 38,
   "metadata": {
    "slideshow": {
     "slide_type": "slide"
    }
   },
   "outputs": [
    {
     "name": "stdout",
     "output_type": "stream",
     "text": [
      "Srujan\n",
      "Prajat\n",
      "John\n",
      "Raju\n",
      "Hari\n",
      "Peek element: Srujan\n",
      "Dequeue: Srujan\n",
      "After Dequeue, Peek element: Prajat\n"
     ]
    }
   ],
   "source": [
    "  Queue<string> names = new Queue<string>();\n",
    "            names.Enqueue(\"Srujan\");\n",
    "            names.Enqueue(\"Prajat\");\n",
    "            names.Enqueue(\"John\");\n",
    "            names.Enqueue(\"Raju\");\n",
    "            names.Enqueue(\"Hari\");\n",
    "            foreach (string name in names)\n",
    "            {\n",
    "                  Console.WriteLine(name);\n",
    "            }\n",
    "            Console.WriteLine(\"Peek element: \" + names.Peek());\n",
    "            Console.WriteLine(\"Dequeue: \" + names.Dequeue());\n",
    "            Console.WriteLine(\"After Dequeue, Peek element: \" + names.Peek());"
   ]
  },
  {
   "cell_type": "markdown",
   "metadata": {
    "slideshow": {
     "slide_type": "slide"
    }
   },
   "source": [
    "<h3><font color='#004b87'>Linked List</font></h3>\n",
    "<p></p>\n",
    "The linked list is a dynamic memory collection. The elements in the Linked list are stored by accessing the memory from the heap and storing the elements in a continuous order by linking their addresses.\n",
    "<p></p>"
   ]
  },
  {
   "cell_type": "code",
   "execution_count": null,
   "metadata": {
    "slideshow": {
     "slide_type": "fragment"
    }
   },
   "outputs": [],
   "source": [
    "using System;//Visual Studio syntax\n",
    "using System.Collections.Generic;\n",
    " \n",
    "public class myLinkedList\n",
    "{\n",
    "      public static void Main(string[] args)\n",
    "      {\n",
    "            var names = new LinkedList<string>();\n",
    "            names.AddLast(\"Rajat\");\n",
    "            names.AddLast(\"Arun\");\n",
    "            names.AddLast(\"Prakash\");\n",
    "            names.AddLast(\"jay\");\n",
    "            names.AddFirst(\"sai\");\n",
    "            foreach (var name in names)\n",
    "            {\n",
    "                   Console.WriteLine(name);\n",
    "            }\n",
    "      }\n",
    "}"
   ]
  },
  {
   "cell_type": "code",
   "execution_count": 39,
   "metadata": {
    "slideshow": {
     "slide_type": "slide"
    }
   },
   "outputs": [
    {
     "name": "stdout",
     "output_type": "stream",
     "text": [
      "sai\n",
      "Rajat\n",
      "Arun\n",
      "Prakash\n",
      "jay\n"
     ]
    }
   ],
   "source": [
    "var names = new LinkedList<string>();\n",
    "            names.AddLast(\"Rajat\");\n",
    "            names.AddLast(\"Arun\");\n",
    "            names.AddLast(\"Prakash\");\n",
    "            names.AddLast(\"jay\");\n",
    "            names.AddFirst(\"sai\");\n",
    "            foreach (var name in names)\n",
    "            {\n",
    "                   Console.WriteLine(name);\n",
    "            }"
   ]
  },
  {
   "cell_type": "markdown",
   "metadata": {
    "slideshow": {
     "slide_type": "slide"
    }
   },
   "source": [
    "<h3><font color='#004b87'>Dictionary</font></h3>\n",
    "<p></p>\n",
    "Dictionary category uses the idea of the hashtable. It stores values on the premise of the key. It contains distinctive keys solely. By the assistance of key, we will simply search or take away elements. it’s found in System.Collections.Generic namespace.\n",
    "<p></p>"
   ]
  },
  {
   "cell_type": "code",
   "execution_count": null,
   "metadata": {
    "slideshow": {
     "slide_type": "fragment"
    }
   },
   "outputs": [],
   "source": [
    "using System;//Visual Studio syntax\n",
    "using System.Collections.Generic;\n",
    " \n",
    "public class myDictionary\n",
    "{\n",
    "      public static void Main(string[] args)\n",
    "      {\n",
    "            Dictionary<string, string> names = new Dictionary<string, string>();\n",
    "            names.Add(\"1\", \"Shiva\");\n",
    "            names.Add(\"2\", \"Prasad\");\n",
    "            names.Add(\"3\", \"Preetam\");\n",
    "            names.Add(\"4\", \"Roy\");\n",
    "            names.Add(\"5\", \"Akash\");\n",
    "            foreach (KeyValuePair<string, string> kv in names)\n",
    "            {\n",
    "                  Console.WriteLine(kv.Key + \" \" + kv.Value);\n",
    "             }\n",
    "      }\n",
    "}"
   ]
  },
  {
   "cell_type": "code",
   "execution_count": 41,
   "metadata": {
    "slideshow": {
     "slide_type": "slide"
    }
   },
   "outputs": [
    {
     "name": "stdout",
     "output_type": "stream",
     "text": [
      "1 Shiva\n",
      "2 Prasad\n",
      "3 Preetam\n",
      "4 Roy\n",
      "5 Akash\n"
     ]
    }
   ],
   "source": [
    "            Dictionary<string, string> names = new Dictionary<string, string>();\n",
    "            names.Add(\"1\", \"Shiva\");\n",
    "            names.Add(\"2\", \"Prasad\");\n",
    "            names.Add(\"3\", \"Preetam\");\n",
    "            names.Add(\"4\", \"Roy\");\n",
    "            names.Add(\"5\", \"Akash\");\n",
    "            foreach (KeyValuePair<string, string> kv in names)\n",
    "            {\n",
    "                  Console.WriteLine(kv.Key + \" \" + kv.Value);\n",
    "             }\n",
    "             "
   ]
  },
  {
   "cell_type": "markdown",
   "metadata": {},
   "source": [
    "Key on the left; value on the right"
   ]
  },
  {
   "cell_type": "markdown",
   "metadata": {
    "slideshow": {
     "slide_type": "slide"
    }
   },
   "source": [
    "<h3><font color='#004b87'>Sorted Dictionary</font></h3>\n",
    "<p></p>\n",
    "The SortedDictionary category uses the concept of the hashtable. It stores values on the idea of the key. It contains distinctive keys and maintains ascending order on the bases of the key. By the assistance of key, we will simply search or take away elements. it’s found in System.Collections.Generic namespace.\n",
    "<p></p>"
   ]
  },
  {
   "cell_type": "code",
   "execution_count": null,
   "metadata": {
    "slideshow": {
     "slide_type": "fragment"
    }
   },
   "outputs": [],
   "source": [
    "using System;//Visual Studio syntax\n",
    "using System.Collections.Generic;\n",
    " \n",
    "public class mySortedDictionary\n",
    "{\n",
    "     public static void Main(string[] args) \n",
    "     {\n",
    "           SortedDictionary<string, string> names = new SortedDictionary<string, string>(); \n",
    "           names.Add(\"1\", \"Arun\"); \n",
    "           names.Add(\"4\", \"Vishal\");\n",
    "           names.Add(\"5\", \"Ramesh\");\n",
    "           names.Add(\"3\", \"Vidya\"); \n",
    "           names.Add(\"2\", \"Pallavi\");\n",
    "           foreach (KeyValuePair<string, string> kv in names)\n",
    "           {\n",
    "                 Console.WriteLine(kv.Key + \" \" + kv.Value);\n",
    "           }\n",
    "     }\n",
    "}"
   ]
  },
  {
   "cell_type": "code",
   "execution_count": 42,
   "metadata": {
    "slideshow": {
     "slide_type": "slide"
    }
   },
   "outputs": [
    {
     "name": "stdout",
     "output_type": "stream",
     "text": [
      "1 Arun\n",
      "2 Pallavi\n",
      "3 Vidya\n",
      "4 Vishal\n",
      "5 Ramesh\n"
     ]
    }
   ],
   "source": [
    "SortedDictionary<string, string> names = new SortedDictionary<string, string>(); \n",
    "           names.Add(\"1\", \"Arun\"); \n",
    "           names.Add(\"4\", \"Vishal\");\n",
    "           names.Add(\"5\", \"Ramesh\");\n",
    "           names.Add(\"3\", \"Vidya\"); \n",
    "           names.Add(\"2\", \"Pallavi\");\n",
    "           foreach (KeyValuePair<string, string> kv in names)\n",
    "           {\n",
    "                 Console.WriteLine(kv.Key + \" \" + kv.Value);\n",
    "           }"
   ]
  },
  {
   "cell_type": "markdown",
   "metadata": {
    "slideshow": {
     "slide_type": "slide"
    }
   },
   "source": [
    "<h3><font color='#004b87'>Sorted List</font></h3>\n",
    "<p></p>\n",
    "The SortedList is an array of key/value pairs. It stores values on the premise of the key. The SortedList category contains distinctive keys and maintains ascending order on the premise of the key. By the assistance of key, we are able to simply search or remove elements. it’s found in System.Collections.Generic namespace.\n"
   ]
  },
  {
   "cell_type": "code",
   "execution_count": null,
   "metadata": {
    "slideshow": {
     "slide_type": "fragment"
    }
   },
   "outputs": [],
   "source": [
    "using System;//Visual Studio syntax\n",
    "using System.Collections.Generic;\n",
    " \n",
    "public class mySortedList\n",
    "{\n",
    "       public static void Main(string[] args)\n",
    "       {\n",
    "              SortedList<string, string> names = new SortedList<string, string>();\n",
    "              names.Add(\"1\", \"Arun\");\n",
    "              names.Add(\"4\", \"Vishal\");\n",
    "              names.Add(\"5\", \"Ramesh\");\n",
    "              names.Add(\"3\", \"Vidya\");\n",
    "              names.Add(\"2\", \"Pallavi\");\n",
    "              foreach (KeyValuePair<string, string> kv in names)\n",
    "              {\n",
    "                    Console.WriteLine(kv.Key + \" \" + kv.Value);\n",
    "              }\n",
    "       }\n",
    "}"
   ]
  },
  {
   "cell_type": "code",
   "execution_count": 44,
   "metadata": {
    "slideshow": {
     "slide_type": "slide"
    }
   },
   "outputs": [
    {
     "name": "stdout",
     "output_type": "stream",
     "text": [
      "1 Arun\n",
      "2 Pallavi\n",
      "3 Vidya\n",
      "4 Vishal\n",
      "5 Ramesh\n"
     ]
    }
   ],
   "source": [
    "SortedList<string, string> names = new SortedList<string, string>();\n",
    "              names.Add(\"1\", \"Arun\");\n",
    "              names.Add(\"4\", \"Vishal\");\n",
    "              names.Add(\"5\", \"Ramesh\");\n",
    "              names.Add(\"3\", \"Vidya\");\n",
    "              names.Add(\"2\", \"Pallavi\");\n",
    "              foreach (KeyValuePair<string, string> kv in names)\n",
    "              {\n",
    "                    Console.WriteLine(kv.Key + \" \" + kv.Value);\n",
    "              }"
   ]
  },
  {
   "cell_type": "markdown",
   "metadata": {
    "slideshow": {
     "slide_type": "fragment"
    }
   },
   "source": [
    "<h3><font color='#004b87'>Difference between sorted list and sorted dictionary</font></h3>\n",
    "<p></p>\n",
    "The SortedDictionary<TKey, TValue> generic class is a binary search tree with O(log n) retrieval, where n is the number of elements in the dictionary. In this, it is similar to the SortedList<TKey, TValue> generic class. The two classes have similar object models, and both have O(log n) retrieval. Where the two classes differ is in memory use and speed of insertion and removal:\n",
    "\n",
    "- SortedList<TKey, TValue> uses less memory than SortedDictionary<TKey,\n",
    "  TValue>.\n",
    "\n",
    "- SortedDictionary<TKey, TValue> has faster insertion and removal operations for unsorted data, O(log n) as opposed to O(n) for SortedList<TKey, TValue>.\n",
    "\n",
    "- If the list is populated all at once from sorted data, SortedList<TKey,\n",
    "  TValue> is faster than SortedDictionary<TKey, TValue>."
   ]
  },
  {
   "cell_type": "markdown",
   "metadata": {
    "slideshow": {
     "slide_type": "slide"
    }
   },
   "source": [
    "<h3><font color='#004b87'>Structure</font></h3>\n",
    "<p></p>\n",
    "The structure is a user-defined datatype designed to store multiple elements of the different datatype. The structure is declared using the keyword struct."
   ]
  },
  {
   "cell_type": "code",
   "execution_count": null,
   "metadata": {
    "slideshow": {
     "slide_type": "fragment"
    }
   },
   "outputs": [],
   "source": [
    "using System;//Visual Studio syntax\n",
    " \n",
    "struct Books\n",
    "{\n",
    "     public string title;\n",
    "     public string author;\n",
    "     public string subject;\n",
    "     public int book_id;\n",
    "};\n",
    " \n",
    "public class myStructure\n",
    "{\n",
    "     public static void Main(string[] args)\n",
    "     {\n",
    "          Books Book1;\n",
    "          Books Book2;\n",
    "          Book1.title = \"C# Programming\";\n",
    "          Book1.author = \"Ramchandra Kumar\";\n",
    "          Book1.subject = \"C++ Programming Tutorial\";\n",
    "          Book1.book_id = 95908978;\n",
    "          Book2.title = \"Telecom Billing\";\n",
    "          Book2.author = \"Karan\";\n",
    "          Book2.subject = \"Telecom Billing Tutorial\";\n",
    "          Book2.book_id = 18674900;\n",
    "          Console.WriteLine(\"Book 1 title: {0}\", Book1.title);\n",
    "          Console.WriteLine(\"Book 1 Author: {0}\", Book1.author);\n",
    "          Console.WriteLine(\"Book 1 subject: {0}\", Book1.subject);\n",
    "          Console.WriteLine(\"Book 1 book_id:{0}\", Book1.book_id);\n",
    "          Console.WriteLine(\"Book 2 title: {0}\", Book2.title);\n",
    "          Console.WriteLine(\"Book 2 Author: {0}\", Book2.author);\n",
    "          Console.WriteLine(\"Book 2 subject: {0}\", Book2.subject);\n",
    "          Console.WriteLine(\"Book 2 book_id: {0}\", Book2.book_id);\n",
    "          Console.ReadKey();\n",
    "     }\n",
    "}"
   ]
  },
  {
   "cell_type": "code",
   "execution_count": 46,
   "metadata": {
    "slideshow": {
     "slide_type": "slide"
    }
   },
   "outputs": [
    {
     "name": "stdout",
     "output_type": "stream",
     "text": [
      "Book 1 title: C# Programming\n",
      "Book 1 Author: Ramchandra Kumar\n",
      "Book 1 subject: C++ Programming Tutorial\n",
      "Book 1 book_id:95908978\n",
      "Book 2 title: Telecom Billing\n",
      "Book 2 Author: Karan\n",
      "Book 2 subject: Telecom Billing Tutorial\n",
      "Book 2 book_id: 18674900\n"
     ]
    }
   ],
   "source": [
    "          \n",
    "         struct Books\n",
    "{\n",
    "     public string title;\n",
    "     public string author;\n",
    "     public string subject;\n",
    "     public int book_id;\n",
    "}; \n",
    "          \n",
    "          \n",
    "          \n",
    "          \n",
    "          \n",
    "          Books Book1;\n",
    "          Books Book2;\n",
    "          Book1.title = \"C# Programming\";\n",
    "          Book1.author = \"Ramchandra Kumar\";\n",
    "          Book1.subject = \"C++ Programming Tutorial\";\n",
    "          Book1.book_id = 95908978;\n",
    "          Book2.title = \"Telecom Billing\";\n",
    "          Book2.author = \"Karan\";\n",
    "          Book2.subject = \"Telecom Billing Tutorial\";\n",
    "          Book2.book_id = 18674900;\n",
    "          Console.WriteLine(\"Book 1 title: {0}\", Book1.title);\n",
    "          Console.WriteLine(\"Book 1 Author: {0}\", Book1.author);\n",
    "          Console.WriteLine(\"Book 1 subject: {0}\", Book1.subject);\n",
    "          Console.WriteLine(\"Book 1 book_id:{0}\", Book1.book_id);\n",
    "          Console.WriteLine(\"Book 2 title: {0}\", Book2.title);\n",
    "          Console.WriteLine(\"Book 2 Author: {0}\", Book2.author);\n",
    "          Console.WriteLine(\"Book 2 subject: {0}\", Book2.subject);\n",
    "          Console.WriteLine(\"Book 2 book_id: {0}\", Book2.book_id);\n",
    "          Console.Read();"
   ]
  },
  {
   "cell_type": "markdown",
   "metadata": {
    "slideshow": {
     "slide_type": "slide"
    }
   },
   "source": [
    "<h3><font color='#004b87'>Functions</font></h3>\n",
    "<p></p>\n",
    "The function is defined as a block of code of the main code. The function is used to execute statements specified in the code block. A function consists of the following components.\n",
    "<p></p>\n",
    "<li>Function name: It is a distinctive name that is used to make a Function call.</li>\n",
    "<li>Return type: It specifies the data type of function return value</li>\n",
    "<li>Body: It contains executable statements.</li>\n",
    "<li>Access specifier: It specifies function accessibility in the application.</li>\n",
    "<li>Parameters: It is a list of arguments that we can pass to the function during the call.</li>\n",
    "<p></p>\n",
    "<b>Syntax</b>"
   ]
  },
  {
   "cell_type": "markdown",
   "metadata": {},
   "source": [
    "NOTE: Functions can take one, multiple or no parameters"
   ]
  },
  {
   "cell_type": "code",
   "execution_count": null,
   "metadata": {
    "slideshow": {
     "slide_type": "fragment"
    }
   },
   "outputs": [],
   "source": [
    "<access-specifier><return-type>FunctionName(<parameters>)  \n",
    "{  \n",
    "// function body  \n",
    "// return statement  \n",
    "} "
   ]
  },
  {
   "cell_type": "code",
   "execution_count": null,
   "metadata": {
    "slideshow": {
     "slide_type": "slide"
    }
   },
   "outputs": [],
   "source": [
    "using System; //Visual Studio syntax\n",
    "namespace FunctionExample\n",
    "{\n",
    "    class myFunction\n",
    "    {\n",
    "        public string Show(string message)\n",
    "        {\n",
    "            Console.WriteLine(\"Inside Show Function\");\n",
    "            return message;\n",
    "        }\n",
    "        static void Main(string[] args)\n",
    "        {\n",
    "            coolFunction program = new coolFunction();\n",
    "            string message = program.Show(\"To BDAT 1004\");\n",
    "            Console.WriteLine(\"Welcome \" + message);\n",
    "        }\n",
    "    }\n",
    "}"
   ]
  },
  {
   "cell_type": "code",
   "execution_count": 52,
   "metadata": {
    "slideshow": {
     "slide_type": "slide"
    }
   },
   "outputs": [],
   "source": [
    "  class myFunction\n",
    "    {\n",
    "        public string Show(string message)\n",
    "        {\n",
    "            Console.WriteLine(\"Inside Show Function\");\n",
    "            return message;\n",
    "        }\n",
    "\n",
    "    }"
   ]
  },
  {
   "cell_type": "code",
   "execution_count": 56,
   "metadata": {
    "slideshow": {
     "slide_type": "fragment"
    }
   },
   "outputs": [
    {
     "name": "stdout",
     "output_type": "stream",
     "text": [
      "Inside Show Function\n",
      "Welcome To BDAT 1004\n"
     ]
    }
   ],
   "source": [
    "myFunction program = new myFunction();\n",
    "string message = program.Show(\"To BDAT 1004\");\n",
    "Console.WriteLine(\"Welcome \" + message);       "
   ]
  },
  {
   "cell_type": "markdown",
   "metadata": {
    "slideshow": {
     "slide_type": "fragment"
    }
   },
   "source": [
    "Functions can be executed in 3 different ways:\n",
    "<p></p>\n",
    "<li>Call by Value</li>\n",
    "<li>Call by Reference</li>\n",
    "<li>Out Parameter</li>"
   ]
  },
  {
   "cell_type": "markdown",
   "metadata": {
    "slideshow": {
     "slide_type": "slide"
    }
   },
   "source": [
    "<h3><font color='#004b87'>Functions: Call by Value</font></h3>\n",
    "<p></p>\n",
    "In C#, value-type parameters are passed as a replica of original value to the function instead of reference. It doesn’t modify the first value. An amendment created in passed value doesn’t alter the particular value. within the following example, we’ve got pass value throughout the call."
   ]
  },
  {
   "cell_type": "code",
   "execution_count": null,
   "metadata": {
    "slideshow": {
     "slide_type": "fragment"
    }
   },
   "outputs": [],
   "source": [
    "using System; //Visual Studio syntax\n",
    "namespace CallByValue\n",
    "{\n",
    "    class myFunction\n",
    "    {\n",
    "        public void Show(int val)\n",
    "        {\n",
    "            val *= val; \n",
    "            Console.WriteLine(\"The value inside the show function \" + val);\n",
    "        }\n",
    "        static void Main(string[] args)\n",
    "        {\n",
    "            int val = 50;\n",
    "            myFunction program = new myFunction(); \n",
    "            Console.WriteLine(\"Value before calling the function \" + val);\n",
    "            program.Show(val);        \n",
    "            Console.WriteLine(\"Value after calling the function \" + val);\n",
    "        }\n",
    "    }\n",
    "}"
   ]
  },
  {
   "cell_type": "code",
   "execution_count": 58,
   "metadata": {
    "slideshow": {
     "slide_type": "slide"
    }
   },
   "outputs": [],
   "source": [
    "class myFunction\n",
    "    {\n",
    "        public void Show(int val)\n",
    "        {\n",
    "            val *= val; \n",
    "            Console.WriteLine(\"The value inside the show function \" + val);\n",
    "        }\n",
    "        \n",
    "    }"
   ]
  },
  {
   "cell_type": "code",
   "execution_count": 60,
   "metadata": {
    "slideshow": {
     "slide_type": "fragment"
    }
   },
   "outputs": [
    {
     "name": "stdout",
     "output_type": "stream",
     "text": [
      "Value before calling the function 50\n",
      "The value inside the show function 2500\n",
      "Value after calling the function 50\n"
     ]
    }
   ],
   "source": [
    "int val = 50;\n",
    "myFunction program = new myFunction(); \n",
    "Console.WriteLine(\"Value before calling the function \" + val);\n",
    "program.Show(val);        \n",
    "Console.WriteLine(\"Value after calling the function \" + val);"
   ]
  },
  {
   "cell_type": "markdown",
   "metadata": {
    "slideshow": {
     "slide_type": "slide"
    }
   },
   "source": [
    "<h3><font color='#004b87'>Functions: Call by Reference</font></h3>\n",
    "<p></p>\n",
    "In the Call by Reference method,  a ref keyword to pass the argument as reference-type. It passes the reference of arguments to the function rather than a copy of the original value. The changes in passed values are permanent and modify the original variable value."
   ]
  },
  {
   "cell_type": "code",
   "execution_count": null,
   "metadata": {
    "slideshow": {
     "slide_type": "fragment"
    }
   },
   "outputs": [],
   "source": [
    "using System; //Visual Studio syntax\n",
    "namespace CallByReference\n",
    "{\n",
    "    class myFunction\n",
    "    {\n",
    "        public void Show(ref int val)\n",
    "        {\n",
    "            val *= val; \n",
    "            Console.WriteLine(\"The value inside the show function \" + val);\n",
    "        }\n",
    "        static void Main(string[] args)\n",
    "        {\n",
    "            int val = 50;\n",
    "            myFunction program = new myFunction(); \n",
    "            Console.WriteLine(\"Value before calling the function \" + val);\n",
    "            program.Show(ref val);            \n",
    "            Console.WriteLine(\"Value after calling the function \" + val);\n",
    "        }\n",
    "    }\n",
    "}"
   ]
  },
  {
   "cell_type": "code",
   "execution_count": 61,
   "metadata": {
    "slideshow": {
     "slide_type": "slide"
    }
   },
   "outputs": [],
   "source": [
    " class myFunction\n",
    "    {\n",
    "        public void Show(ref int val)\n",
    "        {\n",
    "            val *= val; \n",
    "            Console.WriteLine(\"The value inside the show function \" + val);\n",
    "        }\n",
    "    } "
   ]
  },
  {
   "cell_type": "code",
   "execution_count": 62,
   "metadata": {
    "slideshow": {
     "slide_type": "fragment"
    }
   },
   "outputs": [
    {
     "name": "stdout",
     "output_type": "stream",
     "text": [
      "Value before calling the function 50\n",
      "The value inside the show function 2500\n",
      "Value after calling the function 2500\n"
     ]
    }
   ],
   "source": [
    "int val = 50;\n",
    "myFunction program = new myFunction(); \n",
    "Console.WriteLine(\"Value before calling the function \" + val);\n",
    "program.Show(ref val);            \n",
    "Console.WriteLine(\"Value after calling the function \" + val);"
   ]
  },
  {
   "cell_type": "markdown",
   "metadata": {
    "slideshow": {
     "slide_type": "slide"
    }
   },
   "source": [
    "<h3><font color='#004b87'>Functions: Out Parameter</font></h3>\n",
    "<p></p>\n",
    "The Out Parameter provides out keyword to pass arguments as out-type. It is like reference-type, except that it does not require the variable to initialize before passing. We must use out keyword to pass the argument as out-type. It is useful when we want a function to return multiple values."
   ]
  },
  {
   "cell_type": "code",
   "execution_count": null,
   "metadata": {
    "slideshow": {
     "slide_type": "fragment"
    }
   },
   "outputs": [],
   "source": [
    "using System; //Visual Studio syntax\n",
    "namespace OutParameter\n",
    "{\n",
    "    class myFunction\n",
    "    {\n",
    "        public void Show(out int val)\n",
    "        {\n",
    "            int square = 5;\n",
    "            val = square;\n",
    "            val *= val; \n",
    "        }\n",
    "        static void Main(string[] args)\n",
    "        {\n",
    "            int val = 50;\n",
    "            myFunction program = new myFunction(); \n",
    "            Console.WriteLine(\"Value before passing out variable \" + val);\n",
    "            program.Show(out val); \n",
    "            Console.WriteLine(\"Value after recieving the out variable \" + val);\n",
    "        }\n",
    "    }\n",
    "}"
   ]
  },
  {
   "cell_type": "code",
   "execution_count": 63,
   "metadata": {
    "slideshow": {
     "slide_type": "slide"
    }
   },
   "outputs": [],
   "source": [
    "class myFunction\n",
    "    {\n",
    "        public void Show(out int val)\n",
    "        {\n",
    "            int square = 5;\n",
    "            val = square;\n",
    "            val *= val; \n",
    "        }\n",
    "    }"
   ]
  },
  {
   "cell_type": "code",
   "execution_count": 64,
   "metadata": {
    "slideshow": {
     "slide_type": "fragment"
    }
   },
   "outputs": [
    {
     "name": "stdout",
     "output_type": "stream",
     "text": [
      "Value before passing out variable 50\n",
      "Value after recieving the out variable 25\n"
     ]
    }
   ],
   "source": [
    "int val = 50;\n",
    "myFunction program = new myFunction(); \n",
    "Console.WriteLine(\"Value before passing out variable \" + val);\n",
    "program.Show(out val); \n",
    "Console.WriteLine(\"Value after recieving the out variable \" + val);"
   ]
  },
  {
   "cell_type": "markdown",
   "metadata": {
    "slideshow": {
     "slide_type": "slide"
    }
   },
   "source": [
    "<h3><font color='#004b87'>Object-Oriented Programming</font></h3>\n",
    "<p></p>\n",
    "Object-oriented programming System is a programming paradigm based on the concept of objects that contain data members and methods related to them. The primary purpose of object-oriented programming is to increase the flexibility and maintainability of programs.\n",
    "<p></p>\n",
    "Features of object-oriented programming:\n",
    "<li>It emphasizes more on data rather than procedure.</li>\n",
    "<li>The programs are divided into objects thus making it easy to work with.</li>\n",
    "<li>Data structures are designed in such a way that they characterize the objects.</li>\n",
    "<li>Functions that work on the data of an object are placed together in the data structure.</li>\n",
    "<li>Data is hidden and cannot be accessed by external functions without permission.</li>\n",
    "<li>Communication between objects can take place with the help of functions.</li>\n",
    "<li>Adding new data and functions has become easy.</li>\n",
    "<li>Follows the bottom-up approach in program design.</li>"
   ]
  },
  {
   "cell_type": "markdown",
   "metadata": {
    "slideshow": {
     "slide_type": "slide"
    }
   },
   "source": [
    "<h3><font color='#004b87'>Object-Oriented Paradigms in C#</font></h3>\n",
    "<p></p>\n",
    "<li>Enumeration in C#.</li>\n",
    "<li>Object-Oriented Programming Approach:</li>\n",
    "<ul>\n",
    "    <li>Encapsulation</li>\n",
    "    <li>Abstraction</li>\n",
    "    <li>Interface</li>\n",
    "    <li>Polymorphism</li>\n",
    "    <li>Inheritance</li>\n",
    "</ul>\n",
    "<li>Overloading and Overriding</li>\n",
    "<li>Namespace</li>\n",
    "<li>File Operations</li>\n",
    "<li>Events</li>\n",
    "<li>Generics</li>\n",
    "<li>Delegates</li>\n",
    "<li>Reflection</li>"
   ]
  },
  {
   "cell_type": "markdown",
   "metadata": {
    "slideshow": {
     "slide_type": "slide"
    }
   },
   "source": [
    "<h3><font color='#004b87'>Enumeration in C#</font></h3>\n",
    "<p></p>\n",
    "Enum or also called as an enumeration in C# is used to store constant values without having to alter them during the entire execution of a C# Program. It is used to store a set of named constants such as season, days, month, size etc"
   ]
  },
  {
   "cell_type": "code",
   "execution_count": null,
   "metadata": {
    "slideshow": {
     "slide_type": "fragment"
    }
   },
   "outputs": [],
   "source": [
    "using System; //Visual Studio syntax\n",
    "public class EnumExample\n",
    "{\n",
    "      public enum week { Monday, Tuesday, Wednesday, Thursday, Friday, Saturday, Sunday }\n",
    "      public static void Main()\n",
    "      {\n",
    "           int x = (int)week.Monday;\n",
    "           int y = (int)week.Friday;\n",
    "           Console.WriteLine(\"Monday = {0}\", x);\n",
    "           Console.WriteLine(\"Friday = {0}\", y);\n",
    "     }\n",
    "}"
   ]
  },
  {
   "cell_type": "code",
   "execution_count": 65,
   "metadata": {
    "slideshow": {
     "slide_type": "fragment"
    }
   },
   "outputs": [
    {
     "name": "stdout",
     "output_type": "stream",
     "text": [
      "Monday = 0\n",
      "Friday = 4\n"
     ]
    }
   ],
   "source": [
    "public enum week { Monday, Tuesday, Wednesday, Thursday, Friday, Saturday, Sunday }\n",
    "\n",
    "int x = (int)week.Monday;\n",
    "int y = (int)week.Friday;\n",
    "Console.WriteLine(\"Monday = {0}\", x);\n",
    "Console.WriteLine(\"Friday = {0}\", y);"
   ]
  },
  {
   "cell_type": "markdown",
   "metadata": {
    "slideshow": {
     "slide_type": "slide"
    }
   },
   "source": [
    "<h3><font color='#004b87'>Object-Oriented Programming Approach</font></h3>\n",
    "<p></p>\n",
    "The Object-Oriented style of programming can be achieved by following the methods prescribed below.\n",
    "<p></p>\n",
    "<b>Encapsulation</b>\n",
    "<p></p>\n",
    "<center><img title=\"a title\" alt=\"Alt text\" src=\"Picture14.png\"></center>\n",
    "<p></p>\n",
    "Encapsulation is a method to combine the methods along with their data members."
   ]
  },
  {
   "cell_type": "code",
   "execution_count": null,
   "metadata": {
    "slideshow": {
     "slide_type": "slide"
    }
   },
   "outputs": [],
   "source": [
    "using System; //Visual Studio syntax\n",
    " \n",
    "namespace myEncap\n",
    "{\n",
    "     class Rectangle\n",
    "     {\n",
    "            public double length;\n",
    "            public double width;   \n",
    "            public double GetArea()\n",
    "            {\n",
    "                  return length * width;\n",
    "            }\n",
    "            public void Display()\n",
    "            {\n",
    "                  Console.WriteLine(\"Length: {0}\", length);\n",
    "                  Console.WriteLine(\"Width: {0}\", width);\n",
    "                  Console.WriteLine(\"Area: {0}\", GetArea());\n",
    "            }\n",
    "     }\n",
    "     class ExecuteRectangle\n",
    "     {\n",
    "             static void Main(string[] args)\n",
    "             {\n",
    "                  Rectangle r = new Rectangle();\n",
    "                  r.length = 50;\n",
    "                  r.width = 35;\n",
    "                  r.Display();\n",
    "                  Console.ReadLine();\n",
    "             }\n",
    "     }\n",
    "}"
   ]
  },
  {
   "cell_type": "code",
   "execution_count": 66,
   "metadata": {
    "slideshow": {
     "slide_type": "slide"
    }
   },
   "outputs": [],
   "source": [
    " class Rectangle\n",
    "     {\n",
    "            public double length;\n",
    "            public double width;   \n",
    "            public double GetArea()\n",
    "            {\n",
    "                  return length * width;\n",
    "            }\n",
    "            public void Display()\n",
    "            {\n",
    "                  Console.WriteLine(\"Length: {0}\", length);\n",
    "                  Console.WriteLine(\"Width: {0}\", width);\n",
    "                  Console.WriteLine(\"Area: {0}\", GetArea());\n",
    "            }\n",
    "     }"
   ]
  },
  {
   "cell_type": "code",
   "execution_count": 67,
   "metadata": {
    "slideshow": {
     "slide_type": "fragment"
    }
   },
   "outputs": [
    {
     "name": "stdout",
     "output_type": "stream",
     "text": [
      "Length: 50\n",
      "Width: 35\n",
      "Area: 1750\n"
     ]
    }
   ],
   "source": [
    "Rectangle r = new Rectangle();\n",
    "r.length = 50;\n",
    "r.width = 35;\n",
    "r.Display();\n",
    "Console.ReadLine();"
   ]
  },
  {
   "cell_type": "markdown",
   "metadata": {
    "slideshow": {
     "slide_type": "slide"
    }
   },
   "source": [
    "<h3><font color='#004b87'>Abstraction</font></h3>\n",
    "<p></p>\n",
    "Abstraction is a method to hide the complex coding part from the user by providing them with only the required information they need.\n"
   ]
  },
  {
   "cell_type": "code",
   "execution_count": null,
   "metadata": {
    "slideshow": {
     "slide_type": "fragment"
    }
   },
   "outputs": [],
   "source": [
    "using System; //Visual Studio syntax\n",
    "public abstract class Shape\n",
    "{\n",
    "    public abstract void draw();\n",
    "}\n",
    "public class Rectangle : Shape\n",
    "{\n",
    "    public override void draw()\n",
    "    {\n",
    "        Console.WriteLine(\"drawing rectangle...\");\n",
    "    }\n",
    "}\n",
    "public class Circle : Shape\n",
    "{\n",
    "    public override void draw()\n",
    "    {\n",
    "        Console.WriteLine(\"drawing circle...\");\n",
    "    }\n",
    "}\n",
    "public class TestAbstract\n",
    "{\n",
    "    public static void Main()\n",
    "    {\n",
    "        Shape s;\n",
    "        s = new Rectangle();\n",
    "        s.draw();\n",
    "        s = new Circle();\n",
    "        s.draw();\n",
    "    }\n",
    "}"
   ]
  },
  {
   "cell_type": "code",
   "execution_count": 68,
   "metadata": {
    "slideshow": {
     "slide_type": "slide"
    }
   },
   "outputs": [],
   "source": [
    "public abstract class Shape\n",
    "{\n",
    "    public abstract void draw();\n",
    "}\n",
    "public class Rectangle : Shape\n",
    "{\n",
    "    public override void draw()\n",
    "    {\n",
    "        Console.WriteLine(\"drawing rectangle...\");\n",
    "    }\n",
    "}\n",
    "public class Circle : Shape\n",
    "{\n",
    "    public override void draw()\n",
    "    {\n",
    "        Console.WriteLine(\"drawing circle...\");\n",
    "    }\n",
    "}"
   ]
  },
  {
   "cell_type": "code",
   "execution_count": 69,
   "metadata": {
    "slideshow": {
     "slide_type": "fragment"
    }
   },
   "outputs": [
    {
     "name": "stdout",
     "output_type": "stream",
     "text": [
      "drawing rectangle...\n",
      "drawing circle...\n"
     ]
    }
   ],
   "source": [
    "Shape s;\n",
    "s = new Rectangle();\n",
    "s.draw();\n",
    "s = new Circle();\n",
    "s.draw();"
   ]
  },
  {
   "cell_type": "markdown",
   "metadata": {
    "slideshow": {
     "slide_type": "slide"
    }
   },
   "source": [
    "<h3><font color='#004b87'>Interface</font></h3>\n",
    "<p></p>\n",
    "The interface is completely similar to Abstraction. The Functionality of an Interface is to hide the unimportant data from the user and provide them with the only important data they needs."
   ]
  },
  {
   "cell_type": "code",
   "execution_count": null,
   "metadata": {
    "slideshow": {
     "slide_type": "fragment"
    }
   },
   "outputs": [],
   "source": [
    "using System; //Visual Studio syntax\n",
    "public interface Drawable\n",
    "{\n",
    "    void draw();\n",
    "}\n",
    "public class Rectangle : Drawable\n",
    "{\n",
    "    public void draw()\n",
    "    {\n",
    "        Console.WriteLine(\"drawing rectangle...\");\n",
    "    }\n",
    "}\n",
    "public class Circle : Drawable\n",
    "{\n",
    "    public void draw()\n",
    "    {\n",
    "        Console.WriteLine(\"drawing circle...\");\n",
    "    }\n",
    "}\n",
    "public class TestInterface\n",
    "{\n",
    "    public static void Main()\n",
    "    {\n",
    "        Drawable d;\n",
    "        d = new Rectangle();\n",
    "        d.draw();\n",
    "        d = new Circle();\n",
    "        d.draw();\n",
    "    }\n",
    "}"
   ]
  },
  {
   "cell_type": "code",
   "execution_count": 70,
   "metadata": {
    "slideshow": {
     "slide_type": "slide"
    }
   },
   "outputs": [],
   "source": [
    "public interface Drawable\n",
    "{\n",
    "    void draw();\n",
    "}\n",
    "public class Rectangle : Drawable\n",
    "{\n",
    "    public void draw()\n",
    "    {\n",
    "        Console.WriteLine(\"drawing rectangle...\");\n",
    "    }\n",
    "}\n",
    "public class Circle : Drawable\n",
    "{\n",
    "    public void draw()\n",
    "    {\n",
    "        Console.WriteLine(\"drawing circle...\");\n",
    "    }\n",
    "}"
   ]
  },
  {
   "cell_type": "code",
   "execution_count": 71,
   "metadata": {
    "slideshow": {
     "slide_type": "fragment"
    }
   },
   "outputs": [
    {
     "name": "stdout",
     "output_type": "stream",
     "text": [
      "drawing rectangle...\n",
      "drawing circle...\n"
     ]
    }
   ],
   "source": [
    "Drawable d;\n",
    "d = new Rectangle();\n",
    "d.draw();\n",
    "d = new Circle();\n",
    "d.draw();"
   ]
  },
  {
   "cell_type": "markdown",
   "metadata": {
    "slideshow": {
     "slide_type": "slide"
    }
   },
   "source": [
    "<h3><font color='#004b87'>Polymorphism</font></h3>\n",
    "<p></p>\n",
    "Polymorphism is the combination of “poly” + “morphs” which means many forms. It is a greek word. It means the code segment can take up multiple forms. We have two types of Polymorphism.\n",
    "<p></p>\n",
    "<li>Compile Time Polymorphism</li>\n",
    "<li>Run Time Polymorphism</li>"
   ]
  },
  {
   "cell_type": "code",
   "execution_count": null,
   "metadata": {
    "slideshow": {
     "slide_type": "fragment"
    }
   },
   "outputs": [],
   "source": [
    "using System; //Visual Studio syntax\n",
    "public class Animal\n",
    "{\n",
    "      public string color = \"white\";\n",
    "}\n",
    "public class Dog : Animal\n",
    "{\n",
    "      public string color = \"black\";\n",
    "}\n",
    "public class TestSealed\n",
    "{\n",
    "      public static void Main()\n",
    "      { \n",
    "            Animal d = new Dog();\n",
    "            Console.WriteLine(d.color);\n",
    "      }\n",
    "}"
   ]
  },
  {
   "cell_type": "code",
   "execution_count": 72,
   "metadata": {
    "slideshow": {
     "slide_type": "slide"
    }
   },
   "outputs": [],
   "source": [
    "public class Animal\n",
    "{\n",
    "      public string color = \"white\";\n",
    "}\n",
    "public class Dog : Animal\n",
    "{\n",
    "      public string color = \"black\";\n",
    "}"
   ]
  },
  {
   "cell_type": "code",
   "execution_count": 73,
   "metadata": {
    "slideshow": {
     "slide_type": "fragment"
    }
   },
   "outputs": [
    {
     "name": "stdout",
     "output_type": "stream",
     "text": [
      "white\r\n"
     ]
    }
   ],
   "source": [
    "Animal d = new Dog();\n",
    "Console.WriteLine(d.color);"
   ]
  },
  {
   "cell_type": "markdown",
   "metadata": {
    "slideshow": {
     "slide_type": "slide"
    }
   },
   "source": [
    "<h3><font color='#004b87'>Inheritance</font></h3>\n",
    "<p></p>\n",
    "Inheritance is a process in which one object acquires all the properties and behaviours of its parent object automatically. You can reuse, extend or modify the attributes and behaviours which is defined in other class. the class which inherits the members of another class is called derived class and the class whose members are inherited is called the base class. The derived class is the specialized class for the base class."
   ]
  },
  {
   "cell_type": "code",
   "execution_count": null,
   "metadata": {
    "slideshow": {
     "slide_type": "slide"
    }
   },
   "outputs": [],
   "source": [
    "using System; //Visual Studio syntax\n",
    "namespace RectangleApplication\n",
    "{\n",
    "     class Rectangle\n",
    "     {\n",
    "          protected double length;\n",
    "          protected double width;\n",
    "          public Rectangle(double l, double w)\n",
    "          {\n",
    "               length = l;\n",
    "               width = w;\n",
    "          }\n",
    "          public double GetArea()\n",
    "          {\n",
    "               return length * width;\n",
    "          }\n",
    "          public void Display()\n",
    "          {\n",
    "               Console.WriteLine(\"Length: {0}\", length);\n",
    "               Console.WriteLine(\"Width: {0}\", width);\n",
    "               Console.WriteLine(\"Area: {0}\", GetArea());\n",
    "          }\n",
    "     }\n",
    "     class Tabletop : Rectangle\n",
    "     {\n",
    "          private double cost;\n",
    "          public Tabletop(double l, double w) : base(l, w) { }\n",
    "          public double GetCost()\n",
    "          {\n",
    "                double cost;\n",
    "                cost = GetArea() * 70;\n",
    "                return cost;\n",
    "          }\n",
    "          public void Display()\n",
    "          {\n",
    "                base.Display();\n",
    "                Console.WriteLine(\"Cost: {0}\", GetCost());\n",
    "          }\n",
    "     }\n",
    "     class ExecuteRectangle\n",
    "     {\n",
    "           static void Main(string[] args)\n",
    "           {\n",
    "                 Tabletop t = new Tabletop(4.5, 7.5);\n",
    "                 t.Display();\n",
    "                 Console.ReadLine();\n",
    "           }\n",
    "     }\n",
    "}"
   ]
  },
  {
   "cell_type": "markdown",
   "metadata": {},
   "source": [
    "NOTE: Tabletop will reference the class Rectangle;\n",
    "Tabletop calculates cost by referencing class Rectangle"
   ]
  },
  {
   "cell_type": "code",
   "execution_count": 74,
   "metadata": {
    "slideshow": {
     "slide_type": "slide"
    }
   },
   "outputs": [],
   "source": [
    " class Rectangle\n",
    "     {\n",
    "          protected double length;\n",
    "          protected double width;\n",
    "          public Rectangle(double l, double w)\n",
    "          {\n",
    "               length = l;\n",
    "               width = w;\n",
    "          }\n",
    "          public double GetArea()\n",
    "          {\n",
    "               return length * width;\n",
    "          }\n",
    "          public void Display()\n",
    "          {\n",
    "               Console.WriteLine(\"Length: {0}\", length);\n",
    "               Console.WriteLine(\"Width: {0}\", width);\n",
    "               Console.WriteLine(\"Area: {0}\", GetArea());\n",
    "          }\n",
    "     }\n",
    "     class Tabletop : Rectangle\n",
    "     {\n",
    "          private double cost;\n",
    "          public Tabletop(double l, double w) : base(l, w) { }\n",
    "          public double GetCost()\n",
    "          {\n",
    "                double cost;\n",
    "                cost = GetArea() * 70;\n",
    "                return cost;\n",
    "          }\n",
    "          public void Display()\n",
    "          {\n",
    "                base.Display();\n",
    "                Console.WriteLine(\"Cost: {0}\", GetCost());\n",
    "          }\n",
    "     }"
   ]
  },
  {
   "cell_type": "code",
   "execution_count": 75,
   "metadata": {
    "slideshow": {
     "slide_type": "fragment"
    }
   },
   "outputs": [
    {
     "name": "stdout",
     "output_type": "stream",
     "text": [
      "Length: 4.5\n",
      "Width: 7.5\n",
      "Area: 33.75\n",
      "Cost: 2362.5\n"
     ]
    }
   ],
   "source": [
    "Tabletop t = new Tabletop(4.5, 7.5);\n",
    "t.Display();\n",
    "Console.ReadLine();"
   ]
  },
  {
   "cell_type": "markdown",
   "metadata": {
    "slideshow": {
     "slide_type": "slide"
    }
   },
   "source": [
    "<h3><font color='#004b87'>Overloading</font></h3>\n",
    "<p></p>\n",
    "Overloading is a situation where we have two or more members declared using the same name. Overloading is also possible when we declare two or more methods with the same name as well. Let us check examples of both.\n",
    "<p></p>\n",
    "<b>Member Overloading</b>"
   ]
  },
  {
   "cell_type": "code",
   "execution_count": null,
   "metadata": {
    "slideshow": {
     "slide_type": "fragment"
    }
   },
   "outputs": [],
   "source": [
    "using System; //Visual Studio syntax\n",
    "public class memberOverloading\n",
    "{\n",
    "    public static int add(int a, int b)\n",
    "    {\n",
    "        return a + b;\n",
    "    }\n",
    "    public static int add(int a, int b, int c)\n",
    "    {\n",
    "        return a + b + c;\n",
    "    }\n",
    "}\n",
    "public class TestMemberOverloading\n",
    "{\n",
    "    public static void Main()\n",
    "    {\n",
    "        Console.WriteLine(memberOverloading.add(12, 23));\n",
    "        Console.WriteLine(memberOverloading.add(12, 23, 25));\n",
    "    }\n",
    "}"
   ]
  },
  {
   "cell_type": "markdown",
   "metadata": {},
   "source": [
    "NOTE: First Console.Writeline references two integers so knows to use first int add statement.\n",
    "Second Console.Writeline references three integers so knows to use second int add statement."
   ]
  },
  {
   "cell_type": "code",
   "execution_count": 76,
   "metadata": {
    "slideshow": {
     "slide_type": "slide"
    }
   },
   "outputs": [],
   "source": [
    "public class memberOverloading\n",
    "{\n",
    "    public static int add(int a, int b)\n",
    "    {\n",
    "        return a + b;\n",
    "    }\n",
    "    public static int add(int a, int b, int c)\n",
    "    {\n",
    "        return a + b + c;\n",
    "    }\n",
    "}"
   ]
  },
  {
   "cell_type": "code",
   "execution_count": 77,
   "metadata": {
    "slideshow": {
     "slide_type": "fragment"
    }
   },
   "outputs": [
    {
     "name": "stdout",
     "output_type": "stream",
     "text": [
      "35\n",
      "60\n"
     ]
    }
   ],
   "source": [
    "Console.WriteLine(memberOverloading.add(12, 23));\n",
    "Console.WriteLine(memberOverloading.add(12, 23, 25));"
   ]
  },
  {
   "cell_type": "markdown",
   "metadata": {
    "slideshow": {
     "slide_type": "slide"
    }
   },
   "source": [
    "<b>Method Overloading</b>"
   ]
  },
  {
   "cell_type": "code",
   "execution_count": null,
   "metadata": {
    "slideshow": {
     "slide_type": "fragment"
    }
   },
   "outputs": [],
   "source": [
    "using System;\n",
    "public class methodOver\n",
    "{\n",
    "    public static int add(int a, int b)\n",
    "    {\n",
    "        return a + b;\n",
    "    }\n",
    "    public static float add(float a, float b)\n",
    "    {\n",
    "        return a + b;\n",
    "    }\n",
    "}\n",
    "public class TestMemberOverloading\n",
    "{\n",
    "    public static void Main()\n",
    "    {\n",
    "        Console.WriteLine(methodOver.add(12, 23));\n",
    "        Console.WriteLine(methodOver.add(12.4f, 21.3f));\n",
    "    }\n",
    "}"
   ]
  },
  {
   "cell_type": "code",
   "execution_count": 78,
   "metadata": {
    "slideshow": {
     "slide_type": "slide"
    }
   },
   "outputs": [],
   "source": [
    "public class methodOver\n",
    "{\n",
    "    public static int add(int a, int b)\n",
    "    {\n",
    "        return a + b;\n",
    "    }\n",
    "    public static float add(float a, float b)\n",
    "    {\n",
    "        return a + b;\n",
    "    }\n",
    "}"
   ]
  },
  {
   "cell_type": "code",
   "execution_count": 79,
   "metadata": {
    "slideshow": {
     "slide_type": "fragment"
    }
   },
   "outputs": [
    {
     "name": "stdout",
     "output_type": "stream",
     "text": [
      "35\n",
      "33.699997\n"
     ]
    }
   ],
   "source": [
    "Console.WriteLine(methodOver.add(12, 23));\n",
    "Console.WriteLine(methodOver.add(12.4f, 21.3f));"
   ]
  },
  {
   "cell_type": "markdown",
   "metadata": {},
   "source": [
    "NOTE: Here different data types (integer vs floats).\n",
    "When testing member overloading need to specify the data types (either integer or float)."
   ]
  },
  {
   "cell_type": "markdown",
   "metadata": {
    "slideshow": {
     "slide_type": "slide"
    }
   },
   "source": [
    "<h3><font color='#004b87'>Overriding</font></h3>\n",
    "<p></p>\n",
    "Overriding is a situation where child class defines the same method which the parent is defining as well. Let us understand this through a small example."
   ]
  },
  {
   "cell_type": "code",
   "execution_count": null,
   "metadata": {
    "slideshow": {
     "slide_type": "fragment"
    }
   },
   "outputs": [],
   "source": [
    "using System; //Visual Studio syntax\n",
    "public class overRide\n",
    "{\n",
    "    public virtual void eat()\n",
    "    {\n",
    "        Console.WriteLine(\"Eating \");\n",
    "    }\n",
    "}\n",
    "public class Dog : overRide\n",
    "{\n",
    "    public override void eat()\n",
    "    {\n",
    "        Console.WriteLine(\"Eating food\");\n",
    "    }\n",
    "}\n",
    "public class Overriding\n",
    "{\n",
    "    public static void Main()\n",
    "    {\n",
    "        Dog d = new Dog();\n",
    "        d.eat();\n",
    "    }\n",
    "}"
   ]
  },
  {
   "cell_type": "code",
   "execution_count": 81,
   "metadata": {
    "slideshow": {
     "slide_type": "slide"
    }
   },
   "outputs": [],
   "source": [
    "public class overRide\n",
    "{\n",
    "    public virtual void eat()\n",
    "    {\n",
    "        Console.WriteLine(\"Eating \");\n",
    "    }\n",
    "}\n",
    "public class Dog : overRide\n",
    "{\n",
    "    public override void eat()\n",
    "    {\n",
    "        Console.WriteLine(\"Eating food\");\n",
    "    }\n",
    "}"
   ]
  },
  {
   "cell_type": "code",
   "execution_count": 82,
   "metadata": {
    "slideshow": {
     "slide_type": "fragment"
    }
   },
   "outputs": [
    {
     "name": "stdout",
     "output_type": "stream",
     "text": [
      "Eating food\r\n"
     ]
    }
   ],
   "source": [
    "Dog d = new Dog();\n",
    "d.eat();"
   ]
  },
  {
   "cell_type": "markdown",
   "metadata": {
    "slideshow": {
     "slide_type": "slide"
    }
   },
   "source": [
    "<h3><font color='#004b87'>Namespace</font></h3>\n",
    "<p></p>\n",
    "The namespace is basically used to handle multiple classes present in the program. The namespace is available in different ways.\n",
    "<p></p>\n",
    "<li>System.Console: Here, the System becomes the namespace</li>\n",
    "<li>To access the class of a namespace, we need to use namespacename.classname.</li>\n",
    "<li>We can use the using keyword as well.</li>"
   ]
  },
  {
   "cell_type": "code",
   "execution_count": null,
   "metadata": {
    "slideshow": {
     "slide_type": "fragment"
    }
   },
   "outputs": [],
   "source": [
    "using System; // namespaces are not compatible with juypter\n",
    "using First;\n",
    "using Second;\n",
    "namespace First\n",
    "{\n",
    "    public class nameSpace\n",
    "    {\n",
    "        public void sayWelcome() { Console.WriteLine(\"Welcome To BDAT 1004\"); }\n",
    "    }\n",
    "}\n",
    "namespace Second\n",
    "{\n",
    "    public class Happy_Learning\n",
    "    {\n",
    "        public void sayWishes() { Console.WriteLine(\"Happy Learning\"); }\n",
    "    }\n",
    "}\n",
    "public class Namespace\n",
    "{\n",
    "    public static void Main()\n",
    "    {\n",
    "        nameSpace h1 = new nameSpace();\n",
    "        Happy_Learning w1 = new Happy_Learning();\n",
    "        h1.sayWelcome();\n",
    "        w1.sayWishes();\n",
    "    }\n",
    "}"
   ]
  },
  {
   "cell_type": "markdown",
   "metadata": {
    "slideshow": {
     "slide_type": "slide"
    }
   },
   "source": [
    "<b>output of above code</b>\n",
    "<center><img title=\"a title\" alt=\"Alt text\" src=\"Picture15.png\"></center>"
   ]
  }
 ],
 "metadata": {
  "celltoolbar": "Slideshow",
  "kernelspec": {
   "display_name": ".NET (C#)",
   "language": "C#",
   "name": ".net-csharp"
  },
  "language_info": {
   "file_extension": ".cs",
   "mimetype": "text/x-csharp",
   "name": "C#",
   "pygments_lexer": "csharp",
   "version": "8.0"
  }
 },
 "nbformat": 4,
 "nbformat_minor": 4
}
